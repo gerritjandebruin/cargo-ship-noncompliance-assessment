{
 "cells": [
  {
   "cell_type": "code",
   "execution_count": 1,
   "id": "6459a593",
   "metadata": {
    "execution": {
     "iopub.execute_input": "2021-11-09T18:07:22.718247Z",
     "iopub.status.busy": "2021-11-09T18:07:22.717894Z",
     "iopub.status.idle": "2021-11-09T18:07:23.773288Z",
     "shell.execute_reply": "2021-11-09T18:07:23.772504Z",
     "shell.execute_reply.started": "2021-11-09T18:07:22.718139Z"
    },
    "tags": []
   },
   "outputs": [],
   "source": [
    "%load_ext autoreload\n",
    "%autoreload 2\n",
    "\n",
    "from copy import deepcopy as copy\n",
    "import datetime\n",
    "import json\n",
    "from math import ceil\n",
    "import multiprocessing\n",
    "import logging\n",
    "import operator\n",
    "import os\n",
    "from pathlib import Path\n",
    "import random\n",
    "import sys\n",
    "import time\n",
    "import typing\n",
    "import warnings\n",
    "\n",
    "import joblib\n",
    "from joblib import delayed, Parallel\n",
    "import matplotlib.pyplot as plt\n",
    "import networkx as nx\n",
    "import numpy as np\n",
    "from numpy.core.numeric import outer\n",
    "import pandas as pd\n",
    "from scipy.stats import mode, entropy\n",
    "import seaborn as sns\n",
    "import sklearn.ensemble\n",
    "import sklearn.feature_selection\n",
    "import sklearn.metrics\n",
    "from sklearn.metrics import roc_auc_score\n",
    "import sklearn.model_selection\n",
    "import typer\n",
    "from tqdm.auto import tqdm\n",
    "\n",
    "root = str(Path.cwd().parents[1])\n",
    "sys.path.append(root)\n",
    "os.chdir(root)\n",
    "import src"
   ]
  },
  {
   "cell_type": "markdown",
   "id": "b4ca37d0-678c-4ab8-8083-454438346666",
   "metadata": {},
   "source": [
    "# Scenario A"
   ]
  },
  {
   "cell_type": "code",
   "execution_count": 2,
   "id": "1688ee78-59c9-431e-8c6d-5d69958d8379",
   "metadata": {},
   "outputs": [],
   "source": [
    "iterator = [(max_depth, fold) for max_depth in np.arange(1, 11) for fold in range(5)]"
   ]
  },
  {
   "cell_type": "code",
   "execution_count": 9,
   "id": "c9f94e11-fcb5-4d6e-8c3e-71cb2fcce164",
   "metadata": {},
   "outputs": [
    {
     "data": {
      "application/vnd.jupyter.widget-view+json": {
       "model_id": "f1b230a7211745a9b5887d432c70ec1c",
       "version_major": 2,
       "version_minor": 0
      },
      "text/plain": [
       "  0%|          | 0/5 [00:00<?, ?it/s]"
      ]
     },
     "metadata": {},
     "output_type": "display_data"
    },
    {
     "name": "stdout",
     "output_type": "stream",
     "text": [
      "CPU times: user 10.9 s, sys: 9.03 s, total: 19.9 s\n",
      "Wall time: 4min 34s\n"
     ]
    }
   ],
   "source": [
    "%%time\n",
    "X, y, s = src.get_Xys()\n",
    "y = y>1\n",
    "ys = y.astype(str) + s.astype(int).astype(str)\n",
    "skf = sklearn.model_selection.StratifiedKFold(shuffle=True, random_state=42)\n",
    "\n",
    "y_scores = list()\n",
    "s_scores = list()\n",
    "\n",
    "for train_index, test_index in tqdm(skf.split(X=X, y=ys), total=5):\n",
    "    ships_train = X.iloc[train_index].index\n",
    "    ships_test = X.iloc[test_index].index\n",
    "\n",
    "    X_train, X_test = X.loc[ships_train], X.loc[ships_test]\n",
    "    y_train, y_test = y.loc[ships_train], y.loc[ships_test]\n",
    "    s_train, s_test = s.loc[ships_train], s.loc[ships_test]\n",
    "\n",
    "    X_train = np.ascontiguousarray(X_train.values)\n",
    "    y_train = np.ascontiguousarray(y_train.values.ravel())\n",
    "    s_train = np.ascontiguousarray(s_train.values.ravel())\n",
    "    X_test = np.ascontiguousarray(X_test.values)\n",
    "    y_test = np.ascontiguousarray(y_test.values.ravel())\n",
    "    s_test = np.ascontiguousarray(s_test.values.ravel())\n",
    "\n",
    "    vt = sklearn.feature_selection.VarianceThreshold()\n",
    "    vt.fit(X_train)\n",
    "    X_train = vt.transform(X_train)\n",
    "    X_test = vt.transform(X_test) \n",
    "\n",
    "    clf = src.FairRandomForestClassifier(\n",
    "        max_depth=6, n_estimators=100, orthogonality=0, n_jobs=100\n",
    "    )    \n",
    "    clf.fit(X_train, y_train, s_train)\n",
    "    y_score = clf.predict_proba(X_test)[:,1]\n",
    "    y_scores.append(sklearn.metrics.roc_auc_score(y_true=y_test, y_score=y_score))\n",
    "    s_scores.append(sklearn.metrics.roc_auc_score(y_true=s_test, y_score=y_score))"
   ]
  },
  {
   "cell_type": "code",
   "execution_count": 15,
   "id": "e374c1ec-fbb4-47d1-a318-acd5fddf09a5",
   "metadata": {},
   "outputs": [
    {
     "name": "stdout",
     "output_type": "stream",
     "text": [
      "y: 0.669 +- 0.021\n",
      "s: 0.658 +- 0.013\n"
     ]
    }
   ],
   "source": [
    "print(f'y: {np.mean(y_scores):.3f} +- {np.std(y_scores):.3f}')\n",
    "print(f's: {np.mean(s_scores):.3f} +- {np.std(s_scores):.3f}')"
   ]
  },
  {
   "cell_type": "code",
   "execution_count": 25,
   "id": "42e1b252-9948-4c8d-b01d-462ee4890370",
   "metadata": {},
   "outputs": [],
   "source": [
    "X, y, s = src.get_Xys()\n",
    "y = y>1\n",
    "ys = y.astype(str) + s.astype(int).astype(str)\n",
    "skf = sklearn.model_selection.StratifiedKFold(shuffle=True, random_state=42)\n",
    "\n",
    "def fit_predict(X, y, s, train_indices, test_indices):\n",
    "    ships_train = X.iloc[train_index].index\n",
    "    ships_test = X.iloc[test_index].index\n",
    "\n",
    "    X_train, X_test = X.loc[ships_train], X.loc[ships_test]\n",
    "    y_train, y_test = y.loc[ships_train], y.loc[ships_test]\n",
    "    s_train, s_test = s.loc[ships_train], s.loc[ships_test]\n",
    "\n",
    "    X_train = np.ascontiguousarray(X_train.values)\n",
    "    y_train = np.ascontiguousarray(y_train.values.ravel())\n",
    "    s_train = np.ascontiguousarray(s_train.values.ravel())\n",
    "    X_test = np.ascontiguousarray(X_test.values)\n",
    "    y_test = np.ascontiguousarray(y_test.values.ravel())\n",
    "    s_test = np.ascontiguousarray(s_test.values.ravel())\n",
    "\n",
    "    vt = sklearn.feature_selection.VarianceThreshold()\n",
    "    vt.fit(X_train)\n",
    "    X_train = vt.transform(X_train)\n",
    "    X_test = vt.transform(X_test) \n",
    "\n",
    "    clf = src.FairRandomForestClassifier(\n",
    "        max_depth=6, n_estimators=100, orthogonality=0, n_jobs=100\n",
    "    )    \n",
    "    clf.fit(X_train, y_train, s_train)\n",
    "    y_score = clf.predict_proba(X_test)[:,1]\n",
    "    auc_y = sklearn.metrics.roc_auc_score(y_true=y_test, y_score=y_score)\n",
    "    auc_s = sklearn.metrics.roc_auc_score(y_true=s_test, y_score=y_score)   \n",
    "    return auc_y, auc_s\n",
    "    \n",
    "train_indices, test_indices = sklearn.model_selection.train_test_split(np.arange(len(X)), stratify=ys)"
   ]
  },
  {
   "cell_type": "code",
   "execution_count": 28,
   "id": "53143de6-3ac9-4608-8c4f-ebb4c01caf24",
   "metadata": {},
   "outputs": [
    {
     "name": "stdout",
     "output_type": "stream",
     "text": [
      "CPU times: user 2.63 s, sys: 3.55 s, total: 6.18 s\n",
      "Wall time: 1min 19s\n"
     ]
    },
    {
     "data": {
      "text/plain": [
       "(0.6486286241207754, 0.6671322027395556)"
      ]
     },
     "execution_count": 28,
     "metadata": {},
     "output_type": "execute_result"
    }
   ],
   "source": [
    "%%time\n",
    "fit_predict(X, y, s, train_index, test_indices)"
   ]
  },
  {
   "cell_type": "code",
   "execution_count": 29,
   "id": "cb76d3a2-6203-4b85-b637-af5e1d49ed8a",
   "metadata": {},
   "outputs": [],
   "source": [
    "X, y, s = src.get_Xys()\n",
    "y = y>1\n",
    "ys = y.astype(str) + s.astype(int).astype(str)\n",
    "skf = sklearn.model_selection.StratifiedKFold(shuffle=True, random_state=42)\n",
    "\n",
    "def fit_predict(X, y, s, train_indices, test_indices):\n",
    "    ships_train = X.iloc[train_index].index\n",
    "    ships_test = X.iloc[test_index].index\n",
    "\n",
    "    X_train, X_test = X.loc[ships_train], X.loc[ships_test]\n",
    "    y_train, y_test = y.loc[ships_train], y.loc[ships_test]\n",
    "    s_train, s_test = s.loc[ships_train], s.loc[ships_test]\n",
    "\n",
    "    X_train = np.ascontiguousarray(X_train.values)\n",
    "    y_train = np.ascontiguousarray(y_train.values.ravel())\n",
    "    s_train = np.ascontiguousarray(s_train.values.ravel())\n",
    "    X_test = np.ascontiguousarray(X_test.values)\n",
    "    y_test = np.ascontiguousarray(y_test.values.ravel())\n",
    "    s_test = np.ascontiguousarray(s_test.values.ravel())\n",
    "\n",
    "    vt = sklearn.feature_selection.VarianceThreshold()\n",
    "    vt.fit(X_train)\n",
    "    X_train = vt.transform(X_train)\n",
    "    X_test = vt.transform(X_test) \n",
    "\n",
    "    clf = src.FairRandomForestClassifier(\n",
    "        max_depth=6, n_estimators=100, orthogonality=0, n_jobs=10\n",
    "    )    \n",
    "    clf.fit(X_train, y_train, s_train)\n",
    "    y_score = clf.predict_proba(X_test)[:,1]\n",
    "    auc_y = sklearn.metrics.roc_auc_score(y_true=y_test, y_score=y_score)\n",
    "    auc_s = sklearn.metrics.roc_auc_score(y_true=s_test, y_score=y_score)   \n",
    "    return auc_y, auc_s\n",
    "    \n",
    "train_indices, test_indices = sklearn.model_selection.train_test_split(np.arange(len(X)), stratify=ys)"
   ]
  },
  {
   "cell_type": "code",
   "execution_count": 30,
   "id": "d2c2b6c6-3cf4-4619-9058-32bb0186dd14",
   "metadata": {},
   "outputs": [
    {
     "name": "stdout",
     "output_type": "stream",
     "text": [
      "CPU times: user 1.32 s, sys: 576 ms, total: 1.9 s\n",
      "Wall time: 3min 38s\n"
     ]
    },
    {
     "data": {
      "text/plain": [
       "(0.6486286241207754, 0.6671322027395556)"
      ]
     },
     "execution_count": 30,
     "metadata": {},
     "output_type": "execute_result"
    }
   ],
   "source": [
    "%%time\n",
    "fit_predict(X, y, s, train_indices, test_indices)"
   ]
  },
  {
   "cell_type": "code",
   "execution_count": 31,
   "id": "bc4d35c5-a666-428b-853e-02b384a0734b",
   "metadata": {},
   "outputs": [
    {
     "data": {
      "application/vnd.jupyter.widget-view+json": {
       "model_id": "9f95ea2f566c47439e0510ee24d6bd2c",
       "version_major": 2,
       "version_minor": 0
      },
      "text/plain": [
       "  0%|          | 0/5 [00:00<?, ?it/s]"
      ]
     },
     "metadata": {},
     "output_type": "display_data"
    },
    {
     "ename": "KeyboardInterrupt",
     "evalue": "",
     "output_type": "error",
     "traceback": [
      "\u001b[0;31m---------------------------------------------------------------------------\u001b[0m",
      "\u001b[0;31mKeyboardInterrupt\u001b[0m                         Traceback (most recent call last)",
      "\u001b[0;32m<timed eval>\u001b[0m in \u001b[0;36m<module>\u001b[0;34m\u001b[0m\n",
      "\u001b[0;32m/data/bruingjde/on-going/portcall/src/progress_parallel.py\u001b[0m in \u001b[0;36m__call__\u001b[0;34m(self, *args, **kwargs)\u001b[0m\n\u001b[1;32m     14\u001b[0m         with tqdm(disable=not self._use_tqdm, total=self._total, \n\u001b[1;32m     15\u001b[0m                   desc=self._desc, mininterval=0, miniters=1) as self._pbar:\n\u001b[0;32m---> 16\u001b[0;31m             \u001b[0;32mreturn\u001b[0m \u001b[0mjoblib\u001b[0m\u001b[0;34m.\u001b[0m\u001b[0mParallel\u001b[0m\u001b[0;34m.\u001b[0m\u001b[0m__call__\u001b[0m\u001b[0;34m(\u001b[0m\u001b[0mself\u001b[0m\u001b[0;34m,\u001b[0m \u001b[0;34m*\u001b[0m\u001b[0margs\u001b[0m\u001b[0;34m,\u001b[0m \u001b[0;34m**\u001b[0m\u001b[0mkwargs\u001b[0m\u001b[0;34m)\u001b[0m\u001b[0;34m\u001b[0m\u001b[0;34m\u001b[0m\u001b[0m\n\u001b[0m\u001b[1;32m     17\u001b[0m \u001b[0;34m\u001b[0m\u001b[0m\n\u001b[1;32m     18\u001b[0m     \u001b[0;32mdef\u001b[0m \u001b[0mprint_progress\u001b[0m\u001b[0;34m(\u001b[0m\u001b[0mself\u001b[0m\u001b[0;34m)\u001b[0m\u001b[0;34m:\u001b[0m\u001b[0;34m\u001b[0m\u001b[0;34m\u001b[0m\u001b[0m\n",
      "\u001b[0;32m~/main/lib/python3.9/site-packages/joblib/parallel.py\u001b[0m in \u001b[0;36m__call__\u001b[0;34m(self, iterable)\u001b[0m\n\u001b[1;32m   1052\u001b[0m \u001b[0;34m\u001b[0m\u001b[0m\n\u001b[1;32m   1053\u001b[0m             \u001b[0;32mwith\u001b[0m \u001b[0mself\u001b[0m\u001b[0;34m.\u001b[0m\u001b[0m_backend\u001b[0m\u001b[0;34m.\u001b[0m\u001b[0mretrieval_context\u001b[0m\u001b[0;34m(\u001b[0m\u001b[0;34m)\u001b[0m\u001b[0;34m:\u001b[0m\u001b[0;34m\u001b[0m\u001b[0;34m\u001b[0m\u001b[0m\n\u001b[0;32m-> 1054\u001b[0;31m                 \u001b[0mself\u001b[0m\u001b[0;34m.\u001b[0m\u001b[0mretrieve\u001b[0m\u001b[0;34m(\u001b[0m\u001b[0;34m)\u001b[0m\u001b[0;34m\u001b[0m\u001b[0;34m\u001b[0m\u001b[0m\n\u001b[0m\u001b[1;32m   1055\u001b[0m             \u001b[0;31m# Make sure that we get a last message telling us we are done\u001b[0m\u001b[0;34m\u001b[0m\u001b[0;34m\u001b[0m\u001b[0;34m\u001b[0m\u001b[0m\n\u001b[1;32m   1056\u001b[0m             \u001b[0melapsed_time\u001b[0m \u001b[0;34m=\u001b[0m \u001b[0mtime\u001b[0m\u001b[0;34m.\u001b[0m\u001b[0mtime\u001b[0m\u001b[0;34m(\u001b[0m\u001b[0;34m)\u001b[0m \u001b[0;34m-\u001b[0m \u001b[0mself\u001b[0m\u001b[0;34m.\u001b[0m\u001b[0m_start_time\u001b[0m\u001b[0;34m\u001b[0m\u001b[0;34m\u001b[0m\u001b[0m\n",
      "\u001b[0;32m~/main/lib/python3.9/site-packages/joblib/parallel.py\u001b[0m in \u001b[0;36mretrieve\u001b[0;34m(self)\u001b[0m\n\u001b[1;32m    931\u001b[0m             \u001b[0;32mtry\u001b[0m\u001b[0;34m:\u001b[0m\u001b[0;34m\u001b[0m\u001b[0;34m\u001b[0m\u001b[0m\n\u001b[1;32m    932\u001b[0m                 \u001b[0;32mif\u001b[0m \u001b[0mgetattr\u001b[0m\u001b[0;34m(\u001b[0m\u001b[0mself\u001b[0m\u001b[0;34m.\u001b[0m\u001b[0m_backend\u001b[0m\u001b[0;34m,\u001b[0m \u001b[0;34m'supports_timeout'\u001b[0m\u001b[0;34m,\u001b[0m \u001b[0;32mFalse\u001b[0m\u001b[0;34m)\u001b[0m\u001b[0;34m:\u001b[0m\u001b[0;34m\u001b[0m\u001b[0;34m\u001b[0m\u001b[0m\n\u001b[0;32m--> 933\u001b[0;31m                     \u001b[0mself\u001b[0m\u001b[0;34m.\u001b[0m\u001b[0m_output\u001b[0m\u001b[0;34m.\u001b[0m\u001b[0mextend\u001b[0m\u001b[0;34m(\u001b[0m\u001b[0mjob\u001b[0m\u001b[0;34m.\u001b[0m\u001b[0mget\u001b[0m\u001b[0;34m(\u001b[0m\u001b[0mtimeout\u001b[0m\u001b[0;34m=\u001b[0m\u001b[0mself\u001b[0m\u001b[0;34m.\u001b[0m\u001b[0mtimeout\u001b[0m\u001b[0;34m)\u001b[0m\u001b[0;34m)\u001b[0m\u001b[0;34m\u001b[0m\u001b[0;34m\u001b[0m\u001b[0m\n\u001b[0m\u001b[1;32m    934\u001b[0m                 \u001b[0;32melse\u001b[0m\u001b[0;34m:\u001b[0m\u001b[0;34m\u001b[0m\u001b[0;34m\u001b[0m\u001b[0m\n\u001b[1;32m    935\u001b[0m                     \u001b[0mself\u001b[0m\u001b[0;34m.\u001b[0m\u001b[0m_output\u001b[0m\u001b[0;34m.\u001b[0m\u001b[0mextend\u001b[0m\u001b[0;34m(\u001b[0m\u001b[0mjob\u001b[0m\u001b[0;34m.\u001b[0m\u001b[0mget\u001b[0m\u001b[0;34m(\u001b[0m\u001b[0;34m)\u001b[0m\u001b[0;34m)\u001b[0m\u001b[0;34m\u001b[0m\u001b[0;34m\u001b[0m\u001b[0m\n",
      "\u001b[0;32m~/main/lib/python3.9/site-packages/joblib/_parallel_backends.py\u001b[0m in \u001b[0;36mwrap_future_result\u001b[0;34m(future, timeout)\u001b[0m\n\u001b[1;32m    540\u001b[0m         AsyncResults.get from multiprocessing.\"\"\"\n\u001b[1;32m    541\u001b[0m         \u001b[0;32mtry\u001b[0m\u001b[0;34m:\u001b[0m\u001b[0;34m\u001b[0m\u001b[0;34m\u001b[0m\u001b[0m\n\u001b[0;32m--> 542\u001b[0;31m             \u001b[0;32mreturn\u001b[0m \u001b[0mfuture\u001b[0m\u001b[0;34m.\u001b[0m\u001b[0mresult\u001b[0m\u001b[0;34m(\u001b[0m\u001b[0mtimeout\u001b[0m\u001b[0;34m=\u001b[0m\u001b[0mtimeout\u001b[0m\u001b[0;34m)\u001b[0m\u001b[0;34m\u001b[0m\u001b[0;34m\u001b[0m\u001b[0m\n\u001b[0m\u001b[1;32m    543\u001b[0m         \u001b[0;32mexcept\u001b[0m \u001b[0mCfTimeoutError\u001b[0m \u001b[0;32mas\u001b[0m \u001b[0me\u001b[0m\u001b[0;34m:\u001b[0m\u001b[0;34m\u001b[0m\u001b[0;34m\u001b[0m\u001b[0m\n\u001b[1;32m    544\u001b[0m             \u001b[0;32mraise\u001b[0m \u001b[0mTimeoutError\u001b[0m \u001b[0;32mfrom\u001b[0m \u001b[0me\u001b[0m\u001b[0;34m\u001b[0m\u001b[0;34m\u001b[0m\u001b[0m\n",
      "\u001b[0;32m~/main/lib/python3.9/concurrent/futures/_base.py\u001b[0m in \u001b[0;36mresult\u001b[0;34m(self, timeout)\u001b[0m\n\u001b[1;32m    438\u001b[0m                     \u001b[0;32mreturn\u001b[0m \u001b[0mself\u001b[0m\u001b[0;34m.\u001b[0m\u001b[0m__get_result\u001b[0m\u001b[0;34m(\u001b[0m\u001b[0;34m)\u001b[0m\u001b[0;34m\u001b[0m\u001b[0;34m\u001b[0m\u001b[0m\n\u001b[1;32m    439\u001b[0m \u001b[0;34m\u001b[0m\u001b[0m\n\u001b[0;32m--> 440\u001b[0;31m                 \u001b[0mself\u001b[0m\u001b[0;34m.\u001b[0m\u001b[0m_condition\u001b[0m\u001b[0;34m.\u001b[0m\u001b[0mwait\u001b[0m\u001b[0;34m(\u001b[0m\u001b[0mtimeout\u001b[0m\u001b[0;34m)\u001b[0m\u001b[0;34m\u001b[0m\u001b[0;34m\u001b[0m\u001b[0m\n\u001b[0m\u001b[1;32m    441\u001b[0m \u001b[0;34m\u001b[0m\u001b[0m\n\u001b[1;32m    442\u001b[0m                 \u001b[0;32mif\u001b[0m \u001b[0mself\u001b[0m\u001b[0;34m.\u001b[0m\u001b[0m_state\u001b[0m \u001b[0;32min\u001b[0m \u001b[0;34m[\u001b[0m\u001b[0mCANCELLED\u001b[0m\u001b[0;34m,\u001b[0m \u001b[0mCANCELLED_AND_NOTIFIED\u001b[0m\u001b[0;34m]\u001b[0m\u001b[0;34m:\u001b[0m\u001b[0;34m\u001b[0m\u001b[0;34m\u001b[0m\u001b[0m\n",
      "\u001b[0;32m~/main/lib/python3.9/threading.py\u001b[0m in \u001b[0;36mwait\u001b[0;34m(self, timeout)\u001b[0m\n\u001b[1;32m    310\u001b[0m         \u001b[0;32mtry\u001b[0m\u001b[0;34m:\u001b[0m    \u001b[0;31m# restore state no matter what (e.g., KeyboardInterrupt)\u001b[0m\u001b[0;34m\u001b[0m\u001b[0;34m\u001b[0m\u001b[0m\n\u001b[1;32m    311\u001b[0m             \u001b[0;32mif\u001b[0m \u001b[0mtimeout\u001b[0m \u001b[0;32mis\u001b[0m \u001b[0;32mNone\u001b[0m\u001b[0;34m:\u001b[0m\u001b[0;34m\u001b[0m\u001b[0;34m\u001b[0m\u001b[0m\n\u001b[0;32m--> 312\u001b[0;31m                 \u001b[0mwaiter\u001b[0m\u001b[0;34m.\u001b[0m\u001b[0macquire\u001b[0m\u001b[0;34m(\u001b[0m\u001b[0;34m)\u001b[0m\u001b[0;34m\u001b[0m\u001b[0;34m\u001b[0m\u001b[0m\n\u001b[0m\u001b[1;32m    313\u001b[0m                 \u001b[0mgotit\u001b[0m \u001b[0;34m=\u001b[0m \u001b[0;32mTrue\u001b[0m\u001b[0;34m\u001b[0m\u001b[0;34m\u001b[0m\u001b[0m\n\u001b[1;32m    314\u001b[0m             \u001b[0;32melse\u001b[0m\u001b[0;34m:\u001b[0m\u001b[0;34m\u001b[0m\u001b[0;34m\u001b[0m\u001b[0m\n",
      "\u001b[0;31mKeyboardInterrupt\u001b[0m: "
     ]
    }
   ],
   "source": [
    "%%time\n",
    "# Takes way too long >10m\n",
    "src.ProgressParallel(n_jobs=5, total=5)(\n",
    "    src.delayed(fit_predict)(X, y, s, train_index, test_indices)\n",
    "    for train_indices, test_indices in skf.split(X=X, y=ys)\n",
    ")"
   ]
  },
  {
   "cell_type": "code",
   "execution_count": null,
   "id": "ef46ed28-c087-4357-9b24-b88e79bf9384",
   "metadata": {},
   "outputs": [],
   "source": []
  }
 ],
 "metadata": {
  "interpreter": {
   "hash": "473817ff83b628a5a6f5a7fd2063995fa58896508c9cdd9bc020e2a93e10f438"
  },
  "kernelspec": {
   "display_name": "Python 3 (ipykernel)",
   "language": "python",
   "name": "python3"
  },
  "language_info": {
   "codemirror_mode": {
    "name": "ipython",
    "version": 3
   },
   "file_extension": ".py",
   "mimetype": "text/x-python",
   "name": "python",
   "nbconvert_exporter": "python",
   "pygments_lexer": "ipython3",
   "version": "3.9.7"
  }
 },
 "nbformat": 4,
 "nbformat_minor": 5
}
