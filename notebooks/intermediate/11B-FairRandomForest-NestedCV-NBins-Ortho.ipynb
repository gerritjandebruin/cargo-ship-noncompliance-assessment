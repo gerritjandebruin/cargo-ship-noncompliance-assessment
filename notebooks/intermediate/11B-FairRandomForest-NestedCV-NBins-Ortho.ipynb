{
 "cells": [
  {
   "cell_type": "markdown",
   "id": "5d67f09c-acf0-4246-a323-7c84c80ff303",
   "metadata": {},
   "source": [
    "# Learn all outer folds"
   ]
  },
  {
   "cell_type": "code",
   "execution_count": 1,
   "id": "7d682fd0-02ff-41ff-9000-d75ef5b96685",
   "metadata": {
    "execution": {
     "iopub.execute_input": "2021-11-09T18:06:35.223663Z",
     "iopub.status.busy": "2021-11-09T18:06:35.222748Z",
     "iopub.status.idle": "2021-11-09T18:06:36.141931Z",
     "shell.execute_reply": "2021-11-09T18:06:36.141107Z",
     "shell.execute_reply.started": "2021-11-09T18:06:35.223537Z"
    },
    "tags": []
   },
   "outputs": [],
   "source": [
    "import json\n",
    "import os\n",
    "from pathlib import Path\n",
    "import sys\n",
    "import time\n",
    "\n",
    "import joblib\n",
    "import numpy as np\n",
    "import sklearn.ensemble\n",
    "import sklearn.feature_selection\n",
    "import sklearn.metrics\n",
    "import sklearn.model_selection\n",
    "from tqdm.auto import tqdm\n",
    "\n",
    "root = str(Path.cwd().parents[1])\n",
    "sys.path.append(root)\n",
    "os.chdir(root)\n",
    "import src"
   ]
  },
  {
   "cell_type": "code",
   "execution_count": 118,
   "id": "36837d03-dc24-4aaf-95d3-fd4e979ab385",
   "metadata": {
    "execution": {
     "iopub.execute_input": "2021-11-04T13:10:30.105871Z",
     "iopub.status.busy": "2021-11-04T13:10:30.105569Z",
     "iopub.status.idle": "2021-11-04T13:21:43.179467Z",
     "shell.execute_reply": "2021-11-04T13:21:43.178677Z",
     "shell.execute_reply.started": "2021-11-04T13:10:30.105840Z"
    }
   },
   "outputs": [
    {
     "data": {
      "application/vnd.jupyter.widget-view+json": {
       "model_id": "4cf6b655787a471696ddd66565777154",
       "version_major": 2,
       "version_minor": 0
      },
      "text/plain": [
       "orthogonality:   0%|          | 0/11 [00:00<?, ?it/s]"
      ]
     },
     "metadata": {},
     "output_type": "display_data"
    },
    {
     "data": {
      "application/vnd.jupyter.widget-view+json": {
       "model_id": "",
       "version_major": 2,
       "version_minor": 0
      },
      "text/plain": [
       "outer_fold:   0%|          | 0/5 [00:00<?, ?it/s]"
      ]
     },
     "metadata": {},
     "output_type": "display_data"
    },
    {
     "data": {
      "application/vnd.jupyter.widget-view+json": {
       "model_id": "",
       "version_major": 2,
       "version_minor": 0
      },
      "text/plain": [
       "params:   0%|          | 0/20 [00:00<?, ?it/s]"
      ]
     },
     "metadata": {},
     "output_type": "display_data"
    },
    {
     "data": {
      "application/vnd.jupyter.widget-view+json": {
       "model_id": "",
       "version_major": 2,
       "version_minor": 0
      },
      "text/plain": [
       "inner_fold:   0%|          | 0/5 [00:00<?, ?it/s]"
      ]
     },
     "metadata": {},
     "output_type": "display_data"
    },
    {
     "data": {
      "application/vnd.jupyter.widget-view+json": {
       "model_id": "",
       "version_major": 2,
       "version_minor": 0
      },
      "text/plain": [
       "inner_fold:   0%|          | 0/5 [00:00<?, ?it/s]"
      ]
     },
     "metadata": {},
     "output_type": "display_data"
    },
    {
     "data": {
      "application/vnd.jupyter.widget-view+json": {
       "model_id": "",
       "version_major": 2,
       "version_minor": 0
      },
      "text/plain": [
       "inner_fold:   0%|          | 0/5 [00:00<?, ?it/s]"
      ]
     },
     "metadata": {},
     "output_type": "display_data"
    },
    {
     "data": {
      "application/vnd.jupyter.widget-view+json": {
       "model_id": "",
       "version_major": 2,
       "version_minor": 0
      },
      "text/plain": [
       "inner_fold:   0%|          | 0/5 [00:00<?, ?it/s]"
      ]
     },
     "metadata": {},
     "output_type": "display_data"
    },
    {
     "data": {
      "application/vnd.jupyter.widget-view+json": {
       "model_id": "",
       "version_major": 2,
       "version_minor": 0
      },
      "text/plain": [
       "inner_fold:   0%|          | 0/5 [00:00<?, ?it/s]"
      ]
     },
     "metadata": {},
     "output_type": "display_data"
    },
    {
     "data": {
      "application/vnd.jupyter.widget-view+json": {
       "model_id": "",
       "version_major": 2,
       "version_minor": 0
      },
      "text/plain": [
       "inner_fold:   0%|          | 0/5 [00:00<?, ?it/s]"
      ]
     },
     "metadata": {},
     "output_type": "display_data"
    },
    {
     "data": {
      "application/vnd.jupyter.widget-view+json": {
       "model_id": "",
       "version_major": 2,
       "version_minor": 0
      },
      "text/plain": [
       "inner_fold:   0%|          | 0/5 [00:00<?, ?it/s]"
      ]
     },
     "metadata": {},
     "output_type": "display_data"
    },
    {
     "data": {
      "application/vnd.jupyter.widget-view+json": {
       "model_id": "",
       "version_major": 2,
       "version_minor": 0
      },
      "text/plain": [
       "inner_fold:   0%|          | 0/5 [00:00<?, ?it/s]"
      ]
     },
     "metadata": {},
     "output_type": "display_data"
    },
    {
     "data": {
      "application/vnd.jupyter.widget-view+json": {
       "model_id": "",
       "version_major": 2,
       "version_minor": 0
      },
      "text/plain": [
       "inner_fold:   0%|          | 0/5 [00:00<?, ?it/s]"
      ]
     },
     "metadata": {},
     "output_type": "display_data"
    },
    {
     "data": {
      "application/vnd.jupyter.widget-view+json": {
       "model_id": "",
       "version_major": 2,
       "version_minor": 0
      },
      "text/plain": [
       "inner_fold:   0%|          | 0/5 [00:00<?, ?it/s]"
      ]
     },
     "metadata": {},
     "output_type": "display_data"
    },
    {
     "data": {
      "application/vnd.jupyter.widget-view+json": {
       "model_id": "",
       "version_major": 2,
       "version_minor": 0
      },
      "text/plain": [
       "inner_fold:   0%|          | 0/5 [00:00<?, ?it/s]"
      ]
     },
     "metadata": {},
     "output_type": "display_data"
    },
    {
     "data": {
      "application/vnd.jupyter.widget-view+json": {
       "model_id": "",
       "version_major": 2,
       "version_minor": 0
      },
      "text/plain": [
       "inner_fold:   0%|          | 0/5 [00:00<?, ?it/s]"
      ]
     },
     "metadata": {},
     "output_type": "display_data"
    },
    {
     "data": {
      "application/vnd.jupyter.widget-view+json": {
       "model_id": "",
       "version_major": 2,
       "version_minor": 0
      },
      "text/plain": [
       "inner_fold:   0%|          | 0/5 [00:00<?, ?it/s]"
      ]
     },
     "metadata": {},
     "output_type": "display_data"
    },
    {
     "data": {
      "application/vnd.jupyter.widget-view+json": {
       "model_id": "",
       "version_major": 2,
       "version_minor": 0
      },
      "text/plain": [
       "inner_fold:   0%|          | 0/5 [00:00<?, ?it/s]"
      ]
     },
     "metadata": {},
     "output_type": "display_data"
    },
    {
     "data": {
      "application/vnd.jupyter.widget-view+json": {
       "model_id": "",
       "version_major": 2,
       "version_minor": 0
      },
      "text/plain": [
       "inner_fold:   0%|          | 0/5 [00:00<?, ?it/s]"
      ]
     },
     "metadata": {},
     "output_type": "display_data"
    },
    {
     "data": {
      "application/vnd.jupyter.widget-view+json": {
       "model_id": "",
       "version_major": 2,
       "version_minor": 0
      },
      "text/plain": [
       "inner_fold:   0%|          | 0/5 [00:00<?, ?it/s]"
      ]
     },
     "metadata": {},
     "output_type": "display_data"
    },
    {
     "data": {
      "application/vnd.jupyter.widget-view+json": {
       "model_id": "",
       "version_major": 2,
       "version_minor": 0
      },
      "text/plain": [
       "inner_fold:   0%|          | 0/5 [00:00<?, ?it/s]"
      ]
     },
     "metadata": {},
     "output_type": "display_data"
    },
    {
     "data": {
      "application/vnd.jupyter.widget-view+json": {
       "model_id": "",
       "version_major": 2,
       "version_minor": 0
      },
      "text/plain": [
       "inner_fold:   0%|          | 0/5 [00:00<?, ?it/s]"
      ]
     },
     "metadata": {},
     "output_type": "display_data"
    },
    {
     "data": {
      "application/vnd.jupyter.widget-view+json": {
       "model_id": "",
       "version_major": 2,
       "version_minor": 0
      },
      "text/plain": [
       "inner_fold:   0%|          | 0/5 [00:00<?, ?it/s]"
      ]
     },
     "metadata": {},
     "output_type": "display_data"
    },
    {
     "data": {
      "application/vnd.jupyter.widget-view+json": {
       "model_id": "",
       "version_major": 2,
       "version_minor": 0
      },
      "text/plain": [
       "inner_fold:   0%|          | 0/5 [00:00<?, ?it/s]"
      ]
     },
     "metadata": {},
     "output_type": "display_data"
    },
    {
     "data": {
      "application/vnd.jupyter.widget-view+json": {
       "model_id": "",
       "version_major": 2,
       "version_minor": 0
      },
      "text/plain": [
       "params:   0%|          | 0/20 [00:00<?, ?it/s]"
      ]
     },
     "metadata": {},
     "output_type": "display_data"
    },
    {
     "data": {
      "application/vnd.jupyter.widget-view+json": {
       "model_id": "",
       "version_major": 2,
       "version_minor": 0
      },
      "text/plain": [
       "inner_fold:   0%|          | 0/5 [00:00<?, ?it/s]"
      ]
     },
     "metadata": {},
     "output_type": "display_data"
    },
    {
     "data": {
      "application/vnd.jupyter.widget-view+json": {
       "model_id": "",
       "version_major": 2,
       "version_minor": 0
      },
      "text/plain": [
       "inner_fold:   0%|          | 0/5 [00:00<?, ?it/s]"
      ]
     },
     "metadata": {},
     "output_type": "display_data"
    },
    {
     "data": {
      "application/vnd.jupyter.widget-view+json": {
       "model_id": "",
       "version_major": 2,
       "version_minor": 0
      },
      "text/plain": [
       "inner_fold:   0%|          | 0/5 [00:00<?, ?it/s]"
      ]
     },
     "metadata": {},
     "output_type": "display_data"
    },
    {
     "data": {
      "application/vnd.jupyter.widget-view+json": {
       "model_id": "",
       "version_major": 2,
       "version_minor": 0
      },
      "text/plain": [
       "inner_fold:   0%|          | 0/5 [00:00<?, ?it/s]"
      ]
     },
     "metadata": {},
     "output_type": "display_data"
    },
    {
     "data": {
      "application/vnd.jupyter.widget-view+json": {
       "model_id": "",
       "version_major": 2,
       "version_minor": 0
      },
      "text/plain": [
       "inner_fold:   0%|          | 0/5 [00:00<?, ?it/s]"
      ]
     },
     "metadata": {},
     "output_type": "display_data"
    },
    {
     "data": {
      "application/vnd.jupyter.widget-view+json": {
       "model_id": "",
       "version_major": 2,
       "version_minor": 0
      },
      "text/plain": [
       "inner_fold:   0%|          | 0/5 [00:00<?, ?it/s]"
      ]
     },
     "metadata": {},
     "output_type": "display_data"
    },
    {
     "data": {
      "application/vnd.jupyter.widget-view+json": {
       "model_id": "",
       "version_major": 2,
       "version_minor": 0
      },
      "text/plain": [
       "inner_fold:   0%|          | 0/5 [00:00<?, ?it/s]"
      ]
     },
     "metadata": {},
     "output_type": "display_data"
    },
    {
     "data": {
      "application/vnd.jupyter.widget-view+json": {
       "model_id": "",
       "version_major": 2,
       "version_minor": 0
      },
      "text/plain": [
       "inner_fold:   0%|          | 0/5 [00:00<?, ?it/s]"
      ]
     },
     "metadata": {},
     "output_type": "display_data"
    },
    {
     "data": {
      "application/vnd.jupyter.widget-view+json": {
       "model_id": "",
       "version_major": 2,
       "version_minor": 0
      },
      "text/plain": [
       "inner_fold:   0%|          | 0/5 [00:00<?, ?it/s]"
      ]
     },
     "metadata": {},
     "output_type": "display_data"
    },
    {
     "data": {
      "application/vnd.jupyter.widget-view+json": {
       "model_id": "",
       "version_major": 2,
       "version_minor": 0
      },
      "text/plain": [
       "inner_fold:   0%|          | 0/5 [00:00<?, ?it/s]"
      ]
     },
     "metadata": {},
     "output_type": "display_data"
    },
    {
     "data": {
      "application/vnd.jupyter.widget-view+json": {
       "model_id": "",
       "version_major": 2,
       "version_minor": 0
      },
      "text/plain": [
       "inner_fold:   0%|          | 0/5 [00:00<?, ?it/s]"
      ]
     },
     "metadata": {},
     "output_type": "display_data"
    },
    {
     "data": {
      "application/vnd.jupyter.widget-view+json": {
       "model_id": "",
       "version_major": 2,
       "version_minor": 0
      },
      "text/plain": [
       "inner_fold:   0%|          | 0/5 [00:00<?, ?it/s]"
      ]
     },
     "metadata": {},
     "output_type": "display_data"
    },
    {
     "data": {
      "application/vnd.jupyter.widget-view+json": {
       "model_id": "",
       "version_major": 2,
       "version_minor": 0
      },
      "text/plain": [
       "inner_fold:   0%|          | 0/5 [00:00<?, ?it/s]"
      ]
     },
     "metadata": {},
     "output_type": "display_data"
    },
    {
     "data": {
      "application/vnd.jupyter.widget-view+json": {
       "model_id": "",
       "version_major": 2,
       "version_minor": 0
      },
      "text/plain": [
       "inner_fold:   0%|          | 0/5 [00:00<?, ?it/s]"
      ]
     },
     "metadata": {},
     "output_type": "display_data"
    },
    {
     "data": {
      "application/vnd.jupyter.widget-view+json": {
       "model_id": "",
       "version_major": 2,
       "version_minor": 0
      },
      "text/plain": [
       "inner_fold:   0%|          | 0/5 [00:00<?, ?it/s]"
      ]
     },
     "metadata": {},
     "output_type": "display_data"
    },
    {
     "data": {
      "application/vnd.jupyter.widget-view+json": {
       "model_id": "",
       "version_major": 2,
       "version_minor": 0
      },
      "text/plain": [
       "inner_fold:   0%|          | 0/5 [00:00<?, ?it/s]"
      ]
     },
     "metadata": {},
     "output_type": "display_data"
    },
    {
     "data": {
      "application/vnd.jupyter.widget-view+json": {
       "model_id": "",
       "version_major": 2,
       "version_minor": 0
      },
      "text/plain": [
       "inner_fold:   0%|          | 0/5 [00:00<?, ?it/s]"
      ]
     },
     "metadata": {},
     "output_type": "display_data"
    },
    {
     "data": {
      "application/vnd.jupyter.widget-view+json": {
       "model_id": "",
       "version_major": 2,
       "version_minor": 0
      },
      "text/plain": [
       "inner_fold:   0%|          | 0/5 [00:00<?, ?it/s]"
      ]
     },
     "metadata": {},
     "output_type": "display_data"
    },
    {
     "data": {
      "application/vnd.jupyter.widget-view+json": {
       "model_id": "",
       "version_major": 2,
       "version_minor": 0
      },
      "text/plain": [
       "inner_fold:   0%|          | 0/5 [00:00<?, ?it/s]"
      ]
     },
     "metadata": {},
     "output_type": "display_data"
    },
    {
     "data": {
      "application/vnd.jupyter.widget-view+json": {
       "model_id": "",
       "version_major": 2,
       "version_minor": 0
      },
      "text/plain": [
       "inner_fold:   0%|          | 0/5 [00:00<?, ?it/s]"
      ]
     },
     "metadata": {},
     "output_type": "display_data"
    },
    {
     "data": {
      "application/vnd.jupyter.widget-view+json": {
       "model_id": "",
       "version_major": 2,
       "version_minor": 0
      },
      "text/plain": [
       "params:   0%|          | 0/20 [00:00<?, ?it/s]"
      ]
     },
     "metadata": {},
     "output_type": "display_data"
    },
    {
     "data": {
      "application/vnd.jupyter.widget-view+json": {
       "model_id": "",
       "version_major": 2,
       "version_minor": 0
      },
      "text/plain": [
       "inner_fold:   0%|          | 0/5 [00:00<?, ?it/s]"
      ]
     },
     "metadata": {},
     "output_type": "display_data"
    },
    {
     "data": {
      "application/vnd.jupyter.widget-view+json": {
       "model_id": "",
       "version_major": 2,
       "version_minor": 0
      },
      "text/plain": [
       "inner_fold:   0%|          | 0/5 [00:00<?, ?it/s]"
      ]
     },
     "metadata": {},
     "output_type": "display_data"
    },
    {
     "data": {
      "application/vnd.jupyter.widget-view+json": {
       "model_id": "",
       "version_major": 2,
       "version_minor": 0
      },
      "text/plain": [
       "inner_fold:   0%|          | 0/5 [00:00<?, ?it/s]"
      ]
     },
     "metadata": {},
     "output_type": "display_data"
    },
    {
     "data": {
      "application/vnd.jupyter.widget-view+json": {
       "model_id": "",
       "version_major": 2,
       "version_minor": 0
      },
      "text/plain": [
       "inner_fold:   0%|          | 0/5 [00:00<?, ?it/s]"
      ]
     },
     "metadata": {},
     "output_type": "display_data"
    },
    {
     "data": {
      "application/vnd.jupyter.widget-view+json": {
       "model_id": "",
       "version_major": 2,
       "version_minor": 0
      },
      "text/plain": [
       "inner_fold:   0%|          | 0/5 [00:00<?, ?it/s]"
      ]
     },
     "metadata": {},
     "output_type": "display_data"
    },
    {
     "data": {
      "application/vnd.jupyter.widget-view+json": {
       "model_id": "",
       "version_major": 2,
       "version_minor": 0
      },
      "text/plain": [
       "inner_fold:   0%|          | 0/5 [00:00<?, ?it/s]"
      ]
     },
     "metadata": {},
     "output_type": "display_data"
    },
    {
     "data": {
      "application/vnd.jupyter.widget-view+json": {
       "model_id": "",
       "version_major": 2,
       "version_minor": 0
      },
      "text/plain": [
       "inner_fold:   0%|          | 0/5 [00:00<?, ?it/s]"
      ]
     },
     "metadata": {},
     "output_type": "display_data"
    },
    {
     "data": {
      "application/vnd.jupyter.widget-view+json": {
       "model_id": "",
       "version_major": 2,
       "version_minor": 0
      },
      "text/plain": [
       "inner_fold:   0%|          | 0/5 [00:00<?, ?it/s]"
      ]
     },
     "metadata": {},
     "output_type": "display_data"
    },
    {
     "data": {
      "application/vnd.jupyter.widget-view+json": {
       "model_id": "",
       "version_major": 2,
       "version_minor": 0
      },
      "text/plain": [
       "inner_fold:   0%|          | 0/5 [00:00<?, ?it/s]"
      ]
     },
     "metadata": {},
     "output_type": "display_data"
    },
    {
     "data": {
      "application/vnd.jupyter.widget-view+json": {
       "model_id": "",
       "version_major": 2,
       "version_minor": 0
      },
      "text/plain": [
       "inner_fold:   0%|          | 0/5 [00:00<?, ?it/s]"
      ]
     },
     "metadata": {},
     "output_type": "display_data"
    },
    {
     "data": {
      "application/vnd.jupyter.widget-view+json": {
       "model_id": "",
       "version_major": 2,
       "version_minor": 0
      },
      "text/plain": [
       "inner_fold:   0%|          | 0/5 [00:00<?, ?it/s]"
      ]
     },
     "metadata": {},
     "output_type": "display_data"
    },
    {
     "data": {
      "application/vnd.jupyter.widget-view+json": {
       "model_id": "",
       "version_major": 2,
       "version_minor": 0
      },
      "text/plain": [
       "inner_fold:   0%|          | 0/5 [00:00<?, ?it/s]"
      ]
     },
     "metadata": {},
     "output_type": "display_data"
    },
    {
     "data": {
      "application/vnd.jupyter.widget-view+json": {
       "model_id": "",
       "version_major": 2,
       "version_minor": 0
      },
      "text/plain": [
       "inner_fold:   0%|          | 0/5 [00:00<?, ?it/s]"
      ]
     },
     "metadata": {},
     "output_type": "display_data"
    },
    {
     "data": {
      "application/vnd.jupyter.widget-view+json": {
       "model_id": "",
       "version_major": 2,
       "version_minor": 0
      },
      "text/plain": [
       "inner_fold:   0%|          | 0/5 [00:00<?, ?it/s]"
      ]
     },
     "metadata": {},
     "output_type": "display_data"
    },
    {
     "data": {
      "application/vnd.jupyter.widget-view+json": {
       "model_id": "",
       "version_major": 2,
       "version_minor": 0
      },
      "text/plain": [
       "inner_fold:   0%|          | 0/5 [00:00<?, ?it/s]"
      ]
     },
     "metadata": {},
     "output_type": "display_data"
    },
    {
     "data": {
      "application/vnd.jupyter.widget-view+json": {
       "model_id": "",
       "version_major": 2,
       "version_minor": 0
      },
      "text/plain": [
       "inner_fold:   0%|          | 0/5 [00:00<?, ?it/s]"
      ]
     },
     "metadata": {},
     "output_type": "display_data"
    },
    {
     "data": {
      "application/vnd.jupyter.widget-view+json": {
       "model_id": "",
       "version_major": 2,
       "version_minor": 0
      },
      "text/plain": [
       "inner_fold:   0%|          | 0/5 [00:00<?, ?it/s]"
      ]
     },
     "metadata": {},
     "output_type": "display_data"
    },
    {
     "data": {
      "application/vnd.jupyter.widget-view+json": {
       "model_id": "",
       "version_major": 2,
       "version_minor": 0
      },
      "text/plain": [
       "inner_fold:   0%|          | 0/5 [00:00<?, ?it/s]"
      ]
     },
     "metadata": {},
     "output_type": "display_data"
    },
    {
     "data": {
      "application/vnd.jupyter.widget-view+json": {
       "model_id": "",
       "version_major": 2,
       "version_minor": 0
      },
      "text/plain": [
       "inner_fold:   0%|          | 0/5 [00:00<?, ?it/s]"
      ]
     },
     "metadata": {},
     "output_type": "display_data"
    },
    {
     "data": {
      "application/vnd.jupyter.widget-view+json": {
       "model_id": "",
       "version_major": 2,
       "version_minor": 0
      },
      "text/plain": [
       "inner_fold:   0%|          | 0/5 [00:00<?, ?it/s]"
      ]
     },
     "metadata": {},
     "output_type": "display_data"
    },
    {
     "data": {
      "application/vnd.jupyter.widget-view+json": {
       "model_id": "",
       "version_major": 2,
       "version_minor": 0
      },
      "text/plain": [
       "params:   0%|          | 0/20 [00:00<?, ?it/s]"
      ]
     },
     "metadata": {},
     "output_type": "display_data"
    },
    {
     "data": {
      "application/vnd.jupyter.widget-view+json": {
       "model_id": "",
       "version_major": 2,
       "version_minor": 0
      },
      "text/plain": [
       "inner_fold:   0%|          | 0/5 [00:00<?, ?it/s]"
      ]
     },
     "metadata": {},
     "output_type": "display_data"
    },
    {
     "data": {
      "application/vnd.jupyter.widget-view+json": {
       "model_id": "",
       "version_major": 2,
       "version_minor": 0
      },
      "text/plain": [
       "inner_fold:   0%|          | 0/5 [00:00<?, ?it/s]"
      ]
     },
     "metadata": {},
     "output_type": "display_data"
    },
    {
     "data": {
      "application/vnd.jupyter.widget-view+json": {
       "model_id": "",
       "version_major": 2,
       "version_minor": 0
      },
      "text/plain": [
       "inner_fold:   0%|          | 0/5 [00:00<?, ?it/s]"
      ]
     },
     "metadata": {},
     "output_type": "display_data"
    },
    {
     "data": {
      "application/vnd.jupyter.widget-view+json": {
       "model_id": "",
       "version_major": 2,
       "version_minor": 0
      },
      "text/plain": [
       "inner_fold:   0%|          | 0/5 [00:00<?, ?it/s]"
      ]
     },
     "metadata": {},
     "output_type": "display_data"
    },
    {
     "data": {
      "application/vnd.jupyter.widget-view+json": {
       "model_id": "",
       "version_major": 2,
       "version_minor": 0
      },
      "text/plain": [
       "inner_fold:   0%|          | 0/5 [00:00<?, ?it/s]"
      ]
     },
     "metadata": {},
     "output_type": "display_data"
    },
    {
     "data": {
      "application/vnd.jupyter.widget-view+json": {
       "model_id": "",
       "version_major": 2,
       "version_minor": 0
      },
      "text/plain": [
       "inner_fold:   0%|          | 0/5 [00:00<?, ?it/s]"
      ]
     },
     "metadata": {},
     "output_type": "display_data"
    },
    {
     "data": {
      "application/vnd.jupyter.widget-view+json": {
       "model_id": "",
       "version_major": 2,
       "version_minor": 0
      },
      "text/plain": [
       "inner_fold:   0%|          | 0/5 [00:00<?, ?it/s]"
      ]
     },
     "metadata": {},
     "output_type": "display_data"
    },
    {
     "data": {
      "application/vnd.jupyter.widget-view+json": {
       "model_id": "",
       "version_major": 2,
       "version_minor": 0
      },
      "text/plain": [
       "inner_fold:   0%|          | 0/5 [00:00<?, ?it/s]"
      ]
     },
     "metadata": {},
     "output_type": "display_data"
    },
    {
     "data": {
      "application/vnd.jupyter.widget-view+json": {
       "model_id": "",
       "version_major": 2,
       "version_minor": 0
      },
      "text/plain": [
       "inner_fold:   0%|          | 0/5 [00:00<?, ?it/s]"
      ]
     },
     "metadata": {},
     "output_type": "display_data"
    },
    {
     "data": {
      "application/vnd.jupyter.widget-view+json": {
       "model_id": "",
       "version_major": 2,
       "version_minor": 0
      },
      "text/plain": [
       "inner_fold:   0%|          | 0/5 [00:00<?, ?it/s]"
      ]
     },
     "metadata": {},
     "output_type": "display_data"
    },
    {
     "data": {
      "application/vnd.jupyter.widget-view+json": {
       "model_id": "",
       "version_major": 2,
       "version_minor": 0
      },
      "text/plain": [
       "inner_fold:   0%|          | 0/5 [00:00<?, ?it/s]"
      ]
     },
     "metadata": {},
     "output_type": "display_data"
    },
    {
     "data": {
      "application/vnd.jupyter.widget-view+json": {
       "model_id": "",
       "version_major": 2,
       "version_minor": 0
      },
      "text/plain": [
       "inner_fold:   0%|          | 0/5 [00:00<?, ?it/s]"
      ]
     },
     "metadata": {},
     "output_type": "display_data"
    },
    {
     "data": {
      "application/vnd.jupyter.widget-view+json": {
       "model_id": "",
       "version_major": 2,
       "version_minor": 0
      },
      "text/plain": [
       "inner_fold:   0%|          | 0/5 [00:00<?, ?it/s]"
      ]
     },
     "metadata": {},
     "output_type": "display_data"
    },
    {
     "data": {
      "application/vnd.jupyter.widget-view+json": {
       "model_id": "",
       "version_major": 2,
       "version_minor": 0
      },
      "text/plain": [
       "inner_fold:   0%|          | 0/5 [00:00<?, ?it/s]"
      ]
     },
     "metadata": {},
     "output_type": "display_data"
    },
    {
     "data": {
      "application/vnd.jupyter.widget-view+json": {
       "model_id": "",
       "version_major": 2,
       "version_minor": 0
      },
      "text/plain": [
       "inner_fold:   0%|          | 0/5 [00:00<?, ?it/s]"
      ]
     },
     "metadata": {},
     "output_type": "display_data"
    },
    {
     "data": {
      "application/vnd.jupyter.widget-view+json": {
       "model_id": "",
       "version_major": 2,
       "version_minor": 0
      },
      "text/plain": [
       "inner_fold:   0%|          | 0/5 [00:00<?, ?it/s]"
      ]
     },
     "metadata": {},
     "output_type": "display_data"
    },
    {
     "data": {
      "application/vnd.jupyter.widget-view+json": {
       "model_id": "",
       "version_major": 2,
       "version_minor": 0
      },
      "text/plain": [
       "inner_fold:   0%|          | 0/5 [00:00<?, ?it/s]"
      ]
     },
     "metadata": {},
     "output_type": "display_data"
    },
    {
     "data": {
      "application/vnd.jupyter.widget-view+json": {
       "model_id": "",
       "version_major": 2,
       "version_minor": 0
      },
      "text/plain": [
       "inner_fold:   0%|          | 0/5 [00:00<?, ?it/s]"
      ]
     },
     "metadata": {},
     "output_type": "display_data"
    },
    {
     "data": {
      "application/vnd.jupyter.widget-view+json": {
       "model_id": "",
       "version_major": 2,
       "version_minor": 0
      },
      "text/plain": [
       "inner_fold:   0%|          | 0/5 [00:00<?, ?it/s]"
      ]
     },
     "metadata": {},
     "output_type": "display_data"
    },
    {
     "data": {
      "application/vnd.jupyter.widget-view+json": {
       "model_id": "",
       "version_major": 2,
       "version_minor": 0
      },
      "text/plain": [
       "inner_fold:   0%|          | 0/5 [00:00<?, ?it/s]"
      ]
     },
     "metadata": {},
     "output_type": "display_data"
    },
    {
     "data": {
      "application/vnd.jupyter.widget-view+json": {
       "model_id": "",
       "version_major": 2,
       "version_minor": 0
      },
      "text/plain": [
       "params:   0%|          | 0/20 [00:00<?, ?it/s]"
      ]
     },
     "metadata": {},
     "output_type": "display_data"
    },
    {
     "data": {
      "application/vnd.jupyter.widget-view+json": {
       "model_id": "",
       "version_major": 2,
       "version_minor": 0
      },
      "text/plain": [
       "inner_fold:   0%|          | 0/5 [00:00<?, ?it/s]"
      ]
     },
     "metadata": {},
     "output_type": "display_data"
    },
    {
     "data": {
      "application/vnd.jupyter.widget-view+json": {
       "model_id": "",
       "version_major": 2,
       "version_minor": 0
      },
      "text/plain": [
       "inner_fold:   0%|          | 0/5 [00:00<?, ?it/s]"
      ]
     },
     "metadata": {},
     "output_type": "display_data"
    },
    {
     "data": {
      "application/vnd.jupyter.widget-view+json": {
       "model_id": "",
       "version_major": 2,
       "version_minor": 0
      },
      "text/plain": [
       "inner_fold:   0%|          | 0/5 [00:00<?, ?it/s]"
      ]
     },
     "metadata": {},
     "output_type": "display_data"
    },
    {
     "data": {
      "application/vnd.jupyter.widget-view+json": {
       "model_id": "",
       "version_major": 2,
       "version_minor": 0
      },
      "text/plain": [
       "inner_fold:   0%|          | 0/5 [00:00<?, ?it/s]"
      ]
     },
     "metadata": {},
     "output_type": "display_data"
    },
    {
     "data": {
      "application/vnd.jupyter.widget-view+json": {
       "model_id": "",
       "version_major": 2,
       "version_minor": 0
      },
      "text/plain": [
       "inner_fold:   0%|          | 0/5 [00:00<?, ?it/s]"
      ]
     },
     "metadata": {},
     "output_type": "display_data"
    },
    {
     "data": {
      "application/vnd.jupyter.widget-view+json": {
       "model_id": "",
       "version_major": 2,
       "version_minor": 0
      },
      "text/plain": [
       "inner_fold:   0%|          | 0/5 [00:00<?, ?it/s]"
      ]
     },
     "metadata": {},
     "output_type": "display_data"
    },
    {
     "data": {
      "application/vnd.jupyter.widget-view+json": {
       "model_id": "",
       "version_major": 2,
       "version_minor": 0
      },
      "text/plain": [
       "inner_fold:   0%|          | 0/5 [00:00<?, ?it/s]"
      ]
     },
     "metadata": {},
     "output_type": "display_data"
    },
    {
     "data": {
      "application/vnd.jupyter.widget-view+json": {
       "model_id": "",
       "version_major": 2,
       "version_minor": 0
      },
      "text/plain": [
       "inner_fold:   0%|          | 0/5 [00:00<?, ?it/s]"
      ]
     },
     "metadata": {},
     "output_type": "display_data"
    },
    {
     "data": {
      "application/vnd.jupyter.widget-view+json": {
       "model_id": "",
       "version_major": 2,
       "version_minor": 0
      },
      "text/plain": [
       "inner_fold:   0%|          | 0/5 [00:00<?, ?it/s]"
      ]
     },
     "metadata": {},
     "output_type": "display_data"
    },
    {
     "data": {
      "application/vnd.jupyter.widget-view+json": {
       "model_id": "",
       "version_major": 2,
       "version_minor": 0
      },
      "text/plain": [
       "inner_fold:   0%|          | 0/5 [00:00<?, ?it/s]"
      ]
     },
     "metadata": {},
     "output_type": "display_data"
    },
    {
     "data": {
      "application/vnd.jupyter.widget-view+json": {
       "model_id": "",
       "version_major": 2,
       "version_minor": 0
      },
      "text/plain": [
       "inner_fold:   0%|          | 0/5 [00:00<?, ?it/s]"
      ]
     },
     "metadata": {},
     "output_type": "display_data"
    },
    {
     "data": {
      "application/vnd.jupyter.widget-view+json": {
       "model_id": "",
       "version_major": 2,
       "version_minor": 0
      },
      "text/plain": [
       "inner_fold:   0%|          | 0/5 [00:00<?, ?it/s]"
      ]
     },
     "metadata": {},
     "output_type": "display_data"
    },
    {
     "data": {
      "application/vnd.jupyter.widget-view+json": {
       "model_id": "",
       "version_major": 2,
       "version_minor": 0
      },
      "text/plain": [
       "inner_fold:   0%|          | 0/5 [00:00<?, ?it/s]"
      ]
     },
     "metadata": {},
     "output_type": "display_data"
    },
    {
     "data": {
      "application/vnd.jupyter.widget-view+json": {
       "model_id": "",
       "version_major": 2,
       "version_minor": 0
      },
      "text/plain": [
       "inner_fold:   0%|          | 0/5 [00:00<?, ?it/s]"
      ]
     },
     "metadata": {},
     "output_type": "display_data"
    },
    {
     "data": {
      "application/vnd.jupyter.widget-view+json": {
       "model_id": "",
       "version_major": 2,
       "version_minor": 0
      },
      "text/plain": [
       "inner_fold:   0%|          | 0/5 [00:00<?, ?it/s]"
      ]
     },
     "metadata": {},
     "output_type": "display_data"
    },
    {
     "data": {
      "application/vnd.jupyter.widget-view+json": {
       "model_id": "",
       "version_major": 2,
       "version_minor": 0
      },
      "text/plain": [
       "inner_fold:   0%|          | 0/5 [00:00<?, ?it/s]"
      ]
     },
     "metadata": {},
     "output_type": "display_data"
    },
    {
     "data": {
      "application/vnd.jupyter.widget-view+json": {
       "model_id": "",
       "version_major": 2,
       "version_minor": 0
      },
      "text/plain": [
       "inner_fold:   0%|          | 0/5 [00:00<?, ?it/s]"
      ]
     },
     "metadata": {},
     "output_type": "display_data"
    },
    {
     "data": {
      "application/vnd.jupyter.widget-view+json": {
       "model_id": "",
       "version_major": 2,
       "version_minor": 0
      },
      "text/plain": [
       "inner_fold:   0%|          | 0/5 [00:00<?, ?it/s]"
      ]
     },
     "metadata": {},
     "output_type": "display_data"
    },
    {
     "data": {
      "application/vnd.jupyter.widget-view+json": {
       "model_id": "",
       "version_major": 2,
       "version_minor": 0
      },
      "text/plain": [
       "inner_fold:   0%|          | 0/5 [00:00<?, ?it/s]"
      ]
     },
     "metadata": {},
     "output_type": "display_data"
    },
    {
     "data": {
      "application/vnd.jupyter.widget-view+json": {
       "model_id": "",
       "version_major": 2,
       "version_minor": 0
      },
      "text/plain": [
       "inner_fold:   0%|          | 0/5 [00:00<?, ?it/s]"
      ]
     },
     "metadata": {},
     "output_type": "display_data"
    },
    {
     "data": {
      "application/vnd.jupyter.widget-view+json": {
       "model_id": "8b6fc58590774bcdb25b4cfc51307216",
       "version_major": 2,
       "version_minor": 0
      },
      "text/plain": [
       "outer_fold:   0%|          | 0/5 [00:00<?, ?it/s]"
      ]
     },
     "metadata": {},
     "output_type": "display_data"
    },
    {
     "data": {
      "application/vnd.jupyter.widget-view+json": {
       "model_id": "",
       "version_major": 2,
       "version_minor": 0
      },
      "text/plain": [
       "params:   0%|          | 0/20 [00:00<?, ?it/s]"
      ]
     },
     "metadata": {},
     "output_type": "display_data"
    },
    {
     "data": {
      "application/vnd.jupyter.widget-view+json": {
       "model_id": "",
       "version_major": 2,
       "version_minor": 0
      },
      "text/plain": [
       "inner_fold:   0%|          | 0/5 [00:00<?, ?it/s]"
      ]
     },
     "metadata": {},
     "output_type": "display_data"
    },
    {
     "data": {
      "application/vnd.jupyter.widget-view+json": {
       "model_id": "",
       "version_major": 2,
       "version_minor": 0
      },
      "text/plain": [
       "inner_fold:   0%|          | 0/5 [00:00<?, ?it/s]"
      ]
     },
     "metadata": {},
     "output_type": "display_data"
    },
    {
     "data": {
      "application/vnd.jupyter.widget-view+json": {
       "model_id": "",
       "version_major": 2,
       "version_minor": 0
      },
      "text/plain": [
       "inner_fold:   0%|          | 0/5 [00:00<?, ?it/s]"
      ]
     },
     "metadata": {},
     "output_type": "display_data"
    },
    {
     "data": {
      "application/vnd.jupyter.widget-view+json": {
       "model_id": "",
       "version_major": 2,
       "version_minor": 0
      },
      "text/plain": [
       "inner_fold:   0%|          | 0/5 [00:00<?, ?it/s]"
      ]
     },
     "metadata": {},
     "output_type": "display_data"
    },
    {
     "data": {
      "application/vnd.jupyter.widget-view+json": {
       "model_id": "",
       "version_major": 2,
       "version_minor": 0
      },
      "text/plain": [
       "inner_fold:   0%|          | 0/5 [00:00<?, ?it/s]"
      ]
     },
     "metadata": {},
     "output_type": "display_data"
    },
    {
     "data": {
      "application/vnd.jupyter.widget-view+json": {
       "model_id": "",
       "version_major": 2,
       "version_minor": 0
      },
      "text/plain": [
       "inner_fold:   0%|          | 0/5 [00:00<?, ?it/s]"
      ]
     },
     "metadata": {},
     "output_type": "display_data"
    },
    {
     "data": {
      "application/vnd.jupyter.widget-view+json": {
       "model_id": "",
       "version_major": 2,
       "version_minor": 0
      },
      "text/plain": [
       "inner_fold:   0%|          | 0/5 [00:00<?, ?it/s]"
      ]
     },
     "metadata": {},
     "output_type": "display_data"
    },
    {
     "data": {
      "application/vnd.jupyter.widget-view+json": {
       "model_id": "",
       "version_major": 2,
       "version_minor": 0
      },
      "text/plain": [
       "inner_fold:   0%|          | 0/5 [00:00<?, ?it/s]"
      ]
     },
     "metadata": {},
     "output_type": "display_data"
    },
    {
     "data": {
      "application/vnd.jupyter.widget-view+json": {
       "model_id": "",
       "version_major": 2,
       "version_minor": 0
      },
      "text/plain": [
       "inner_fold:   0%|          | 0/5 [00:00<?, ?it/s]"
      ]
     },
     "metadata": {},
     "output_type": "display_data"
    },
    {
     "data": {
      "application/vnd.jupyter.widget-view+json": {
       "model_id": "",
       "version_major": 2,
       "version_minor": 0
      },
      "text/plain": [
       "inner_fold:   0%|          | 0/5 [00:00<?, ?it/s]"
      ]
     },
     "metadata": {},
     "output_type": "display_data"
    },
    {
     "data": {
      "application/vnd.jupyter.widget-view+json": {
       "model_id": "",
       "version_major": 2,
       "version_minor": 0
      },
      "text/plain": [
       "inner_fold:   0%|          | 0/5 [00:00<?, ?it/s]"
      ]
     },
     "metadata": {},
     "output_type": "display_data"
    },
    {
     "data": {
      "application/vnd.jupyter.widget-view+json": {
       "model_id": "",
       "version_major": 2,
       "version_minor": 0
      },
      "text/plain": [
       "inner_fold:   0%|          | 0/5 [00:00<?, ?it/s]"
      ]
     },
     "metadata": {},
     "output_type": "display_data"
    },
    {
     "data": {
      "application/vnd.jupyter.widget-view+json": {
       "model_id": "",
       "version_major": 2,
       "version_minor": 0
      },
      "text/plain": [
       "inner_fold:   0%|          | 0/5 [00:00<?, ?it/s]"
      ]
     },
     "metadata": {},
     "output_type": "display_data"
    },
    {
     "data": {
      "application/vnd.jupyter.widget-view+json": {
       "model_id": "",
       "version_major": 2,
       "version_minor": 0
      },
      "text/plain": [
       "inner_fold:   0%|          | 0/5 [00:00<?, ?it/s]"
      ]
     },
     "metadata": {},
     "output_type": "display_data"
    },
    {
     "data": {
      "application/vnd.jupyter.widget-view+json": {
       "model_id": "",
       "version_major": 2,
       "version_minor": 0
      },
      "text/plain": [
       "inner_fold:   0%|          | 0/5 [00:00<?, ?it/s]"
      ]
     },
     "metadata": {},
     "output_type": "display_data"
    },
    {
     "data": {
      "application/vnd.jupyter.widget-view+json": {
       "model_id": "",
       "version_major": 2,
       "version_minor": 0
      },
      "text/plain": [
       "inner_fold:   0%|          | 0/5 [00:00<?, ?it/s]"
      ]
     },
     "metadata": {},
     "output_type": "display_data"
    },
    {
     "data": {
      "application/vnd.jupyter.widget-view+json": {
       "model_id": "",
       "version_major": 2,
       "version_minor": 0
      },
      "text/plain": [
       "inner_fold:   0%|          | 0/5 [00:00<?, ?it/s]"
      ]
     },
     "metadata": {},
     "output_type": "display_data"
    },
    {
     "data": {
      "application/vnd.jupyter.widget-view+json": {
       "model_id": "",
       "version_major": 2,
       "version_minor": 0
      },
      "text/plain": [
       "inner_fold:   0%|          | 0/5 [00:00<?, ?it/s]"
      ]
     },
     "metadata": {},
     "output_type": "display_data"
    },
    {
     "data": {
      "application/vnd.jupyter.widget-view+json": {
       "model_id": "",
       "version_major": 2,
       "version_minor": 0
      },
      "text/plain": [
       "inner_fold:   0%|          | 0/5 [00:00<?, ?it/s]"
      ]
     },
     "metadata": {},
     "output_type": "display_data"
    },
    {
     "data": {
      "application/vnd.jupyter.widget-view+json": {
       "model_id": "",
       "version_major": 2,
       "version_minor": 0
      },
      "text/plain": [
       "inner_fold:   0%|          | 0/5 [00:00<?, ?it/s]"
      ]
     },
     "metadata": {},
     "output_type": "display_data"
    },
    {
     "data": {
      "application/vnd.jupyter.widget-view+json": {
       "model_id": "fee4a88e21a349388bdf6ce26b2a1da0",
       "version_major": 2,
       "version_minor": 0
      },
      "text/plain": [
       "params:   0%|          | 0/20 [00:00<?, ?it/s]"
      ]
     },
     "metadata": {},
     "output_type": "display_data"
    },
    {
     "data": {
      "application/vnd.jupyter.widget-view+json": {
       "model_id": "",
       "version_major": 2,
       "version_minor": 0
      },
      "text/plain": [
       "inner_fold:   0%|          | 0/5 [00:00<?, ?it/s]"
      ]
     },
     "metadata": {},
     "output_type": "display_data"
    },
    {
     "data": {
      "application/vnd.jupyter.widget-view+json": {
       "model_id": "",
       "version_major": 2,
       "version_minor": 0
      },
      "text/plain": [
       "inner_fold:   0%|          | 0/5 [00:00<?, ?it/s]"
      ]
     },
     "metadata": {},
     "output_type": "display_data"
    },
    {
     "data": {
      "application/vnd.jupyter.widget-view+json": {
       "model_id": "",
       "version_major": 2,
       "version_minor": 0
      },
      "text/plain": [
       "inner_fold:   0%|          | 0/5 [00:00<?, ?it/s]"
      ]
     },
     "metadata": {},
     "output_type": "display_data"
    },
    {
     "data": {
      "application/vnd.jupyter.widget-view+json": {
       "model_id": "",
       "version_major": 2,
       "version_minor": 0
      },
      "text/plain": [
       "inner_fold:   0%|          | 0/5 [00:00<?, ?it/s]"
      ]
     },
     "metadata": {},
     "output_type": "display_data"
    },
    {
     "data": {
      "application/vnd.jupyter.widget-view+json": {
       "model_id": "",
       "version_major": 2,
       "version_minor": 0
      },
      "text/plain": [
       "inner_fold:   0%|          | 0/5 [00:00<?, ?it/s]"
      ]
     },
     "metadata": {},
     "output_type": "display_data"
    },
    {
     "data": {
      "application/vnd.jupyter.widget-view+json": {
       "model_id": "",
       "version_major": 2,
       "version_minor": 0
      },
      "text/plain": [
       "inner_fold:   0%|          | 0/5 [00:00<?, ?it/s]"
      ]
     },
     "metadata": {},
     "output_type": "display_data"
    },
    {
     "data": {
      "application/vnd.jupyter.widget-view+json": {
       "model_id": "",
       "version_major": 2,
       "version_minor": 0
      },
      "text/plain": [
       "inner_fold:   0%|          | 0/5 [00:00<?, ?it/s]"
      ]
     },
     "metadata": {},
     "output_type": "display_data"
    },
    {
     "data": {
      "application/vnd.jupyter.widget-view+json": {
       "model_id": "",
       "version_major": 2,
       "version_minor": 0
      },
      "text/plain": [
       "inner_fold:   0%|          | 0/5 [00:00<?, ?it/s]"
      ]
     },
     "metadata": {},
     "output_type": "display_data"
    },
    {
     "data": {
      "application/vnd.jupyter.widget-view+json": {
       "model_id": "",
       "version_major": 2,
       "version_minor": 0
      },
      "text/plain": [
       "inner_fold:   0%|          | 0/5 [00:00<?, ?it/s]"
      ]
     },
     "metadata": {},
     "output_type": "display_data"
    },
    {
     "data": {
      "application/vnd.jupyter.widget-view+json": {
       "model_id": "",
       "version_major": 2,
       "version_minor": 0
      },
      "text/plain": [
       "inner_fold:   0%|          | 0/5 [00:00<?, ?it/s]"
      ]
     },
     "metadata": {},
     "output_type": "display_data"
    },
    {
     "data": {
      "application/vnd.jupyter.widget-view+json": {
       "model_id": "",
       "version_major": 2,
       "version_minor": 0
      },
      "text/plain": [
       "inner_fold:   0%|          | 0/5 [00:00<?, ?it/s]"
      ]
     },
     "metadata": {},
     "output_type": "display_data"
    },
    {
     "data": {
      "application/vnd.jupyter.widget-view+json": {
       "model_id": "",
       "version_major": 2,
       "version_minor": 0
      },
      "text/plain": [
       "inner_fold:   0%|          | 0/5 [00:00<?, ?it/s]"
      ]
     },
     "metadata": {},
     "output_type": "display_data"
    },
    {
     "data": {
      "application/vnd.jupyter.widget-view+json": {
       "model_id": "",
       "version_major": 2,
       "version_minor": 0
      },
      "text/plain": [
       "inner_fold:   0%|          | 0/5 [00:00<?, ?it/s]"
      ]
     },
     "metadata": {},
     "output_type": "display_data"
    },
    {
     "data": {
      "application/vnd.jupyter.widget-view+json": {
       "model_id": "",
       "version_major": 2,
       "version_minor": 0
      },
      "text/plain": [
       "inner_fold:   0%|          | 0/5 [00:00<?, ?it/s]"
      ]
     },
     "metadata": {},
     "output_type": "display_data"
    },
    {
     "data": {
      "application/vnd.jupyter.widget-view+json": {
       "model_id": "",
       "version_major": 2,
       "version_minor": 0
      },
      "text/plain": [
       "inner_fold:   0%|          | 0/5 [00:00<?, ?it/s]"
      ]
     },
     "metadata": {},
     "output_type": "display_data"
    },
    {
     "data": {
      "application/vnd.jupyter.widget-view+json": {
       "model_id": "",
       "version_major": 2,
       "version_minor": 0
      },
      "text/plain": [
       "inner_fold:   0%|          | 0/5 [00:00<?, ?it/s]"
      ]
     },
     "metadata": {},
     "output_type": "display_data"
    },
    {
     "data": {
      "application/vnd.jupyter.widget-view+json": {
       "model_id": "",
       "version_major": 2,
       "version_minor": 0
      },
      "text/plain": [
       "inner_fold:   0%|          | 0/5 [00:00<?, ?it/s]"
      ]
     },
     "metadata": {},
     "output_type": "display_data"
    },
    {
     "data": {
      "application/vnd.jupyter.widget-view+json": {
       "model_id": "",
       "version_major": 2,
       "version_minor": 0
      },
      "text/plain": [
       "inner_fold:   0%|          | 0/5 [00:00<?, ?it/s]"
      ]
     },
     "metadata": {},
     "output_type": "display_data"
    },
    {
     "data": {
      "application/vnd.jupyter.widget-view+json": {
       "model_id": "",
       "version_major": 2,
       "version_minor": 0
      },
      "text/plain": [
       "inner_fold:   0%|          | 0/5 [00:00<?, ?it/s]"
      ]
     },
     "metadata": {},
     "output_type": "display_data"
    },
    {
     "data": {
      "application/vnd.jupyter.widget-view+json": {
       "model_id": "16b8bea78049489f848bd46cf41164d0",
       "version_major": 2,
       "version_minor": 0
      },
      "text/plain": [
       "inner_fold:   0%|          | 0/5 [00:00<?, ?it/s]"
      ]
     },
     "metadata": {},
     "output_type": "display_data"
    },
    {
     "ename": "KeyboardInterrupt",
     "evalue": "",
     "output_type": "error",
     "traceback": [
      "\u001b[0;31m---------------------------------------------------------------------------\u001b[0m",
      "\u001b[0;31mKeyboardInterrupt\u001b[0m                         Traceback (most recent call last)",
      "\u001b[0;32m/tmp/ipykernel_133135/1251380098.py\u001b[0m in \u001b[0;36m<module>\u001b[0;34m\u001b[0m\n\u001b[1;32m     83\u001b[0m                 )\n\u001b[1;32m     84\u001b[0m                 \u001b[0mstart_fit\u001b[0m \u001b[0;34m=\u001b[0m \u001b[0mtime\u001b[0m\u001b[0;34m.\u001b[0m\u001b[0mtime\u001b[0m\u001b[0;34m(\u001b[0m\u001b[0;34m)\u001b[0m\u001b[0;34m\u001b[0m\u001b[0;34m\u001b[0m\u001b[0m\n\u001b[0;32m---> 85\u001b[0;31m                 \u001b[0mclf\u001b[0m\u001b[0;34m.\u001b[0m\u001b[0mfit\u001b[0m\u001b[0;34m(\u001b[0m\u001b[0mX_train\u001b[0m\u001b[0;34m,\u001b[0m \u001b[0my_train\u001b[0m\u001b[0;34m,\u001b[0m \u001b[0ms_train\u001b[0m\u001b[0;34m)\u001b[0m\u001b[0;34m\u001b[0m\u001b[0;34m\u001b[0m\u001b[0m\n\u001b[0m\u001b[1;32m     86\u001b[0m                 \u001b[0mclf\u001b[0m\u001b[0;34m.\u001b[0m\u001b[0mfit_time\u001b[0m \u001b[0;34m=\u001b[0m \u001b[0mtime\u001b[0m\u001b[0;34m.\u001b[0m\u001b[0mtime\u001b[0m\u001b[0;34m(\u001b[0m\u001b[0;34m)\u001b[0m \u001b[0;34m-\u001b[0m \u001b[0mstart_fit\u001b[0m \u001b[0;31m#type: ignore\u001b[0m\u001b[0;34m\u001b[0m\u001b[0;34m\u001b[0m\u001b[0m\n\u001b[1;32m     87\u001b[0m                 \u001b[0mjoblib\u001b[0m\u001b[0;34m.\u001b[0m\u001b[0mdump\u001b[0m\u001b[0;34m(\u001b[0m\u001b[0mclf\u001b[0m\u001b[0;34m,\u001b[0m \u001b[0mfilepath_\u001b[0m \u001b[0;34m+\u001b[0m \u001b[0;34m'.pkl'\u001b[0m\u001b[0;34m)\u001b[0m\u001b[0;34m\u001b[0m\u001b[0;34m\u001b[0m\u001b[0m\n",
      "\u001b[0;32m/data/bruingjde/on-going/portcall/src/frf.py\u001b[0m in \u001b[0;36mfit\u001b[0;34m(self, X, y, s, verbose)\u001b[0m\n\u001b[1;32m    751\u001b[0m         \u001b[0mdts\u001b[0m \u001b[0;34m=\u001b[0m \u001b[0mself\u001b[0m\u001b[0;34m.\u001b[0m\u001b[0mtrees\u001b[0m\u001b[0;34m\u001b[0m\u001b[0;34m\u001b[0m\u001b[0m\n\u001b[1;32m    752\u001b[0m         \u001b[0mdt_batches\u001b[0m \u001b[0;34m=\u001b[0m \u001b[0mlist\u001b[0m\u001b[0;34m(\u001b[0m\u001b[0mbatch\u001b[0m\u001b[0;34m(\u001b[0m\u001b[0mdts\u001b[0m\u001b[0;34m,\u001b[0m \u001b[0mn_jobs\u001b[0m\u001b[0;34m=\u001b[0m\u001b[0mself\u001b[0m\u001b[0;34m.\u001b[0m\u001b[0mn_jobs\u001b[0m\u001b[0;34m)\u001b[0m\u001b[0;34m)\u001b[0m\u001b[0;34m\u001b[0m\u001b[0;34m\u001b[0m\u001b[0m\n\u001b[0;32m--> 753\u001b[0;31m         fit_dt_batches = Parallel(n_jobs=self.n_jobs)(\n\u001b[0m\u001b[1;32m    754\u001b[0m             delayed(fit_trees_parallel)(\n\u001b[1;32m    755\u001b[0m                 \u001b[0mi\u001b[0m\u001b[0;34m,\u001b[0m\u001b[0;34m\u001b[0m\u001b[0;34m\u001b[0m\u001b[0m\n",
      "\u001b[0;32m/data/bruingjde/miniconda3/lib/python3.9/site-packages/joblib/parallel.py\u001b[0m in \u001b[0;36m__call__\u001b[0;34m(self, iterable)\u001b[0m\n\u001b[1;32m   1052\u001b[0m \u001b[0;34m\u001b[0m\u001b[0m\n\u001b[1;32m   1053\u001b[0m             \u001b[0;32mwith\u001b[0m \u001b[0mself\u001b[0m\u001b[0;34m.\u001b[0m\u001b[0m_backend\u001b[0m\u001b[0;34m.\u001b[0m\u001b[0mretrieval_context\u001b[0m\u001b[0;34m(\u001b[0m\u001b[0;34m)\u001b[0m\u001b[0;34m:\u001b[0m\u001b[0;34m\u001b[0m\u001b[0;34m\u001b[0m\u001b[0m\n\u001b[0;32m-> 1054\u001b[0;31m                 \u001b[0mself\u001b[0m\u001b[0;34m.\u001b[0m\u001b[0mretrieve\u001b[0m\u001b[0;34m(\u001b[0m\u001b[0;34m)\u001b[0m\u001b[0;34m\u001b[0m\u001b[0;34m\u001b[0m\u001b[0m\n\u001b[0m\u001b[1;32m   1055\u001b[0m             \u001b[0;31m# Make sure that we get a last message telling us we are done\u001b[0m\u001b[0;34m\u001b[0m\u001b[0;34m\u001b[0m\u001b[0m\n\u001b[1;32m   1056\u001b[0m             \u001b[0melapsed_time\u001b[0m \u001b[0;34m=\u001b[0m \u001b[0mtime\u001b[0m\u001b[0;34m.\u001b[0m\u001b[0mtime\u001b[0m\u001b[0;34m(\u001b[0m\u001b[0;34m)\u001b[0m \u001b[0;34m-\u001b[0m \u001b[0mself\u001b[0m\u001b[0;34m.\u001b[0m\u001b[0m_start_time\u001b[0m\u001b[0;34m\u001b[0m\u001b[0;34m\u001b[0m\u001b[0m\n",
      "\u001b[0;32m/data/bruingjde/miniconda3/lib/python3.9/site-packages/joblib/parallel.py\u001b[0m in \u001b[0;36mretrieve\u001b[0;34m(self)\u001b[0m\n\u001b[1;32m    931\u001b[0m             \u001b[0;32mtry\u001b[0m\u001b[0;34m:\u001b[0m\u001b[0;34m\u001b[0m\u001b[0;34m\u001b[0m\u001b[0m\n\u001b[1;32m    932\u001b[0m                 \u001b[0;32mif\u001b[0m \u001b[0mgetattr\u001b[0m\u001b[0;34m(\u001b[0m\u001b[0mself\u001b[0m\u001b[0;34m.\u001b[0m\u001b[0m_backend\u001b[0m\u001b[0;34m,\u001b[0m \u001b[0;34m'supports_timeout'\u001b[0m\u001b[0;34m,\u001b[0m \u001b[0;32mFalse\u001b[0m\u001b[0;34m)\u001b[0m\u001b[0;34m:\u001b[0m\u001b[0;34m\u001b[0m\u001b[0;34m\u001b[0m\u001b[0m\n\u001b[0;32m--> 933\u001b[0;31m                     \u001b[0mself\u001b[0m\u001b[0;34m.\u001b[0m\u001b[0m_output\u001b[0m\u001b[0;34m.\u001b[0m\u001b[0mextend\u001b[0m\u001b[0;34m(\u001b[0m\u001b[0mjob\u001b[0m\u001b[0;34m.\u001b[0m\u001b[0mget\u001b[0m\u001b[0;34m(\u001b[0m\u001b[0mtimeout\u001b[0m\u001b[0;34m=\u001b[0m\u001b[0mself\u001b[0m\u001b[0;34m.\u001b[0m\u001b[0mtimeout\u001b[0m\u001b[0;34m)\u001b[0m\u001b[0;34m)\u001b[0m\u001b[0;34m\u001b[0m\u001b[0;34m\u001b[0m\u001b[0m\n\u001b[0m\u001b[1;32m    934\u001b[0m                 \u001b[0;32melse\u001b[0m\u001b[0;34m:\u001b[0m\u001b[0;34m\u001b[0m\u001b[0;34m\u001b[0m\u001b[0m\n\u001b[1;32m    935\u001b[0m                     \u001b[0mself\u001b[0m\u001b[0;34m.\u001b[0m\u001b[0m_output\u001b[0m\u001b[0;34m.\u001b[0m\u001b[0mextend\u001b[0m\u001b[0;34m(\u001b[0m\u001b[0mjob\u001b[0m\u001b[0;34m.\u001b[0m\u001b[0mget\u001b[0m\u001b[0;34m(\u001b[0m\u001b[0;34m)\u001b[0m\u001b[0;34m)\u001b[0m\u001b[0;34m\u001b[0m\u001b[0;34m\u001b[0m\u001b[0m\n",
      "\u001b[0;32m/data/bruingjde/miniconda3/lib/python3.9/site-packages/joblib/_parallel_backends.py\u001b[0m in \u001b[0;36mwrap_future_result\u001b[0;34m(future, timeout)\u001b[0m\n\u001b[1;32m    540\u001b[0m         AsyncResults.get from multiprocessing.\"\"\"\n\u001b[1;32m    541\u001b[0m         \u001b[0;32mtry\u001b[0m\u001b[0;34m:\u001b[0m\u001b[0;34m\u001b[0m\u001b[0;34m\u001b[0m\u001b[0m\n\u001b[0;32m--> 542\u001b[0;31m             \u001b[0;32mreturn\u001b[0m \u001b[0mfuture\u001b[0m\u001b[0;34m.\u001b[0m\u001b[0mresult\u001b[0m\u001b[0;34m(\u001b[0m\u001b[0mtimeout\u001b[0m\u001b[0;34m=\u001b[0m\u001b[0mtimeout\u001b[0m\u001b[0;34m)\u001b[0m\u001b[0;34m\u001b[0m\u001b[0;34m\u001b[0m\u001b[0m\n\u001b[0m\u001b[1;32m    543\u001b[0m         \u001b[0;32mexcept\u001b[0m \u001b[0mCfTimeoutError\u001b[0m \u001b[0;32mas\u001b[0m \u001b[0me\u001b[0m\u001b[0;34m:\u001b[0m\u001b[0;34m\u001b[0m\u001b[0;34m\u001b[0m\u001b[0m\n\u001b[1;32m    544\u001b[0m             \u001b[0;32mraise\u001b[0m \u001b[0mTimeoutError\u001b[0m \u001b[0;32mfrom\u001b[0m \u001b[0me\u001b[0m\u001b[0;34m\u001b[0m\u001b[0;34m\u001b[0m\u001b[0m\n",
      "\u001b[0;32m/data/bruingjde/miniconda3/lib/python3.9/concurrent/futures/_base.py\u001b[0m in \u001b[0;36mresult\u001b[0;34m(self, timeout)\u001b[0m\n\u001b[1;32m    438\u001b[0m                     \u001b[0;32mreturn\u001b[0m \u001b[0mself\u001b[0m\u001b[0;34m.\u001b[0m\u001b[0m__get_result\u001b[0m\u001b[0;34m(\u001b[0m\u001b[0;34m)\u001b[0m\u001b[0;34m\u001b[0m\u001b[0;34m\u001b[0m\u001b[0m\n\u001b[1;32m    439\u001b[0m \u001b[0;34m\u001b[0m\u001b[0m\n\u001b[0;32m--> 440\u001b[0;31m                 \u001b[0mself\u001b[0m\u001b[0;34m.\u001b[0m\u001b[0m_condition\u001b[0m\u001b[0;34m.\u001b[0m\u001b[0mwait\u001b[0m\u001b[0;34m(\u001b[0m\u001b[0mtimeout\u001b[0m\u001b[0;34m)\u001b[0m\u001b[0;34m\u001b[0m\u001b[0;34m\u001b[0m\u001b[0m\n\u001b[0m\u001b[1;32m    441\u001b[0m \u001b[0;34m\u001b[0m\u001b[0m\n\u001b[1;32m    442\u001b[0m                 \u001b[0;32mif\u001b[0m \u001b[0mself\u001b[0m\u001b[0;34m.\u001b[0m\u001b[0m_state\u001b[0m \u001b[0;32min\u001b[0m \u001b[0;34m[\u001b[0m\u001b[0mCANCELLED\u001b[0m\u001b[0;34m,\u001b[0m \u001b[0mCANCELLED_AND_NOTIFIED\u001b[0m\u001b[0;34m]\u001b[0m\u001b[0;34m:\u001b[0m\u001b[0;34m\u001b[0m\u001b[0;34m\u001b[0m\u001b[0m\n",
      "\u001b[0;32m/data/bruingjde/miniconda3/lib/python3.9/threading.py\u001b[0m in \u001b[0;36mwait\u001b[0;34m(self, timeout)\u001b[0m\n\u001b[1;32m    310\u001b[0m         \u001b[0;32mtry\u001b[0m\u001b[0;34m:\u001b[0m    \u001b[0;31m# restore state no matter what (e.g., KeyboardInterrupt)\u001b[0m\u001b[0;34m\u001b[0m\u001b[0;34m\u001b[0m\u001b[0m\n\u001b[1;32m    311\u001b[0m             \u001b[0;32mif\u001b[0m \u001b[0mtimeout\u001b[0m \u001b[0;32mis\u001b[0m \u001b[0;32mNone\u001b[0m\u001b[0;34m:\u001b[0m\u001b[0;34m\u001b[0m\u001b[0;34m\u001b[0m\u001b[0m\n\u001b[0;32m--> 312\u001b[0;31m                 \u001b[0mwaiter\u001b[0m\u001b[0;34m.\u001b[0m\u001b[0macquire\u001b[0m\u001b[0;34m(\u001b[0m\u001b[0;34m)\u001b[0m\u001b[0;34m\u001b[0m\u001b[0;34m\u001b[0m\u001b[0m\n\u001b[0m\u001b[1;32m    313\u001b[0m                 \u001b[0mgotit\u001b[0m \u001b[0;34m=\u001b[0m \u001b[0;32mTrue\u001b[0m\u001b[0;34m\u001b[0m\u001b[0;34m\u001b[0m\u001b[0m\n\u001b[1;32m    314\u001b[0m             \u001b[0;32melse\u001b[0m\u001b[0;34m:\u001b[0m\u001b[0;34m\u001b[0m\u001b[0;34m\u001b[0m\u001b[0m\n",
      "\u001b[0;31mKeyboardInterrupt\u001b[0m: "
     ]
    }
   ],
   "source": [
    "X, y, s = src.get_Xys()\n",
    "y = y>0\n",
    "ys = y + 3*s\n",
    "\n",
    "skf = sklearn.model_selection.StratifiedKFold(shuffle=True, random_state=42)\n",
    "folds = list(skf.split(X=X, y=ys))\n",
    "\n",
    "params = list(\n",
    "    enumerate(\n",
    "        [(int(max_depth), n_bins) \n",
    "         for max_depth in np.arange(1, 11) for n_bins in (2, 10)]\n",
    "    )\n",
    ")\n",
    "\n",
    "cv = sklearn.model_selection.StratifiedKFold(shuffle=True, random_state=42)\n",
    "\n",
    "for orthogonality in tqdm(np.linspace(0, 1, 11), position=0):\n",
    "    outer_splits_ = list(enumerate(cv.split(X=X, y=ys)))\n",
    "    pbar_outer_fold_ = tqdm(outer_splits_, total=5, leave=False, \n",
    "                            desc='outer_fold', position=1)\n",
    "    for outer_fold, (trainval_indices, test_indices) in tqdm(outer_splits_, leave=False, position=1)\n",
    "        X_trainval = X[trainval_indices]\n",
    "        y_trainval = y[trainval_indices]\n",
    "        s_trainval = s[trainval_indices]\n",
    "        ys_trainval = ys[trainval_indices]\n",
    "        X_test = X[test_indices]\n",
    "        y_test = y[test_indices]\n",
    "        s_test = s[test_indices]\n",
    "    \n",
    "        for param_index, (max_depth, n_bins) in tqdm(params, position=2):\n",
    "            assert isinstance(n_bins, int)\n",
    "            assert isinstance(max_depth, int)\n",
    "            params_ = {'max_depth': max_depth, 'n_bins': n_bins}\n",
    "            pbar_params_.set_postfix(params_)\n",
    "            \n",
    "            param_performance_ = list()\n",
    "            inner_splits_ = enumerate(cv.split(X=X_trainval, y=ys_trainval))\n",
    "            pbar_inner_fold_ = tqdm(inner_splits_, total=5, leave=False, \n",
    "                                    position=3, desc='inner_fold')\n",
    "            for inner_fold, (train_indices, val_indices) in pbar_inner_fold_:              \n",
    "                filepath_ = f'cache/FRF_v3_B/{max_depth}-{orthogonality:.2f}-{n_bins}-{outer_fold}-{inner_fold}'\n",
    "                if os.path.isfile(filepath_ + '.pkl'):\n",
    "                    continue\n",
    "                X_train = X_trainval[train_indices]\n",
    "                y_train = y_trainval[train_indices]\n",
    "                s_train = s_trainval[train_indices]\n",
    "                X_val = X_trainval[val_indices]\n",
    "                y_val = y_trainval[val_indices]\n",
    "                s_val = s_trainval[val_indices]\n",
    "\n",
    "                vt = sklearn.feature_selection.VarianceThreshold()\n",
    "                vt.fit(X_train)\n",
    "                X_train = vt.transform(X_train)\n",
    "                X_val = vt.transform(X_val) \n",
    "\n",
    "                clf = src.FairRandomForestClassifier(\n",
    "                    n_estimators=100, \n",
    "                    n_jobs=100, \n",
    "                    orthogonality=orthogonality,\n",
    "                    **params_\n",
    "                )\n",
    "                start_fit = time.time()\n",
    "                clf.fit(X_train, y_train, s_train)\n",
    "                clf.fit_time = time.time() - start_fit #type: ignore\n",
    "                joblib.dump(clf, filepath_ + '.pkl')           "
   ]
  },
  {
   "cell_type": "markdown",
   "id": "35ed1598-49fa-4714-9124-cd1d683e75f0",
   "metadata": {},
   "source": [
    "# Predict"
   ]
  },
  {
   "cell_type": "code",
   "execution_count": null,
   "id": "b7cb6d47-bf51-442a-8e82-d016ecf19d6e",
   "metadata": {},
   "outputs": [],
   "source": [
    "import json\n",
    "import os\n",
    "import time\n",
    "\n",
    "import joblib\n",
    "import numpy as np\n",
    "import pandas as pd\n",
    "import sklearn.ensemble\n",
    "import sklearn.feature_selection\n",
    "import sklearn.metrics\n",
    "import sklearn.model_selection\n",
    "from tqdm.auto import tqdm\n",
    "\n",
    "import src\n",
    "\n",
    "X, y, s = src.get_Xys()\n",
    "y = y > 0\n",
    "ys = y + 3*s\n",
    "\n",
    "skf = sklearn.model_selection.StratifiedKFold(shuffle=True, random_state=42)\n",
    "folds = list(skf.split(X=X, y=ys))\n",
    "\n",
    "params = [\n",
    "    (int(max_depth), n_bins)\n",
    "    for max_depth in np.arange(1, 11)\n",
    "    for n_bins in [2]\n",
    "]\n",
    "\n",
    "cv = sklearn.model_selection.StratifiedKFold(shuffle=True, random_state=42)\n",
    "\n",
    "pbar_orthogonality_ = tqdm(np.linspace(0, 1, 11), desc='orthogonality', \n",
    "                           position=0)\n",
    "for orthogonality in pbar_orthogonality_:\n",
    "    pbar_orthogonality_.set_postfix({'orthogonality': orthogonality})\n",
    "    \n",
    "    outer_splits_ = enumerate(cv.split(X=X, y=ys))\n",
    "    pbar_outer_fold_ = tqdm(outer_splits_, total=5, leave=False, \n",
    "                            desc='outer_fold', position=1)\n",
    "    for outer_fold, (trainval_indices, test_indices) in pbar_outer_fold_:\n",
    "        X_trainval = X[trainval_indices]\n",
    "        y_trainval = y[trainval_indices]\n",
    "        s_trainval = s[trainval_indices]\n",
    "        ys_trainval = ys[trainval_indices]\n",
    "        X_test = X[test_indices]\n",
    "        y_test = y[test_indices]\n",
    "        s_test = s[test_indices]\n",
    "    \n",
    "        params_performance_ = []\n",
    "        pbar_params_ = tqdm(enumerate(params), leave=False, total=len(params),\n",
    "                            desc='params', position=2)\n",
    "        for param_index, (max_depth, n_bins) in pbar_params_:\n",
    "            assert isinstance(n_bins, int)\n",
    "            assert isinstance(max_depth, int)\n",
    "            params_ = {'max_depth': max_depth, 'n_bins': n_bins}\n",
    "            pbar_params_.set_postfix(params_)\n",
    "            param_performance_ = list()\n",
    "            inner_splits_ = enumerate(cv.split(X=X_trainval, y=ys_trainval))\n",
    "            pbar_inner_fold_ = tqdm(inner_splits_, total=5, leave=False, \n",
    "                                    position=3, desc='inner_fold')\n",
    "            for inner_fold, (train_indices, val_indices) in pbar_inner_fold_:\n",
    "                filepath_ = f'cache/FRF_v3_B/{max_depth}-{orthogonality:.2f}-{n_bins}-{outer_fold}-{inner_fold}'\n",
    "                if os.path.isfile(filepath_ + '.npy'):\n",
    "                    continue\n",
    "                X_train = X_trainval[train_indices]\n",
    "                X_val = X_trainval[val_indices]\n",
    "                \n",
    "                vt = sklearn.feature_selection.VarianceThreshold()\n",
    "                vt.fit(X_train)\n",
    "                X_train = vt.transform(X_train)\n",
    "                X_val = vt.transform(X_val)                 \n",
    "                \n",
    "                assert os.path.isfile(filepath_ + '.pkl')\n",
    "                clf = joblib.load(filepath_ + '.pkl')\n",
    "                y_score = clf.predict_proba(X_val)[:,1] #type: ignore\n",
    "                np.save(filepath_ + '.npy', y_score)"
   ]
  },
  {
   "cell_type": "markdown",
   "id": "2d814fba-8f3d-463b-aeee-e22930811906",
   "metadata": {},
   "source": [
    "# Measure performance"
   ]
  },
  {
   "cell_type": "code",
   "execution_count": null,
   "id": "a1242604-2e9d-4552-af7f-47e7c6b0c4a5",
   "metadata": {
    "tags": []
   },
   "outputs": [],
   "source": [
    "import json\n",
    "import os\n",
    "\n",
    "import joblib\n",
    "import numpy as np\n",
    "import sklearn.model_selection\n",
    "from tqdm.auto import tqdm\n",
    "\n",
    "import src\n",
    "\n",
    "overwrite=True\n",
    "\n",
    "X, y, s = src.get_Xys()\n",
    "y = y>0\n",
    "ys = y + 3*s\n",
    "\n",
    "skf = sklearn.model_selection.StratifiedKFold(shuffle=True, random_state=42)\n",
    "folds = list(skf.split(X=X, y=ys))\n",
    "\n",
    "iterator = [\n",
    "    (ortho, int(max_depth), n_bins, fold, train_idx, test_idx) \n",
    "    for ortho in np.linspace(0, 1, 11)\n",
    "    for max_depth in np.arange(1, 11)\n",
    "    for n_bins in [2]\n",
    "    for fold, (train_idx, test_idx) in enumerate(folds)\n",
    "]\n",
    "\n",
    "def get_measures(y_score, y_test, s_test, threshold):\n",
    "    return dict(\n",
    "        tp_b = (y_score >= threshold)[s_test & y_test].sum(),\n",
    "        fn_b = (y_score >= threshold)[s_test & ~y_test].sum(),\n",
    "        fp_b = (y_score < threshold)[s_test & y_test].sum(),\n",
    "        tn_b = (y_score < threshold)[s_test & ~y_test].sum(),\n",
    "        tp_w = (y_score >= threshold)[~s_test & y_test].sum(),\n",
    "        fn_w = (y_score >= threshold)[~s_test & ~y_test].sum(),\n",
    "        fp_w = (y_score < threshold)[~s_test & y_test].sum(),\n",
    "        tn_w = (y_score < threshold)[~s_test & ~y_test].sum(),\n",
    "        ppr_b = (y_score >= threshold)[s_test].mean(),\n",
    "        ppr_w = (y_score >= threshold)[~s_test].mean(),\n",
    "        disparate_impact = ppr_b / ppr_w if ppr_w != 0 else np.nan,\n",
    "        disparate_impact_ε = 1 - disparate_impact,\n",
    "        fpr_w = (y_score < threshold)[~s_test & y_test].mean(),\n",
    "        fpr_b = (y_score < threshold)[s_test & y_test].mean(),\n",
    "        tpr_w = (y_score >= threshold)[~s_test & y_test].mean(),\n",
    "        tpr_b = (y_score >= threshold)[s_test & y_test].mean(),\n",
    "        equalized_odds_fpr = abs(fpr_w-fpr_b),\n",
    "        equalized_odds_tpr = abs(tpr_w-tpr_b)\n",
    "    )\n",
    "        \n",
    "\n",
    "threshold_independent_measures = list()\n",
    "threshold_quantiled_measures = list()\n",
    "\n",
    "for ortho, max_depth, n_bins, fold, train_idx, test_idx in tqdm(iterator):\n",
    "    assert isinstance(max_depth, int)\n",
    "    assert isinstance(n_bins, int)\n",
    "    filepath = f'cache/FRF_v3_B/{max_depth}-{ortho:.2f}-{n_bins}-{fold}'\n",
    "    params = dict(fold=fold, max_depth=max_depth, orthogonality=ortho,\n",
    "                  n_bins)\n",
    "\n",
    "    if not os.path.isfile(filepath + '.json') or overwrite:\n",
    "        y_test, s_test = y[test_idx], s[test_idx]\n",
    "\n",
    "        assert os.path.isfile(filepath + '.npy')\n",
    "        y_score = np.load(filepath + '.npy')\n",
    "        \n",
    "        # Reverse score and y_test!!\n",
    "        y_score = 1 - y_score\n",
    "        y_test = (1-y_test).astype(bool)\n",
    "        \n",
    "        auc_y = sklearn.metrics.roc_auc_score(y_test, y_score)\n",
    "        auc_s = sklearn.metrics.roc_auc_score(s_test, y_score)\n",
    "        auc_s = max(auc_s, 1-auc_s)\n",
    "        threshold_independent_measures.append(\n",
    "            {**params, 'auc_y': auc_y, 'auc_s': auc_s}\n",
    "        )\n",
    "        for threshold_quantile in [.1, .3, .5, .7, .9]:\n",
    "            threshold = np.quantile(y_score, threshold_quantile)\n",
    "            threshold_dependent_measures.append(\n",
    "                {**params, **get_measure(y_score, y_test, s_test, threshold)}\n",
    "            )\n",
    "        \n",
    "        threshold = np.sort(y_score)[np.sum(~y_test)]\n",
    "\n",
    "        result_this_run_ = dict(\n",
    "            fold=fold, max_depth=max_depth, orthogonality=ortho, \n",
    "            n_bins=n_bins, auc_y=auc_y, auc_s=auc_s, ppr_b=ppr_b, ppr_w=ppr_w,\n",
    "            disparate_impact=disparate_impact, fpr_b=fpr_b, fpr_w=fpr_w, \n",
    "            tpr_w=tpr_w, tpr_b=tpr_b\n",
    "        )\n",
    "        with open(filepath + '.json', 'w') as file:\n",
    "            json.dump(result_this_run_, file)\n",
    "    else:\n",
    "        with open(filepath + '.json') as file:\n",
    "            result_this_run_ = json.load(file)\n",
    "    results.append(result_this_run_)\n",
    "joblib.dump(results, 'cache/FRF_v3_B_nested.pkl')"
   ]
  },
  {
   "cell_type": "code",
   "execution_count": 117,
   "id": "5495f857-94ca-43f7-875b-88a82958233e",
   "metadata": {
    "execution": {
     "iopub.execute_input": "2021-11-04T13:05:35.433408Z",
     "iopub.status.busy": "2021-11-04T13:05:35.433088Z",
     "iopub.status.idle": "2021-11-04T13:05:35.456367Z",
     "shell.execute_reply": "2021-11-04T13:05:35.455781Z",
     "shell.execute_reply.started": "2021-11-04T13:05:35.433377Z"
    }
   },
   "outputs": [
    {
     "data": {
      "text/html": [
       "<div>\n",
       "<style scoped>\n",
       "    .dataframe tbody tr th:only-of-type {\n",
       "        vertical-align: middle;\n",
       "    }\n",
       "\n",
       "    .dataframe tbody tr th {\n",
       "        vertical-align: top;\n",
       "    }\n",
       "\n",
       "    .dataframe thead th {\n",
       "        text-align: right;\n",
       "    }\n",
       "</style>\n",
       "<table border=\"1\" class=\"dataframe\">\n",
       "  <thead>\n",
       "    <tr style=\"text-align: right;\">\n",
       "      <th></th>\n",
       "      <th>fold</th>\n",
       "      <th>max_depth</th>\n",
       "      <th>orthogonality</th>\n",
       "      <th>n_bins</th>\n",
       "      <th>auc_y</th>\n",
       "      <th>auc_s</th>\n",
       "      <th>ppr_b</th>\n",
       "      <th>ppr_w</th>\n",
       "      <th>disparate_impact</th>\n",
       "      <th>fpr_b</th>\n",
       "      <th>fpr_w</th>\n",
       "      <th>tpr_w</th>\n",
       "      <th>tpr_b</th>\n",
       "    </tr>\n",
       "  </thead>\n",
       "  <tbody>\n",
       "    <tr>\n",
       "      <th>0</th>\n",
       "      <td>0</td>\n",
       "      <td>1</td>\n",
       "      <td>0.0</td>\n",
       "      <td>2</td>\n",
       "      <td>0.721608</td>\n",
       "      <td>0.596651</td>\n",
       "      <td>0.267081</td>\n",
       "      <td>0.208220</td>\n",
       "      <td>1.282683</td>\n",
       "      <td>0.600000</td>\n",
       "      <td>0.551020</td>\n",
       "      <td>0.448980</td>\n",
       "      <td>0.400000</td>\n",
       "    </tr>\n",
       "    <tr>\n",
       "      <th>1</th>\n",
       "      <td>1</td>\n",
       "      <td>1</td>\n",
       "      <td>0.0</td>\n",
       "      <td>2</td>\n",
       "      <td>0.724247</td>\n",
       "      <td>0.605993</td>\n",
       "      <td>0.309598</td>\n",
       "      <td>0.205551</td>\n",
       "      <td>1.506184</td>\n",
       "      <td>0.553571</td>\n",
       "      <td>0.554908</td>\n",
       "      <td>0.445092</td>\n",
       "      <td>0.446429</td>\n",
       "    </tr>\n",
       "    <tr>\n",
       "      <th>2</th>\n",
       "      <td>2</td>\n",
       "      <td>1</td>\n",
       "      <td>0.0</td>\n",
       "      <td>2</td>\n",
       "      <td>0.723096</td>\n",
       "      <td>0.591829</td>\n",
       "      <td>0.303406</td>\n",
       "      <td>0.205760</td>\n",
       "      <td>1.474563</td>\n",
       "      <td>0.535714</td>\n",
       "      <td>0.559339</td>\n",
       "      <td>0.440661</td>\n",
       "      <td>0.464286</td>\n",
       "    </tr>\n",
       "    <tr>\n",
       "      <th>3</th>\n",
       "      <td>3</td>\n",
       "      <td>1</td>\n",
       "      <td>0.0</td>\n",
       "      <td>2</td>\n",
       "      <td>0.717330</td>\n",
       "      <td>0.564426</td>\n",
       "      <td>0.263158</td>\n",
       "      <td>0.208472</td>\n",
       "      <td>1.262315</td>\n",
       "      <td>0.535714</td>\n",
       "      <td>0.551556</td>\n",
       "      <td>0.448444</td>\n",
       "      <td>0.464286</td>\n",
       "    </tr>\n",
       "    <tr>\n",
       "      <th>4</th>\n",
       "      <td>4</td>\n",
       "      <td>1</td>\n",
       "      <td>0.0</td>\n",
       "      <td>2</td>\n",
       "      <td>0.711633</td>\n",
       "      <td>0.567704</td>\n",
       "      <td>0.301242</td>\n",
       "      <td>0.205968</td>\n",
       "      <td>1.462566</td>\n",
       "      <td>0.464286</td>\n",
       "      <td>0.581712</td>\n",
       "      <td>0.418288</td>\n",
       "      <td>0.535714</td>\n",
       "    </tr>\n",
       "    <tr>\n",
       "      <th>...</th>\n",
       "      <td>...</td>\n",
       "      <td>...</td>\n",
       "      <td>...</td>\n",
       "      <td>...</td>\n",
       "      <td>...</td>\n",
       "      <td>...</td>\n",
       "      <td>...</td>\n",
       "      <td>...</td>\n",
       "      <td>...</td>\n",
       "      <td>...</td>\n",
       "      <td>...</td>\n",
       "      <td>...</td>\n",
       "      <td>...</td>\n",
       "    </tr>\n",
       "    <tr>\n",
       "      <th>545</th>\n",
       "      <td>0</td>\n",
       "      <td>10</td>\n",
       "      <td>1.0</td>\n",
       "      <td>2</td>\n",
       "      <td>0.500000</td>\n",
       "      <td>0.500000</td>\n",
       "      <td>1.000000</td>\n",
       "      <td>1.000000</td>\n",
       "      <td>1.000000</td>\n",
       "      <td>0.000000</td>\n",
       "      <td>0.000000</td>\n",
       "      <td>1.000000</td>\n",
       "      <td>1.000000</td>\n",
       "    </tr>\n",
       "    <tr>\n",
       "      <th>546</th>\n",
       "      <td>1</td>\n",
       "      <td>10</td>\n",
       "      <td>1.0</td>\n",
       "      <td>2</td>\n",
       "      <td>0.500000</td>\n",
       "      <td>0.500000</td>\n",
       "      <td>1.000000</td>\n",
       "      <td>1.000000</td>\n",
       "      <td>1.000000</td>\n",
       "      <td>0.000000</td>\n",
       "      <td>0.000000</td>\n",
       "      <td>1.000000</td>\n",
       "      <td>1.000000</td>\n",
       "    </tr>\n",
       "    <tr>\n",
       "      <th>547</th>\n",
       "      <td>2</td>\n",
       "      <td>10</td>\n",
       "      <td>1.0</td>\n",
       "      <td>2</td>\n",
       "      <td>0.500000</td>\n",
       "      <td>0.500000</td>\n",
       "      <td>1.000000</td>\n",
       "      <td>1.000000</td>\n",
       "      <td>1.000000</td>\n",
       "      <td>0.000000</td>\n",
       "      <td>0.000000</td>\n",
       "      <td>1.000000</td>\n",
       "      <td>1.000000</td>\n",
       "    </tr>\n",
       "    <tr>\n",
       "      <th>548</th>\n",
       "      <td>3</td>\n",
       "      <td>10</td>\n",
       "      <td>1.0</td>\n",
       "      <td>2</td>\n",
       "      <td>0.500000</td>\n",
       "      <td>0.500000</td>\n",
       "      <td>1.000000</td>\n",
       "      <td>1.000000</td>\n",
       "      <td>1.000000</td>\n",
       "      <td>0.000000</td>\n",
       "      <td>0.000000</td>\n",
       "      <td>1.000000</td>\n",
       "      <td>1.000000</td>\n",
       "    </tr>\n",
       "    <tr>\n",
       "      <th>549</th>\n",
       "      <td>4</td>\n",
       "      <td>10</td>\n",
       "      <td>1.0</td>\n",
       "      <td>2</td>\n",
       "      <td>0.500000</td>\n",
       "      <td>0.500000</td>\n",
       "      <td>1.000000</td>\n",
       "      <td>1.000000</td>\n",
       "      <td>1.000000</td>\n",
       "      <td>0.000000</td>\n",
       "      <td>0.000000</td>\n",
       "      <td>1.000000</td>\n",
       "      <td>1.000000</td>\n",
       "    </tr>\n",
       "  </tbody>\n",
       "</table>\n",
       "<p>550 rows × 13 columns</p>\n",
       "</div>"
      ],
      "text/plain": [
       "     fold  max_depth  orthogonality  n_bins     auc_y     auc_s     ppr_b  \\\n",
       "0       0          1            0.0       2  0.721608  0.596651  0.267081   \n",
       "1       1          1            0.0       2  0.724247  0.605993  0.309598   \n",
       "2       2          1            0.0       2  0.723096  0.591829  0.303406   \n",
       "3       3          1            0.0       2  0.717330  0.564426  0.263158   \n",
       "4       4          1            0.0       2  0.711633  0.567704  0.301242   \n",
       "..    ...        ...            ...     ...       ...       ...       ...   \n",
       "545     0         10            1.0       2  0.500000  0.500000  1.000000   \n",
       "546     1         10            1.0       2  0.500000  0.500000  1.000000   \n",
       "547     2         10            1.0       2  0.500000  0.500000  1.000000   \n",
       "548     3         10            1.0       2  0.500000  0.500000  1.000000   \n",
       "549     4         10            1.0       2  0.500000  0.500000  1.000000   \n",
       "\n",
       "        ppr_w  disparate_impact     fpr_b     fpr_w     tpr_w     tpr_b  \n",
       "0    0.208220          1.282683  0.600000  0.551020  0.448980  0.400000  \n",
       "1    0.205551          1.506184  0.553571  0.554908  0.445092  0.446429  \n",
       "2    0.205760          1.474563  0.535714  0.559339  0.440661  0.464286  \n",
       "3    0.208472          1.262315  0.535714  0.551556  0.448444  0.464286  \n",
       "4    0.205968          1.462566  0.464286  0.581712  0.418288  0.535714  \n",
       "..        ...               ...       ...       ...       ...       ...  \n",
       "545  1.000000          1.000000  0.000000  0.000000  1.000000  1.000000  \n",
       "546  1.000000          1.000000  0.000000  0.000000  1.000000  1.000000  \n",
       "547  1.000000          1.000000  0.000000  0.000000  1.000000  1.000000  \n",
       "548  1.000000          1.000000  0.000000  0.000000  1.000000  1.000000  \n",
       "549  1.000000          1.000000  0.000000  0.000000  1.000000  1.000000  \n",
       "\n",
       "[550 rows x 13 columns]"
      ]
     },
     "execution_count": 117,
     "metadata": {},
     "output_type": "execute_result"
    }
   ],
   "source": [
    "data"
   ]
  },
  {
   "cell_type": "code",
   "execution_count": 114,
   "id": "e87ba569-afa6-4100-8a8b-9c772c58a23d",
   "metadata": {
    "execution": {
     "iopub.execute_input": "2021-11-04T12:36:14.199333Z",
     "iopub.status.busy": "2021-11-04T12:36:14.199039Z",
     "iopub.status.idle": "2021-11-04T12:36:14.218432Z",
     "shell.execute_reply": "2021-11-04T12:36:14.217476Z",
     "shell.execute_reply.started": "2021-11-04T12:36:14.199304Z"
    },
    "tags": []
   },
   "outputs": [
    {
     "ename": "AttributeError",
     "evalue": "'numpy.ndarray' object has no attribute 'quantile'",
     "output_type": "error",
     "traceback": [
      "\u001b[0;31m---------------------------------------------------------------------------\u001b[0m",
      "\u001b[0;31mAttributeError\u001b[0m                            Traceback (most recent call last)",
      "\u001b[0;32m/tmp/ipykernel_133135/676044582.py\u001b[0m in \u001b[0;36m<module>\u001b[0;34m\u001b[0m\n\u001b[0;32m----> 1\u001b[0;31m \u001b[0mnp\u001b[0m\u001b[0;34m.\u001b[0m\u001b[0msort\u001b[0m\u001b[0;34m(\u001b[0m\u001b[0my_score\u001b[0m\u001b[0;34m)\u001b[0m\u001b[0;34m.\u001b[0m\u001b[0mquantile\u001b[0m\u001b[0;34m(\u001b[0m\u001b[0;36m0\u001b[0m\u001b[0;34m)\u001b[0m\u001b[0;34m\u001b[0m\u001b[0;34m\u001b[0m\u001b[0m\n\u001b[0m",
      "\u001b[0;31mAttributeError\u001b[0m: 'numpy.ndarray' object has no attribute 'quantile'"
     ]
    }
   ],
   "source": [
    "np.sort(y_score)"
   ]
  },
  {
   "cell_type": "code",
   "execution_count": 116,
   "id": "b5f44c4a-7a1b-4e62-8d6c-f149b3448497",
   "metadata": {
    "execution": {
     "iopub.execute_input": "2021-11-04T12:52:56.189941Z",
     "iopub.status.busy": "2021-11-04T12:52:56.189636Z",
     "iopub.status.idle": "2021-11-04T12:52:56.196408Z",
     "shell.execute_reply": "2021-11-04T12:52:56.195655Z",
     "shell.execute_reply.started": "2021-11-04T12:52:56.189910Z"
    },
    "tags": []
   },
   "outputs": [
    {
     "data": {
      "text/plain": [
       "0.5019437234881562"
      ]
     },
     "execution_count": 116,
     "metadata": {},
     "output_type": "execute_result"
    }
   ],
   "source": [
    "np.quantile(y_score, .1)"
   ]
  },
  {
   "cell_type": "code",
   "execution_count": 131,
   "id": "60c3aeb7-1332-49b0-8e38-9b9f3d589264",
   "metadata": {
    "execution": {
     "iopub.execute_input": "2021-11-03T22:43:21.652983Z",
     "iopub.status.busy": "2021-11-03T22:43:21.651985Z",
     "iopub.status.idle": "2021-11-03T22:43:21.691393Z",
     "shell.execute_reply": "2021-11-03T22:43:21.690791Z",
     "shell.execute_reply.started": "2021-11-03T22:43:21.652937Z"
    },
    "tags": []
   },
   "outputs": [
    {
     "data": {
      "text/plain": [
       "mean    0.671728\n",
       "std     0.012746\n",
       "dtype: float64"
      ]
     },
     "execution_count": 131,
     "metadata": {},
     "output_type": "execute_result"
    }
   ],
   "source": [
    "_, _, s = src.get_Xys(numpy=False)\n",
    "portcalls = joblib.load('data/portcalls_v3.pkl')\n",
    "expert_labels = portcalls.groupby('ship')['risk'].max()\n",
    "\n",
    "result_y = list()\n",
    "result_s = list()\n",
    "for fold, (train_idx, test_idx) in enumerate(folds):\n",
    "    y_score = expert_labels.get(s.iloc[test_idx].index)\n",
    "    result_y.append(sklearn.metrics.roc_auc_score(y[test_idx], 2-y_score))\n",
    "    auc_s = sklearn.metrics.roc_auc_score(s[test_idx], 2-y_score)\n",
    "    result_s.append(max(auc_s, 1-auc_s))\n",
    "pd.Series(result_y).agg(['mean', 'std'])\n",
    "pd.Series(result_s).agg(['mean', 'std'])"
   ]
  },
  {
   "cell_type": "markdown",
   "id": "7b8400ff-1339-4e12-8de2-b498caf7bb0b",
   "metadata": {},
   "source": [
    "# Analysis"
   ]
  },
  {
   "cell_type": "code",
   "execution_count": 104,
   "id": "166b059e-7ff3-420a-9a5e-a5e5744477a8",
   "metadata": {
    "execution": {
     "iopub.execute_input": "2021-11-04T10:59:11.256188Z",
     "iopub.status.busy": "2021-11-04T10:59:11.255987Z",
     "iopub.status.idle": "2021-11-04T10:59:11.600617Z",
     "shell.execute_reply": "2021-11-04T10:59:11.599970Z",
     "shell.execute_reply.started": "2021-11-04T10:59:11.256171Z"
    },
    "tags": []
   },
   "outputs": [
    {
     "name": "stdout",
     "output_type": "stream",
     "text": [
      "base_rate=0.212\n",
      "base_rate_black=0.173\n",
      "base_rate_white=0.215\n",
      "\n",
      "Performance\n"
     ]
    },
    {
     "data": {
      "text/html": [
       "<div>\n",
       "<style scoped>\n",
       "    .dataframe tbody tr th:only-of-type {\n",
       "        vertical-align: middle;\n",
       "    }\n",
       "\n",
       "    .dataframe tbody tr th {\n",
       "        vertical-align: top;\n",
       "    }\n",
       "\n",
       "    .dataframe thead th {\n",
       "        text-align: right;\n",
       "    }\n",
       "</style>\n",
       "<table border=\"1\" class=\"dataframe\">\n",
       "  <thead>\n",
       "    <tr style=\"text-align: right;\">\n",
       "      <th></th>\n",
       "      <th>auc_y</th>\n",
       "      <th>auc_s</th>\n",
       "    </tr>\n",
       "  </thead>\n",
       "  <tbody>\n",
       "    <tr>\n",
       "      <th>mean</th>\n",
       "      <td>0.7782</td>\n",
       "      <td>0.5381</td>\n",
       "    </tr>\n",
       "    <tr>\n",
       "      <th>std</th>\n",
       "      <td>0.0072</td>\n",
       "      <td>0.0116</td>\n",
       "    </tr>\n",
       "  </tbody>\n",
       "</table>\n",
       "</div>"
      ],
      "text/plain": [
       "       auc_y   auc_s\n",
       "mean  0.7782  0.5381\n",
       "std   0.0072  0.0116"
      ]
     },
     "metadata": {},
     "output_type": "display_data"
    }
   ],
   "source": [
    "import matplotlib.pyplot as plt\n",
    "import numpy as np\n",
    "import pandas as pd\n",
    "import seaborn as sns\n",
    "import sklearn.model_selection\n",
    "\n",
    "import src\n",
    "\n",
    "X, y, s = src.get_Xys()\n",
    "y = y==0\n",
    "data = pd.DataFrame(pd.read_pickle('cache/FRF_v3_B_nested.pkl'))\n",
    "\n",
    "base_rate = np.mean(y)\n",
    "print(f\"{base_rate=:.3f}\")\n",
    "base_rate_black = np.mean(y[s])\n",
    "print(f\"{base_rate_black=:.3f}\")\n",
    "base_rate_white = np.mean(y[~s])\n",
    "print(f\"{base_rate_white=:.3f}\")\n",
    "print()\n",
    "print(\"Performance\")\n",
    "performance = (\n",
    "    data\n",
    "    .sort_values('auc_y', ascending=False)\n",
    "    .loc[lambda x: x.orthogonality.round(1) == .7]\n",
    "    .groupby(['fold'])\n",
    "    .first()\n",
    "    .agg({'auc_y': ['mean', 'std'], 'auc_s': ['mean', 'std']})\n",
    ")\n",
    "display(performance.round(4))"
   ]
  },
  {
   "cell_type": "code",
   "execution_count": 105,
   "id": "f4535a2a-99db-4e65-ad93-0f9e1a6446c3",
   "metadata": {
    "execution": {
     "iopub.execute_input": "2021-11-04T10:59:31.402140Z",
     "iopub.status.busy": "2021-11-04T10:59:31.401609Z",
     "iopub.status.idle": "2021-11-04T10:59:31.422432Z",
     "shell.execute_reply": "2021-11-04T10:59:31.421640Z",
     "shell.execute_reply.started": "2021-11-04T10:59:31.402101Z"
    },
    "tags": []
   },
   "outputs": [],
   "source": [
    "selected_params = (\n",
    "    pd.DataFrame(pd.read_pickle('cache/FRF_v3_B_nested.pkl'))\n",
    "    .sort_values('auc_y', ascending=False)\n",
    "    .groupby(['fold', 'orthogonality'])\n",
    "    .first()\n",
    "    .reset_index()\n",
    "    [['fold', 'orthogonality', 'max_depth', 'n_bins']]\n",
    ")\n",
    "selected_params"
   ]
  },
  {
   "cell_type": "code",
   "execution_count": 108,
   "id": "f5c1ca6d-3a2a-4468-a2ee-9aa652da9f1d",
   "metadata": {
    "execution": {
     "iopub.execute_input": "2021-11-04T11:06:31.780417Z",
     "iopub.status.busy": "2021-11-04T11:06:31.780120Z",
     "iopub.status.idle": "2021-11-04T11:06:31.801194Z",
     "shell.execute_reply": "2021-11-04T11:06:31.800571Z",
     "shell.execute_reply.started": "2021-11-04T11:06:31.780388Z"
    },
    "tags": []
   },
   "outputs": [
    {
     "data": {
      "text/html": [
       "<div>\n",
       "<style scoped>\n",
       "    .dataframe tbody tr th:only-of-type {\n",
       "        vertical-align: middle;\n",
       "    }\n",
       "\n",
       "    .dataframe tbody tr th {\n",
       "        vertical-align: top;\n",
       "    }\n",
       "\n",
       "    .dataframe thead th {\n",
       "        text-align: right;\n",
       "    }\n",
       "</style>\n",
       "<table border=\"1\" class=\"dataframe\">\n",
       "  <thead>\n",
       "    <tr style=\"text-align: right;\">\n",
       "      <th></th>\n",
       "      <th>orthogonality</th>\n",
       "      <th>auc_y</th>\n",
       "      <th>auc_s</th>\n",
       "      <th>ppr_b</th>\n",
       "      <th>ppr_w</th>\n",
       "      <th>fpr_b</th>\n",
       "      <th>fpr_w</th>\n",
       "      <th>tpr_w</th>\n",
       "      <th>tpr_b</th>\n",
       "    </tr>\n",
       "  </thead>\n",
       "  <tbody>\n",
       "    <tr>\n",
       "      <th>0</th>\n",
       "      <td>0.0</td>\n",
       "      <td>0.814402</td>\n",
       "      <td>0.626898</td>\n",
       "      <td>0.305665</td>\n",
       "      <td>0.205668</td>\n",
       "      <td>0.419545</td>\n",
       "      <td>0.455465</td>\n",
       "      <td>0.544535</td>\n",
       "      <td>0.580455</td>\n",
       "    </tr>\n",
       "    <tr>\n",
       "      <th>1</th>\n",
       "      <td>0.1</td>\n",
       "      <td>0.813765</td>\n",
       "      <td>0.617525</td>\n",
       "      <td>0.292024</td>\n",
       "      <td>0.206586</td>\n",
       "      <td>0.433896</td>\n",
       "      <td>0.457409</td>\n",
       "      <td>0.542591</td>\n",
       "      <td>0.566104</td>\n",
       "    </tr>\n",
       "    <tr>\n",
       "      <th>2</th>\n",
       "      <td>0.2</td>\n",
       "      <td>0.812861</td>\n",
       "      <td>0.607162</td>\n",
       "      <td>0.282722</td>\n",
       "      <td>0.207212</td>\n",
       "      <td>0.415909</td>\n",
       "      <td>0.462855</td>\n",
       "      <td>0.537145</td>\n",
       "      <td>0.584091</td>\n",
       "    </tr>\n",
       "    <tr>\n",
       "      <th>3</th>\n",
       "      <td>0.3</td>\n",
       "      <td>0.808551</td>\n",
       "      <td>0.595170</td>\n",
       "      <td>0.272173</td>\n",
       "      <td>0.207921</td>\n",
       "      <td>0.433766</td>\n",
       "      <td>0.475301</td>\n",
       "      <td>0.524699</td>\n",
       "      <td>0.566234</td>\n",
       "    </tr>\n",
       "    <tr>\n",
       "      <th>4</th>\n",
       "      <td>0.4</td>\n",
       "      <td>0.804721</td>\n",
       "      <td>0.582492</td>\n",
       "      <td>0.267844</td>\n",
       "      <td>0.208213</td>\n",
       "      <td>0.423052</td>\n",
       "      <td>0.481133</td>\n",
       "      <td>0.518867</td>\n",
       "      <td>0.576948</td>\n",
       "    </tr>\n",
       "    <tr>\n",
       "      <th>5</th>\n",
       "      <td>0.5</td>\n",
       "      <td>0.801250</td>\n",
       "      <td>0.569496</td>\n",
       "      <td>0.253566</td>\n",
       "      <td>0.209173</td>\n",
       "      <td>0.448117</td>\n",
       "      <td>0.486191</td>\n",
       "      <td>0.513809</td>\n",
       "      <td>0.551883</td>\n",
       "    </tr>\n",
       "    <tr>\n",
       "      <th>6</th>\n",
       "      <td>0.6</td>\n",
       "      <td>0.790772</td>\n",
       "      <td>0.554498</td>\n",
       "      <td>0.243644</td>\n",
       "      <td>0.209841</td>\n",
       "      <td>0.480455</td>\n",
       "      <td>0.494749</td>\n",
       "      <td>0.505251</td>\n",
       "      <td>0.519545</td>\n",
       "    </tr>\n",
       "    <tr>\n",
       "      <th>7</th>\n",
       "      <td>0.7</td>\n",
       "      <td>0.778215</td>\n",
       "      <td>0.538136</td>\n",
       "      <td>0.229387</td>\n",
       "      <td>0.210926</td>\n",
       "      <td>0.509026</td>\n",
       "      <td>0.506610</td>\n",
       "      <td>0.493390</td>\n",
       "      <td>0.490974</td>\n",
       "    </tr>\n",
       "    <tr>\n",
       "      <th>8</th>\n",
       "      <td>0.8</td>\n",
       "      <td>0.767133</td>\n",
       "      <td>0.529858</td>\n",
       "      <td>0.230625</td>\n",
       "      <td>0.210717</td>\n",
       "      <td>0.487727</td>\n",
       "      <td>0.511666</td>\n",
       "      <td>0.488334</td>\n",
       "      <td>0.512273</td>\n",
       "    </tr>\n",
       "    <tr>\n",
       "      <th>9</th>\n",
       "      <td>0.9</td>\n",
       "      <td>0.755972</td>\n",
       "      <td>0.527628</td>\n",
       "      <td>0.225052</td>\n",
       "      <td>0.211135</td>\n",
       "      <td>0.530584</td>\n",
       "      <td>0.514000</td>\n",
       "      <td>0.486000</td>\n",
       "      <td>0.469416</td>\n",
       "    </tr>\n",
       "    <tr>\n",
       "      <th>10</th>\n",
       "      <td>1.0</td>\n",
       "      <td>0.500000</td>\n",
       "      <td>0.500000</td>\n",
       "      <td>1.000000</td>\n",
       "      <td>1.000000</td>\n",
       "      <td>0.000000</td>\n",
       "      <td>0.000000</td>\n",
       "      <td>1.000000</td>\n",
       "      <td>1.000000</td>\n",
       "    </tr>\n",
       "  </tbody>\n",
       "</table>\n",
       "</div>"
      ],
      "text/plain": [
       "    orthogonality     auc_y     auc_s     ppr_b     ppr_w     fpr_b     fpr_w  \\\n",
       "0             0.0  0.814402  0.626898  0.305665  0.205668  0.419545  0.455465   \n",
       "1             0.1  0.813765  0.617525  0.292024  0.206586  0.433896  0.457409   \n",
       "2             0.2  0.812861  0.607162  0.282722  0.207212  0.415909  0.462855   \n",
       "3             0.3  0.808551  0.595170  0.272173  0.207921  0.433766  0.475301   \n",
       "4             0.4  0.804721  0.582492  0.267844  0.208213  0.423052  0.481133   \n",
       "5             0.5  0.801250  0.569496  0.253566  0.209173  0.448117  0.486191   \n",
       "6             0.6  0.790772  0.554498  0.243644  0.209841  0.480455  0.494749   \n",
       "7             0.7  0.778215  0.538136  0.229387  0.210926  0.509026  0.506610   \n",
       "8             0.8  0.767133  0.529858  0.230625  0.210717  0.487727  0.511666   \n",
       "9             0.9  0.755972  0.527628  0.225052  0.211135  0.530584  0.514000   \n",
       "10            1.0  0.500000  0.500000  1.000000  1.000000  0.000000  0.000000   \n",
       "\n",
       "       tpr_w     tpr_b  \n",
       "0   0.544535  0.580455  \n",
       "1   0.542591  0.566104  \n",
       "2   0.537145  0.584091  \n",
       "3   0.524699  0.566234  \n",
       "4   0.518867  0.576948  \n",
       "5   0.513809  0.551883  \n",
       "6   0.505251  0.519545  \n",
       "7   0.493390  0.490974  \n",
       "8   0.488334  0.512273  \n",
       "9   0.486000  0.469416  \n",
       "10  1.000000  1.000000  "
      ]
     },
     "execution_count": 108,
     "metadata": {},
     "output_type": "execute_result"
    }
   ],
   "source": [
    "results = (\n",
    "    pd.merge(selected_params, data, how='left')\n",
    "    .groupby('orthogonality')\n",
    "    .agg({'auc_y': 'mean', 'auc_s': 'mean', 'ppr_b': 'mean', 'ppr_w': 'mean', 'fpr_b': 'mean', 'fpr_w': 'mean', 'tpr_w': 'mean', 'tpr_b': 'mean'})\n",
    "    .reset_index()\n",
    ")\n",
    "results"
   ]
  },
  {
   "cell_type": "code",
   "execution_count": 111,
   "id": "8b23a80b-154f-467a-af48-bf52c5e05144",
   "metadata": {
    "execution": {
     "iopub.execute_input": "2021-11-04T11:07:21.311444Z",
     "iopub.status.busy": "2021-11-04T11:07:21.311137Z",
     "iopub.status.idle": "2021-11-04T11:07:21.404587Z",
     "shell.execute_reply": "2021-11-04T11:07:21.403755Z",
     "shell.execute_reply.started": "2021-11-04T11:07:21.311415Z"
    },
    "tags": []
   },
   "outputs": [
    {
     "data": {
      "image/png": "[encoded data removed]",
      "text/plain": [
       "<Figure size 432x288 with 1 Axes>"
      ]
     },
     "metadata": {
      "needs_background": "light"
     },
     "output_type": "display_data"
    }
   ],
   "source": [
    "plt.title(\"Objective function\")\n",
    "plt.plot(results.orthogonality, results.auc_y-results.auc_s, marker='o')\n",
    "idx_star = (results.auc_y-results.auc_s).idxmax()\n",
    "x_star = results.loc[idx_star, 'orthogonality']\n",
    "y_star = (results['auc_y']-results['auc_s']).max()\n",
    "plt.vlines(x_star, 0, ymax=y_star, ls=':')\n",
    "plt.hlines(y_star, 0, xmax=x_star, ls=':')\n",
    "plt.xlim(0)\n",
    "plt.ylim(0)\n",
    "plt.xlabel(r\"Orthogonality ($\\Theta$)\");\n",
    "plt.ylabel(\"Objective\");"
   ]
  },
  {
   "cell_type": "code",
   "execution_count": 112,
   "id": "ce10b261-76cc-41e9-bbab-48f44f8c516e",
   "metadata": {
    "execution": {
     "iopub.execute_input": "2021-11-04T11:07:36.980828Z",
     "iopub.status.busy": "2021-11-04T11:07:36.979995Z",
     "iopub.status.idle": "2021-11-04T11:07:37.109199Z",
     "shell.execute_reply": "2021-11-04T11:07:37.108707Z",
     "shell.execute_reply.started": "2021-11-04T11:07:36.980793Z"
    },
    "tags": []
   },
   "outputs": [
    {
     "data": {
      "image/png": "[encoded data removed]",
      "text/plain": [
       "<Figure size 432x288 with 1 Axes>"
      ]
     },
     "metadata": {
      "needs_background": "light"
     },
     "output_type": "display_data"
    }
   ],
   "source": [
    "sns.lineplot(data=results, x='orthogonality', y='auc_y', label=r'$\\mathrm{AUC}_Y$', marker='o')\n",
    "sns.lineplot(data=results, x='orthogonality', y='auc_s', color='C1', label=r'$\\mathrm{AUC}_S$', marker='o')\n",
    "plt.xlim(0, 1)\n",
    "plt.ylim(.5, 1)\n",
    "plt.xlabel('orthogonality')\n",
    "plt.ylabel('')\n",
    "plt.axvline(x_star, color='black', ls=':');"
   ]
  },
  {
   "cell_type": "code",
   "execution_count": 54,
   "id": "452017fb-a8ff-4618-bbee-6c43da85f042",
   "metadata": {
    "execution": {
     "iopub.execute_input": "2021-11-04T09:06:01.707676Z",
     "iopub.status.busy": "2021-11-04T09:06:01.707356Z",
     "iopub.status.idle": "2021-11-04T09:06:02.483454Z",
     "shell.execute_reply": "2021-11-04T09:06:02.482950Z",
     "shell.execute_reply.started": "2021-11-04T09:06:01.707645Z"
    },
    "tags": []
   },
   "outputs": [
    {
     "data": {
      "image/png": "[encoded data removed]",
      "text/plain": [
       "<Figure size 360x270 with 4 Axes>"
      ]
     },
     "metadata": {
      "needs_background": "light"
     },
     "output_type": "display_data"
    }
   ],
   "source": [
    "data_b = pd.concat(\n",
    "    [\n",
    "        results[['ppr_b', 'orthogonality']].rename(columns={'ppr_b': 'value'}).assign(flag='black'),\n",
    "        results[['ppr_w', 'orthogonality']].rename(columns={'ppr_w': 'value'}).assign(flag='white')\n",
    "    ],\n",
    "    ignore_index=True\n",
    ")\n",
    "data_c = pd.concat(\n",
    "    [\n",
    "        results[['fpr_w', 'orthogonality']].rename(columns={'fpr_w': 'value'}).assign(flag='white'),\n",
    "        results[['fpr_b', 'orthogonality']].rename(columns={'fpr_b': 'value'}).assign(flag='black'),\n",
    "    ],\n",
    "    ignore_index=True\n",
    ")\n",
    "data_d = pd.concat(\n",
    "    [\n",
    "        results[['tpr_w', 'orthogonality']].rename(columns={'tpr_w': 'value'}).assign(flag='white'),\n",
    "        results[['tpr_b', 'orthogonality']].rename(columns={'tpr_b': 'value'}).assign(flag='black')\n",
    "    ],\n",
    "    ignore_index=True\n",
    ")\n",
    "order = ['black', 'white']\n",
    "\n",
    "fig, ((ax1, ax2), (ax3, ax4)) = plt.subplots(2, 2, figsize=(5, 3.75))\n",
    "\n",
    "sns.lineplot(data=data, x='auc_s', y='auc_y', marker='o', ax=ax1)\n",
    "ax1.set_xlim(.5)\n",
    "ax1.set_ylim(.5)\n",
    "ax1.set_xlabel(r'$\\mathrm{AUC}_S$')\n",
    "ax1.set_ylabel(r'$\\mathrm{AUC}_Y$')\n",
    "auc_s_star = data.loc[idx_star, 'auc_s']\n",
    "auc_y_star = data.loc[idx_star, 'auc_y']\n",
    "ys_star = (auc_s_star, auc_y_star)\n",
    "ax1.scatter(*ys_star , c='C1', s=100)\n",
    "ax1.annotate(rf'$\\Theta={x_star:.1f}$', ys_star, (0, 10), textcoords='offset points')\n",
    "ax1.text(-.1, 1.0, 'A', transform=ax1.transAxes, size=20, weight='bold')\n",
    "\n",
    "sns.lineplot(data=data_b, \n",
    "             x='orthogonality', y='value', hue='flag', style='flag', \n",
    "             ax=ax2, markers=True, palette=['black', 'grey'], hue_order=order)\n",
    "ax2.axvline(x_star, ls=':', color='lightgrey')\n",
    "ax2.set_xlim(0, .9)\n",
    "ax2.set_ylim(0)\n",
    "ax2.set_xlabel('Orthogonality')\n",
    "ax2.set_ylabel('Positive Prediction Rate')\n",
    "ax2.text(-.1, 1.0, 'B', transform=ax2.transAxes, size=20, weight='bold')\n",
    "\n",
    "sns.lineplot(data=data_c, \n",
    "             x='orthogonality', y='value', hue='flag', style='flag', \n",
    "             ax=ax3, markers=True, palette=['black', 'grey'], \n",
    "             hue_order=order, style_order=order)\n",
    "ax3.axvline(x_star, ls=':', color='lightgrey')\n",
    "ax3.set_xlim(0, .9)\n",
    "ax3.set_ylim(0)\n",
    "ax3.set_xlabel('Orthogonality')\n",
    "ax3.set_ylabel('False Positive Rate')\n",
    "ax3.text(-.1, 1.0, 'C', transform=ax3.transAxes, size=20, weight='bold')\n",
    "\n",
    "sns.lineplot(data=data_d, \n",
    "             x='orthogonality', y='value', hue='flag', style='flag', \n",
    "             ax=ax4, markers=True, palette=['black', 'grey'], \n",
    "             hue_order=order)\n",
    "ax4.axvline(x_star, ls=':', color='lightgrey')\n",
    "ax4.set_xlim(0, .9)\n",
    "ax4.set_ylim(0)\n",
    "ax4.set_xlabel('Orthogonality')\n",
    "ax4.set_ylabel('True Positive Rate')\n",
    "ax4.text(-.1, 1.0, 'D', transform=ax4.transAxes, size=20, weight='bold')\n",
    "plt.tight_layout()\n",
    "plt.savefig('fig/fairness.pdf')"
   ]
  }
 ],
 "metadata": {
  "kernelspec": {
   "display_name": "Python 3 (ipykernel)",
   "language": "python",
   "name": "python3"
  },
  "language_info": {
   "codemirror_mode": {
    "name": "ipython",
    "version": 3
   },
   "file_extension": ".py",
   "mimetype": "text/x-python",
   "name": "python",
   "nbconvert_exporter": "python",
   "pygments_lexer": "ipython3",
   "version": "3.9.7"
  }
 },
 "nbformat": 4,
 "nbformat_minor": 5
}
