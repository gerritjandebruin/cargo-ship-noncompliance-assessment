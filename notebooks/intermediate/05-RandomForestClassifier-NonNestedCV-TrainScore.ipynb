{
 "cells": [
  {
   "cell_type": "code",
   "execution_count": 2,
   "id": "6459a593",
   "metadata": {
    "execution": {
     "iopub.execute_input": "2021-11-09T18:05:52.664728Z",
     "iopub.status.busy": "2021-11-09T18:05:52.663482Z",
     "iopub.status.idle": "2021-11-09T18:05:52.736339Z",
     "shell.execute_reply": "2021-11-09T18:05:52.735390Z",
     "shell.execute_reply.started": "2021-11-09T18:05:52.664679Z"
    },
    "tags": []
   },
   "outputs": [
    {
     "name": "stdout",
     "output_type": "stream",
     "text": [
      "The autoreload extension is already loaded. To reload it, use:\n",
      "  %reload_ext autoreload\n"
     ]
    }
   ],
   "source": [
    "%load_ext autoreload\n",
    "%autoreload 2\n",
    "\n",
    "from copy import deepcopy as copy\n",
    "import datetime\n",
    "import json\n",
    "from math import ceil\n",
    "import multiprocessing\n",
    "import logging\n",
    "import operator\n",
    "import os\n",
    "from pathlib import Path\n",
    "import random\n",
    "import sys\n",
    "import time\n",
    "import typing\n",
    "import warnings\n",
    "\n",
    "import joblib\n",
    "from joblib import delayed, Parallel\n",
    "import matplotlib.pyplot as plt\n",
    "import networkx as nx\n",
    "import numpy as np\n",
    "from numpy.core.numeric import outer\n",
    "import pandas as pd\n",
    "from scipy.stats import mode, entropy\n",
    "import seaborn as sns\n",
    "import sklearn.ensemble\n",
    "import sklearn.feature_selection\n",
    "import sklearn.metrics\n",
    "from sklearn.metrics import roc_auc_score\n",
    "import sklearn.model_selection\n",
    "import typer\n",
    "from tqdm.auto import tqdm\n",
    "\n",
    "root = str(Path.cwd().parents[1])\n",
    "sys.path.append(root)\n",
    "os.chdir(root)\n",
    "import src"
   ]
  },
  {
   "cell_type": "markdown",
   "id": "b4ca37d0-678c-4ab8-8083-454438346666",
   "metadata": {},
   "source": [
    "# Scenario A"
   ]
  },
  {
   "cell_type": "code",
   "execution_count": 2,
   "id": "abf58f07-a110-4aa0-a8c8-1359618ac163",
   "metadata": {},
   "outputs": [
    {
     "name": "stdout",
     "output_type": "stream",
     "text": [
      "CPU times: user 854 ms, sys: 1.36 s, total: 2.22 s\n",
      "Wall time: 1min 16s\n"
     ]
    }
   ],
   "source": [
    "%%time\n",
    "\n",
    "X, y, s = src.get_Xys()\n",
    "X.drop(columns='port_stay', inplace=True)\n",
    "cv = sklearn.model_selection.StratifiedKFold(shuffle=True, random_state=42)\n",
    "clf = sklearn.model_selection.GridSearchCV(\n",
    "    estimator=sklearn.ensemble.RandomForestClassifier(random_state=42),\n",
    "    param_grid={'max_depth': np.arange(1, 11)},\n",
    "    scoring='roc_auc',\n",
    "    refit=True,\n",
    "    verbose=2,\n",
    "    cv=cv,\n",
    "    n_jobs=50\n",
    ")\n",
    "nested_score = sklearn.model_selection.cross_validate(clf, X=X, y=y>1, cv=cv, n_jobs=5, return_train_score=True)"
   ]
  },
  {
   "cell_type": "code",
   "execution_count": 3,
   "id": "346b25a9-1a1e-4d1c-8d0f-1926f7db0fb6",
   "metadata": {},
   "outputs": [
    {
     "data": {
      "text/html": [
       "<div>\n",
       "<style scoped>\n",
       "    .dataframe tbody tr th:only-of-type {\n",
       "        vertical-align: middle;\n",
       "    }\n",
       "\n",
       "    .dataframe tbody tr th {\n",
       "        vertical-align: top;\n",
       "    }\n",
       "\n",
       "    .dataframe thead th {\n",
       "        text-align: right;\n",
       "    }\n",
       "</style>\n",
       "<table border=\"1\" class=\"dataframe\">\n",
       "  <thead>\n",
       "    <tr style=\"text-align: right;\">\n",
       "      <th></th>\n",
       "      <th>test_score</th>\n",
       "      <th>train_score</th>\n",
       "    </tr>\n",
       "  </thead>\n",
       "  <tbody>\n",
       "    <tr>\n",
       "      <th>mean</th>\n",
       "      <td>0.670713</td>\n",
       "      <td>0.825244</td>\n",
       "    </tr>\n",
       "    <tr>\n",
       "      <th>std</th>\n",
       "      <td>0.018844</td>\n",
       "      <td>0.035342</td>\n",
       "    </tr>\n",
       "  </tbody>\n",
       "</table>\n",
       "</div>"
      ],
      "text/plain": [
       "      test_score  train_score\n",
       "mean    0.670713     0.825244\n",
       "std     0.018844     0.035342"
      ]
     },
     "execution_count": 3,
     "metadata": {},
     "output_type": "execute_result"
    }
   ],
   "source": [
    "pd.DataFrame(nested_score).agg({'test_score': ['mean', 'std'], 'train_score': ['mean', 'std']})"
   ]
  },
  {
   "cell_type": "markdown",
   "id": "0a98a792-91ef-4983-8699-8494079eceb1",
   "metadata": {},
   "source": [
    "# Scenario B"
   ]
  },
  {
   "cell_type": "code",
   "execution_count": 4,
   "id": "ba4691a2-9e73-46d9-98dd-162f8db70510",
   "metadata": {},
   "outputs": [
    {
     "name": "stdout",
     "output_type": "stream",
     "text": [
      "CPU times: user 262 ms, sys: 240 ms, total: 502 ms\n",
      "Wall time: 1min 23s\n"
     ]
    }
   ],
   "source": [
    "%%time\n",
    "\n",
    "X, y, s = src.get_Xys()\n",
    "X.drop(columns='port_stay', inplace=True)\n",
    "cv = sklearn.model_selection.StratifiedKFold(shuffle=True, random_state=42)\n",
    "clf = sklearn.model_selection.GridSearchCV(\n",
    "    estimator=sklearn.ensemble.RandomForestClassifier(random_state=42),\n",
    "    param_grid={'max_depth': np.arange(1, 11)},\n",
    "    scoring='roc_auc',\n",
    "    refit=True,\n",
    "    verbose=2,\n",
    "    cv=cv,\n",
    "    n_jobs=50\n",
    ")\n",
    "nested_score = sklearn.model_selection.cross_validate(clf, X=X, y=y>0, cv=cv, n_jobs=5, return_train_score=True)"
   ]
  },
  {
   "cell_type": "code",
   "execution_count": 5,
   "id": "3738b71c-b7ad-463b-9477-d8034b30b956",
   "metadata": {},
   "outputs": [
    {
     "data": {
      "text/html": [
       "<div>\n",
       "<style scoped>\n",
       "    .dataframe tbody tr th:only-of-type {\n",
       "        vertical-align: middle;\n",
       "    }\n",
       "\n",
       "    .dataframe tbody tr th {\n",
       "        vertical-align: top;\n",
       "    }\n",
       "\n",
       "    .dataframe thead th {\n",
       "        text-align: right;\n",
       "    }\n",
       "</style>\n",
       "<table border=\"1\" class=\"dataframe\">\n",
       "  <thead>\n",
       "    <tr style=\"text-align: right;\">\n",
       "      <th></th>\n",
       "      <th>test_score</th>\n",
       "      <th>train_score</th>\n",
       "    </tr>\n",
       "  </thead>\n",
       "  <tbody>\n",
       "    <tr>\n",
       "      <th>mean</th>\n",
       "      <td>0.814629</td>\n",
       "      <td>0.892599</td>\n",
       "    </tr>\n",
       "    <tr>\n",
       "      <th>std</th>\n",
       "      <td>0.005918</td>\n",
       "      <td>0.002530</td>\n",
       "    </tr>\n",
       "  </tbody>\n",
       "</table>\n",
       "</div>"
      ],
      "text/plain": [
       "      test_score  train_score\n",
       "mean    0.814629     0.892599\n",
       "std     0.005918     0.002530"
      ]
     },
     "execution_count": 5,
     "metadata": {},
     "output_type": "execute_result"
    }
   ],
   "source": [
    "pd.DataFrame(nested_score).agg({'test_score': ['mean', 'std'], 'train_score': ['mean', 'std']})"
   ]
  },
  {
   "cell_type": "code",
   "execution_count": null,
   "id": "3b9ccdc0-7618-4783-9cfe-7bf9f52eebe0",
   "metadata": {},
   "outputs": [],
   "source": []
  }
 ],
 "metadata": {
  "interpreter": {
   "hash": "473817ff83b628a5a6f5a7fd2063995fa58896508c9cdd9bc020e2a93e10f438"
  },
  "kernelspec": {
   "display_name": "Python 3 (ipykernel)",
   "language": "python",
   "name": "python3"
  },
  "language_info": {
   "codemirror_mode": {
    "name": "ipython",
    "version": 3
   },
   "file_extension": ".py",
   "mimetype": "text/x-python",
   "name": "python",
   "nbconvert_exporter": "python",
   "pygments_lexer": "ipython3",
   "version": "3.9.7"
  }
 },
 "nbformat": 4,
 "nbformat_minor": 5
}
