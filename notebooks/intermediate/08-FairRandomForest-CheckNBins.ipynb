{
 "cells": [
  {
   "cell_type": "code",
   "execution_count": 1,
   "id": "6459a593",
   "metadata": {
    "execution": {
     "iopub.execute_input": "2021-11-09T18:07:16.986939Z",
     "iopub.status.busy": "2021-11-09T18:07:16.985940Z",
     "iopub.status.idle": "2021-11-09T18:07:18.076438Z",
     "shell.execute_reply": "2021-11-09T18:07:18.075605Z",
     "shell.execute_reply.started": "2021-11-09T18:07:16.986811Z"
    },
    "tags": []
   },
   "outputs": [],
   "source": [
    "%load_ext autoreload\n",
    "%autoreload 2\n",
    "\n",
    "from copy import deepcopy as copy\n",
    "import datetime\n",
    "import json\n",
    "from math import ceil\n",
    "import multiprocessing\n",
    "import logging\n",
    "import operator\n",
    "import os\n",
    "from pathlib import Path\n",
    "import random\n",
    "import sys\n",
    "import time\n",
    "import typing\n",
    "import warnings\n",
    "\n",
    "import joblib\n",
    "from joblib import delayed, Parallel\n",
    "import matplotlib.pyplot as plt\n",
    "import networkx as nx\n",
    "import numpy as np\n",
    "from numpy.core.numeric import outer\n",
    "import pandas as pd\n",
    "from scipy.stats import mode, entropy\n",
    "import seaborn as sns\n",
    "import sklearn.ensemble\n",
    "import sklearn.feature_selection\n",
    "import sklearn.metrics\n",
    "from sklearn.metrics import roc_auc_score\n",
    "import sklearn.model_selection\n",
    "import typer\n",
    "from tqdm.auto import tqdm\n",
    "\n",
    "root = str(Path.cwd().parents[1])\n",
    "sys.path.append(root)\n",
    "os.chdir(root)\n",
    "import src"
   ]
  },
  {
   "cell_type": "markdown",
   "id": "b4ca37d0-678c-4ab8-8083-454438346666",
   "metadata": {},
   "source": [
    "# Scenario A"
   ]
  },
  {
   "cell_type": "markdown",
   "id": "9c57acd0-eed5-41a3-8732-da24785afe2d",
   "metadata": {},
   "source": [
    "## n_bins = 2"
   ]
  },
  {
   "cell_type": "code",
   "execution_count": 2,
   "id": "1688ee78-59c9-431e-8c6d-5d69958d8379",
   "metadata": {},
   "outputs": [],
   "source": [
    "iterator = [(max_depth, fold) for max_depth in np.arange(1, 11) for fold in range(5)]"
   ]
  },
  {
   "cell_type": "code",
   "execution_count": 3,
   "id": "c9f94e11-fcb5-4d6e-8c3e-71cb2fcce164",
   "metadata": {},
   "outputs": [
    {
     "data": {
      "application/vnd.jupyter.widget-view+json": {
       "model_id": "46b839a135fd4967a0b21c1d25a2b9df",
       "version_major": 2,
       "version_minor": 0
      },
      "text/plain": [
       "  0%|          | 0/5 [00:00<?, ?it/s]"
      ]
     },
     "metadata": {},
     "output_type": "display_data"
    },
    {
     "name": "stdout",
     "output_type": "stream",
     "text": [
      "CPU times: user 23.6 s, sys: 15.8 s, total: 39.4 s\n",
      "Wall time: 5min 22s\n"
     ]
    }
   ],
   "source": [
    "%%time\n",
    "X, y, s = src.get_Xys()\n",
    "y = y>1\n",
    "ys = y.astype(str) + s.astype(int).astype(str)\n",
    "skf = sklearn.model_selection.StratifiedKFold(shuffle=True, random_state=42)\n",
    "\n",
    "y_scores = list()\n",
    "s_scores = list()\n",
    "\n",
    "for train_index, test_index in tqdm(skf.split(X=X, y=ys), total=5):\n",
    "    ships_train = X.iloc[train_index].index\n",
    "    ships_test = X.iloc[test_index].index\n",
    "\n",
    "    X_train, X_test = X.loc[ships_train], X.loc[ships_test]\n",
    "    y_train, y_test = y.loc[ships_train], y.loc[ships_test]\n",
    "    s_train, s_test = s.loc[ships_train], s.loc[ships_test]\n",
    "\n",
    "    X_train = np.ascontiguousarray(X_train.values)\n",
    "    y_train = np.ascontiguousarray(y_train.values.ravel())\n",
    "    s_train = np.ascontiguousarray(s_train.values.ravel())\n",
    "    X_test = np.ascontiguousarray(X_test.values)\n",
    "    y_test = np.ascontiguousarray(y_test.values.ravel())\n",
    "    s_test = np.ascontiguousarray(s_test.values.ravel())\n",
    "\n",
    "    vt = sklearn.feature_selection.VarianceThreshold()\n",
    "    vt.fit(X_train)\n",
    "    X_train = vt.transform(X_train)\n",
    "    X_test = vt.transform(X_test) \n",
    "\n",
    "    clf = src.FairRandomForestClassifier(\n",
    "        max_depth=6, n_estimators=100, orthogonality=0, n_jobs=100, n_bins=2\n",
    "    )    \n",
    "    clf.fit(X_train, y_train, s_train)\n",
    "    y_score = clf.predict_proba(X_test)[:,1]\n",
    "    y_scores.append(sklearn.metrics.roc_auc_score(y_true=y_test, y_score=y_score))\n",
    "    s_scores.append(sklearn.metrics.roc_auc_score(y_true=s_test, y_score=y_score))"
   ]
  },
  {
   "cell_type": "code",
   "execution_count": 4,
   "id": "e374c1ec-fbb4-47d1-a318-acd5fddf09a5",
   "metadata": {},
   "outputs": [
    {
     "name": "stdout",
     "output_type": "stream",
     "text": [
      "y: 0.675 +- 0.011\n",
      "s: 0.660 +- 0.015\n"
     ]
    }
   ],
   "source": [
    "print(f'y: {np.mean(y_scores):.3f} +- {np.std(y_scores):.3f}')\n",
    "print(f's: {np.mean(s_scores):.3f} +- {np.std(s_scores):.3f}')"
   ]
  },
  {
   "cell_type": "markdown",
   "id": "8826d9a1-71e1-4568-96f7-544b5a966185",
   "metadata": {},
   "source": [
    "## n_bins = 10"
   ]
  },
  {
   "cell_type": "code",
   "execution_count": 5,
   "id": "bcb7a6a7-f84f-43fd-87c0-03bcac2d0eaf",
   "metadata": {},
   "outputs": [],
   "source": [
    "iterator = [(max_depth, fold) for max_depth in np.arange(1, 11) for fold in range(5)]"
   ]
  },
  {
   "cell_type": "code",
   "execution_count": 6,
   "id": "628279f5-1c59-494b-abc8-dfa9e3a57ae8",
   "metadata": {},
   "outputs": [
    {
     "data": {
      "application/vnd.jupyter.widget-view+json": {
       "model_id": "9493813e2d294a6fa9fbc9445a575b56",
       "version_major": 2,
       "version_minor": 0
      },
      "text/plain": [
       "  0%|          | 0/5 [00:00<?, ?it/s]"
      ]
     },
     "metadata": {},
     "output_type": "display_data"
    },
    {
     "name": "stdout",
     "output_type": "stream",
     "text": [
      "CPU times: user 25.3 s, sys: 13.7 s, total: 39 s\n",
      "Wall time: 31min 39s\n"
     ]
    }
   ],
   "source": [
    "%%time\n",
    "X, y, s = src.get_Xys()\n",
    "y = y>1\n",
    "ys = y.astype(str) + s.astype(int).astype(str)\n",
    "skf = sklearn.model_selection.StratifiedKFold(shuffle=True, random_state=42)\n",
    "\n",
    "y_scores = list()\n",
    "s_scores = list()\n",
    "\n",
    "for train_index, test_index in tqdm(skf.split(X=X, y=ys), total=5):\n",
    "    ships_train = X.iloc[train_index].index\n",
    "    ships_test = X.iloc[test_index].index\n",
    "\n",
    "    X_train, X_test = X.loc[ships_train], X.loc[ships_test]\n",
    "    y_train, y_test = y.loc[ships_train], y.loc[ships_test]\n",
    "    s_train, s_test = s.loc[ships_train], s.loc[ships_test]\n",
    "\n",
    "    X_train = np.ascontiguousarray(X_train.values)\n",
    "    y_train = np.ascontiguousarray(y_train.values.ravel())\n",
    "    s_train = np.ascontiguousarray(s_train.values.ravel())\n",
    "    X_test = np.ascontiguousarray(X_test.values)\n",
    "    y_test = np.ascontiguousarray(y_test.values.ravel())\n",
    "    s_test = np.ascontiguousarray(s_test.values.ravel())\n",
    "\n",
    "    vt = sklearn.feature_selection.VarianceThreshold()\n",
    "    vt.fit(X_train)\n",
    "    X_train = vt.transform(X_train)\n",
    "    X_test = vt.transform(X_test) \n",
    "\n",
    "    clf = src.FairRandomForestClassifier(\n",
    "        max_depth=6, n_estimators=100, orthogonality=0, n_jobs=100, n_bins=10\n",
    "    )    \n",
    "    clf.fit(X_train, y_train, s_train)\n",
    "    y_score = clf.predict_proba(X_test)[:,1]\n",
    "    y_scores.append(sklearn.metrics.roc_auc_score(y_true=y_test, y_score=y_score))\n",
    "    s_scores.append(sklearn.metrics.roc_auc_score(y_true=s_test, y_score=y_score))"
   ]
  },
  {
   "cell_type": "code",
   "execution_count": 7,
   "id": "b1916b57-2af8-4b9c-9000-100118fa3d35",
   "metadata": {},
   "outputs": [
    {
     "name": "stdout",
     "output_type": "stream",
     "text": [
      "y: 0.612 +- 0.036\n",
      "s: 0.654 +- 0.017\n"
     ]
    }
   ],
   "source": [
    "print(f'y: {np.mean(y_scores):.3f} +- {np.std(y_scores):.3f}')\n",
    "print(f's: {np.mean(s_scores):.3f} +- {np.std(s_scores):.3f}')"
   ]
  },
  {
   "cell_type": "markdown",
   "id": "a8bb98fc-747a-4d9c-b300-b7eb45cb68fa",
   "metadata": {},
   "source": [
    "# Scenario B"
   ]
  },
  {
   "cell_type": "markdown",
   "id": "ba5cdd35-44f3-421b-860c-d974ef2e6a24",
   "metadata": {},
   "source": [
    "## n_bins = 2"
   ]
  },
  {
   "cell_type": "code",
   "execution_count": 2,
   "id": "3dac4093-69c2-4684-99df-d5e8cfb022d8",
   "metadata": {},
   "outputs": [],
   "source": [
    "iterator = [(max_depth, fold) for max_depth in np.arange(1, 11) for fold in range(5)]"
   ]
  },
  {
   "cell_type": "code",
   "execution_count": 3,
   "id": "47ea19f1-c6a9-4542-af58-232abe39f776",
   "metadata": {},
   "outputs": [
    {
     "data": {
      "application/vnd.jupyter.widget-view+json": {
       "model_id": "6fd62a6d2954417589a752395b88ec51",
       "version_major": 2,
       "version_minor": 0
      },
      "text/plain": [
       "  0%|          | 0/5 [00:00<?, ?it/s]"
      ]
     },
     "metadata": {},
     "output_type": "display_data"
    },
    {
     "name": "stdout",
     "output_type": "stream",
     "text": [
      "CPU times: user 17.9 s, sys: 13.2 s, total: 31.1 s\n",
      "Wall time: 5min 22s\n"
     ]
    }
   ],
   "source": [
    "%%time\n",
    "X, y, s = src.get_Xys()\n",
    "y = y>0\n",
    "ys = y.astype(str) + s.astype(int).astype(str)\n",
    "skf = sklearn.model_selection.StratifiedKFold(shuffle=True, random_state=42)\n",
    "\n",
    "y_scores = list()\n",
    "s_scores = list()\n",
    "\n",
    "for train_index, test_index in tqdm(skf.split(X=X, y=ys), total=5):\n",
    "    ships_train = X.iloc[train_index].index\n",
    "    ships_test = X.iloc[test_index].index\n",
    "\n",
    "    X_train, X_test = X.loc[ships_train], X.loc[ships_test]\n",
    "    y_train, y_test = y.loc[ships_train], y.loc[ships_test]\n",
    "    s_train, s_test = s.loc[ships_train], s.loc[ships_test]\n",
    "\n",
    "    X_train = np.ascontiguousarray(X_train.values)\n",
    "    y_train = np.ascontiguousarray(y_train.values.ravel())\n",
    "    s_train = np.ascontiguousarray(s_train.values.ravel())\n",
    "    X_test = np.ascontiguousarray(X_test.values)\n",
    "    y_test = np.ascontiguousarray(y_test.values.ravel())\n",
    "    s_test = np.ascontiguousarray(s_test.values.ravel())\n",
    "\n",
    "    vt = sklearn.feature_selection.VarianceThreshold()\n",
    "    vt.fit(X_train)\n",
    "    X_train = vt.transform(X_train)\n",
    "    X_test = vt.transform(X_test) \n",
    "\n",
    "    clf = src.FairRandomForestClassifier(\n",
    "        max_depth=6, n_estimators=100, orthogonality=0, n_jobs=100, n_bins=2\n",
    "    )    \n",
    "    clf.fit(X_train, y_train, s_train)\n",
    "    y_score = clf.predict_proba(X_test)[:,1]\n",
    "    y_scores.append(sklearn.metrics.roc_auc_score(y_true=y_test, y_score=y_score))\n",
    "    s_scores.append(sklearn.metrics.roc_auc_score(y_true=s_test, y_score=y_score))"
   ]
  },
  {
   "cell_type": "code",
   "execution_count": 4,
   "id": "39e3c8ac-902f-4a01-8c1a-a946a31fb0e7",
   "metadata": {},
   "outputs": [
    {
     "name": "stdout",
     "output_type": "stream",
     "text": [
      "y: 0.814 +- 0.003\n",
      "s: 0.373 +- 0.012\n"
     ]
    }
   ],
   "source": [
    "print(f'y: {np.mean(y_scores):.3f} +- {np.std(y_scores):.3f}')\n",
    "print(f's: {np.mean(s_scores):.3f} +- {np.std(s_scores):.3f}')"
   ]
  },
  {
   "cell_type": "markdown",
   "id": "63ca2c51-4553-4851-85c1-2e9e375d73b1",
   "metadata": {},
   "source": [
    "## n_bins = 10"
   ]
  },
  {
   "cell_type": "code",
   "execution_count": 5,
   "id": "50e91e22-b23c-4b51-a2a0-608f8c97595a",
   "metadata": {},
   "outputs": [],
   "source": [
    "iterator = [(max_depth, fold) for max_depth in np.arange(1, 11) for fold in range(5)]"
   ]
  },
  {
   "cell_type": "code",
   "execution_count": 6,
   "id": "24b639c3-b195-4b38-a4f3-64f8385b03dc",
   "metadata": {},
   "outputs": [
    {
     "data": {
      "application/vnd.jupyter.widget-view+json": {
       "model_id": "1eed6c3fb7a640bfb88a7ebdb9217130",
       "version_major": 2,
       "version_minor": 0
      },
      "text/plain": [
       "  0%|          | 0/5 [00:00<?, ?it/s]"
      ]
     },
     "metadata": {},
     "output_type": "display_data"
    },
    {
     "name": "stdout",
     "output_type": "stream",
     "text": [
      "CPU times: user 16 s, sys: 8.44 s, total: 24.5 s\n",
      "Wall time: 29min 32s\n"
     ]
    }
   ],
   "source": [
    "%%time\n",
    "X, y, s = src.get_Xys()\n",
    "y = y>0\n",
    "ys = y.astype(str) + s.astype(int).astype(str)\n",
    "skf = sklearn.model_selection.StratifiedKFold(shuffle=True, random_state=42)\n",
    "\n",
    "y_scores = list()\n",
    "s_scores = list()\n",
    "\n",
    "for train_index, test_index in tqdm(skf.split(X=X, y=ys), total=5):\n",
    "    ships_train = X.iloc[train_index].index\n",
    "    ships_test = X.iloc[test_index].index\n",
    "\n",
    "    X_train, X_test = X.loc[ships_train], X.loc[ships_test]\n",
    "    y_train, y_test = y.loc[ships_train], y.loc[ships_test]\n",
    "    s_train, s_test = s.loc[ships_train], s.loc[ships_test]\n",
    "\n",
    "    X_train = np.ascontiguousarray(X_train.values)\n",
    "    y_train = np.ascontiguousarray(y_train.values.ravel())\n",
    "    s_train = np.ascontiguousarray(s_train.values.ravel())\n",
    "    X_test = np.ascontiguousarray(X_test.values)\n",
    "    y_test = np.ascontiguousarray(y_test.values.ravel())\n",
    "    s_test = np.ascontiguousarray(s_test.values.ravel())\n",
    "\n",
    "    vt = sklearn.feature_selection.VarianceThreshold()\n",
    "    vt.fit(X_train)\n",
    "    X_train = vt.transform(X_train)\n",
    "    X_test = vt.transform(X_test) \n",
    "\n",
    "    clf = src.FairRandomForestClassifier(\n",
    "        max_depth=6, n_estimators=100, orthogonality=0, n_jobs=100, n_bins=10\n",
    "    )    \n",
    "    clf.fit(X_train, y_train, s_train)\n",
    "    y_score = clf.predict_proba(X_test)[:,1]\n",
    "    y_scores.append(sklearn.metrics.roc_auc_score(y_true=y_test, y_score=y_score))\n",
    "    s_scores.append(sklearn.metrics.roc_auc_score(y_true=s_test, y_score=y_score))"
   ]
  },
  {
   "cell_type": "code",
   "execution_count": 7,
   "id": "bddd642b-1840-4c99-9f99-b83e0cf16ec3",
   "metadata": {},
   "outputs": [
    {
     "name": "stdout",
     "output_type": "stream",
     "text": [
      "y: 0.841 +- 0.005\n",
      "s: 0.395 +- 0.015\n"
     ]
    }
   ],
   "source": [
    "print(f'y: {np.mean(y_scores):.3f} +- {np.std(y_scores):.3f}')\n",
    "print(f's: {np.mean(s_scores):.3f} +- {np.std(s_scores):.3f}')"
   ]
  },
  {
   "cell_type": "code",
   "execution_count": null,
   "id": "5c0eee5b-83db-4040-9423-5cd83292b125",
   "metadata": {},
   "outputs": [],
   "source": []
  }
 ],
 "metadata": {
  "interpreter": {
   "hash": "473817ff83b628a5a6f5a7fd2063995fa58896508c9cdd9bc020e2a93e10f438"
  },
  "kernelspec": {
   "display_name": "Python 3 (ipykernel)",
   "language": "python",
   "name": "python3"
  },
  "language_info": {
   "codemirror_mode": {
    "name": "ipython",
    "version": 3
   },
   "file_extension": ".py",
   "mimetype": "text/x-python",
   "name": "python",
   "nbconvert_exporter": "python",
   "pygments_lexer": "ipython3",
   "version": "3.9.7"
  }
 },
 "nbformat": 4,
 "nbformat_minor": 5
}
