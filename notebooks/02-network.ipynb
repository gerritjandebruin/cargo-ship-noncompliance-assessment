{
 "cells": [
  {
   "cell_type": "code",
   "execution_count": 1,
   "id": "ffee69a5-3370-4439-bab1-c0a24cc2c349",
   "metadata": {
    "execution": {
     "iopub.execute_input": "2021-11-10T12:29:00.285386Z",
     "iopub.status.busy": "2021-11-10T12:29:00.285261Z",
     "iopub.status.idle": "2021-11-10T12:29:14.549106Z",
     "shell.execute_reply": "2021-11-10T12:29:14.548093Z",
     "shell.execute_reply.started": "2021-11-10T12:29:00.285345Z"
    },
    "tags": []
   },
   "outputs": [],
   "source": [
    "import os\n",
    "import sys\n",
    "\n",
    "import contextily as cx\n",
    "import joblib\n",
    "from matplotlib import cm\n",
    "from matplotlib.colors import Normalize\n",
    "from matplotlib.ticker import MultipleLocator\n",
    "import matplotlib.pyplot as plt\n",
    "import networkx as nx\n",
    "import numpy as np\n",
    "import pandas as pd\n",
    "import seaborn as sns\n",
    "from tqdm.auto import tqdm\n",
    "\n",
    "os.chdir(os.path.dirname(os.getcwd()))\n",
    "\n",
    "from src import largest_weakly_connected_component\n",
    "import src"
   ]
  },
  {
   "cell_type": "markdown",
   "id": "b7f2f0df-ccee-421b-b205-51ea43c928cb",
   "metadata": {},
   "source": [
    "# Mobility network"
   ]
  },
  {
   "cell_type": "code",
   "execution_count": 2,
   "id": "3b0bb69e-ba5c-47d7-9b22-209846cb0fc8",
   "metadata": {
    "execution": {
     "iopub.execute_input": "2021-11-10T12:29:14.553953Z",
     "iopub.status.busy": "2021-11-10T12:29:14.553237Z",
     "iopub.status.idle": "2021-11-10T12:29:34.693925Z",
     "shell.execute_reply": "2021-11-10T12:29:34.692784Z",
     "shell.execute_reply.started": "2021-11-10T12:29:14.553905Z"
    },
    "tags": []
   },
   "outputs": [],
   "source": [
    "portcalls = joblib.load('data/portcalls_v3.pkl')\n",
    "selected = np.load('data/selected.npy', allow_pickle=True)\n",
    "portcalls_selected = portcalls.loc[lambda x: x['ship'].isin(selected)]\n",
    "\n",
    "edges = pd.concat([pd.DataFrame({'source': ship_df['port'].shift(1), 'target': ship_df['port']}).dropna() for _, ship_df in portcalls_selected.groupby('ship')])\n",
    "G = nx.from_pandas_edgelist(edges, create_using=nx.MultiDiGraph)\n",
    "Gc = largest_weakly_connected_component(G)"
   ]
  },
  {
   "cell_type": "markdown",
   "id": "243a2195-1ecd-4809-b873-e4932f0b838e",
   "metadata": {},
   "source": [
    "## Figure\n",
    "### Obtain UNLOCODE"
   ]
  },
  {
   "cell_type": "code",
   "execution_count": 3,
   "id": "35d50a08-f667-46c3-b24a-c55b4a80890b",
   "metadata": {
    "execution": {
     "iopub.execute_input": "2021-11-10T12:29:34.699888Z",
     "iopub.status.busy": "2021-11-10T12:29:34.699467Z",
     "iopub.status.idle": "2021-11-10T12:29:35.282811Z",
     "shell.execute_reply": "2021-11-10T12:29:35.281887Z",
     "shell.execute_reply.started": "2021-11-10T12:29:34.699860Z"
    },
    "tags": []
   },
   "outputs": [
    {
     "data": {
      "text/html": [
       "<div>\n",
       "<style scoped>\n",
       "    .dataframe tbody tr th:only-of-type {\n",
       "        vertical-align: middle;\n",
       "    }\n",
       "\n",
       "    .dataframe tbody tr th {\n",
       "        vertical-align: top;\n",
       "    }\n",
       "\n",
       "    .dataframe thead th {\n",
       "        text-align: right;\n",
       "    }\n",
       "</style>\n",
       "<table border=\"1\" class=\"dataframe\">\n",
       "  <thead>\n",
       "    <tr style=\"text-align: right;\">\n",
       "      <th></th>\n",
       "      <th>x</th>\n",
       "      <th>y</th>\n",
       "      <th>strength</th>\n",
       "    </tr>\n",
       "    <tr>\n",
       "      <th>label</th>\n",
       "      <th></th>\n",
       "      <th></th>\n",
       "      <th></th>\n",
       "    </tr>\n",
       "  </thead>\n",
       "  <tbody>\n",
       "    <tr>\n",
       "      <th>BEANR</th>\n",
       "      <td>4.25</td>\n",
       "      <td>51.13</td>\n",
       "      <td>10405</td>\n",
       "    </tr>\n",
       "    <tr>\n",
       "      <th>BEBON</th>\n",
       "      <td>4.14</td>\n",
       "      <td>51.06</td>\n",
       "      <td>28</td>\n",
       "    </tr>\n",
       "    <tr>\n",
       "      <th>BEBGS</th>\n",
       "      <td>3.14</td>\n",
       "      <td>51.13</td>\n",
       "      <td>812</td>\n",
       "    </tr>\n",
       "    <tr>\n",
       "      <th>BEGNK</th>\n",
       "      <td>5.30</td>\n",
       "      <td>50.58</td>\n",
       "      <td>44</td>\n",
       "    </tr>\n",
       "    <tr>\n",
       "      <th>BEGNE</th>\n",
       "      <td>3.43</td>\n",
       "      <td>51.03</td>\n",
       "      <td>2821</td>\n",
       "    </tr>\n",
       "    <tr>\n",
       "      <th>...</th>\n",
       "      <td>...</td>\n",
       "      <td>...</td>\n",
       "      <td>...</td>\n",
       "    </tr>\n",
       "    <tr>\n",
       "      <th>SEVST</th>\n",
       "      <td>16.33</td>\n",
       "      <td>59.37</td>\n",
       "      <td>548</td>\n",
       "    </tr>\n",
       "    <tr>\n",
       "      <th>SEVVK</th>\n",
       "      <td>16.38</td>\n",
       "      <td>57.45</td>\n",
       "      <td>48</td>\n",
       "    </tr>\n",
       "    <tr>\n",
       "      <th>SEVBY</th>\n",
       "      <td>18.18</td>\n",
       "      <td>57.38</td>\n",
       "      <td>38</td>\n",
       "    </tr>\n",
       "    <tr>\n",
       "      <th>SEWAL</th>\n",
       "      <td>11.42</td>\n",
       "      <td>58.01</td>\n",
       "      <td>126</td>\n",
       "    </tr>\n",
       "    <tr>\n",
       "      <th>SEYST</th>\n",
       "      <td>13.49</td>\n",
       "      <td>55.25</td>\n",
       "      <td>39</td>\n",
       "    </tr>\n",
       "  </tbody>\n",
       "</table>\n",
       "<p>775 rows × 3 columns</p>\n",
       "</div>"
      ],
      "text/plain": [
       "           x      y  strength\n",
       "label                        \n",
       "BEANR   4.25  51.13     10405\n",
       "BEBON   4.14  51.06        28\n",
       "BEBGS   3.14  51.13       812\n",
       "BEGNK   5.30  50.58        44\n",
       "BEGNE   3.43  51.03      2821\n",
       "...      ...    ...       ...\n",
       "SEVST  16.33  59.37       548\n",
       "SEVVK  16.38  57.45        48\n",
       "SEVBY  18.18  57.38        38\n",
       "SEWAL  11.42  58.01       126\n",
       "SEYST  13.49  55.25        39\n",
       "\n",
       "[775 rows x 3 columns]"
      ]
     },
     "execution_count": 3,
     "metadata": {},
     "output_type": "execute_result"
    }
   ],
   "source": [
    "objs = [\n",
    "    pd.read_csv(\n",
    "        f'data/raw/2021-1 UNLOCODE CodeListPart{i}.csv', encoding_errors='ignore', \n",
    "        names=['Ch', 'LOCODE_country', 'LOCODE_city', 'Name', 'NameWoDiacritics', 'SubDiv', 'Function', 'Status', 'Date', 'IATA', 'Coordinates', 'Remarks']\n",
    "    )\n",
    "    for i in (1,2,3)\n",
    "]\n",
    "nodes = pd.concat(objs).dropna(subset=['Coordinates'])\n",
    "\n",
    "Latitude = list()\n",
    "Longitude = list()\n",
    "for lat_str, long_str in nodes['Coordinates'].str.split():\n",
    "    sign_lat = -1 if lat_str[-1] == 'S' else 1\n",
    "    sign_long = -1 if long_str[-1] == 'W' else 1\n",
    "    Latitude.append(sign_lat * float(lat_str[:-1]) / 100)\n",
    "    Longitude.append(sign_long * float(long_str[:-1]) / 100)\n",
    "labels = nodes['LOCODE_country'] + nodes['LOCODE_city']\n",
    "\n",
    "data = {'x': Longitude, 'y': Latitude, 'label': labels}\n",
    "def get_strength(x):\n",
    "    return [Gc.degree(node) for node in x.index]\n",
    "\n",
    "nodes = (\n",
    "    pd.DataFrame(data)\n",
    "    .drop_duplicates(subset='label')\n",
    "    .set_index('label')\n",
    "    .loc[lambda x: x.index.isin(Gc)]\n",
    "    .assign(strength=get_strength)\n",
    "    .loc[lambda x: x.strength > 10]\n",
    ")\n",
    "nodes"
   ]
  },
  {
   "cell_type": "markdown",
   "id": "24f16610-0776-428b-be8a-0ae5b2bdd4a2",
   "metadata": {},
   "source": [
    "### Select edges with known location"
   ]
  },
  {
   "cell_type": "code",
   "execution_count": 4,
   "id": "6ecb3e05-77d0-4af8-9ee2-62feb72300b8",
   "metadata": {
    "execution": {
     "iopub.execute_input": "2021-11-10T12:29:35.286194Z",
     "iopub.status.busy": "2021-11-10T12:29:35.286070Z",
     "iopub.status.idle": "2021-11-10T12:29:35.348520Z",
     "shell.execute_reply": "2021-11-10T12:29:35.347576Z",
     "shell.execute_reply.started": "2021-11-10T12:29:35.286178Z"
    },
    "tags": []
   },
   "outputs": [
    {
     "data": {
      "text/html": [
       "<div>\n",
       "<style scoped>\n",
       "    .dataframe tbody tr th:only-of-type {\n",
       "        vertical-align: middle;\n",
       "    }\n",
       "\n",
       "    .dataframe tbody tr th {\n",
       "        vertical-align: top;\n",
       "    }\n",
       "\n",
       "    .dataframe thead th {\n",
       "        text-align: right;\n",
       "    }\n",
       "</style>\n",
       "<table border=\"1\" class=\"dataframe\">\n",
       "  <thead>\n",
       "    <tr style=\"text-align: right;\">\n",
       "      <th></th>\n",
       "      <th>source</th>\n",
       "      <th>target</th>\n",
       "      <th>weight</th>\n",
       "    </tr>\n",
       "  </thead>\n",
       "  <tbody>\n",
       "    <tr>\n",
       "      <th>0</th>\n",
       "      <td>GBLRP</td>\n",
       "      <td>GBBEL</td>\n",
       "      <td>3955</td>\n",
       "    </tr>\n",
       "    <tr>\n",
       "      <th>1</th>\n",
       "      <td>GBBEL</td>\n",
       "      <td>GBLRP</td>\n",
       "      <td>3954</td>\n",
       "    </tr>\n",
       "    <tr>\n",
       "      <th>2</th>\n",
       "      <td>FRBON</td>\n",
       "      <td>ITSTE</td>\n",
       "      <td>3101</td>\n",
       "    </tr>\n",
       "    <tr>\n",
       "      <th>3</th>\n",
       "      <td>ITSTE</td>\n",
       "      <td>FRBON</td>\n",
       "      <td>3099</td>\n",
       "    </tr>\n",
       "    <tr>\n",
       "      <th>4</th>\n",
       "      <td>FRCQF</td>\n",
       "      <td>FRCQF</td>\n",
       "      <td>1902</td>\n",
       "    </tr>\n",
       "    <tr>\n",
       "      <th>...</th>\n",
       "      <td>...</td>\n",
       "      <td>...</td>\n",
       "      <td>...</td>\n",
       "    </tr>\n",
       "    <tr>\n",
       "      <th>19039</th>\n",
       "      <td>EEPLS</td>\n",
       "      <td>NOMQN</td>\n",
       "      <td>1</td>\n",
       "    </tr>\n",
       "    <tr>\n",
       "      <th>19040</th>\n",
       "      <td>EEPLS</td>\n",
       "      <td>NOMON</td>\n",
       "      <td>1</td>\n",
       "    </tr>\n",
       "    <tr>\n",
       "      <th>19041</th>\n",
       "      <td>ITNAP</td>\n",
       "      <td>ITMFR</td>\n",
       "      <td>1</td>\n",
       "    </tr>\n",
       "    <tr>\n",
       "      <th>19042</th>\n",
       "      <td>EEPLS</td>\n",
       "      <td>MTMAR</td>\n",
       "      <td>1</td>\n",
       "    </tr>\n",
       "    <tr>\n",
       "      <th>19043</th>\n",
       "      <td>ITGAE</td>\n",
       "      <td>ITVCE</td>\n",
       "      <td>1</td>\n",
       "    </tr>\n",
       "  </tbody>\n",
       "</table>\n",
       "<p>19044 rows × 3 columns</p>\n",
       "</div>"
      ],
      "text/plain": [
       "      source target  weight\n",
       "0      GBLRP  GBBEL    3955\n",
       "1      GBBEL  GBLRP    3954\n",
       "2      FRBON  ITSTE    3101\n",
       "3      ITSTE  FRBON    3099\n",
       "4      FRCQF  FRCQF    1902\n",
       "...      ...    ...     ...\n",
       "19039  EEPLS  NOMQN       1\n",
       "19040  EEPLS  NOMON       1\n",
       "19041  ITNAP  ITMFR       1\n",
       "19042  EEPLS  MTMAR       1\n",
       "19043  ITGAE  ITVCE       1\n",
       "\n",
       "[19044 rows x 3 columns]"
      ]
     },
     "execution_count": 4,
     "metadata": {},
     "output_type": "execute_result"
    }
   ],
   "source": [
    "def select_only_edges_with_location(x):\n",
    "    values = nodes.index\n",
    "    return x['source'].isin(values) & x['target'].isin(values)\n",
    "    \n",
    "selected_edges = (\n",
    "    edges\n",
    "    .loc[select_only_edges_with_location]\n",
    "    .value_counts()\n",
    "    .reset_index()\n",
    "    .rename(columns={0:'weight'})\n",
    ")\n",
    "selected_edges"
   ]
  },
  {
   "cell_type": "markdown",
   "id": "bdece140-af17-4eaa-880f-56600393452b",
   "metadata": {},
   "source": [
    "### Plot"
   ]
  },
  {
   "cell_type": "code",
   "execution_count": 6,
   "id": "710e818f-dc0c-4502-bb7a-1f8a5082bcfe",
   "metadata": {
    "execution": {
     "iopub.execute_input": "2021-11-10T12:35:57.460801Z",
     "iopub.status.busy": "2021-11-10T12:35:57.459368Z",
     "iopub.status.idle": "2021-11-10T12:36:29.583203Z",
     "shell.execute_reply": "2021-11-10T12:36:29.582401Z",
     "shell.execute_reply.started": "2021-11-10T12:35:57.460752Z"
    },
    "tags": []
   },
   "outputs": [
    {
     "data": {
      "image/png": "[encoded data removed]",
      "text/plain": [
       "<Figure size 347.04x231.12 with 2 Axes>"
      ]
     },
     "metadata": {
      "needs_background": "light"
     },
     "output_type": "display_data"
    }
   ],
   "source": [
    "cmap = cm.get_cmap('viridis')\n",
    "colors = [cmap(i/5, alpha=i/5) for i in nodes.strength]\n",
    "fig, ax = plt.subplots(figsize=(4.82,3.21), constrained_layout=True)\n",
    "for edge in selected_edges.itertuples():\n",
    "    source_location = nodes.loc[edge.source]\n",
    "    target_location = nodes.loc[edge.target]\n",
    "    if edge.weight > 1000:\n",
    "        alpha=.05\n",
    "    elif edge.weight > 100:\n",
    "        alpha=.02\n",
    "    elif edge.weight > 10:\n",
    "        alpha=.01\n",
    "    else:\n",
    "        alpha=.005\n",
    "    ax.plot((source_location.x, target_location.x), (source_location.y, target_location.y), color='darkblue', alpha=alpha, lw=2*np.log10(edge.weight))\n",
    "ax.scatter(x=nodes.x, y=nodes.y, c=np.log10(nodes.strength), s=np.log10(nodes.strength)*10, cmap='viridis', norm=Normalize(0, 5), alpha=1)\n",
    "fig.colorbar(cm.ScalarMappable(norm=Normalize(0, 5), cmap='viridis'), ax=ax, shrink=0.80, label=r'$\\log(\\mathrm{strength})$')\n",
    "ax.xaxis.set_ticks_position('both')\n",
    "ax.xaxis.set_minor_locator(MultipleLocator(1))\n",
    "ax.yaxis.set_ticks_position('both')\n",
    "ax.yaxis.set_minor_locator(MultipleLocator(1))\n",
    "ax.set_xlim(-30, 40)\n",
    "ax.set_ylim(25, 70)\n",
    "ax.set_xlabel('Longitude')\n",
    "ax.set_ylabel('Latitude')\n",
    "cx.add_basemap(ax, crs='WGS84', attribution=False, zoom=3, interpolation='sinc', source=cx.providers.CartoDB.Voyager)\n",
    "\n",
    "fig.savefig('fig/network.pdf')"
   ]
  },
  {
   "cell_type": "markdown",
   "id": "cf9f814c-ec23-474c-a762-c811fcff6081",
   "metadata": {},
   "source": [
    "## Stats\n",
    "### Calculate distance distribution"
   ]
  },
  {
   "cell_type": "code",
   "execution_count": null,
   "id": "ff408d2b-aea8-49f3-97d4-8256143dc635",
   "metadata": {
    "execution": {
     "iopub.status.busy": "2021-11-10T12:29:35.539600Z",
     "iopub.status.idle": "2021-11-10T12:29:35.539774Z",
     "shell.execute_reply": "2021-11-10T12:29:35.539691Z",
     "shell.execute_reply.started": "2021-11-10T12:29:35.539682Z"
    },
    "tags": []
   },
   "outputs": [],
   "source": [
    "!printf '%s\\n' 'load_undirected /data/bruingjde/on-going/portcall/cache/network.edges' 'dist_distri' > \"cache/input.txt\"\n",
    "nx.write_edgelist(nx.convert_node_labels_to_integers(nx.Graph(Gc)), 'cache/network.edges', data=False)\n",
    "! /data/bruingjde/teexgraph/teexgraph < cache/input.txt > cache/output.txt\n",
    "output_teexgraph = pd.read_csv('cache/output.txt', sep='\\t', names=['distance', 'counts'])\n",
    "os.remove('cache/network.edges')\n",
    "os.remove('cache/input.txt')\n",
    "os.remove('cache/output.txt')\n",
    "output_teexgraph"
   ]
  },
  {
   "cell_type": "markdown",
   "id": "296924f6-88d6-48ba-8abe-94ac5b188cb9",
   "metadata": {},
   "source": [
    "### Summary"
   ]
  },
  {
   "cell_type": "code",
   "execution_count": null,
   "id": "49bff1cb-427e-48e7-bf47-6b3fc9d21003",
   "metadata": {
    "execution": {
     "iopub.status.busy": "2021-11-10T12:29:35.542816Z",
     "iopub.status.idle": "2021-11-10T12:29:35.543011Z",
     "shell.execute_reply": "2021-11-10T12:29:35.542912Z",
     "shell.execute_reply.started": "2021-11-10T12:29:35.542904Z"
    },
    "tags": []
   },
   "outputs": [],
   "source": [
    "{\n",
    "    'number of nodes': G.number_of_nodes(),\n",
    "    'number of nodes in GC': Gc.number_of_nodes(),\n",
    "    'number of edges': G.number_of_edges(),\n",
    "    'fraction of edges in GC': Gc.number_of_edges(),\n",
    "    'density': nx.density(nx.Graph(Gc)),\n",
    "    'diameter': output_teexgraph['distance'].max(),\n",
    "    'average distance': np.average(output_teexgraph['distance'], weights=output_teexgraph['counts']),\n",
    "    'clustering coefficient': nx.average_clustering(nx.Graph(Gc)),\n",
    "    'degree assortativity': nx.degree_assortativity_coefficient(nx.Graph(Gc))\n",
    "}"
   ]
  },
  {
   "cell_type": "code",
   "execution_count": null,
   "id": "35cd99f4-0a15-4965-ae7b-58d6d8bf4aa7",
   "metadata": {},
   "outputs": [],
   "source": []
  }
 ],
 "metadata": {
  "interpreter": {
   "hash": "12e05678aec5d01903c565c4746362f9679a97f0739a2bb5a61d0e442f10996c"
  },
  "kernelspec": {
   "display_name": "Python 3 (ipykernel)",
   "language": "python",
   "name": "python3"
  },
  "language_info": {
   "codemirror_mode": {
    "name": "ipython",
    "version": 3
   },
   "file_extension": ".py",
   "mimetype": "text/x-python",
   "name": "python",
   "nbconvert_exporter": "python",
   "pygments_lexer": "ipython3",
   "version": "3.9.7"
  }
 },
 "nbformat": 4,
 "nbformat_minor": 5
}
