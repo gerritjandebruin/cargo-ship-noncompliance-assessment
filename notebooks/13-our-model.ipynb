{
 "cells": [
  {
   "cell_type": "code",
   "execution_count": 1,
   "id": "d96048b9-fd48-4be0-8761-e854d407be9f",
   "metadata": {
    "execution": {
     "iopub.execute_input": "2021-11-10T13:02:36.661288Z",
     "iopub.status.busy": "2021-11-10T13:02:36.661041Z",
     "iopub.status.idle": "2021-11-10T13:02:37.984071Z",
     "shell.execute_reply": "2021-11-10T13:02:37.983581Z",
     "shell.execute_reply.started": "2021-11-10T13:02:36.661218Z"
    },
    "tags": []
   },
   "outputs": [],
   "source": [
    "import json\n",
    "import os\n",
    "from pathlib import Path\n",
    "import sys\n",
    "import time\n",
    "\n",
    "import joblib\n",
    "from matplotlib.ticker import MultipleLocator\n",
    "import matplotlib.pyplot as plt\n",
    "import numpy as np\n",
    "import pandas as pd\n",
    "import seaborn as sns\n",
    "import sklearn.ensemble\n",
    "import sklearn.feature_selection\n",
    "import sklearn.metrics\n",
    "import sklearn.model_selection\n",
    "from tqdm.auto import tqdm\n",
    "\n",
    "os.chdir(str(Path.cwd().parents[0]))\n",
    "import src\n",
    "\n",
    "X, y, s = src.get_Xys()\n",
    "y = y>0\n",
    "ys = y + 3*s\n",
    "\n",
    "cache_dir = 'cache/modelB'\n",
    "\n",
    "skf = sklearn.model_selection.StratifiedKFold(shuffle=True, random_state=42)\n",
    "outer_folds = list(enumerate(skf.split(X=X, y=ys)))\n",
    "# E.g. for train_idx, val_idx in inner_folds:\n",
    "#           X[train_idx]...\n",
    "inner_folds = [\n",
    "    ((outer_idx, inner_idx), (trainval_idx[train_idx], trainval_idx[val_idx]))\n",
    "    for outer_idx, (trainval_idx, _) in outer_folds\n",
    "    for inner_idx, (train_idx, val_idx)\n",
    "    in enumerate(skf.split(X=X[trainval_idx], y=ys[trainval_idx]))\n",
    "]\n",
    "params = [\n",
    "    (int(max_depth), int(n_bins), float(orthogonality))\n",
    "    for n_bins in (2,)\n",
    "    for max_depth in np.arange(1, 11) \n",
    "    for orthogonality in np.linspace(0, 1, 11)\n",
    "]"
   ]
  },
  {
   "cell_type": "markdown",
   "id": "73bc73d0-6449-45a7-89c1-6a679021868b",
   "metadata": {},
   "source": [
    "# Learn on every outer fold"
   ]
  },
  {
   "cell_type": "code",
   "execution_count": 2,
   "id": "66b3e7bb-ae0d-40e2-a492-494cb58080b0",
   "metadata": {
    "execution": {
     "iopub.execute_input": "2021-11-10T13:02:37.984947Z",
     "iopub.status.busy": "2021-11-10T13:02:37.984825Z",
     "iopub.status.idle": "2021-11-10T13:02:38.009880Z",
     "shell.execute_reply": "2021-11-10T13:02:38.009569Z",
     "shell.execute_reply.started": "2021-11-10T13:02:37.984931Z"
    },
    "tags": []
   },
   "outputs": [
    {
     "name": "stdout",
     "output_type": "stream",
     "text": [
      "Number of iterations: 550\n"
     ]
    },
    {
     "data": {
      "application/vnd.jupyter.widget-view+json": {
       "model_id": "6cb7ec7c79934fb69fb3f15b4975276e",
       "version_major": 2,
       "version_minor": 0
      },
      "text/plain": [
       "  0%|          | 0/550 [00:00<?, ?it/s]"
      ]
     },
     "metadata": {},
     "output_type": "display_data"
    }
   ],
   "source": [
    "iterations = [\n",
    "    (max_depth, n_bins, orthogonality, fold, trainval_idx, test_idx)\n",
    "    for max_depth, n_bins, orthogonality in params\n",
    "    for fold, (trainval_idx, test_idx) in outer_folds\n",
    "]\n",
    "print(f\"Number of iterations: {len(iterations)}\")\n",
    "\n",
    "for max_depth, n_bins, ortho, fold, trainval_idx, test_idx in tqdm(iterations):\n",
    "    filepath = f'{cache_dir}/{max_depth}-{ortho:.2f}-{n_bins}-{fold}.pkl'\n",
    "    if os.path.isfile(filepath):\n",
    "        continue\n",
    "    X_trainval = X[trainval_idx]\n",
    "    y_trainval = y[trainval_idx]\n",
    "    s_trainval = s[trainval_idx]\n",
    "    \n",
    "    vt = sklearn.feature_selection.VarianceThreshold()\n",
    "    vt.fit(X_trainval)\n",
    "    X_trainval = vt.transform(X_trainval)\n",
    "    \n",
    "    clf = src.FairRandomForestClassifier(n_estimators=100, \n",
    "                                         n_jobs=100, \n",
    "                                         orthogonality=ortho,\n",
    "                                         max_depth=max_depth,\n",
    "                                         n_bins=n_bins)\n",
    "    start_fit = time.time()\n",
    "    clf.fit(X_trainval, y_trainval, s_trainval)\n",
    "    clf.fit_time = time.time() - start_fit\n",
    "    joblib.dump(clf, filepath)"
   ]
  },
  {
   "cell_type": "markdown",
   "id": "6b38b0bd-b80b-45bc-ba42-e3c446a66f16",
   "metadata": {},
   "source": [
    "# Learn on every inner fold"
   ]
  },
  {
   "cell_type": "code",
   "execution_count": 3,
   "id": "5028430f-5276-4b1f-9555-b05772d5d92d",
   "metadata": {
    "execution": {
     "iopub.execute_input": "2021-11-10T13:02:38.010955Z",
     "iopub.status.busy": "2021-11-10T13:02:38.010795Z",
     "iopub.status.idle": "2021-11-10T13:02:38.101658Z",
     "shell.execute_reply": "2021-11-10T13:02:38.101329Z",
     "shell.execute_reply.started": "2021-11-10T13:02:38.010940Z"
    },
    "tags": []
   },
   "outputs": [
    {
     "name": "stdout",
     "output_type": "stream",
     "text": [
      "Number of iterations: 0\n"
     ]
    },
    {
     "data": {
      "application/vnd.jupyter.widget-view+json": {
       "model_id": "63a19527e805489a959686dd5fcd7793",
       "version_major": 2,
       "version_minor": 0
      },
      "text/plain": [
       "0it [00:00, ?it/s]"
      ]
     },
     "metadata": {},
     "output_type": "display_data"
    }
   ],
   "source": [
    "iterations = [\n",
    "    (max_depth, n_bins, orthogonality, outer_fold, inner_fold, \n",
    "     train_idx, val_idx)\n",
    "    for max_depth, n_bins, orthogonality in params\n",
    "    for (outer_fold, inner_fold), (train_idx, val_idx) in inner_folds\n",
    "    if not os.path.isfile(f'{cache_dir}/{max_depth}-{ortho:.2f}-{n_bins}-{outer_fold}-{inner_fold}.pkl')\n",
    "]\n",
    "print(f\"Number of iterations: {len(iterations)}\")\n",
    "\n",
    "for max_depth, n_bins, ortho, outer_fold, inner_fold, train_idx, val_idx in tqdm(iterations):\n",
    "    filepath = f'{cache_dir}/{max_depth}-{ortho:.2f}-{n_bins}-{outer_fold}-{inner_fold}.pkl'\n",
    "    X_train = X[train_idx]\n",
    "    y_train = y[train_idx]\n",
    "    s_train = s[train_idx]\n",
    "    vt = sklearn.feature_selection.VarianceThreshold()\n",
    "    vt.fit(X_train)\n",
    "    X_train = vt.transform(X_train)\n",
    "    clf = src.FairRandomForestClassifier(n_estimators=100, \n",
    "                                         n_jobs=100, \n",
    "                                         orthogonality=ortho,\n",
    "                                         max_depth=max_depth,\n",
    "                                         n_bins=n_bins)\n",
    "    start_fit = time.time()\n",
    "    clf.fit(X_train, y_train, s_train)\n",
    "    clf.fit_time = time.time() - start_fit\n",
    "    joblib.dump(clf, filepath)"
   ]
  },
  {
   "cell_type": "markdown",
   "id": "c43c3d73-850e-4e82-925b-580f5e3d3d99",
   "metadata": {},
   "source": [
    "# Predict on all outer folds"
   ]
  },
  {
   "cell_type": "code",
   "execution_count": 4,
   "id": "8f4cb5b6-87eb-45b8-b147-24bbdde32fc0",
   "metadata": {
    "execution": {
     "iopub.execute_input": "2021-11-10T13:02:38.102294Z",
     "iopub.status.busy": "2021-11-10T13:02:38.102175Z",
     "iopub.status.idle": "2021-11-10T13:02:38.145334Z",
     "shell.execute_reply": "2021-11-10T13:02:38.145033Z",
     "shell.execute_reply.started": "2021-11-10T13:02:38.102279Z"
    },
    "tags": []
   },
   "outputs": [
    {
     "name": "stdout",
     "output_type": "stream",
     "text": [
      "Number of iterations: 550\n"
     ]
    },
    {
     "data": {
      "application/vnd.jupyter.widget-view+json": {
       "model_id": "e1ce2a524dc4437ea9809ffb76d5e794",
       "version_major": 2,
       "version_minor": 0
      },
      "text/plain": [
       "  0%|          | 0/550 [00:00<?, ?it/s]"
      ]
     },
     "metadata": {},
     "output_type": "display_data"
    }
   ],
   "source": [
    "iterations = [\n",
    "    (max_depth, n_bins, orthogonality, fold, trainval_idx, test_idx)\n",
    "    for max_depth, n_bins, orthogonality in params\n",
    "    for fold, (trainval_idx, test_idx) in outer_folds\n",
    "]\n",
    "print(f\"Number of iterations: {len(iterations)}\")\n",
    "\n",
    "for max_depth, n_bins, ortho, fold, trainval_idx, test_idx in tqdm(iterations):\n",
    "    filepath = f'{cache_dir}/{max_depth}-{ortho:.2f}-{n_bins}-{fold}'\n",
    "    if os.path.isfile(f'{filepath}.npy'):\n",
    "        continue\n",
    "    \n",
    "    X_trainval = X[trainval_idx]\n",
    "    X_test = X[test_idx]\n",
    "    \n",
    "    vt = sklearn.feature_selection.VarianceThreshold()\n",
    "    vt.fit(X_trainval)\n",
    "    X_trainval = vt.transform(X_trainval)\n",
    "    X_test = vt.transform(X_test)\n",
    "    \n",
    "    clf = joblib.load(f'{filepath}.pkl')\n",
    "    y_score = clf.predict_proba(X_test)[:,1]\n",
    "    np.save(f'{filepath}.npy', y_score)"
   ]
  },
  {
   "cell_type": "markdown",
   "id": "f71414f9-e071-47f7-974a-55fe587d0af5",
   "metadata": {},
   "source": [
    "# Predict on all inner folds"
   ]
  },
  {
   "cell_type": "code",
   "execution_count": 5,
   "id": "4ccb9e98-1977-4e44-8485-a57510da296f",
   "metadata": {
    "execution": {
     "iopub.execute_input": "2021-11-10T13:02:38.145955Z",
     "iopub.status.busy": "2021-11-10T13:02:38.145854Z",
     "iopub.status.idle": "2021-11-10T13:02:38.234011Z",
     "shell.execute_reply": "2021-11-10T13:02:38.233696Z",
     "shell.execute_reply.started": "2021-11-10T13:02:38.145942Z"
    }
   },
   "outputs": [
    {
     "name": "stdout",
     "output_type": "stream",
     "text": [
      "Number of iterations: 2750\n"
     ]
    },
    {
     "data": {
      "application/vnd.jupyter.widget-view+json": {
       "model_id": "fa608cf782cd41289f1bc31c2ea9e26d",
       "version_major": 2,
       "version_minor": 0
      },
      "text/plain": [
       "  0%|          | 0/2750 [00:00<?, ?it/s]"
      ]
     },
     "metadata": {},
     "output_type": "display_data"
    }
   ],
   "source": [
    "iterations = [\n",
    "    (max_depth, n_bins, orthogonality, outer_fold, inner_fold, \n",
    "     train_idx, val_idx)\n",
    "    for max_depth, n_bins, orthogonality in params\n",
    "    for (outer_fold, inner_fold), (train_idx, val_idx) in inner_folds\n",
    "]\n",
    "print(f\"Number of iterations: {len(iterations)}\")\n",
    "\n",
    "for max_depth, n_bins, ortho, outer_fold, inner_fold, train_idx, val_idx in tqdm(iterations):\n",
    "    filepath = f'{cache_dir}/{max_depth}-{ortho:.2f}-{n_bins}-{outer_fold}-{inner_fold}'\n",
    "    if os.path.isfile(f'{filepath}.npy'):\n",
    "        continue\n",
    "    X_train = X[train_idx]\n",
    "    X_val = X[val_idx]\n",
    "    \n",
    "    vt = sklearn.feature_selection.VarianceThreshold()\n",
    "    vt.fit(X_train)\n",
    "    X_train = vt.transform(X_train)\n",
    "    X_val = vt.transform(X_val)\n",
    "    \n",
    "    clf = joblib.load(f'{filepath}.pkl')\n",
    "    y_score = clf.predict_proba(X_val)[:,1]\n",
    "    np.save(f'{filepath}.npy', y_score)"
   ]
  },
  {
   "cell_type": "markdown",
   "id": "ed795c1a-c44b-4cb3-a3f9-46fef700bbb6",
   "metadata": {},
   "source": [
    "# Measure performance for every outer loop"
   ]
  },
  {
   "cell_type": "code",
   "execution_count": 6,
   "id": "80420443-8ea2-45ab-ae61-40a405c8bd64",
   "metadata": {
    "execution": {
     "iopub.execute_input": "2021-11-10T13:02:38.234613Z",
     "iopub.status.busy": "2021-11-10T13:02:38.234499Z",
     "iopub.status.idle": "2021-11-10T13:02:45.523689Z",
     "shell.execute_reply": "2021-11-10T13:02:45.522968Z",
     "shell.execute_reply.started": "2021-11-10T13:02:38.234599Z"
    },
    "tags": []
   },
   "outputs": [
    {
     "name": "stdout",
     "output_type": "stream",
     "text": [
      "Number of iterations: 2750\n"
     ]
    },
    {
     "data": {
      "application/vnd.jupyter.widget-view+json": {
       "model_id": "b3e65b723e9a43a0890250951cdd1dce",
       "version_major": 2,
       "version_minor": 0
      },
      "text/plain": [
       "  0%|          | 0/2750 [00:00<?, ?it/s]"
      ]
     },
     "metadata": {},
     "output_type": "display_data"
    }
   ],
   "source": [
    "iterations = [\n",
    "    (max_depth, n_bins, orthogonality, outer_fold, inner_fold, \n",
    "     train_idx, val_idx)\n",
    "    for max_depth, n_bins, orthogonality in params\n",
    "    for (outer_fold, inner_fold), (train_idx, val_idx) in inner_folds\n",
    "]\n",
    "print(f\"Number of iterations: {len(iterations)}\")\n",
    "\n",
    "performance_all_candidates = list()\n",
    "for max_depth, n_bins, ortho, outer_fold, inner_fold, train_idx, val_idx in tqdm(iterations):\n",
    "    filepath = f'{cache_dir}/{max_depth}-{ortho:.2f}-{n_bins}-{outer_fold}-{inner_fold}'\n",
    "    y_score = np.load(f'{filepath}.npy')\n",
    "    \n",
    "    y_val = y[val_idx]\n",
    "    s_val = s[val_idx]\n",
    "    auc_y = sklearn.metrics.roc_auc_score(y_val, y_score)\n",
    "    auc_s = sklearn.metrics.roc_auc_score(s_val, y_score)\n",
    "    auc_s = max(auc_s, 1-auc_s)\n",
    "    \n",
    "    performance_all_candidates.append(\n",
    "        dict(max_depth=max_depth, n_bins=n_bins, orthogonality=ortho,\n",
    "             outer_fold=outer_fold, inner_fold=inner_fold, \n",
    "             auc_y=auc_y, auc_s=auc_s)\n",
    "    )"
   ]
  },
  {
   "cell_type": "markdown",
   "id": "9fe7adaa-2100-4477-8051-a1b64827d973",
   "metadata": {},
   "source": [
    "# Determine best parameters \n",
    "Determine for every value of orthogonality and for every outer fold"
   ]
  },
  {
   "cell_type": "code",
   "execution_count": 7,
   "id": "a406b6d5-4f47-4612-b96d-f173a3de2f7e",
   "metadata": {
    "execution": {
     "iopub.execute_input": "2021-11-10T13:02:45.524796Z",
     "iopub.status.busy": "2021-11-10T13:02:45.524671Z",
     "iopub.status.idle": "2021-11-10T13:02:45.551151Z",
     "shell.execute_reply": "2021-11-10T13:02:45.550547Z",
     "shell.execute_reply.started": "2021-11-10T13:02:45.524780Z"
    },
    "tags": []
   },
   "outputs": [
    {
     "data": {
      "text/html": [
       "<div>\n",
       "<style scoped>\n",
       "    .dataframe tbody tr th:only-of-type {\n",
       "        vertical-align: middle;\n",
       "    }\n",
       "\n",
       "    .dataframe tbody tr th {\n",
       "        vertical-align: top;\n",
       "    }\n",
       "\n",
       "    .dataframe thead th {\n",
       "        text-align: right;\n",
       "    }\n",
       "</style>\n",
       "<table border=\"1\" class=\"dataframe\">\n",
       "  <thead>\n",
       "    <tr style=\"text-align: right;\">\n",
       "      <th></th>\n",
       "      <th>orthogonality</th>\n",
       "      <th>outer_fold</th>\n",
       "      <th>max_depth</th>\n",
       "      <th>n_bins</th>\n",
       "    </tr>\n",
       "  </thead>\n",
       "  <tbody>\n",
       "    <tr>\n",
       "      <th>5</th>\n",
       "      <td>0.0</td>\n",
       "      <td>0</td>\n",
       "      <td>6</td>\n",
       "      <td>2</td>\n",
       "    </tr>\n",
       "    <tr>\n",
       "      <th>15</th>\n",
       "      <td>0.0</td>\n",
       "      <td>1</td>\n",
       "      <td>6</td>\n",
       "      <td>2</td>\n",
       "    </tr>\n",
       "    <tr>\n",
       "      <th>25</th>\n",
       "      <td>0.0</td>\n",
       "      <td>2</td>\n",
       "      <td>6</td>\n",
       "      <td>2</td>\n",
       "    </tr>\n",
       "    <tr>\n",
       "      <th>35</th>\n",
       "      <td>0.0</td>\n",
       "      <td>3</td>\n",
       "      <td>6</td>\n",
       "      <td>2</td>\n",
       "    </tr>\n",
       "    <tr>\n",
       "      <th>45</th>\n",
       "      <td>0.0</td>\n",
       "      <td>4</td>\n",
       "      <td>6</td>\n",
       "      <td>2</td>\n",
       "    </tr>\n",
       "    <tr>\n",
       "      <th>55</th>\n",
       "      <td>0.1</td>\n",
       "      <td>0</td>\n",
       "      <td>6</td>\n",
       "      <td>2</td>\n",
       "    </tr>\n",
       "    <tr>\n",
       "      <th>65</th>\n",
       "      <td>0.1</td>\n",
       "      <td>1</td>\n",
       "      <td>6</td>\n",
       "      <td>2</td>\n",
       "    </tr>\n",
       "    <tr>\n",
       "      <th>75</th>\n",
       "      <td>0.1</td>\n",
       "      <td>2</td>\n",
       "      <td>6</td>\n",
       "      <td>2</td>\n",
       "    </tr>\n",
       "    <tr>\n",
       "      <th>85</th>\n",
       "      <td>0.1</td>\n",
       "      <td>3</td>\n",
       "      <td>6</td>\n",
       "      <td>2</td>\n",
       "    </tr>\n",
       "    <tr>\n",
       "      <th>95</th>\n",
       "      <td>0.1</td>\n",
       "      <td>4</td>\n",
       "      <td>6</td>\n",
       "      <td>2</td>\n",
       "    </tr>\n",
       "    <tr>\n",
       "      <th>105</th>\n",
       "      <td>0.2</td>\n",
       "      <td>0</td>\n",
       "      <td>6</td>\n",
       "      <td>2</td>\n",
       "    </tr>\n",
       "    <tr>\n",
       "      <th>115</th>\n",
       "      <td>0.2</td>\n",
       "      <td>1</td>\n",
       "      <td>6</td>\n",
       "      <td>2</td>\n",
       "    </tr>\n",
       "    <tr>\n",
       "      <th>125</th>\n",
       "      <td>0.2</td>\n",
       "      <td>2</td>\n",
       "      <td>6</td>\n",
       "      <td>2</td>\n",
       "    </tr>\n",
       "    <tr>\n",
       "      <th>135</th>\n",
       "      <td>0.2</td>\n",
       "      <td>3</td>\n",
       "      <td>6</td>\n",
       "      <td>2</td>\n",
       "    </tr>\n",
       "    <tr>\n",
       "      <th>145</th>\n",
       "      <td>0.2</td>\n",
       "      <td>4</td>\n",
       "      <td>6</td>\n",
       "      <td>2</td>\n",
       "    </tr>\n",
       "    <tr>\n",
       "      <th>154</th>\n",
       "      <td>0.3</td>\n",
       "      <td>0</td>\n",
       "      <td>5</td>\n",
       "      <td>2</td>\n",
       "    </tr>\n",
       "    <tr>\n",
       "      <th>164</th>\n",
       "      <td>0.3</td>\n",
       "      <td>1</td>\n",
       "      <td>5</td>\n",
       "      <td>2</td>\n",
       "    </tr>\n",
       "    <tr>\n",
       "      <th>174</th>\n",
       "      <td>0.3</td>\n",
       "      <td>2</td>\n",
       "      <td>5</td>\n",
       "      <td>2</td>\n",
       "    </tr>\n",
       "    <tr>\n",
       "      <th>184</th>\n",
       "      <td>0.3</td>\n",
       "      <td>3</td>\n",
       "      <td>5</td>\n",
       "      <td>2</td>\n",
       "    </tr>\n",
       "    <tr>\n",
       "      <th>195</th>\n",
       "      <td>0.3</td>\n",
       "      <td>4</td>\n",
       "      <td>6</td>\n",
       "      <td>2</td>\n",
       "    </tr>\n",
       "    <tr>\n",
       "      <th>204</th>\n",
       "      <td>0.4</td>\n",
       "      <td>0</td>\n",
       "      <td>5</td>\n",
       "      <td>2</td>\n",
       "    </tr>\n",
       "    <tr>\n",
       "      <th>214</th>\n",
       "      <td>0.4</td>\n",
       "      <td>1</td>\n",
       "      <td>5</td>\n",
       "      <td>2</td>\n",
       "    </tr>\n",
       "    <tr>\n",
       "      <th>224</th>\n",
       "      <td>0.4</td>\n",
       "      <td>2</td>\n",
       "      <td>5</td>\n",
       "      <td>2</td>\n",
       "    </tr>\n",
       "    <tr>\n",
       "      <th>234</th>\n",
       "      <td>0.4</td>\n",
       "      <td>3</td>\n",
       "      <td>5</td>\n",
       "      <td>2</td>\n",
       "    </tr>\n",
       "    <tr>\n",
       "      <th>244</th>\n",
       "      <td>0.4</td>\n",
       "      <td>4</td>\n",
       "      <td>5</td>\n",
       "      <td>2</td>\n",
       "    </tr>\n",
       "    <tr>\n",
       "      <th>254</th>\n",
       "      <td>0.5</td>\n",
       "      <td>0</td>\n",
       "      <td>5</td>\n",
       "      <td>2</td>\n",
       "    </tr>\n",
       "    <tr>\n",
       "      <th>264</th>\n",
       "      <td>0.5</td>\n",
       "      <td>1</td>\n",
       "      <td>5</td>\n",
       "      <td>2</td>\n",
       "    </tr>\n",
       "    <tr>\n",
       "      <th>274</th>\n",
       "      <td>0.5</td>\n",
       "      <td>2</td>\n",
       "      <td>5</td>\n",
       "      <td>2</td>\n",
       "    </tr>\n",
       "    <tr>\n",
       "      <th>284</th>\n",
       "      <td>0.5</td>\n",
       "      <td>3</td>\n",
       "      <td>5</td>\n",
       "      <td>2</td>\n",
       "    </tr>\n",
       "    <tr>\n",
       "      <th>294</th>\n",
       "      <td>0.5</td>\n",
       "      <td>4</td>\n",
       "      <td>5</td>\n",
       "      <td>2</td>\n",
       "    </tr>\n",
       "    <tr>\n",
       "      <th>303</th>\n",
       "      <td>0.6</td>\n",
       "      <td>0</td>\n",
       "      <td>4</td>\n",
       "      <td>2</td>\n",
       "    </tr>\n",
       "    <tr>\n",
       "      <th>314</th>\n",
       "      <td>0.6</td>\n",
       "      <td>1</td>\n",
       "      <td>5</td>\n",
       "      <td>2</td>\n",
       "    </tr>\n",
       "    <tr>\n",
       "      <th>324</th>\n",
       "      <td>0.6</td>\n",
       "      <td>2</td>\n",
       "      <td>5</td>\n",
       "      <td>2</td>\n",
       "    </tr>\n",
       "    <tr>\n",
       "      <th>334</th>\n",
       "      <td>0.6</td>\n",
       "      <td>3</td>\n",
       "      <td>5</td>\n",
       "      <td>2</td>\n",
       "    </tr>\n",
       "    <tr>\n",
       "      <th>344</th>\n",
       "      <td>0.6</td>\n",
       "      <td>4</td>\n",
       "      <td>5</td>\n",
       "      <td>2</td>\n",
       "    </tr>\n",
       "    <tr>\n",
       "      <th>353</th>\n",
       "      <td>0.7</td>\n",
       "      <td>0</td>\n",
       "      <td>4</td>\n",
       "      <td>2</td>\n",
       "    </tr>\n",
       "    <tr>\n",
       "      <th>363</th>\n",
       "      <td>0.7</td>\n",
       "      <td>1</td>\n",
       "      <td>4</td>\n",
       "      <td>2</td>\n",
       "    </tr>\n",
       "    <tr>\n",
       "      <th>373</th>\n",
       "      <td>0.7</td>\n",
       "      <td>2</td>\n",
       "      <td>4</td>\n",
       "      <td>2</td>\n",
       "    </tr>\n",
       "    <tr>\n",
       "      <th>383</th>\n",
       "      <td>0.7</td>\n",
       "      <td>3</td>\n",
       "      <td>4</td>\n",
       "      <td>2</td>\n",
       "    </tr>\n",
       "    <tr>\n",
       "      <th>394</th>\n",
       "      <td>0.7</td>\n",
       "      <td>4</td>\n",
       "      <td>5</td>\n",
       "      <td>2</td>\n",
       "    </tr>\n",
       "    <tr>\n",
       "      <th>403</th>\n",
       "      <td>0.8</td>\n",
       "      <td>0</td>\n",
       "      <td>4</td>\n",
       "      <td>2</td>\n",
       "    </tr>\n",
       "    <tr>\n",
       "      <th>413</th>\n",
       "      <td>0.8</td>\n",
       "      <td>1</td>\n",
       "      <td>4</td>\n",
       "      <td>2</td>\n",
       "    </tr>\n",
       "    <tr>\n",
       "      <th>423</th>\n",
       "      <td>0.8</td>\n",
       "      <td>2</td>\n",
       "      <td>4</td>\n",
       "      <td>2</td>\n",
       "    </tr>\n",
       "    <tr>\n",
       "      <th>433</th>\n",
       "      <td>0.8</td>\n",
       "      <td>3</td>\n",
       "      <td>4</td>\n",
       "      <td>2</td>\n",
       "    </tr>\n",
       "    <tr>\n",
       "      <th>444</th>\n",
       "      <td>0.8</td>\n",
       "      <td>4</td>\n",
       "      <td>5</td>\n",
       "      <td>2</td>\n",
       "    </tr>\n",
       "    <tr>\n",
       "      <th>453</th>\n",
       "      <td>0.9</td>\n",
       "      <td>0</td>\n",
       "      <td>4</td>\n",
       "      <td>2</td>\n",
       "    </tr>\n",
       "    <tr>\n",
       "      <th>465</th>\n",
       "      <td>0.9</td>\n",
       "      <td>1</td>\n",
       "      <td>6</td>\n",
       "      <td>2</td>\n",
       "    </tr>\n",
       "    <tr>\n",
       "      <th>474</th>\n",
       "      <td>0.9</td>\n",
       "      <td>2</td>\n",
       "      <td>5</td>\n",
       "      <td>2</td>\n",
       "    </tr>\n",
       "    <tr>\n",
       "      <th>484</th>\n",
       "      <td>0.9</td>\n",
       "      <td>3</td>\n",
       "      <td>5</td>\n",
       "      <td>2</td>\n",
       "    </tr>\n",
       "    <tr>\n",
       "      <th>495</th>\n",
       "      <td>0.9</td>\n",
       "      <td>4</td>\n",
       "      <td>6</td>\n",
       "      <td>2</td>\n",
       "    </tr>\n",
       "    <tr>\n",
       "      <th>500</th>\n",
       "      <td>1.0</td>\n",
       "      <td>0</td>\n",
       "      <td>1</td>\n",
       "      <td>2</td>\n",
       "    </tr>\n",
       "    <tr>\n",
       "      <th>510</th>\n",
       "      <td>1.0</td>\n",
       "      <td>1</td>\n",
       "      <td>1</td>\n",
       "      <td>2</td>\n",
       "    </tr>\n",
       "    <tr>\n",
       "      <th>528</th>\n",
       "      <td>1.0</td>\n",
       "      <td>2</td>\n",
       "      <td>9</td>\n",
       "      <td>2</td>\n",
       "    </tr>\n",
       "    <tr>\n",
       "      <th>531</th>\n",
       "      <td>1.0</td>\n",
       "      <td>3</td>\n",
       "      <td>2</td>\n",
       "      <td>2</td>\n",
       "    </tr>\n",
       "    <tr>\n",
       "      <th>541</th>\n",
       "      <td>1.0</td>\n",
       "      <td>4</td>\n",
       "      <td>2</td>\n",
       "      <td>2</td>\n",
       "    </tr>\n",
       "  </tbody>\n",
       "</table>\n",
       "</div>"
      ],
      "text/plain": [
       "     orthogonality  outer_fold  max_depth  n_bins\n",
       "5              0.0           0          6       2\n",
       "15             0.0           1          6       2\n",
       "25             0.0           2          6       2\n",
       "35             0.0           3          6       2\n",
       "45             0.0           4          6       2\n",
       "55             0.1           0          6       2\n",
       "65             0.1           1          6       2\n",
       "75             0.1           2          6       2\n",
       "85             0.1           3          6       2\n",
       "95             0.1           4          6       2\n",
       "105            0.2           0          6       2\n",
       "115            0.2           1          6       2\n",
       "125            0.2           2          6       2\n",
       "135            0.2           3          6       2\n",
       "145            0.2           4          6       2\n",
       "154            0.3           0          5       2\n",
       "164            0.3           1          5       2\n",
       "174            0.3           2          5       2\n",
       "184            0.3           3          5       2\n",
       "195            0.3           4          6       2\n",
       "204            0.4           0          5       2\n",
       "214            0.4           1          5       2\n",
       "224            0.4           2          5       2\n",
       "234            0.4           3          5       2\n",
       "244            0.4           4          5       2\n",
       "254            0.5           0          5       2\n",
       "264            0.5           1          5       2\n",
       "274            0.5           2          5       2\n",
       "284            0.5           3          5       2\n",
       "294            0.5           4          5       2\n",
       "303            0.6           0          4       2\n",
       "314            0.6           1          5       2\n",
       "324            0.6           2          5       2\n",
       "334            0.6           3          5       2\n",
       "344            0.6           4          5       2\n",
       "353            0.7           0          4       2\n",
       "363            0.7           1          4       2\n",
       "373            0.7           2          4       2\n",
       "383            0.7           3          4       2\n",
       "394            0.7           4          5       2\n",
       "403            0.8           0          4       2\n",
       "413            0.8           1          4       2\n",
       "423            0.8           2          4       2\n",
       "433            0.8           3          4       2\n",
       "444            0.8           4          5       2\n",
       "453            0.9           0          4       2\n",
       "465            0.9           1          6       2\n",
       "474            0.9           2          5       2\n",
       "484            0.9           3          5       2\n",
       "495            0.9           4          6       2\n",
       "500            1.0           0          1       2\n",
       "510            1.0           1          1       2\n",
       "528            1.0           2          9       2\n",
       "531            1.0           3          2       2\n",
       "541            1.0           4          2       2"
      ]
     },
     "execution_count": 7,
     "metadata": {},
     "output_type": "execute_result"
    }
   ],
   "source": [
    "performance_all_candidates = pd.DataFrame(performance_all_candidates)\n",
    "best_params = (\n",
    "    performance_all_candidates\n",
    "    .groupby(['orthogonality', 'outer_fold', 'max_depth', 'n_bins'], as_index=False)\n",
    "    .agg({'auc_y': 'mean', 'auc_s': 'mean'})\n",
    "    .sort_values('auc_y', ascending=False)\n",
    "    .drop_duplicates(subset=['orthogonality', 'outer_fold'])\n",
    "    .sort_values(['orthogonality', 'outer_fold'])\n",
    "    [['orthogonality', 'outer_fold', 'max_depth', 'n_bins']]\n",
    ")\n",
    "best_params"
   ]
  },
  {
   "cell_type": "markdown",
   "id": "966a97d9-ca7d-4489-8889-41de525a6213",
   "metadata": {},
   "source": [
    "# Measure total performance"
   ]
  },
  {
   "cell_type": "code",
   "execution_count": 8,
   "id": "4f11c77a-ddaa-4756-b3fa-11bf87848af4",
   "metadata": {
    "execution": {
     "iopub.execute_input": "2021-11-10T13:02:45.551889Z",
     "iopub.status.busy": "2021-11-10T13:02:45.551784Z",
     "iopub.status.idle": "2021-11-10T13:02:45.802697Z",
     "shell.execute_reply": "2021-11-10T13:02:45.802085Z",
     "shell.execute_reply.started": "2021-11-10T13:02:45.551876Z"
    },
    "tags": []
   },
   "outputs": [
    {
     "data": {
      "application/vnd.jupyter.widget-view+json": {
       "model_id": "5a6f24fc0f47448b951d6a4e816d7db7",
       "version_major": 2,
       "version_minor": 0
      },
      "text/plain": [
       "  0%|          | 0/55 [00:00<?, ?it/s]"
      ]
     },
     "metadata": {},
     "output_type": "display_data"
    }
   ],
   "source": [
    "total_performance_before_aggregation = list()\n",
    "for p in tqdm(list(best_params.itertuples())):\n",
    "    y_score = np.load(f'{cache_dir}/{p.max_depth}-{p.orthogonality:.2f}-{p.n_bins}-{p.outer_fold}.npy')\n",
    "    \n",
    "    _, (_, test_idx) = outer_folds[p.outer_fold]\n",
    "    y_test = y[test_idx]\n",
    "    s_test = s[test_idx]\n",
    "    auc_y = sklearn.metrics.roc_auc_score(y_test, y_score)\n",
    "    auc_s = sklearn.metrics.roc_auc_score(s_test, y_score)\n",
    "    auc_s = max(auc_s, 1-auc_s)    \n",
    "    \n",
    "    total_performance_before_aggregation.append(\n",
    "        dict(orthogonality=p.orthogonality, auc_y=auc_y, auc_s=auc_s, \n",
    "             fold=p.outer_fold)\n",
    "    )\n",
    "total_performance_before_aggregation = pd.DataFrame(total_performance_before_aggregation)\n",
    "total_performance = (\n",
    "    total_performance_before_aggregation\n",
    "    .groupby(['orthogonality'], as_index=False)\n",
    "    .agg(auc_y=('auc_y', 'mean'), auc_y_std=('auc_y', 'std'),\n",
    "         auc_s=('auc_s', 'mean'), auc_s_std=('auc_s', 'std'))\n",
    ")"
   ]
  },
  {
   "cell_type": "code",
   "execution_count": 9,
   "id": "8ee0da37-435b-47eb-b003-e5d5799db4b9",
   "metadata": {
    "execution": {
     "iopub.execute_input": "2021-11-10T13:02:45.803438Z",
     "iopub.status.busy": "2021-11-10T13:02:45.803331Z",
     "iopub.status.idle": "2021-11-10T13:02:45.811136Z",
     "shell.execute_reply": "2021-11-10T13:02:45.810564Z",
     "shell.execute_reply.started": "2021-11-10T13:02:45.803425Z"
    },
    "tags": []
   },
   "outputs": [
    {
     "data": {
      "text/html": [
       "<div>\n",
       "<style scoped>\n",
       "    .dataframe tbody tr th:only-of-type {\n",
       "        vertical-align: middle;\n",
       "    }\n",
       "\n",
       "    .dataframe tbody tr th {\n",
       "        vertical-align: top;\n",
       "    }\n",
       "\n",
       "    .dataframe thead th {\n",
       "        text-align: right;\n",
       "    }\n",
       "</style>\n",
       "<table border=\"1\" class=\"dataframe\">\n",
       "  <thead>\n",
       "    <tr style=\"text-align: right;\">\n",
       "      <th></th>\n",
       "      <th>orthogonality</th>\n",
       "      <th>auc_y</th>\n",
       "      <th>auc_y_std</th>\n",
       "      <th>auc_s</th>\n",
       "      <th>auc_s_std</th>\n",
       "    </tr>\n",
       "  </thead>\n",
       "  <tbody>\n",
       "    <tr>\n",
       "      <th>0</th>\n",
       "      <td>0.0</td>\n",
       "      <td>0.814402</td>\n",
       "      <td>0.003850</td>\n",
       "      <td>0.626898</td>\n",
       "      <td>0.013815</td>\n",
       "    </tr>\n",
       "    <tr>\n",
       "      <th>1</th>\n",
       "      <td>0.1</td>\n",
       "      <td>0.813765</td>\n",
       "      <td>0.003883</td>\n",
       "      <td>0.617525</td>\n",
       "      <td>0.012643</td>\n",
       "    </tr>\n",
       "    <tr>\n",
       "      <th>2</th>\n",
       "      <td>0.2</td>\n",
       "      <td>0.812861</td>\n",
       "      <td>0.005782</td>\n",
       "      <td>0.607162</td>\n",
       "      <td>0.013119</td>\n",
       "    </tr>\n",
       "    <tr>\n",
       "      <th>3</th>\n",
       "      <td>0.3</td>\n",
       "      <td>0.807987</td>\n",
       "      <td>0.003998</td>\n",
       "      <td>0.597155</td>\n",
       "      <td>0.012933</td>\n",
       "    </tr>\n",
       "    <tr>\n",
       "      <th>4</th>\n",
       "      <td>0.4</td>\n",
       "      <td>0.803892</td>\n",
       "      <td>0.006532</td>\n",
       "      <td>0.582603</td>\n",
       "      <td>0.013076</td>\n",
       "    </tr>\n",
       "    <tr>\n",
       "      <th>5</th>\n",
       "      <td>0.5</td>\n",
       "      <td>0.801250</td>\n",
       "      <td>0.004161</td>\n",
       "      <td>0.569496</td>\n",
       "      <td>0.010762</td>\n",
       "    </tr>\n",
       "    <tr>\n",
       "      <th>6</th>\n",
       "      <td>0.6</td>\n",
       "      <td>0.788647</td>\n",
       "      <td>0.007466</td>\n",
       "      <td>0.552828</td>\n",
       "      <td>0.014602</td>\n",
       "    </tr>\n",
       "    <tr>\n",
       "      <th>7</th>\n",
       "      <td>0.7</td>\n",
       "      <td>0.776182</td>\n",
       "      <td>0.008163</td>\n",
       "      <td>0.537640</td>\n",
       "      <td>0.010588</td>\n",
       "    </tr>\n",
       "    <tr>\n",
       "      <th>8</th>\n",
       "      <td>0.8</td>\n",
       "      <td>0.766792</td>\n",
       "      <td>0.008514</td>\n",
       "      <td>0.529537</td>\n",
       "      <td>0.011115</td>\n",
       "    </tr>\n",
       "    <tr>\n",
       "      <th>9</th>\n",
       "      <td>0.9</td>\n",
       "      <td>0.748119</td>\n",
       "      <td>0.003143</td>\n",
       "      <td>0.524257</td>\n",
       "      <td>0.012370</td>\n",
       "    </tr>\n",
       "    <tr>\n",
       "      <th>10</th>\n",
       "      <td>1.0</td>\n",
       "      <td>0.500000</td>\n",
       "      <td>0.000000</td>\n",
       "      <td>0.500000</td>\n",
       "      <td>0.000000</td>\n",
       "    </tr>\n",
       "  </tbody>\n",
       "</table>\n",
       "</div>"
      ],
      "text/plain": [
       "    orthogonality     auc_y  auc_y_std     auc_s  auc_s_std\n",
       "0             0.0  0.814402   0.003850  0.626898   0.013815\n",
       "1             0.1  0.813765   0.003883  0.617525   0.012643\n",
       "2             0.2  0.812861   0.005782  0.607162   0.013119\n",
       "3             0.3  0.807987   0.003998  0.597155   0.012933\n",
       "4             0.4  0.803892   0.006532  0.582603   0.013076\n",
       "5             0.5  0.801250   0.004161  0.569496   0.010762\n",
       "6             0.6  0.788647   0.007466  0.552828   0.014602\n",
       "7             0.7  0.776182   0.008163  0.537640   0.010588\n",
       "8             0.8  0.766792   0.008514  0.529537   0.011115\n",
       "9             0.9  0.748119   0.003143  0.524257   0.012370\n",
       "10            1.0  0.500000   0.000000  0.500000   0.000000"
      ]
     },
     "execution_count": 9,
     "metadata": {},
     "output_type": "execute_result"
    }
   ],
   "source": [
    "total_performance"
   ]
  },
  {
   "cell_type": "code",
   "execution_count": 10,
   "id": "1e74e935-fc19-45d0-99be-5e430bf08bb0",
   "metadata": {
    "execution": {
     "iopub.execute_input": "2021-11-10T13:02:45.811954Z",
     "iopub.status.busy": "2021-11-10T13:02:45.811854Z",
     "iopub.status.idle": "2021-11-10T13:02:46.333112Z",
     "shell.execute_reply": "2021-11-10T13:02:46.332310Z",
     "shell.execute_reply.started": "2021-11-10T13:02:45.811942Z"
    },
    "tags": []
   },
   "outputs": [
    {
     "data": {
      "image/png": "[encoded data removed]",
      "text/plain": [
       "<Figure size 347.04x231.36 with 1 Axes>"
      ]
     },
     "metadata": {
      "needs_background": "light"
     },
     "output_type": "display_data"
    }
   ],
   "source": [
    "fig, ax = plt.subplots(figsize=(4.82,4.82*(2/3)), constrained_layout=True)\n",
    "ax.errorbar(data=total_performance,x='auc_s', y='auc_y', xerr='auc_s_std', yerr='auc_y_std', ecolor='red', elinewidth=2, capsize=2, marker='o')\n",
    "ax.xaxis.set_minor_locator(MultipleLocator(.01))\n",
    "ax.yaxis.set_minor_locator(MultipleLocator(.01))\n",
    "ax.xaxis.set_ticks_position('both')\n",
    "ax.yaxis.set_ticks_position('both')\n",
    "ax.set_xlim(.5)\n",
    "ax.set_ylim(.5)\n",
    "ax.set_xlabel(r'$\\mathrm{AUC}_S$')\n",
    "ax.set_ylabel(r'$\\mathrm{AUC}_Y$');\n",
    "fig.savefig('fig/auc-plot.pdf')"
   ]
  },
  {
   "cell_type": "markdown",
   "id": "f5008f25-035f-4cd6-b5cc-50186ee96d7d",
   "metadata": {},
   "source": [
    "# Determine $\\Theta^\\ast$"
   ]
  },
  {
   "cell_type": "code",
   "execution_count": 11,
   "id": "06227789-4ffa-41d4-ab1e-c38b462fd4ab",
   "metadata": {
    "execution": {
     "iopub.execute_input": "2021-11-10T13:02:46.334042Z",
     "iopub.status.busy": "2021-11-10T13:02:46.333926Z",
     "iopub.status.idle": "2021-11-10T13:02:47.038154Z",
     "shell.execute_reply": "2021-11-10T13:02:47.037403Z",
     "shell.execute_reply.started": "2021-11-10T13:02:46.334027Z"
    },
    "tags": []
   },
   "outputs": [
    {
     "data": {
      "image/png": "[encoded data removed]",
      "text/plain": [
       "<Figure size 347.04x231.36 with 1 Axes>"
      ]
     },
     "metadata": {
      "needs_background": "light"
     },
     "output_type": "display_data"
    }
   ],
   "source": [
    "fig, ax = plt.subplots(figsize=(4.82,4.82*(2/3)), constrained_layout=True)\n",
    "objective = total_performance.auc_y-total_performance.auc_s\n",
    "idx_star = np.argmax(objective)\n",
    "ortho_star = total_performance.orthogonality[idx_star]\n",
    "objective_star = objective.max()\n",
    "ax.plot(total_performance.orthogonality, objective, marker='o')\n",
    "ax.scatter(ortho_star, objective_star, marker='o', c='C1', s=200)\n",
    "ax.vlines(ortho_star, 0, objective_star, color='black', ls=':')\n",
    "ax.xaxis.set_ticks_position('both')\n",
    "ax.yaxis.set_ticks_position('both')\n",
    "ax.xaxis.set_minor_locator(MultipleLocator(.01))\n",
    "ax.xaxis.set_major_locator(MultipleLocator(.1))\n",
    "ax.yaxis.set_minor_locator(MultipleLocator(.01))\n",
    "ax.set_xlim(0, 1)\n",
    "ax.set_ylim(0)\n",
    "ax.set_xlabel(r'$\\Theta$')\n",
    "ax.set_ylabel(r'$\\mathrm{AUC}_Y - \\mathrm{AUC}_S$')\n",
    "fig.savefig('fig/objective.pdf')"
   ]
  },
  {
   "cell_type": "markdown",
   "id": "a45167e6-e196-4fa2-af4d-18e9b32d1589",
   "metadata": {},
   "source": [
    "# Determine $\\hat y$ and threshold"
   ]
  },
  {
   "cell_type": "code",
   "execution_count": 12,
   "id": "ba8c52bf-ddae-44ef-b48e-0d418c6b0857",
   "metadata": {
    "execution": {
     "iopub.execute_input": "2021-11-10T13:02:47.040039Z",
     "iopub.status.busy": "2021-11-10T13:02:47.039916Z",
     "iopub.status.idle": "2021-11-10T13:02:47.069030Z",
     "shell.execute_reply": "2021-11-10T13:02:47.068424Z",
     "shell.execute_reply.started": "2021-11-10T13:02:47.040023Z"
    },
    "tags": []
   },
   "outputs": [
    {
     "data": {
      "application/vnd.jupyter.widget-view+json": {
       "model_id": "7e89d1fdc4dc4c2fb1e5de7844abf95c",
       "version_major": 2,
       "version_minor": 0
      },
      "text/plain": [
       "  0%|          | 0/5 [00:00<?, ?it/s]"
      ]
     },
     "metadata": {},
     "output_type": "display_data"
    }
   ],
   "source": [
    "iterator = list(best_params.loc[lambda x: x.orthogonality == ortho_star].itertuples())\n",
    "\n",
    "y_scores_all = list()\n",
    "y_test_all = list()\n",
    "s_test_all = list()\n",
    "for p in tqdm(iterator): \n",
    "    y_score = np.load(f'{cache_dir}/{p.max_depth}-{p.orthogonality:.2f}-{p.n_bins}-{p.outer_fold}.npy')\n",
    "    \n",
    "    _, (_, test_idx) = outer_folds[p.outer_fold]\n",
    "    \n",
    "    y_test = y[test_idx]\n",
    "    s_test = s[test_idx]\n",
    "    \n",
    "    # FLIPPING!!!\n",
    "    y_scores_all.extend(1-y_score)\n",
    "    y_test_all.extend(~y_test)\n",
    "    \n",
    "    s_test_all.extend(s_test)\n",
    "    \n",
    "y_scores_all = np.array(y_scores_all)\n",
    "y_test_all = np.array(y_test_all)\n",
    "s_test_all = np.array(s_test_all)\n",
    "\n",
    "threshold = np.quantile(y_scores_all, np.mean(~y_test_all))\n",
    "y_pred_all = y_scores_all > threshold"
   ]
  },
  {
   "cell_type": "code",
   "execution_count": 13,
   "id": "a97e7516-6950-4db2-b042-cb1ac1de0446",
   "metadata": {
    "execution": {
     "iopub.execute_input": "2021-11-10T13:02:47.069760Z",
     "iopub.status.busy": "2021-11-10T13:02:47.069657Z",
     "iopub.status.idle": "2021-11-10T13:02:47.714190Z",
     "shell.execute_reply": "2021-11-10T13:02:47.713448Z",
     "shell.execute_reply.started": "2021-11-10T13:02:47.069746Z"
    },
    "tags": []
   },
   "outputs": [
    {
     "data": {
      "image/png": "[encoded data removed]",
      "text/plain": [
       "<Figure size 347.04x231.36 with 1 Axes>"
      ]
     },
     "metadata": {
      "needs_background": "light"
     },
     "output_type": "display_data"
    }
   ],
   "source": [
    "fig, ax = plt.subplots(figsize=(4.82,4.82*(2/3)), constrained_layout=True)\n",
    "y_scores_sorted = np.sort(y_scores_all)\n",
    "y1 = 1. * np.arange(len(y_scores_sorted)) / (len(y_scores_sorted) - 1)\n",
    "y_scores_sorted_b = np.sort(y_scores_all[s_test_all])\n",
    "y2 = 1. * np.arange(len(y_scores_sorted_b)) / (len(y_scores_sorted_b) - 1)\n",
    "y_scores_sorted_w = np.sort(y_scores_all[~s_test_all])\n",
    "y3 = 1. * np.arange(len(y_scores_sorted_w)) / (len(y_scores_sorted_w) - 1)\n",
    "\n",
    "threshold_idx = np.argmax(np.sort(y_scores_all) > threshold)\n",
    "ax.fill_between(y_scores_sorted[:threshold_idx], y1[:threshold_idx], color='red', label=r'$\\^y = 0$')\n",
    "ax.fill_between(y_scores_sorted[threshold_idx:], y1[threshold_idx:], color='green', label=r'$\\^y = 1$')\n",
    "ax.plot(y_scores_sorted_b, y2, color='black', label=r'$\\^y_\\mathrm{black}$')\n",
    "ax.plot(y_scores_sorted_w, y3, color='blue', label=r'$\\^y_\\mathrm{white}$')\n",
    "\n",
    "ax.vlines(threshold, 0, y1[threshold_idx], color='black', ls=':')\n",
    "ax.hlines(y1[threshold_idx], 0, threshold, color='black', ls=':')\n",
    "ax.legend(loc='lower right')\n",
    "ax.xaxis.set_ticks_position('both')\n",
    "ax.yaxis.set_ticks_position('both')\n",
    "ax.xaxis.set_minor_locator(MultipleLocator(.01))\n",
    "ax.yaxis.set_minor_locator(MultipleLocator(.1))\n",
    "ax.set_xlim(y_scores_sorted[0], y_scores_sorted[-1])\n",
    "ax.set_ylim(0, 1)\n",
    "ax.set_xlabel(r'$x$')\n",
    "ax.set_ylabel(r'$P(x > z)$')\n",
    "fig.savefig('fig/score-cdf.pdf')"
   ]
  },
  {
   "cell_type": "code",
   "execution_count": 14,
   "id": "7e224076-6658-4f28-a38a-1e074dea8d98",
   "metadata": {
    "execution": {
     "iopub.execute_input": "2021-11-10T13:02:47.715210Z",
     "iopub.status.busy": "2021-11-10T13:02:47.715091Z",
     "iopub.status.idle": "2021-11-10T13:02:48.599142Z",
     "shell.execute_reply": "2021-11-10T13:02:48.598394Z",
     "shell.execute_reply.started": "2021-11-10T13:02:47.715194Z"
    },
    "tags": []
   },
   "outputs": [
    {
     "data": {
      "image/png": "[encoded data removed]",
      "text/plain": [
       "<Figure size 533.845x347.04 with 2 Axes>"
      ]
     },
     "metadata": {
      "needs_background": "light"
     },
     "output_type": "display_data"
    }
   ],
   "source": [
    "data_ = pd.DataFrame({'x': y_scores_all, 'ground truth': y_test_all, 'flag': np.where(s_test_all, 'black', 'white')})\n",
    "g = sns.displot(\n",
    "    data=data_, x='x', hue='ground truth', col='flag', kind='kde', hue_order=[True, False], palette=['green', 'red'], common_norm=False, fill=True, height=4.82, aspect=2/3, \n",
    "    facet_kws={'despine': False, 'xlim': (0, .6)}\n",
    ")\n",
    "# sns.despine(top=False, right=False)\n",
    "g.refline(x=threshold)\n",
    "g.set_axis_labels(r'$z$', r'$P(z)$')\n",
    "g.set_yticklabels([])\n",
    "g.set(yticks=[])\n",
    "g.axes[0][0].xaxis.set_minor_locator(MultipleLocator(.01))\n",
    "g.axes[0][0].xaxis.set_ticks_position('both')\n",
    "g.axes[0][1].xaxis.set_ticks_position('both')\n",
    "plt.savefig('fig/score-pdf.pdf')"
   ]
  },
  {
   "cell_type": "code",
   "execution_count": 15,
   "id": "02666a99-fa90-4ccc-9747-63938a2e636c",
   "metadata": {
    "execution": {
     "iopub.execute_input": "2021-11-10T13:02:48.600058Z",
     "iopub.status.busy": "2021-11-10T13:02:48.599944Z",
     "iopub.status.idle": "2021-11-10T13:02:48.620534Z",
     "shell.execute_reply": "2021-11-10T13:02:48.619852Z",
     "shell.execute_reply.started": "2021-11-10T13:02:48.600042Z"
    },
    "tags": []
   },
   "outputs": [
    {
     "data": {
      "text/html": [
       "<div>\n",
       "<style scoped>\n",
       "    .dataframe tbody tr th:only-of-type {\n",
       "        vertical-align: middle;\n",
       "    }\n",
       "\n",
       "    .dataframe tbody tr th {\n",
       "        vertical-align: top;\n",
       "    }\n",
       "\n",
       "    .dataframe thead tr th {\n",
       "        text-align: left;\n",
       "    }\n",
       "\n",
       "    .dataframe thead tr:last-of-type th {\n",
       "        text-align: right;\n",
       "    }\n",
       "</style>\n",
       "<table border=\"1\" class=\"dataframe\">\n",
       "  <thead>\n",
       "    <tr>\n",
       "      <th>flag</th>\n",
       "      <th colspan=\"2\" halign=\"left\">black</th>\n",
       "      <th colspan=\"2\" halign=\"left\">white</th>\n",
       "    </tr>\n",
       "    <tr>\n",
       "      <th>Predicted</th>\n",
       "      <th>False</th>\n",
       "      <th>True</th>\n",
       "      <th>False</th>\n",
       "      <th>True</th>\n",
       "    </tr>\n",
       "    <tr>\n",
       "      <th>Actual</th>\n",
       "      <th></th>\n",
       "      <th></th>\n",
       "      <th></th>\n",
       "      <th></th>\n",
       "    </tr>\n",
       "  </thead>\n",
       "  <tbody>\n",
       "    <tr>\n",
       "      <th>False</th>\n",
       "      <td>1101</td>\n",
       "      <td>233</td>\n",
       "      <td>16293</td>\n",
       "      <td>2526</td>\n",
       "    </tr>\n",
       "    <tr>\n",
       "      <th>True</th>\n",
       "      <td>136</td>\n",
       "      <td>143</td>\n",
       "      <td>2623</td>\n",
       "      <td>2519</td>\n",
       "    </tr>\n",
       "  </tbody>\n",
       "</table>\n",
       "</div>"
      ],
      "text/plain": [
       "flag      black       white      \n",
       "Predicted False True  False  True\n",
       "Actual                           \n",
       "False      1101  233  16293  2526\n",
       "True        136  143   2623  2519"
      ]
     },
     "execution_count": 15,
     "metadata": {},
     "output_type": "execute_result"
    }
   ],
   "source": [
    "objs = [\n",
    "    pd.crosstab(pd.Series(y_test_all[s_test_all], name='Actual'), pd.Series(y_pred_all[s_test_all], name='Predicted')),\n",
    "    pd.crosstab(pd.Series(y_test_all[~s_test_all], name='Actual'), pd.Series(y_pred_all[~s_test_all], name='Predicted'))      \n",
    "]\n",
    "pd.concat(objs, axis=1, keys=['black', 'white'], names=['flag'])"
   ]
  },
  {
   "cell_type": "markdown",
   "id": "53bc4d42-a4d0-4170-b061-123a2589f878",
   "metadata": {},
   "source": [
    "# Determine fairness measures with prior threshold"
   ]
  },
  {
   "cell_type": "code",
   "execution_count": 16,
   "id": "4fea6887-7c88-4e4c-9ef8-fb02885dcb57",
   "metadata": {
    "execution": {
     "iopub.execute_input": "2021-11-10T13:02:48.621306Z",
     "iopub.status.busy": "2021-11-10T13:02:48.621202Z",
     "iopub.status.idle": "2021-11-10T13:02:48.809284Z",
     "shell.execute_reply": "2021-11-10T13:02:48.808561Z",
     "shell.execute_reply.started": "2021-11-10T13:02:48.621293Z"
    },
    "tags": []
   },
   "outputs": [
    {
     "data": {
      "application/vnd.jupyter.widget-view+json": {
       "model_id": "ffa72aca1a6a4ac1816535faaf1e6170",
       "version_major": 2,
       "version_minor": 0
      },
      "text/plain": [
       "  0%|          | 0/55 [00:00<?, ?it/s]"
      ]
     },
     "metadata": {},
     "output_type": "display_data"
    }
   ],
   "source": [
    "values = [np.around(ortho, 1) for ortho in np.linspace(0, 1, 11)]\n",
    "iterator = [(ortho, fold) for ortho in values for fold in range(5)]\n",
    "\n",
    "y_scores_all = {np.around(orthogonality, 1): [] for orthogonality in values}\n",
    "y_test_all = {np.around(orthogonality, 1): [] for orthogonality in values}\n",
    "s_test_all = {np.around(orthogonality, 1): [] for orthogonality in values}\n",
    "y_pred_all = {np.around(orthogonality, 1): [] for orthogonality in values}\n",
    "fairness_measures = list()\n",
    "\n",
    "for ortho, fold in tqdm(iterator):  \n",
    "    best_params_ = best_params.loc[lambda x: (x.orthogonality.round(1) == ortho) & (x.outer_fold == fold)].iloc[0]\n",
    "    max_depth = int(best_params_['max_depth'])\n",
    "    n_bins = int(best_params_['n_bins'])\n",
    "    filepath = f'{cache_dir}/{max_depth}-{ortho:.2f}-{n_bins}-{fold}.npy'\n",
    "    y_score = np.load(filepath)\n",
    "    \n",
    "    _, (_, test_idx) = outer_folds[fold]\n",
    "    assert len(y_score) == len(test_idx)\n",
    "    \n",
    "    y_test = y[test_idx]\n",
    "    s_test = s[test_idx]\n",
    "    \n",
    "    # FLIPPING!!!\n",
    "    y_scores_all[ortho].extend(1-y_score)\n",
    "    y_test_all[ortho].extend(~y_test)\n",
    "    s_test_all[ortho].extend(s_test)\n",
    "\n",
    "for ortho in values:\n",
    "    y_score = np.array(y_scores_all[ortho])\n",
    "    y_test = np.array(y_test_all[ortho])\n",
    "    s_test = np.array(s_test_all[ortho])\n",
    "    threshold = np.quantile(y_scores_all[ortho], np.mean(~y_test))\n",
    "\n",
    "    y_pred = y_score > threshold\n",
    "    ppr_w = y_pred[~s_test].mean()\n",
    "    ppr_b = y_pred[s_test].mean()\n",
    "\n",
    "    fpr_w = (y_score > threshold)[~y_test & ~s_test].mean()\n",
    "    fpr_b = (y_score > threshold)[~y_test & s_test].mean()\n",
    "    tpr_w = (y_score > threshold)[y_test & ~s_test].mean()\n",
    "    tpr_b = (y_score > threshold)[y_test & s_test].mean()\n",
    "\n",
    "    fairness_measures.append(\n",
    "        {\n",
    "            'orthogonality': ortho,\n",
    "            'positive prediction rate (white)': ppr_w,\n",
    "            'positive prediction rate (black)': ppr_b,\n",
    "            'false positive rate (white)': fpr_w,\n",
    "            'false positive rate (black)': fpr_b,\n",
    "            'true positive rate (white)': tpr_w,\n",
    "            'true positive rate (black)': tpr_b\n",
    "        }\n",
    "    )\n",
    "fairness_measures = pd.DataFrame(fairness_measures)"
   ]
  },
  {
   "cell_type": "code",
   "execution_count": 17,
   "id": "ce8e56a7-6a31-4790-ae2d-f9e738a4666e",
   "metadata": {
    "execution": {
     "iopub.execute_input": "2021-11-10T13:02:48.810371Z",
     "iopub.status.busy": "2021-11-10T13:02:48.810181Z",
     "iopub.status.idle": "2021-11-10T13:02:49.755362Z",
     "shell.execute_reply": "2021-11-10T13:02:49.754666Z",
     "shell.execute_reply.started": "2021-11-10T13:02:48.810353Z"
    },
    "tags": []
   },
   "outputs": [
    {
     "data": {
      "image/png": "[encoded data removed]",
      "text/plain": [
       "<Figure size 347.04x347.04 with 4 Axes>"
      ]
     },
     "metadata": {
      "needs_background": "light"
     },
     "output_type": "display_data"
    }
   ],
   "source": [
    "fig, ((ax1, ax2), (ax3, ax4)) = plt.subplots(2, 2, figsize=(4.82,4.82), constrained_layout=True)\n",
    "ax1.errorbar(data=total_performance, x='auc_s', y='auc_y', xerr='auc_s_std', yerr='auc_y_std', ecolor='red', elinewidth=2, capsize=2, marker='o')\n",
    "ax1.set_xlim(.5)\n",
    "ax1.set_ylim(.5)\n",
    "ax1.set_xlabel(r'$\\mathrm{AUC}_S$')\n",
    "ax1.set_ylabel(r'$\\mathrm{AUC}_Y$')\n",
    "ax1.xaxis.set_ticks_position('both')\n",
    "ax1.yaxis.set_ticks_position('both')\n",
    "ax1.xaxis.set_major_locator(MultipleLocator(.1))\n",
    "ax1.yaxis.set_major_locator(MultipleLocator(.1))\n",
    "ax1.xaxis.set_minor_locator(MultipleLocator(.01))\n",
    "ax1.yaxis.set_minor_locator(MultipleLocator(.01))\n",
    "ax1.set_box_aspect(1)\n",
    "ax1.text(-.11, 1.05, 'A', transform=ax1.transAxes, size=15, weight='bold')\n",
    "\n",
    "ax2.plot('orthogonality', 'positive prediction rate (white)', data=fairness_measures, marker='o', color='grey', label='white')\n",
    "ax2.plot('orthogonality', 'positive prediction rate (black)', data=fairness_measures, marker='x', color='black', label='black')\n",
    "ax2.set_xlim(0, 1)\n",
    "ax2.set_ylim(0, 1)\n",
    "ax2.set_xlabel(r'$\\Theta$')\n",
    "ax2.set_ylabel('PPR')\n",
    "ax2.xaxis.set_ticks_position('both')\n",
    "ax2.yaxis.set_ticks_position('both')\n",
    "ax2.xaxis.set_major_locator(MultipleLocator(.5))\n",
    "ax2.yaxis.set_major_locator(MultipleLocator(.5))\n",
    "ax2.xaxis.set_minor_locator(MultipleLocator(.1))\n",
    "ax2.yaxis.set_minor_locator(MultipleLocator(.1))\n",
    "ax2.legend(title='Flag', loc='upper right')\n",
    "ax2.set_box_aspect(1)\n",
    "ax2.text(-.11, 1.05, 'B', transform=ax2.transAxes, size=15, weight='bold')\n",
    "\n",
    "ax3.plot('orthogonality', 'false positive rate (white)', data=fairness_measures, marker='o', color='grey', label='white')\n",
    "ax3.plot('orthogonality', 'false positive rate (black)', data=fairness_measures, marker='x', color='black', label='black')\n",
    "ax3.set_xlim(0, 1)\n",
    "ax3.set_ylim(0, 1)\n",
    "ax3.set_xlabel(r'$\\Theta$')\n",
    "ax3.set_ylabel('FPR')\n",
    "ax3.xaxis.set_ticks_position('both')\n",
    "ax3.yaxis.set_ticks_position('both')\n",
    "ax3.xaxis.set_major_locator(MultipleLocator(.5))\n",
    "ax3.yaxis.set_major_locator(MultipleLocator(.5))\n",
    "ax3.xaxis.set_minor_locator(MultipleLocator(.1))\n",
    "ax3.yaxis.set_minor_locator(MultipleLocator(.1))\n",
    "ax3.legend(title='Flag', loc='upper right')\n",
    "ax3.set_box_aspect(1)\n",
    "ax3.text(-.11, 1.05, 'C', transform=ax3.transAxes, size=15, weight='bold')\n",
    "\n",
    "ax4.plot('orthogonality', 'true positive rate (white)', data=fairness_measures, marker='o', color='grey', label='white')\n",
    "ax4.plot('orthogonality', 'true positive rate (black)', data=fairness_measures, marker='x', color='black', label='black')\n",
    "ax4.set_xlim(0, 1)\n",
    "ax4.set_ylim(0, 1)\n",
    "ax4.set_xlabel(r'$\\Theta$')\n",
    "ax4.set_ylabel('TPR')\n",
    "ax4.xaxis.set_ticks_position('both')\n",
    "ax4.yaxis.set_ticks_position('both')\n",
    "ax4.xaxis.set_major_locator(MultipleLocator(.5))\n",
    "ax4.yaxis.set_major_locator(MultipleLocator(.5))\n",
    "ax4.xaxis.set_minor_locator(MultipleLocator(.1))\n",
    "ax4.yaxis.set_minor_locator(MultipleLocator(.1))\n",
    "ax4.legend(title='Flag', loc='upper right')\n",
    "ax4.set_box_aspect(1)\n",
    "ax4.text(-.11, 1.05, 'D', transform=ax4.transAxes, size=15, weight='bold')\n",
    "fig.savefig('fig/fairness.pdf')"
   ]
  },
  {
   "cell_type": "markdown",
   "id": "8eaa7d66-66d9-4dd8-ba56-6aea569227c9",
   "metadata": {},
   "source": [
    "# Fairness measures for different $\\Theta$ and thresholds"
   ]
  },
  {
   "cell_type": "code",
   "execution_count": 18,
   "id": "8cf9866b-d852-4067-ab10-724d7ae7577f",
   "metadata": {
    "execution": {
     "iopub.execute_input": "2021-11-10T13:02:49.756286Z",
     "iopub.status.busy": "2021-11-10T13:02:49.756172Z",
     "iopub.status.idle": "2021-11-10T13:02:49.762101Z",
     "shell.execute_reply": "2021-11-10T13:02:49.761537Z",
     "shell.execute_reply.started": "2021-11-10T13:02:49.756270Z"
    },
    "tags": []
   },
   "outputs": [
    {
     "data": {
      "text/plain": [
       "orthogonality    0.0\n",
       "outer_fold       0.0\n",
       "max_depth        6.0\n",
       "n_bins           2.0\n",
       "Name: 5, dtype: float64"
      ]
     },
     "execution_count": 18,
     "metadata": {},
     "output_type": "execute_result"
    }
   ],
   "source": [
    "best_params.loc[lambda x: (x.orthogonality == 0) & (x.outer_fold == 0)].iloc[0]"
   ]
  },
  {
   "cell_type": "code",
   "execution_count": 19,
   "id": "9cf56758-e622-4a5e-a961-3bf088a25997",
   "metadata": {
    "execution": {
     "iopub.execute_input": "2021-11-10T13:02:49.762803Z",
     "iopub.status.busy": "2021-11-10T13:02:49.762701Z",
     "iopub.status.idle": "2021-11-10T13:02:50.131400Z",
     "shell.execute_reply": "2021-11-10T13:02:50.130592Z",
     "shell.execute_reply.started": "2021-11-10T13:02:49.762790Z"
    },
    "tags": []
   },
   "outputs": [
    {
     "data": {
      "application/vnd.jupyter.widget-view+json": {
       "model_id": "db300f9d0b3f4d5f8ad9b27d1b2a209a",
       "version_major": 2,
       "version_minor": 0
      },
      "text/plain": [
       "  0%|          | 0/125 [00:00<?, ?it/s]"
      ]
     },
     "metadata": {},
     "output_type": "display_data"
    }
   ],
   "source": [
    "values = [.1, .3, .5, .7, .9]\n",
    "iterator = [\n",
    "    (orthogonality, threshold_quantile, fold) \n",
    "    for orthogonality in values \n",
    "    for threshold_quantile in values \n",
    "    for fold in range(5)\n",
    "]\n",
    "\n",
    "y_scores_all = dict()\n",
    "y_test_all = dict()\n",
    "s_test_all = dict()\n",
    "thresholds = dict()\n",
    "y_pred_all = dict()\n",
    "fairness_measures = list()\n",
    "\n",
    "for orthogonality in values:\n",
    "    for threshold_quantile in values:      \n",
    "        y_scores_all[(orthogonality, threshold_quantile)] = list()\n",
    "        y_test_all[(orthogonality, threshold_quantile)] = list()\n",
    "        s_test_all[(orthogonality, threshold_quantile)] = list()\n",
    "\n",
    "for ortho, threshold_quantile, fold in tqdm(iterator):    \n",
    "    best_params_ = best_params.loc[lambda x: (x.orthogonality.round(1) == ortho) & (x.outer_fold == fold)].iloc[0]\n",
    "    max_depth = int(best_params_['max_depth'])\n",
    "    n_bins = int(best_params_['n_bins'])\n",
    "    filepath = f'{cache_dir}/{max_depth}-{ortho:.2f}-{n_bins}-{fold}.npy'\n",
    "    y_score = np.load(filepath)\n",
    "    \n",
    "    _, (_, test_idx) = outer_folds[fold]\n",
    "    assert len(y_score) == len(test_idx)\n",
    "    \n",
    "    y_test = y[test_idx]\n",
    "    s_test = s[test_idx]\n",
    "    assert len(y_score) == len(y_test)\n",
    "    assert len(s_test) == len(y_score)\n",
    "    \n",
    "    # FLIPPING!!!\n",
    "    y_scores_all[(ortho, threshold_quantile)].extend(1-y_score)\n",
    "    y_test_all[(ortho, threshold_quantile)].extend(~y_test)\n",
    "    \n",
    "    s_test_all[(ortho, threshold_quantile)].extend(s_test)\n",
    "\n",
    "for orthogonality in values:\n",
    "    for threshold_quantile in values: \n",
    "        i = (orthogonality, threshold_quantile)\n",
    "        y_score = np.array(y_scores_all[i])\n",
    "        y_test = np.array(y_test_all[i])\n",
    "        s_test = np.array(s_test_all[i])\n",
    "        threshold = np.quantile(y_scores_all[i], threshold_quantile)\n",
    "        \n",
    "        y_pred = y_score > threshold\n",
    "        ppr_w = y_pred[~s_test].mean()\n",
    "        ppr_b = y_pred[s_test].mean()\n",
    "        \n",
    "        fpr_w = (y_score > threshold)[~y_test & ~s_test].mean()\n",
    "        fpr_b = (y_score > threshold)[~y_test & s_test].mean()\n",
    "        tpr_w = (y_score > threshold)[y_test & ~s_test].mean()\n",
    "        tpr_b = (y_score > threshold)[y_test & s_test].mean()\n",
    "        \n",
    "        fairness_measures.append(\n",
    "            {\n",
    "                'orthogonality': orthogonality,\n",
    "                'threshold quantile': threshold_quantile,\n",
    "                'disparate impact': 1 - (ppr_w / ppr_b),\n",
    "                'equalized odds': max(abs(fpr_w - fpr_b), abs(tpr_w - tpr_b))\n",
    "            }\n",
    "        )\n",
    "fairness_measures = pd.DataFrame(fairness_measures)"
   ]
  },
  {
   "cell_type": "code",
   "execution_count": 20,
   "id": "a4dce34d-0b44-4c63-a3eb-3cd437a6a7b6",
   "metadata": {
    "execution": {
     "iopub.execute_input": "2021-11-10T13:02:50.132594Z",
     "iopub.status.busy": "2021-11-10T13:02:50.132460Z",
     "iopub.status.idle": "2021-11-10T13:02:50.550842Z",
     "shell.execute_reply": "2021-11-10T13:02:50.549977Z",
     "shell.execute_reply.started": "2021-11-10T13:02:50.132578Z"
    },
    "tags": []
   },
   "outputs": [
    {
     "data": {
      "image/png": "[encoded data removed]",
      "text/plain": [
       "<Figure size 347.04x231.36 with 2 Axes>"
      ]
     },
     "metadata": {
      "needs_background": "light"
     },
     "output_type": "display_data"
    }
   ],
   "source": [
    "fig, (ax1, ax2) = plt.subplots(1, 2, figsize=(4.82, 4.82*(2/3)), constrained_layout=True)\n",
    "\n",
    "disparate_impact = fairness_measures.pivot('orthogonality', 'threshold quantile', 'disparate impact').sort_index(ascending=False)\n",
    "equalized_odds = fairness_measures.pivot('orthogonality', 'threshold quantile', 'equalized odds').sort_index(ascending=False)\n",
    "\n",
    "ax1.set_title(r\"Disparate impact ($\\epsilon$)\")\n",
    "sns.heatmap(disparate_impact, vmin=0, square=True, annot=True, fmt='.2f', linewidths=.1, cmap='summer', cbar=False, ax=ax1)\n",
    "\n",
    "ax2.set_title(r\"Equalized odds ($\\epsilon$)\")\n",
    "sns.heatmap(equalized_odds, vmin=0, square=True, annot=True, fmt='.2f', linewidths=.1, cmap='summer', cbar = False, ax=ax2)\n",
    "fig.savefig('fig/fairness-measures.pdf')"
   ]
  },
  {
   "cell_type": "code",
   "execution_count": null,
   "id": "97da3634-71f1-4c67-8028-11fcd1b69255",
   "metadata": {},
   "outputs": [],
   "source": []
  }
 ],
 "metadata": {
  "kernelspec": {
   "display_name": "Python 3 (ipykernel)",
   "language": "python",
   "name": "python3"
  },
  "language_info": {
   "codemirror_mode": {
    "name": "ipython",
    "version": 3
   },
   "file_extension": ".py",
   "mimetype": "text/x-python",
   "name": "python",
   "nbconvert_exporter": "python",
   "pygments_lexer": "ipython3",
   "version": "3.9.7"
  },
  "toc-autonumbering": true,
  "toc-showtags": false
 },
 "nbformat": 4,
 "nbformat_minor": 5
}
