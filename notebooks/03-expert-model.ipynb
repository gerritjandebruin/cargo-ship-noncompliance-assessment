{
 "cells": [
  {
   "cell_type": "code",
   "execution_count": 1,
   "id": "9c52d68e-81b8-4f8c-909e-5ade7ef26ef9",
   "metadata": {
    "execution": {
     "iopub.execute_input": "2021-11-10T12:38:04.072527Z",
     "iopub.status.busy": "2021-11-10T12:38:04.072396Z",
     "iopub.status.idle": "2021-11-10T12:38:04.990301Z",
     "shell.execute_reply": "2021-11-10T12:38:04.989570Z",
     "shell.execute_reply.started": "2021-11-10T12:38:04.072490Z"
    },
    "tags": []
   },
   "outputs": [],
   "source": [
    "from copy import deepcopy as copy\n",
    "import datetime\n",
    "import json\n",
    "from math import ceil\n",
    "import multiprocessing\n",
    "import logging\n",
    "import operator\n",
    "import os\n",
    "import random\n",
    "import sys\n",
    "import time\n",
    "import typing\n",
    "import warnings\n",
    "\n",
    "import joblib\n",
    "from joblib import delayed, Parallel\n",
    "import matplotlib.pyplot as plt\n",
    "import networkx as nx\n",
    "import numpy as np\n",
    "from numpy.core.numeric import outer\n",
    "import pandas as pd\n",
    "from scipy.stats import mode, entropy\n",
    "import seaborn as sns\n",
    "import sklearn.feature_selection\n",
    "import sklearn.metrics\n",
    "from sklearn.metrics import roc_auc_score\n",
    "import sklearn.model_selection\n",
    "import typer\n",
    "from tqdm.auto import tqdm\n",
    "\n",
    "os.chdir(os.path.dirname(os.getcwd()))\n",
    "\n",
    "import src"
   ]
  },
  {
   "cell_type": "code",
   "execution_count": 2,
   "id": "3e5135f4-989d-4836-b570-ff7dc84eb83d",
   "metadata": {
    "execution": {
     "iopub.execute_input": "2021-11-10T12:38:04.991265Z",
     "iopub.status.busy": "2021-11-10T12:38:04.991149Z",
     "iopub.status.idle": "2021-11-10T12:38:21.106443Z",
     "shell.execute_reply": "2021-11-10T12:38:21.105547Z",
     "shell.execute_reply.started": "2021-11-10T12:38:04.991250Z"
    },
    "tags": []
   },
   "outputs": [],
   "source": [
    "portcalls = joblib.load('data/portcalls_v3.pkl')\n",
    "ships = np.load('data/not_selected.npy', allow_pickle=True)\n",
    "\n",
    "expert_labels = portcalls.groupby('ship')['risk'].max()\n",
    "y_score = pd.Series({ship: expert_labels.get(ship) for ship in ships})\n",
    "\n",
    "inspections = src.get_inspections().groupby('IMO')['WasDetained'].any().replace({False: 1, True: 2})\n",
    "y_true = pd.Series({ship: inspections.get(ship, default=0) for ship in ships})\n",
    "\n",
    "sensitive = portcalls.groupby('ship')['flag'].last().astype(int).astype(bool)\n",
    "s = pd.Series({ship: sensitive.get(ship) for ship in ships})\n",
    "\n",
    "all_ships = portcalls.ship.unique()\n",
    "y_true_all = pd.Series({ship: inspections.get(ship, default=0) for ship in all_ships})\n",
    "y_score_all = pd.Series({ship: expert_labels.get(ship) for ship in all_ships})\n",
    "s_all = pd.Series({ship: sensitive.get(ship) for ship in all_ships})"
   ]
  },
  {
   "cell_type": "markdown",
   "id": "79f55193-5151-4266-ab74-ac7ade0c16ca",
   "metadata": {},
   "source": [
    "# Distribution targets on whole data"
   ]
  },
  {
   "cell_type": "code",
   "execution_count": 3,
   "id": "6d7545d4-026b-47be-9d43-e01354bc4212",
   "metadata": {
    "execution": {
     "iopub.execute_input": "2021-11-10T12:38:21.108337Z",
     "iopub.status.busy": "2021-11-10T12:38:21.108196Z",
     "iopub.status.idle": "2021-11-10T12:38:21.115605Z",
     "shell.execute_reply": "2021-11-10T12:38:21.115010Z",
     "shell.execute_reply.started": "2021-11-10T12:38:21.108320Z"
    },
    "tags": []
   },
   "outputs": [
    {
     "data": {
      "text/plain": [
       "0     6743\n",
       "1    21088\n",
       "2     1631\n",
       "dtype: int64"
      ]
     },
     "execution_count": 3,
     "metadata": {},
     "output_type": "execute_result"
    }
   ],
   "source": [
    "y_true_all.value_counts().sort_index()"
   ]
  },
  {
   "cell_type": "code",
   "execution_count": 4,
   "id": "a884ff3e-b35a-4673-a06b-32122cbee7f7",
   "metadata": {
    "execution": {
     "iopub.execute_input": "2021-11-10T12:38:21.116448Z",
     "iopub.status.busy": "2021-11-10T12:38:21.116342Z",
     "iopub.status.idle": "2021-11-10T12:38:21.248726Z",
     "shell.execute_reply": "2021-11-10T12:38:21.248070Z",
     "shell.execute_reply.started": "2021-11-10T12:38:21.116436Z"
    }
   },
   "outputs": [
    {
     "data": {
      "text/plain": [
       "0    0.228871\n",
       "1    0.715769\n",
       "2    0.055359\n",
       "dtype: float64"
      ]
     },
     "execution_count": 4,
     "metadata": {},
     "output_type": "execute_result"
    }
   ],
   "source": [
    "y_true_all.value_counts(normalize=True).sort_index()"
   ]
  },
  {
   "cell_type": "markdown",
   "id": "2002be96-e76a-4135-ad04-cba1e286a76a",
   "metadata": {},
   "source": [
    "# Distribution sensitive flags on whole data"
   ]
  },
  {
   "cell_type": "code",
   "execution_count": 5,
   "id": "231714b9-9def-4590-995e-b6ccf6969a15",
   "metadata": {
    "execution": {
     "iopub.execute_input": "2021-11-10T12:38:21.249619Z",
     "iopub.status.busy": "2021-11-10T12:38:21.249413Z",
     "iopub.status.idle": "2021-11-10T12:38:24.191713Z",
     "shell.execute_reply": "2021-11-10T12:38:24.190911Z",
     "shell.execute_reply.started": "2021-11-10T12:38:21.249603Z"
    },
    "tags": []
   },
   "outputs": [],
   "source": [
    "result = {'always_pos': 0, 'always_neg': 0, 'changed': 0}\n",
    "for ship, group in portcalls.groupby('ship')['flag']:\n",
    "    if group.all():\n",
    "        result['always_pos'] += 1\n",
    "    elif (~group).all():\n",
    "        result['always_neg'] += 1\n",
    "    else:\n",
    "        result['changed'] += 1\n",
    "result = pd.Series(result)"
   ]
  },
  {
   "cell_type": "code",
   "execution_count": 6,
   "id": "111e1888-2af7-4db2-b3dc-79238d03be2d",
   "metadata": {
    "execution": {
     "iopub.execute_input": "2021-11-10T12:38:24.192603Z",
     "iopub.status.busy": "2021-11-10T12:38:24.192472Z",
     "iopub.status.idle": "2021-11-10T12:38:24.197033Z",
     "shell.execute_reply": "2021-11-10T12:38:24.196570Z",
     "shell.execute_reply.started": "2021-11-10T12:38:24.192588Z"
    }
   },
   "outputs": [
    {
     "data": {
      "text/plain": [
       "always_pos     1473\n",
       "always_neg    27260\n",
       "changed         729\n",
       "dtype: int64"
      ]
     },
     "execution_count": 6,
     "metadata": {},
     "output_type": "execute_result"
    }
   ],
   "source": [
    "result"
   ]
  },
  {
   "cell_type": "code",
   "execution_count": 7,
   "id": "1e1eac87-c1c9-407d-8785-a63f8eaf1853",
   "metadata": {
    "execution": {
     "iopub.execute_input": "2021-11-10T12:38:24.197767Z",
     "iopub.status.busy": "2021-11-10T12:38:24.197656Z",
     "iopub.status.idle": "2021-11-10T12:38:24.269662Z",
     "shell.execute_reply": "2021-11-10T12:38:24.269059Z",
     "shell.execute_reply.started": "2021-11-10T12:38:24.197754Z"
    },
    "tags": []
   },
   "outputs": [
    {
     "data": {
      "text/plain": [
       "always_pos    0.049997\n",
       "always_neg    0.925260\n",
       "changed       0.024744\n",
       "dtype: float64"
      ]
     },
     "execution_count": 7,
     "metadata": {},
     "output_type": "execute_result"
    }
   ],
   "source": [
    "result / result.sum()"
   ]
  },
  {
   "cell_type": "code",
   "execution_count": 8,
   "id": "9515854a-c566-4fb3-b769-92dc44fd1d67",
   "metadata": {
    "execution": {
     "iopub.execute_input": "2021-11-10T12:38:24.270399Z",
     "iopub.status.busy": "2021-11-10T12:38:24.270295Z",
     "iopub.status.idle": "2021-11-10T12:38:24.319492Z",
     "shell.execute_reply": "2021-11-10T12:38:24.318890Z",
     "shell.execute_reply.started": "2021-11-10T12:38:24.270387Z"
    },
    "tags": []
   },
   "outputs": [
    {
     "data": {
      "text/plain": [
       "0    0.195664\n",
       "1    0.554204\n",
       "2    0.250132\n",
       "dtype: float64"
      ]
     },
     "execution_count": 8,
     "metadata": {},
     "output_type": "execute_result"
    }
   ],
   "source": [
    "y_true_all[s_all].value_counts(normalize=True).sort_index()"
   ]
  },
  {
   "cell_type": "code",
   "execution_count": 9,
   "id": "db21a118-0d79-4915-904f-bf53bef6de72",
   "metadata": {
    "execution": {
     "iopub.execute_input": "2021-11-10T12:38:24.320241Z",
     "iopub.status.busy": "2021-11-10T12:38:24.320124Z",
     "iopub.status.idle": "2021-11-10T12:38:24.378790Z",
     "shell.execute_reply": "2021-11-10T12:38:24.378298Z",
     "shell.execute_reply.started": "2021-11-10T12:38:24.320229Z"
    }
   },
   "outputs": [
    {
     "data": {
      "text/plain": [
       "0    0.231149\n",
       "1    0.726851\n",
       "2    0.042001\n",
       "dtype: float64"
      ]
     },
     "execution_count": 9,
     "metadata": {},
     "output_type": "execute_result"
    }
   ],
   "source": [
    "y_true_all[~s_all].value_counts(normalize=True).sort_index()"
   ]
  },
  {
   "cell_type": "code",
   "execution_count": 10,
   "id": "c26b1c5b-bf89-4d3e-81b7-177ebd0b3f46",
   "metadata": {
    "execution": {
     "iopub.execute_input": "2021-11-10T12:38:24.379482Z",
     "iopub.status.busy": "2021-11-10T12:38:24.379380Z",
     "iopub.status.idle": "2021-11-10T12:38:24.431903Z",
     "shell.execute_reply": "2021-11-10T12:38:24.431296Z",
     "shell.execute_reply.started": "2021-11-10T12:38:24.379469Z"
    },
    "tags": []
   },
   "outputs": [
    {
     "data": {
      "text/html": [
       "<div>\n",
       "<style scoped>\n",
       "    .dataframe tbody tr th:only-of-type {\n",
       "        vertical-align: middle;\n",
       "    }\n",
       "\n",
       "    .dataframe tbody tr th {\n",
       "        vertical-align: top;\n",
       "    }\n",
       "\n",
       "    .dataframe thead th {\n",
       "        text-align: right;\n",
       "    }\n",
       "</style>\n",
       "<table border=\"1\" class=\"dataframe\">\n",
       "  <thead>\n",
       "    <tr style=\"text-align: right;\">\n",
       "      <th>Expert label</th>\n",
       "      <th>low</th>\n",
       "      <th>medium</th>\n",
       "      <th>high</th>\n",
       "    </tr>\n",
       "    <tr>\n",
       "      <th>inspection result</th>\n",
       "      <th></th>\n",
       "      <th></th>\n",
       "      <th></th>\n",
       "    </tr>\n",
       "  </thead>\n",
       "  <tbody>\n",
       "    <tr>\n",
       "      <th>compliant</th>\n",
       "      <td>1</td>\n",
       "      <td>261</td>\n",
       "      <td>17</td>\n",
       "    </tr>\n",
       "    <tr>\n",
       "      <th>minor deficiencies</th>\n",
       "      <td>0</td>\n",
       "      <td>620</td>\n",
       "      <td>297</td>\n",
       "    </tr>\n",
       "    <tr>\n",
       "      <th>detention</th>\n",
       "      <td>0</td>\n",
       "      <td>150</td>\n",
       "      <td>267</td>\n",
       "    </tr>\n",
       "  </tbody>\n",
       "</table>\n",
       "</div>"
      ],
      "text/plain": [
       "Expert label        low  medium  high\n",
       "inspection result                    \n",
       "compliant             1     261    17\n",
       "minor deficiencies    0     620   297\n",
       "detention             0     150   267"
      ]
     },
     "execution_count": 10,
     "metadata": {},
     "output_type": "execute_result"
    }
   ],
   "source": [
    "assert all(y_score.index == y_score.index)\n",
    "pd.DataFrame(\n",
    "    data=sklearn.metrics.confusion_matrix(y_true[s], y_score[s]),\n",
    "    index=pd.Index(['compliant', 'minor deficiencies', 'detention'], name='inspection result'),\n",
    "    columns=pd.Index(['low', 'medium', 'high'], name='Expert label')\n",
    ")"
   ]
  },
  {
   "cell_type": "code",
   "execution_count": 11,
   "id": "1aa7aad0-9ab1-4956-84b6-09887d58019a",
   "metadata": {
    "execution": {
     "iopub.execute_input": "2021-11-10T12:38:24.432651Z",
     "iopub.status.busy": "2021-11-10T12:38:24.432540Z",
     "iopub.status.idle": "2021-11-10T12:38:24.532405Z",
     "shell.execute_reply": "2021-11-10T12:38:24.531924Z",
     "shell.execute_reply.started": "2021-11-10T12:38:24.432639Z"
    },
    "tags": []
   },
   "outputs": [
    {
     "data": {
      "text/html": [
       "<div>\n",
       "<style scoped>\n",
       "    .dataframe tbody tr th:only-of-type {\n",
       "        vertical-align: middle;\n",
       "    }\n",
       "\n",
       "    .dataframe tbody tr th {\n",
       "        vertical-align: top;\n",
       "    }\n",
       "\n",
       "    .dataframe thead th {\n",
       "        text-align: right;\n",
       "    }\n",
       "</style>\n",
       "<table border=\"1\" class=\"dataframe\">\n",
       "  <thead>\n",
       "    <tr style=\"text-align: right;\">\n",
       "      <th>Expert label</th>\n",
       "      <th>low</th>\n",
       "      <th>medium</th>\n",
       "      <th>high</th>\n",
       "    </tr>\n",
       "    <tr>\n",
       "      <th>inspection result</th>\n",
       "      <th></th>\n",
       "      <th></th>\n",
       "      <th></th>\n",
       "    </tr>\n",
       "  </thead>\n",
       "  <tbody>\n",
       "    <tr>\n",
       "      <th>compliant</th>\n",
       "      <td>319</td>\n",
       "      <td>4774</td>\n",
       "      <td>49</td>\n",
       "    </tr>\n",
       "    <tr>\n",
       "      <th>minor deficiencies</th>\n",
       "      <td>682</td>\n",
       "      <td>16370</td>\n",
       "      <td>732</td>\n",
       "    </tr>\n",
       "    <tr>\n",
       "      <th>detention</th>\n",
       "      <td>1</td>\n",
       "      <td>788</td>\n",
       "      <td>246</td>\n",
       "    </tr>\n",
       "  </tbody>\n",
       "</table>\n",
       "</div>"
      ],
      "text/plain": [
       "Expert label        low  medium  high\n",
       "inspection result                    \n",
       "compliant           319    4774    49\n",
       "minor deficiencies  682   16370   732\n",
       "detention             1     788   246"
      ]
     },
     "execution_count": 11,
     "metadata": {},
     "output_type": "execute_result"
    }
   ],
   "source": [
    "assert all(y_score.index == y_score.index)\n",
    "pd.DataFrame(\n",
    "    data=sklearn.metrics.confusion_matrix(y_true[~s], y_score[~s]),\n",
    "    index=pd.Index(['compliant', 'minor deficiencies', 'detention'], name='inspection result'),\n",
    "    columns=pd.Index(['low', 'medium', 'high'], name='Expert label')\n",
    ")"
   ]
  },
  {
   "cell_type": "code",
   "execution_count": 12,
   "id": "c7e8e0f3-55f3-4169-96b2-0490239e7532",
   "metadata": {
    "execution": {
     "iopub.execute_input": "2021-11-10T12:38:24.534238Z",
     "iopub.status.busy": "2021-11-10T12:38:24.534124Z",
     "iopub.status.idle": "2021-11-10T12:38:24.618007Z",
     "shell.execute_reply": "2021-11-10T12:38:24.617362Z",
     "shell.execute_reply.started": "2021-11-10T12:38:24.534225Z"
    },
    "tags": []
   },
   "outputs": [
    {
     "name": "stdout",
     "output_type": "stream",
     "text": [
      "PPR_nonwhite = 0.64\n",
      "PPR_white = 0.96\n",
      "FPR_nonwhite = 0.59\n",
      "FPR_white = 0.95\n",
      "TPR_nonwhite = 0.68\n",
      "TPR_white = 0.96\n"
     ]
    }
   ],
   "source": [
    "print(f'PPR_nonwhite = {(y_score <= 1)[s].mean():.2f}')\n",
    "print(f'PPR_white = {(y_score <= 1)[~s].mean():.2f}')\n",
    "print(f'FPR_nonwhite = {(y_score <= 1)[s & ~y_true].mean():.2f}')\n",
    "print(f'FPR_white = {(y_score <= 1)[~s & ~y_true].mean():.2f}')\n",
    "print(f'TPR_nonwhite = {(y_score <= 1)[s & y_true].mean():.2f}')\n",
    "print(f'TPR_white = {(y_score <= 1)[~s & y_true].mean():.2f}')"
   ]
  },
  {
   "cell_type": "markdown",
   "id": "3c86634b-8a05-4fed-8f95-b96bf4ca109d",
   "metadata": {},
   "source": [
    "# Distribution target"
   ]
  },
  {
   "cell_type": "code",
   "execution_count": 13,
   "id": "ad4a9ffc-cff3-4148-b96f-b671956d2d2a",
   "metadata": {
    "execution": {
     "iopub.execute_input": "2021-11-10T12:38:24.618714Z",
     "iopub.status.busy": "2021-11-10T12:38:24.618610Z",
     "iopub.status.idle": "2021-11-10T12:38:24.671485Z",
     "shell.execute_reply": "2021-11-10T12:38:24.670867Z",
     "shell.execute_reply.started": "2021-11-10T12:38:24.618702Z"
    },
    "tags": []
   },
   "outputs": [
    {
     "data": {
      "text/plain": [
       "OK            0.211973\n",
       "deficiency    0.731250\n",
       "detention     0.056776\n",
       "dtype: float64"
      ]
     },
     "execution_count": 13,
     "metadata": {},
     "output_type": "execute_result"
    }
   ],
   "source": [
    "pd.Series(np.bincount(y_true) / len(y_true), index=['OK', 'deficiency', 'detention'])"
   ]
  },
  {
   "cell_type": "code",
   "execution_count": 14,
   "id": "d79c7932-0bc2-4866-9548-3f506f5da397",
   "metadata": {
    "execution": {
     "iopub.execute_input": "2021-11-10T12:38:24.672177Z",
     "iopub.status.busy": "2021-11-10T12:38:24.672074Z",
     "iopub.status.idle": "2021-11-10T12:38:24.744173Z",
     "shell.execute_reply": "2021-11-10T12:38:24.743656Z",
     "shell.execute_reply.started": "2021-11-10T12:38:24.672164Z"
    },
    "tags": []
   },
   "outputs": [
    {
     "data": {
      "text/plain": [
       "OK             5421\n",
       "deficiency    18701\n",
       "detention      1452\n",
       "dtype: int64"
      ]
     },
     "execution_count": 14,
     "metadata": {},
     "output_type": "execute_result"
    }
   ],
   "source": [
    "pd.Series(np.bincount(y_true), index=['OK', 'deficiency', 'detention'])"
   ]
  },
  {
   "cell_type": "markdown",
   "id": "e74bdfef-73cd-4dec-a3be-b241583378b2",
   "metadata": {},
   "source": [
    "# Distribution sensitive attribute"
   ]
  },
  {
   "cell_type": "code",
   "execution_count": 15,
   "id": "7e37c2aa-f135-4386-b617-20240e19ff80",
   "metadata": {
    "execution": {
     "iopub.execute_input": "2021-11-10T12:38:24.744972Z",
     "iopub.status.busy": "2021-11-10T12:38:24.744786Z",
     "iopub.status.idle": "2021-11-10T12:38:24.816944Z",
     "shell.execute_reply": "2021-11-10T12:38:24.816372Z",
     "shell.execute_reply.started": "2021-11-10T12:38:24.744957Z"
    },
    "tags": []
   },
   "outputs": [
    {
     "data": {
      "text/plain": [
       "white flag        0.936928\n",
       "non-white flag    0.063072\n",
       "dtype: float64"
      ]
     },
     "execution_count": 15,
     "metadata": {},
     "output_type": "execute_result"
    }
   ],
   "source": [
    "pd.Series(np.bincount(s) / len(s), index=['white flag', 'non-white flag'])"
   ]
  },
  {
   "cell_type": "markdown",
   "id": "7cb87e2d-0704-4ba6-adbf-871c62f54fe0",
   "metadata": {},
   "source": [
    "# Distribution sensitive attribute in combination with target"
   ]
  },
  {
   "cell_type": "code",
   "execution_count": 16,
   "id": "6e656530-a3af-48d0-8f47-59743274e9eb",
   "metadata": {
    "execution": {
     "iopub.execute_input": "2021-11-10T12:38:24.817612Z",
     "iopub.status.busy": "2021-11-10T12:38:24.817503Z",
     "iopub.status.idle": "2021-11-10T12:38:24.939859Z",
     "shell.execute_reply": "2021-11-10T12:38:24.939255Z",
     "shell.execute_reply.started": "2021-11-10T12:38:24.817599Z"
    },
    "tags": []
   },
   "outputs": [
    {
     "data": {
      "text/html": [
       "<div>\n",
       "<style scoped>\n",
       "    .dataframe tbody tr th:only-of-type {\n",
       "        vertical-align: middle;\n",
       "    }\n",
       "\n",
       "    .dataframe tbody tr th {\n",
       "        vertical-align: top;\n",
       "    }\n",
       "\n",
       "    .dataframe thead th {\n",
       "        text-align: right;\n",
       "    }\n",
       "</style>\n",
       "<table border=\"1\" class=\"dataframe\">\n",
       "  <thead>\n",
       "    <tr style=\"text-align: right;\">\n",
       "      <th></th>\n",
       "      <th>white flag</th>\n",
       "      <th>non-white flag</th>\n",
       "    </tr>\n",
       "  </thead>\n",
       "  <tbody>\n",
       "    <tr>\n",
       "      <th>OK</th>\n",
       "      <td>5142</td>\n",
       "      <td>279</td>\n",
       "    </tr>\n",
       "    <tr>\n",
       "      <th>deficiency</th>\n",
       "      <td>17784</td>\n",
       "      <td>917</td>\n",
       "    </tr>\n",
       "    <tr>\n",
       "      <th>detention</th>\n",
       "      <td>1035</td>\n",
       "      <td>417</td>\n",
       "    </tr>\n",
       "  </tbody>\n",
       "</table>\n",
       "</div>"
      ],
      "text/plain": [
       "            white flag  non-white flag\n",
       "OK                5142             279\n",
       "deficiency       17784             917\n",
       "detention         1035             417"
      ]
     },
     "execution_count": 16,
     "metadata": {},
     "output_type": "execute_result"
    }
   ],
   "source": [
    "pd.DataFrame(\n",
    "    sklearn.metrics.confusion_matrix(y_true=y_true, y_pred=s),\n",
    "    columns=['white flag', 'non-white flag', ''],\n",
    "    index=['OK', 'deficiency', 'detention']\n",
    ").drop(columns='')"
   ]
  },
  {
   "cell_type": "code",
   "execution_count": 17,
   "id": "85e12a20-17df-4313-88c4-dd2773304064",
   "metadata": {
    "execution": {
     "iopub.execute_input": "2021-11-10T12:38:24.940573Z",
     "iopub.status.busy": "2021-11-10T12:38:24.940462Z",
     "iopub.status.idle": "2021-11-10T12:38:25.004526Z",
     "shell.execute_reply": "2021-11-10T12:38:25.003891Z",
     "shell.execute_reply.started": "2021-11-10T12:38:24.940560Z"
    },
    "tags": []
   },
   "outputs": [
    {
     "data": {
      "text/html": [
       "<div>\n",
       "<style scoped>\n",
       "    .dataframe tbody tr th:only-of-type {\n",
       "        vertical-align: middle;\n",
       "    }\n",
       "\n",
       "    .dataframe tbody tr th {\n",
       "        vertical-align: top;\n",
       "    }\n",
       "\n",
       "    .dataframe thead th {\n",
       "        text-align: right;\n",
       "    }\n",
       "</style>\n",
       "<table border=\"1\" class=\"dataframe\">\n",
       "  <thead>\n",
       "    <tr style=\"text-align: right;\">\n",
       "      <th></th>\n",
       "      <th>white flag</th>\n",
       "      <th>non-white flag</th>\n",
       "    </tr>\n",
       "  </thead>\n",
       "  <tbody>\n",
       "    <tr>\n",
       "      <th>OK</th>\n",
       "      <td>0.948533</td>\n",
       "      <td>0.051467</td>\n",
       "    </tr>\n",
       "    <tr>\n",
       "      <th>deficiency</th>\n",
       "      <td>0.950965</td>\n",
       "      <td>0.049035</td>\n",
       "    </tr>\n",
       "    <tr>\n",
       "      <th>detention</th>\n",
       "      <td>0.712810</td>\n",
       "      <td>0.287190</td>\n",
       "    </tr>\n",
       "  </tbody>\n",
       "</table>\n",
       "</div>"
      ],
      "text/plain": [
       "            white flag  non-white flag\n",
       "OK            0.948533        0.051467\n",
       "deficiency    0.950965        0.049035\n",
       "detention     0.712810        0.287190"
      ]
     },
     "execution_count": 17,
     "metadata": {},
     "output_type": "execute_result"
    }
   ],
   "source": [
    "pd.DataFrame(\n",
    "    sklearn.metrics.confusion_matrix(y_true=y_true, y_pred=s, normalize='true'),\n",
    "    columns=['white flag', 'non-white flag', ''],\n",
    "    index=['OK', 'deficiency', 'detention']\n",
    ").drop(columns='')"
   ]
  },
  {
   "cell_type": "markdown",
   "id": "10993027-7d23-476d-8903-ca7f9c9a344d",
   "metadata": {},
   "source": [
    "# Disparate impact"
   ]
  },
  {
   "cell_type": "code",
   "execution_count": 18,
   "id": "3c274249-882d-40be-b8ee-240963dfe6e9",
   "metadata": {
    "execution": {
     "iopub.execute_input": "2021-11-10T12:38:25.005536Z",
     "iopub.status.busy": "2021-11-10T12:38:25.005329Z",
     "iopub.status.idle": "2021-11-10T12:38:25.065391Z",
     "shell.execute_reply": "2021-11-10T12:38:25.064747Z",
     "shell.execute_reply.started": "2021-11-10T12:38:25.005519Z"
    },
    "tags": []
   },
   "outputs": [],
   "source": [
    "def disparate_impact(y_score, s):\n",
    "    p_low_given_black = (y_score)[s.astype(bool)].mean()\n",
    "    p_low_given_white = (y_score)[~s.astype(bool)].mean()\n",
    "    disparate_impact = p_low_given_black/p_low_given_white\n",
    "    ε = 1-disparate_impact\n",
    "    print(f\"{p_low_given_black:.3f}/{p_low_given_white:.3f}={disparate_impact:.3f}\")\n",
    "    print(f\"{ε=:.3f}\")"
   ]
  },
  {
   "cell_type": "markdown",
   "id": "71ad0b09-9508-493f-93fd-7fc188b65d5f",
   "metadata": {},
   "source": [
    "$\\frac{P[\\text{low risk}|\\text{black flag}]}{P[\\text{low risk}|\\text{white flag}]} \\geq 1-\\epsilon$"
   ]
  },
  {
   "cell_type": "code",
   "execution_count": 19,
   "id": "2e762737-7bd6-4b62-92dc-5d569911d3ff",
   "metadata": {
    "execution": {
     "iopub.execute_input": "2021-11-10T12:38:25.066218Z",
     "iopub.status.busy": "2021-11-10T12:38:25.066117Z",
     "iopub.status.idle": "2021-11-10T12:38:25.125256Z",
     "shell.execute_reply": "2021-11-10T12:38:25.124639Z",
     "shell.execute_reply.started": "2021-11-10T12:38:25.066205Z"
    },
    "tags": []
   },
   "outputs": [
    {
     "name": "stdout",
     "output_type": "stream",
     "text": [
      "0.001/0.042=0.015\n",
      "ε=0.985\n"
     ]
    }
   ],
   "source": [
    "disparate_impact(y_score < 1, s.astype(bool))"
   ]
  },
  {
   "cell_type": "markdown",
   "id": "391c0f91-0176-4851-805d-c06f6e883ce7",
   "metadata": {},
   "source": [
    "$\\frac{P[\\text{low or medium risk}|\\text{black flag}]}{P[\\text{low or medium risk}|\\text{white flag}]}$"
   ]
  },
  {
   "cell_type": "code",
   "execution_count": 20,
   "id": "0249b3dc-8f4b-4d7c-9c23-02d11e5bc051",
   "metadata": {
    "execution": {
     "iopub.execute_input": "2021-11-10T12:38:25.125962Z",
     "iopub.status.busy": "2021-11-10T12:38:25.125847Z",
     "iopub.status.idle": "2021-11-10T12:38:25.182244Z",
     "shell.execute_reply": "2021-11-10T12:38:25.181584Z",
     "shell.execute_reply.started": "2021-11-10T12:38:25.125949Z"
    },
    "tags": []
   },
   "outputs": [
    {
     "name": "stdout",
     "output_type": "stream",
     "text": [
      "0.640/0.957=0.668\n",
      "ε=0.332\n"
     ]
    }
   ],
   "source": [
    "disparate_impact(y_score < 2, s.astype(bool))"
   ]
  },
  {
   "cell_type": "markdown",
   "id": "2f5a808c-bb22-412b-a756-34e0902d3d65",
   "metadata": {},
   "source": [
    "# Demographic parity"
   ]
  },
  {
   "cell_type": "markdown",
   "id": "197b7a8c-9247-46db-869e-3ebafd5ccb1c",
   "metadata": {},
   "source": [
    "$\\left|P[\\text{low risk}|\\text{black flag}] - P[\\text{low risk}|\\text{white flag}]\\right|$"
   ]
  },
  {
   "cell_type": "code",
   "execution_count": 21,
   "id": "feb5cabb-641b-4af1-841f-71e9f07db283",
   "metadata": {
    "execution": {
     "iopub.execute_input": "2021-11-10T12:38:25.183253Z",
     "iopub.status.busy": "2021-11-10T12:38:25.183073Z",
     "iopub.status.idle": "2021-11-10T12:38:25.268176Z",
     "shell.execute_reply": "2021-11-10T12:38:25.267565Z",
     "shell.execute_reply.started": "2021-11-10T12:38:25.183230Z"
    },
    "tags": []
   },
   "outputs": [
    {
     "data": {
      "text/plain": [
       "0.04119799137330338"
      ]
     },
     "execution_count": 21,
     "metadata": {},
     "output_type": "execute_result"
    }
   ],
   "source": [
    "abs((y_score == 0)[s.astype(bool)].mean() - (y_score == 0)[~s.astype(bool)].mean())"
   ]
  },
  {
   "cell_type": "markdown",
   "id": "1b3fb4a9-dd73-4d15-b7fc-c45662450166",
   "metadata": {},
   "source": [
    "$\\left|P[\\text{low or medium risk}|\\text{black flag}] - P[\\text{low or medium risk}|\\text{white flag}]\\right|$"
   ]
  },
  {
   "cell_type": "code",
   "execution_count": 22,
   "id": "93043b51-42a8-4537-a140-9980670ac2c6",
   "metadata": {
    "execution": {
     "iopub.execute_input": "2021-11-10T12:38:25.269220Z",
     "iopub.status.busy": "2021-11-10T12:38:25.269033Z",
     "iopub.status.idle": "2021-11-10T12:38:25.370273Z",
     "shell.execute_reply": "2021-11-10T12:38:25.369544Z",
     "shell.execute_reply.started": "2021-11-10T12:38:25.269197Z"
    },
    "tags": []
   },
   "outputs": [
    {
     "data": {
      "text/plain": [
       "0.31733707179105086"
      ]
     },
     "execution_count": 22,
     "metadata": {},
     "output_type": "execute_result"
    }
   ],
   "source": [
    "abs((y_score < 2)[s.astype(bool)].mean() - (y_score < 2)[~s.astype(bool)].mean())"
   ]
  },
  {
   "cell_type": "markdown",
   "id": "2a4c4a34-166f-4aab-8b53-2590fcb36534",
   "metadata": {},
   "source": [
    "# Strategy A: OK+deficiency vs detention"
   ]
  },
  {
   "cell_type": "code",
   "execution_count": 23,
   "id": "e42b8f4b-0d23-4295-ab3a-61ac72f4bc0f",
   "metadata": {
    "execution": {
     "iopub.execute_input": "2021-11-10T12:38:25.371455Z",
     "iopub.status.busy": "2021-11-10T12:38:25.371228Z",
     "iopub.status.idle": "2021-11-10T12:38:25.574728Z",
     "shell.execute_reply": "2021-11-10T12:38:25.574173Z",
     "shell.execute_reply.started": "2021-11-10T12:38:25.371426Z"
    },
    "tags": []
   },
   "outputs": [
    {
     "data": {
      "text/html": [
       "<div>\n",
       "<style scoped>\n",
       "    .dataframe tbody tr th:only-of-type {\n",
       "        vertical-align: middle;\n",
       "    }\n",
       "\n",
       "    .dataframe tbody tr th {\n",
       "        vertical-align: top;\n",
       "    }\n",
       "\n",
       "    .dataframe thead th {\n",
       "        text-align: right;\n",
       "    }\n",
       "</style>\n",
       "<table border=\"1\" class=\"dataframe\">\n",
       "  <thead>\n",
       "    <tr style=\"text-align: right;\">\n",
       "      <th>Expert label</th>\n",
       "      <th>low</th>\n",
       "      <th>med</th>\n",
       "      <th>high</th>\n",
       "    </tr>\n",
       "    <tr>\n",
       "      <th>ground truth</th>\n",
       "      <th></th>\n",
       "      <th></th>\n",
       "      <th></th>\n",
       "    </tr>\n",
       "  </thead>\n",
       "  <tbody>\n",
       "    <tr>\n",
       "      <th>OK+def (neg.)</th>\n",
       "      <td>1002</td>\n",
       "      <td>22025</td>\n",
       "      <td>1095</td>\n",
       "    </tr>\n",
       "    <tr>\n",
       "      <th>det (pos.)</th>\n",
       "      <td>1</td>\n",
       "      <td>938</td>\n",
       "      <td>513</td>\n",
       "    </tr>\n",
       "  </tbody>\n",
       "</table>\n",
       "</div>"
      ],
      "text/plain": [
       "Expert label    low    med  high\n",
       "ground truth                    \n",
       "OK+def (neg.)  1002  22025  1095\n",
       "det (pos.)        1    938   513"
      ]
     },
     "metadata": {},
     "output_type": "display_data"
    },
    {
     "data": {
      "text/html": [
       "<div>\n",
       "<style scoped>\n",
       "    .dataframe tbody tr th:only-of-type {\n",
       "        vertical-align: middle;\n",
       "    }\n",
       "\n",
       "    .dataframe tbody tr th {\n",
       "        vertical-align: top;\n",
       "    }\n",
       "\n",
       "    .dataframe thead th {\n",
       "        text-align: right;\n",
       "    }\n",
       "</style>\n",
       "<table border=\"1\" class=\"dataframe\">\n",
       "  <thead>\n",
       "    <tr style=\"text-align: right;\">\n",
       "      <th>Expert label</th>\n",
       "      <th>low</th>\n",
       "      <th>med</th>\n",
       "      <th>high</th>\n",
       "    </tr>\n",
       "    <tr>\n",
       "      <th>ground truth</th>\n",
       "      <th></th>\n",
       "      <th></th>\n",
       "      <th></th>\n",
       "    </tr>\n",
       "  </thead>\n",
       "  <tbody>\n",
       "    <tr>\n",
       "      <th>OK+def (neg.)</th>\n",
       "      <td>0.042</td>\n",
       "      <td>0.913</td>\n",
       "      <td>0.045</td>\n",
       "    </tr>\n",
       "    <tr>\n",
       "      <th>det (pos.)</th>\n",
       "      <td>0.001</td>\n",
       "      <td>0.646</td>\n",
       "      <td>0.353</td>\n",
       "    </tr>\n",
       "  </tbody>\n",
       "</table>\n",
       "</div>"
      ],
      "text/plain": [
       "Expert label     low    med   high\n",
       "ground truth                      \n",
       "OK+def (neg.)  0.042  0.913  0.045\n",
       "det (pos.)     0.001  0.646  0.353"
      ]
     },
     "metadata": {},
     "output_type": "display_data"
    },
    {
     "name": "stdout",
     "output_type": "stream",
     "text": [
      "AUC_y: 0.667\n",
      "AUC_s: 0.672\n",
      "AP: 0.15\n",
      "Baseline performance: 0.057\n"
     ]
    }
   ],
   "source": [
    "y_true_a = (y_true>1)\n",
    "\n",
    "confustion_matrix = pd.DataFrame(\n",
    "    sklearn.metrics.confusion_matrix(y_true=y_true_a, y_pred=y_score), \n",
    "    columns=pd.Index(['low', 'med', 'high'], name='Expert label'), \n",
    "    index=pd.Index(['OK+def (neg.)', 'det (pos.)', ''], name='ground truth')\n",
    ").loc[['OK+def (neg.)', 'det (pos.)']].round(3)\n",
    "display(confustion_matrix)\n",
    "confustion_matrix = pd.DataFrame(\n",
    "    sklearn.metrics.confusion_matrix(y_true=y_true_a, y_pred=y_score, normalize='true'), \n",
    "    columns=pd.Index(['low', 'med', 'high'], name='Expert label'), \n",
    "    index=pd.Index(['OK+def (neg.)', 'det (pos.)', ''], name='ground truth')\n",
    ").loc[['OK+def (neg.)', 'det (pos.)']].round(3)\n",
    "display(confustion_matrix)\n",
    "print(f'AUC_y: {sklearn.metrics.roc_auc_score(y_true=y_true_a, y_score=y_score):.3f}')\n",
    "print(f'AUC_s: {sklearn.metrics.roc_auc_score(y_true=s, y_score=y_score):.3f}')\n",
    "\n",
    "print(f'AP: {sklearn.metrics.average_precision_score(y_true=y_true_a, y_score=y_score):.2f}')\n",
    "print(f'Baseline performance: {y_true_a.mean():.3f}')"
   ]
  },
  {
   "cell_type": "markdown",
   "id": "5dc18759-adf4-4ae0-b2b9-c878ebd8b007",
   "metadata": {
    "tags": []
   },
   "source": [
    "## Equalized odds"
   ]
  },
  {
   "cell_type": "code",
   "execution_count": 24,
   "id": "c9734b6f-3936-4969-b16f-e88702181380",
   "metadata": {
    "execution": {
     "iopub.execute_input": "2021-11-10T12:38:25.575509Z",
     "iopub.status.busy": "2021-11-10T12:38:25.575396Z",
     "iopub.status.idle": "2021-11-10T12:38:25.579334Z",
     "shell.execute_reply": "2021-11-10T12:38:25.578740Z",
     "shell.execute_reply.started": "2021-11-10T12:38:25.575496Z"
    },
    "tags": []
   },
   "outputs": [],
   "source": [
    "def equalized_odds(y_score, y_true, s):\n",
    "    fpr_black = (y_score)[s & ~y_true].mean()\n",
    "    fpr_white = (y_score)[~s & ~y_true].mean()\n",
    "    print(f\"|{fpr_black=:.4f} - {fpr_white=:.4f}| = {abs(fpr_black-fpr_white):.4f}\")\n",
    "    tpr_black = (y_score)[s & y_true].mean()\n",
    "    tpr_white = (y_score)[~s & y_true].mean()\n",
    "    print(f\"|{tpr_black=:.4f} - {tpr_white=:.4f}| = {abs(tpr_black-tpr_white):.4f}\")"
   ]
  },
  {
   "cell_type": "markdown",
   "id": "50de7131-be85-4a65-a5a4-32d001a2e1be",
   "metadata": {},
   "source": [
    "$\\left| P [\\text{low risk} | \\text{black flag, ship with deficiencies}] - P [\\text{low risk} | \\text{white flag, ship with deficiencies}] \\right|$ = $\\left| \\text{FPR}_{\\text{black}} - \\text{FPR}_{\\text{white}} \\right|$"
   ]
  },
  {
   "cell_type": "code",
   "execution_count": 25,
   "id": "6cfde317-badf-4a44-8b78-e5d895a36848",
   "metadata": {
    "execution": {
     "iopub.execute_input": "2021-11-10T12:38:25.580005Z",
     "iopub.status.busy": "2021-11-10T12:38:25.579884Z",
     "iopub.status.idle": "2021-11-10T12:38:25.651521Z",
     "shell.execute_reply": "2021-11-10T12:38:25.650828Z",
     "shell.execute_reply.started": "2021-11-10T12:38:25.579990Z"
    },
    "tags": []
   },
   "outputs": [
    {
     "name": "stdout",
     "output_type": "stream",
     "text": [
      "|fpr_black=0.0000 - fpr_white=0.0010| = 0.0010\n",
      "|tpr_black=0.0008 - tpr_white=0.0437| = 0.0428\n"
     ]
    }
   ],
   "source": [
    "equalized_odds(y_score == 0, y_true <= 1, s)"
   ]
  },
  {
   "cell_type": "markdown",
   "id": "b5c7c766-253c-4efd-9942-28569d513ee1",
   "metadata": {},
   "source": [
    "$\\left| P [\\text{low or medium risk} | \\text{black flag, ship with deficiencies}] - P [\\text{low or medium risk} | \\text{white flag, ship with deficiencies}] \\right|$ = $\\left| \\text{FPR}_{\\text{black}} - \\text{FPR}_{\\text{white}} \\right|$"
   ]
  },
  {
   "cell_type": "code",
   "execution_count": 26,
   "id": "a01a2a87-5e4c-43a9-b6ab-7733fc719e5c",
   "metadata": {
    "execution": {
     "iopub.execute_input": "2021-11-10T12:38:25.652348Z",
     "iopub.status.busy": "2021-11-10T12:38:25.652245Z",
     "iopub.status.idle": "2021-11-10T12:38:25.698308Z",
     "shell.execute_reply": "2021-11-10T12:38:25.697697Z",
     "shell.execute_reply.started": "2021-11-10T12:38:25.652335Z"
    },
    "tags": []
   },
   "outputs": [
    {
     "name": "stdout",
     "output_type": "stream",
     "text": [
      "|fpr_black=0.3597 - fpr_white=0.7623| = 0.4026\n",
      "|tpr_black=0.7375 - tpr_white=0.9659| = 0.2285\n"
     ]
    }
   ],
   "source": [
    "equalized_odds(y_score <= 1, y_true <= 1, s)"
   ]
  },
  {
   "cell_type": "markdown",
   "id": "56ede82e-e4e2-498b-83d5-a0c653aca480",
   "metadata": {},
   "source": [
    "# Strategy B: OK vs def+det"
   ]
  },
  {
   "cell_type": "code",
   "execution_count": 27,
   "id": "c2a7419f-8dba-47a2-b17b-a1aaebfdae02",
   "metadata": {
    "execution": {
     "iopub.execute_input": "2021-11-10T12:38:25.698978Z",
     "iopub.status.busy": "2021-11-10T12:38:25.698879Z",
     "iopub.status.idle": "2021-11-10T12:38:25.831335Z",
     "shell.execute_reply": "2021-11-10T12:38:25.830664Z",
     "shell.execute_reply.started": "2021-11-10T12:38:25.698965Z"
    },
    "tags": []
   },
   "outputs": [
    {
     "data": {
      "text/html": [
       "<div>\n",
       "<style scoped>\n",
       "    .dataframe tbody tr th:only-of-type {\n",
       "        vertical-align: middle;\n",
       "    }\n",
       "\n",
       "    .dataframe tbody tr th {\n",
       "        vertical-align: top;\n",
       "    }\n",
       "\n",
       "    .dataframe thead th {\n",
       "        text-align: right;\n",
       "    }\n",
       "</style>\n",
       "<table border=\"1\" class=\"dataframe\">\n",
       "  <thead>\n",
       "    <tr style=\"text-align: right;\">\n",
       "      <th>Expert label</th>\n",
       "      <th>low</th>\n",
       "      <th>med</th>\n",
       "      <th>high</th>\n",
       "    </tr>\n",
       "    <tr>\n",
       "      <th>ground truth</th>\n",
       "      <th></th>\n",
       "      <th></th>\n",
       "      <th></th>\n",
       "    </tr>\n",
       "  </thead>\n",
       "  <tbody>\n",
       "    <tr>\n",
       "      <th>OK (negative)</th>\n",
       "      <td>320</td>\n",
       "      <td>5035</td>\n",
       "      <td>66</td>\n",
       "    </tr>\n",
       "    <tr>\n",
       "      <th>def+det (positive)</th>\n",
       "      <td>683</td>\n",
       "      <td>17928</td>\n",
       "      <td>1542</td>\n",
       "    </tr>\n",
       "  </tbody>\n",
       "</table>\n",
       "</div>"
      ],
      "text/plain": [
       "Expert label        low    med  high\n",
       "ground truth                        \n",
       "OK (negative)       320   5035    66\n",
       "def+det (positive)  683  17928  1542"
      ]
     },
     "metadata": {},
     "output_type": "display_data"
    },
    {
     "data": {
      "text/html": [
       "<div>\n",
       "<style scoped>\n",
       "    .dataframe tbody tr th:only-of-type {\n",
       "        vertical-align: middle;\n",
       "    }\n",
       "\n",
       "    .dataframe tbody tr th {\n",
       "        vertical-align: top;\n",
       "    }\n",
       "\n",
       "    .dataframe thead th {\n",
       "        text-align: right;\n",
       "    }\n",
       "</style>\n",
       "<table border=\"1\" class=\"dataframe\">\n",
       "  <thead>\n",
       "    <tr style=\"text-align: right;\">\n",
       "      <th>Expert label</th>\n",
       "      <th>low</th>\n",
       "      <th>med</th>\n",
       "      <th>high</th>\n",
       "    </tr>\n",
       "    <tr>\n",
       "      <th>ground truth</th>\n",
       "      <th></th>\n",
       "      <th></th>\n",
       "      <th></th>\n",
       "    </tr>\n",
       "  </thead>\n",
       "  <tbody>\n",
       "    <tr>\n",
       "      <th>OK (negative)</th>\n",
       "      <td>0.059</td>\n",
       "      <td>0.929</td>\n",
       "      <td>0.012</td>\n",
       "    </tr>\n",
       "    <tr>\n",
       "      <th>def+det (positive)</th>\n",
       "      <td>0.036</td>\n",
       "      <td>0.909</td>\n",
       "      <td>0.055</td>\n",
       "    </tr>\n",
       "  </tbody>\n",
       "</table>\n",
       "</div>"
      ],
      "text/plain": [
       "Expert label          low    med   high\n",
       "ground truth                           \n",
       "OK (negative)       0.059  0.929  0.012\n",
       "def+det (positive)  0.036  0.909  0.055"
      ]
     },
     "metadata": {},
     "output_type": "display_data"
    },
    {
     "name": "stdout",
     "output_type": "stream",
     "text": [
      "AUC_y: 0.543\n",
      "AUC_s: 0.672\n",
      "AP: 0.80\n",
      "Baseline performance: 0.84\n"
     ]
    }
   ],
   "source": [
    "y_true_b = (y_true>0)\n",
    "y_score_b = expert_labels.loc[y_true.index]\n",
    "\n",
    "assert (y_score.index == y_true_b.index).all()\n",
    "confustion_matrix = pd.DataFrame(\n",
    "    sklearn.metrics.confusion_matrix(y_true=y_true_b, y_pred=y_score_b), \n",
    "    columns=pd.Index(['low', 'med', 'high'], name='Expert label'), \n",
    "    index=pd.Index(['OK (negative)', 'def+det (positive)', ''], name='ground truth')\n",
    ").loc[['OK (negative)', 'def+det (positive)']].round(3)\n",
    "display(confustion_matrix)\n",
    "confustion_matrix = pd.DataFrame(\n",
    "    sklearn.metrics.confusion_matrix(y_true=y_true, y_pred=y_score_b, normalize='true'), \n",
    "    columns=pd.Index(['low', 'med', 'high'], name='Expert label'), \n",
    "    index=pd.Index(['OK (negative)', 'def+det (positive)', ''], name='ground truth')\n",
    ").loc[['OK (negative)', 'def+det (positive)']].round(3)\n",
    "display(confustion_matrix)\n",
    "print(f'AUC_y: {sklearn.metrics.roc_auc_score(y_true=y_true_b, y_score=y_score_b):.3f}')\n",
    "print(f'AUC_s: {sklearn.metrics.roc_auc_score(y_true=s, y_score=y_score_b):.3f}')\n",
    "\n",
    "print(f'AP: {sklearn.metrics.average_precision_score(y_true=y_true_b, y_score=y_score_b):.2f}')\n",
    "print(f'Baseline performance: {y_true.mean():.2f}')"
   ]
  },
  {
   "cell_type": "markdown",
   "id": "23b38d77-6ef9-4deb-9d30-6680e4562b71",
   "metadata": {},
   "source": [
    "## Equalized odds"
   ]
  },
  {
   "cell_type": "markdown",
   "id": "8774702c-9ce3-4373-855b-3f6eeb56a45b",
   "metadata": {},
   "source": [
    "$\\left| P [\\text{low risk} | \\text{black flag, not OK ship}] - P [\\text{low risk} | \\text{white flag, not OK ship}] \\right|$ = $\\left| \\text{FPR}_{\\text{black}} - \\text{FPR}_{\\text{white}} \\right|$"
   ]
  },
  {
   "cell_type": "code",
   "execution_count": 28,
   "id": "9f366ee4-0d66-4b81-9fbf-0d0d59c66546",
   "metadata": {
    "execution": {
     "iopub.execute_input": "2021-11-10T12:38:25.832089Z",
     "iopub.status.busy": "2021-11-10T12:38:25.831980Z",
     "iopub.status.idle": "2021-11-10T12:38:25.846889Z",
     "shell.execute_reply": "2021-11-10T12:38:25.846303Z",
     "shell.execute_reply.started": "2021-11-10T12:38:25.832075Z"
    },
    "tags": []
   },
   "outputs": [
    {
     "name": "stdout",
     "output_type": "stream",
     "text": [
      "|fpr_black=0.0000 - fpr_white=0.0363| = 0.0363\n",
      "|tpr_black=0.0036 - tpr_white=0.0620| = 0.0585\n"
     ]
    }
   ],
   "source": [
    "equalized_odds(y_score == 0, y_true == 0, s)"
   ]
  },
  {
   "cell_type": "markdown",
   "id": "7a8d9990-2499-4a37-b2e5-f0e3bf7fb818",
   "metadata": {},
   "source": [
    "$\\left| P [\\text{low or medium risk} | \\text{black flag, not OK ship}] - P [\\text{low or medium risk} | \\text{white flag, not OK ship}] \\right|$ = $\\left| \\text{FPR}_{\\text{black}} - \\text{FPR}_{\\text{white}} \\right|$"
   ]
  },
  {
   "cell_type": "code",
   "execution_count": 29,
   "id": "ebd04baf-5e44-4c97-a92c-1b37142124fa",
   "metadata": {
    "execution": {
     "iopub.execute_input": "2021-11-10T12:38:25.847659Z",
     "iopub.status.busy": "2021-11-10T12:38:25.847548Z",
     "iopub.status.idle": "2021-11-10T12:38:25.954338Z",
     "shell.execute_reply": "2021-11-10T12:38:25.953722Z",
     "shell.execute_reply.started": "2021-11-10T12:38:25.847646Z"
    },
    "tags": []
   },
   "outputs": [
    {
     "name": "stdout",
     "output_type": "stream",
     "text": [
      "|fpr_black=0.5772 - fpr_white=0.9480| = 0.3708\n",
      "|tpr_black=0.9391 - tpr_white=0.9905| = 0.0514\n"
     ]
    }
   ],
   "source": [
    "equalized_odds(y_score <= 1, y_true == 0, s)"
   ]
  },
  {
   "cell_type": "code",
   "execution_count": null,
   "id": "f381be5e-b8a4-4832-8243-46b2b5e6d5c0",
   "metadata": {},
   "outputs": [],
   "source": []
  }
 ],
 "metadata": {
  "kernelspec": {
   "display_name": "Python 3 (ipykernel)",
   "language": "python",
   "name": "python3"
  },
  "language_info": {
   "codemirror_mode": {
    "name": "ipython",
    "version": 3
   },
   "file_extension": ".py",
   "mimetype": "text/x-python",
   "name": "python",
   "nbconvert_exporter": "python",
   "pygments_lexer": "ipython3",
   "version": "3.9.7"
  }
 },
 "nbformat": 4,
 "nbformat_minor": 5
}
