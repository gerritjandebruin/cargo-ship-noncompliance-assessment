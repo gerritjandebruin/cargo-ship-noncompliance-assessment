{
 "cells": [
  {
   "cell_type": "code",
   "execution_count": 1,
   "id": "9c52d68e-81b8-4f8c-909e-5ade7ef26ef9",
   "metadata": {
    "execution": {
     "iopub.execute_input": "2021-11-25T10:07:30.014442Z",
     "iopub.status.busy": "2021-11-25T10:07:30.014166Z",
     "iopub.status.idle": "2021-11-25T10:07:30.937490Z",
     "shell.execute_reply": "2021-11-25T10:07:30.936912Z",
     "shell.execute_reply.started": "2021-11-25T10:07:30.014362Z"
    },
    "tags": []
   },
   "outputs": [],
   "source": [
    "from copy import deepcopy as copy\n",
    "import datetime\n",
    "import json\n",
    "from math import ceil\n",
    "import multiprocessing\n",
    "import logging\n",
    "import operator\n",
    "import os\n",
    "import random\n",
    "import sys\n",
    "import time\n",
    "import typing\n",
    "import warnings\n",
    "\n",
    "import joblib\n",
    "from joblib import delayed, Parallel\n",
    "import matplotlib.pyplot as plt\n",
    "import networkx as nx\n",
    "import numpy as np\n",
    "from numpy.core.numeric import outer\n",
    "import pandas as pd\n",
    "from scipy.stats import mode, entropy\n",
    "import seaborn as sns\n",
    "import sklearn.feature_selection\n",
    "import sklearn.metrics\n",
    "from sklearn.metrics import roc_auc_score\n",
    "import sklearn.model_selection\n",
    "import typer\n",
    "from tqdm.auto import tqdm\n",
    "\n",
    "import src"
   ]
  },
  {
   "cell_type": "code",
   "execution_count": 2,
   "id": "3e5135f4-989d-4836-b570-ff7dc84eb83d",
   "metadata": {
    "execution": {
     "iopub.execute_input": "2021-11-25T10:07:30.938404Z",
     "iopub.status.busy": "2021-11-25T10:07:30.938284Z",
     "iopub.status.idle": "2021-11-25T10:07:51.696062Z",
     "shell.execute_reply": "2021-11-25T10:07:51.695184Z",
     "shell.execute_reply.started": "2021-11-25T10:07:30.938389Z"
    },
    "tags": []
   },
   "outputs": [],
   "source": [
    "# Only ships not selected for mobility network.\n",
    "portcalls = joblib.load('data/portcalls_v3.pkl')\n",
    "ships = np.load('data/not_selected.npy', allow_pickle=True)\n",
    "\n",
    "expert_labels = portcalls.groupby('ship')['risk'].max()\n",
    "y_score = pd.Series({ship: expert_labels.get(ship) for ship in ships})\n",
    "\n",
    "inspections = src.get_inspections().groupby('IMO')['WasDetained'].any().replace({False: 1, True: 2})\n",
    "y_true = pd.Series({ship: inspections.get(ship, default=0) for ship in ships})\n",
    "\n",
    "sensitive = portcalls.groupby('ship')['flag'].last().astype(int).astype(bool)\n",
    "s = pd.Series({ship: sensitive.get(ship) for ship in ships})\n",
    "ys = 3*s + y_true\n",
    "\n",
    "# ALL ships - also selected ones for the mobility network!\n",
    "all_ships = portcalls.ship.unique()\n",
    "y_true_all = pd.Series({ship: inspections.get(ship, default=0) for ship in all_ships})\n",
    "y_score_all = pd.Series({ship: expert_labels.get(ship) for ship in all_ships})\n",
    "s_all = pd.Series({ship: sensitive.get(ship) for ship in all_ships})"
   ]
  },
  {
   "cell_type": "markdown",
   "id": "79f55193-5151-4266-ab74-ac7ade0c16ca",
   "metadata": {},
   "source": [
    "# Distribution targets on whole data"
   ]
  },
  {
   "cell_type": "code",
   "execution_count": 3,
   "id": "6d7545d4-026b-47be-9d43-e01354bc4212",
   "metadata": {
    "execution": {
     "iopub.execute_input": "2021-11-25T10:07:51.697972Z",
     "iopub.status.busy": "2021-11-25T10:07:51.697788Z",
     "iopub.status.idle": "2021-11-25T10:07:51.713137Z",
     "shell.execute_reply": "2021-11-25T10:07:51.712696Z",
     "shell.execute_reply.started": "2021-11-25T10:07:51.697956Z"
    },
    "tags": []
   },
   "outputs": [
    {
     "data": {
      "text/plain": [
       "compliant                  6743\n",
       "deficiencies              21088\n",
       "detention+deficiencies     1631\n",
       "dtype: int64"
      ]
     },
     "metadata": {},
     "output_type": "display_data"
    },
    {
     "name": "stdout",
     "output_type": "stream",
     "text": [
      "\n"
     ]
    },
    {
     "data": {
      "text/plain": [
       "compliant                 0.228871\n",
       "deficiencies              0.715769\n",
       "detention+deficiencies    0.055359\n",
       "dtype: float64"
      ]
     },
     "metadata": {},
     "output_type": "display_data"
    }
   ],
   "source": [
    "display(y_true_all.replace({0: 'compliant', 1: 'deficiencies', 2: 'detention+deficiencies'}).value_counts().sort_index())\n",
    "print()\n",
    "display(y_true_all.replace({0: 'compliant', 1: 'deficiencies', 2: 'detention+deficiencies'}).value_counts(normalize=True).sort_index())"
   ]
  },
  {
   "cell_type": "markdown",
   "id": "2002be96-e76a-4135-ad04-cba1e286a76a",
   "metadata": {},
   "source": [
    "# Ship flag history"
   ]
  },
  {
   "cell_type": "code",
   "execution_count": 4,
   "id": "231714b9-9def-4590-995e-b6ccf6969a15",
   "metadata": {
    "execution": {
     "iopub.execute_input": "2021-11-25T10:07:51.714000Z",
     "iopub.status.busy": "2021-11-25T10:07:51.713791Z",
     "iopub.status.idle": "2021-11-25T10:07:54.877948Z",
     "shell.execute_reply": "2021-11-25T10:07:54.877450Z",
     "shell.execute_reply.started": "2021-11-25T10:07:51.713985Z"
    },
    "tags": []
   },
   "outputs": [
    {
     "data": {
      "text/plain": [
       "always_pos     1473\n",
       "always_neg    27260\n",
       "changed         729\n",
       "dtype: int64"
      ]
     },
     "metadata": {},
     "output_type": "display_data"
    },
    {
     "name": "stdout",
     "output_type": "stream",
     "text": [
      "\n"
     ]
    },
    {
     "data": {
      "text/plain": [
       "always_pos    0.049997\n",
       "always_neg    0.925260\n",
       "changed       0.024744\n",
       "dtype: float64"
      ]
     },
     "metadata": {},
     "output_type": "display_data"
    }
   ],
   "source": [
    "result = {'always_pos': 0, 'always_neg': 0, 'changed': 0}\n",
    "for ship, group in portcalls.groupby('ship')['flag']:\n",
    "    if group.all():\n",
    "        result['always_pos'] += 1\n",
    "    elif (~group).all():\n",
    "        result['always_neg'] += 1\n",
    "    else:\n",
    "        result['changed'] += 1\n",
    "result = pd.Series(result)\n",
    "\n",
    "display(result)\n",
    "print()\n",
    "display(result / result.sum())"
   ]
  },
  {
   "cell_type": "markdown",
   "id": "1ab804d5-f7ba-43fb-a8ed-af249bde344b",
   "metadata": {},
   "source": [
    "# Distribution target\n",
    "## All data"
   ]
  },
  {
   "cell_type": "code",
   "execution_count": 5,
   "id": "9515854a-c566-4fb3-b769-92dc44fd1d67",
   "metadata": {
    "execution": {
     "iopub.execute_input": "2021-11-25T10:07:54.878954Z",
     "iopub.status.busy": "2021-11-25T10:07:54.878773Z",
     "iopub.status.idle": "2021-11-25T10:07:54.899204Z",
     "shell.execute_reply": "2021-11-25T10:07:54.898750Z",
     "shell.execute_reply.started": "2021-11-25T10:07:54.878937Z"
    },
    "tags": []
   },
   "outputs": [
    {
     "data": {
      "text/html": [
       "<div>\n",
       "<style scoped>\n",
       "    .dataframe tbody tr th:only-of-type {\n",
       "        vertical-align: middle;\n",
       "    }\n",
       "\n",
       "    .dataframe tbody tr th {\n",
       "        vertical-align: top;\n",
       "    }\n",
       "\n",
       "    .dataframe thead th {\n",
       "        text-align: right;\n",
       "    }\n",
       "</style>\n",
       "<table border=\"1\" class=\"dataframe\">\n",
       "  <thead>\n",
       "    <tr style=\"text-align: right;\">\n",
       "      <th></th>\n",
       "      <th>sensitive</th>\n",
       "      <th>non-sensitive</th>\n",
       "      <th>total</th>\n",
       "    </tr>\n",
       "  </thead>\n",
       "  <tbody>\n",
       "    <tr>\n",
       "      <th>compliant</th>\n",
       "      <td>0.195664</td>\n",
       "      <td>0.231149</td>\n",
       "      <td>0.228871</td>\n",
       "    </tr>\n",
       "    <tr>\n",
       "      <th>deficiencies</th>\n",
       "      <td>0.554204</td>\n",
       "      <td>0.726851</td>\n",
       "      <td>0.715769</td>\n",
       "    </tr>\n",
       "    <tr>\n",
       "      <th>detention+deficiencies</th>\n",
       "      <td>0.250132</td>\n",
       "      <td>0.042001</td>\n",
       "      <td>0.055359</td>\n",
       "    </tr>\n",
       "  </tbody>\n",
       "</table>\n",
       "</div>"
      ],
      "text/plain": [
       "                        sensitive  non-sensitive     total\n",
       "compliant                0.195664       0.231149  0.228871\n",
       "deficiencies             0.554204       0.726851  0.715769\n",
       "detention+deficiencies   0.250132       0.042001  0.055359"
      ]
     },
     "execution_count": 5,
     "metadata": {},
     "output_type": "execute_result"
    }
   ],
   "source": [
    "data = {\n",
    "    'sensitive': y_true_all[s_all].replace({0: 'compliant', 1: 'deficiencies', 2: 'detention+deficiencies'}).value_counts(normalize=True).sort_index(),\n",
    "    'non-sensitive': y_true_all[~s_all].replace({0: 'compliant', 1: 'deficiencies', 2: 'detention+deficiencies'}).value_counts(normalize=True).sort_index(),\n",
    "    'total': y_true_all.replace({0: 'compliant', 1: 'deficiencies', 2: 'detention+deficiencies'}).value_counts(normalize=True).sort_index()\n",
    "}\n",
    "pd.DataFrame(data)"
   ]
  },
  {
   "cell_type": "markdown",
   "id": "eaa7f5f0-a1c1-46f7-a512-1aa0ee8d7484",
   "metadata": {},
   "source": [
    "## Only data not used in global cargo ship network"
   ]
  },
  {
   "cell_type": "code",
   "execution_count": 6,
   "id": "41383d23-a77f-40d8-9491-9ecb24d8af69",
   "metadata": {
    "execution": {
     "iopub.execute_input": "2021-11-25T10:07:54.900009Z",
     "iopub.status.busy": "2021-11-25T10:07:54.899796Z",
     "iopub.status.idle": "2021-11-25T10:07:54.965128Z",
     "shell.execute_reply": "2021-11-25T10:07:54.964453Z",
     "shell.execute_reply.started": "2021-11-25T10:07:54.899994Z"
    }
   },
   "outputs": [
    {
     "data": {
      "text/html": [
       "<div>\n",
       "<style scoped>\n",
       "    .dataframe tbody tr th:only-of-type {\n",
       "        vertical-align: middle;\n",
       "    }\n",
       "\n",
       "    .dataframe tbody tr th {\n",
       "        vertical-align: top;\n",
       "    }\n",
       "\n",
       "    .dataframe thead th {\n",
       "        text-align: right;\n",
       "    }\n",
       "</style>\n",
       "<table border=\"1\" class=\"dataframe\">\n",
       "  <thead>\n",
       "    <tr style=\"text-align: right;\">\n",
       "      <th></th>\n",
       "      <th>sensitive</th>\n",
       "      <th>non-sensitive</th>\n",
       "      <th>total</th>\n",
       "    </tr>\n",
       "  </thead>\n",
       "  <tbody>\n",
       "    <tr>\n",
       "      <th>compliant</th>\n",
       "      <td>0.172970</td>\n",
       "      <td>0.214599</td>\n",
       "      <td>0.211973</td>\n",
       "    </tr>\n",
       "    <tr>\n",
       "      <th>deficiencies</th>\n",
       "      <td>0.568506</td>\n",
       "      <td>0.742206</td>\n",
       "      <td>0.731250</td>\n",
       "    </tr>\n",
       "    <tr>\n",
       "      <th>detention+deficiencies</th>\n",
       "      <td>0.258524</td>\n",
       "      <td>0.043195</td>\n",
       "      <td>0.056776</td>\n",
       "    </tr>\n",
       "  </tbody>\n",
       "</table>\n",
       "</div>"
      ],
      "text/plain": [
       "                        sensitive  non-sensitive     total\n",
       "compliant                0.172970       0.214599  0.211973\n",
       "deficiencies             0.568506       0.742206  0.731250\n",
       "detention+deficiencies   0.258524       0.043195  0.056776"
      ]
     },
     "execution_count": 6,
     "metadata": {},
     "output_type": "execute_result"
    }
   ],
   "source": [
    "data = {\n",
    "    'sensitive':     y_true[s ].replace({0: 'compliant', 1: 'deficiencies', 2: 'detention+deficiencies'}).value_counts(normalize=True).sort_index(),\n",
    "    'non-sensitive': y_true[~s].replace({0: 'compliant', 1: 'deficiencies', 2: 'detention+deficiencies'}).value_counts(normalize=True).sort_index(),\n",
    "    'total':         y_true.replace({0: 'compliant', 1: 'deficiencies', 2: 'detention+deficiencies'}).value_counts(normalize=True).sort_index()\n",
    "}\n",
    "pd.DataFrame(data)"
   ]
  },
  {
   "cell_type": "markdown",
   "id": "c5738b39-31bf-4ff9-bf5b-f6829d10f194",
   "metadata": {},
   "source": [
    "# Distribution sensitive attribute"
   ]
  },
  {
   "cell_type": "markdown",
   "id": "c5a6eca3-1ce9-4113-8965-1b105a4c8f98",
   "metadata": {},
   "source": [
    "## All data"
   ]
  },
  {
   "cell_type": "code",
   "execution_count": 7,
   "id": "e3660260-3e4d-4b13-8652-7aca218e8a1f",
   "metadata": {
    "execution": {
     "iopub.execute_input": "2021-11-25T10:07:54.965816Z",
     "iopub.status.busy": "2021-11-25T10:07:54.965707Z",
     "iopub.status.idle": "2021-11-25T10:07:55.025133Z",
     "shell.execute_reply": "2021-11-25T10:07:55.024464Z",
     "shell.execute_reply.started": "2021-11-25T10:07:54.965801Z"
    },
    "tags": []
   },
   "outputs": [
    {
     "data": {
      "text/plain": [
       "white flag        0.935816\n",
       "non-white flag    0.064184\n",
       "dtype: float64"
      ]
     },
     "execution_count": 7,
     "metadata": {},
     "output_type": "execute_result"
    }
   ],
   "source": [
    "pd.Series(np.bincount(s_all) / len(s_all), index=['white flag', 'non-white flag'])"
   ]
  },
  {
   "cell_type": "markdown",
   "id": "b527a6f3-d145-4eb1-83da-79621ba13524",
   "metadata": {},
   "source": [
    "## Only data not used in global cargo ship network"
   ]
  },
  {
   "cell_type": "code",
   "execution_count": 8,
   "id": "c31d473c-e585-4747-98f4-3ad6010bf326",
   "metadata": {
    "execution": {
     "iopub.execute_input": "2021-11-25T10:07:55.026391Z",
     "iopub.status.busy": "2021-11-25T10:07:55.026133Z",
     "iopub.status.idle": "2021-11-25T10:07:55.060727Z",
     "shell.execute_reply": "2021-11-25T10:07:55.060155Z",
     "shell.execute_reply.started": "2021-11-25T10:07:55.026363Z"
    }
   },
   "outputs": [
    {
     "data": {
      "text/plain": [
       "white flag        0.936928\n",
       "non-white flag    0.063072\n",
       "dtype: float64"
      ]
     },
     "execution_count": 8,
     "metadata": {},
     "output_type": "execute_result"
    }
   ],
   "source": [
    "pd.Series(np.bincount(s) / len(s), index=['white flag', 'non-white flag'])"
   ]
  },
  {
   "cell_type": "markdown",
   "id": "339078e7-d00a-4c01-a640-4f25fbb35f44",
   "metadata": {},
   "source": [
    "# Performance"
   ]
  },
  {
   "cell_type": "code",
   "execution_count": 9,
   "id": "5af1c650-efb8-4b18-bea1-7f0037018151",
   "metadata": {
    "execution": {
     "iopub.execute_input": "2021-11-25T10:07:55.062173Z",
     "iopub.status.busy": "2021-11-25T10:07:55.061721Z",
     "iopub.status.idle": "2021-11-25T10:07:55.141404Z",
     "shell.execute_reply": "2021-11-25T10:07:55.140798Z",
     "shell.execute_reply.started": "2021-11-25T10:07:55.062145Z"
    },
    "tags": []
   },
   "outputs": [
    {
     "name": "stdout",
     "output_type": "stream",
     "text": [
      "AUC_y: 0.543+-0.006\n"
     ]
    }
   ],
   "source": [
    "skf = sklearn.model_selection.StratifiedKFold(shuffle=True, random_state=42)\n",
    "performance = [sklearn.metrics.roc_auc_score(y_true.iloc[test] > 0, y_score.iloc[test]) for _, test in skf.split(y_true, ys)]\n",
    "print(f\"AUC_y: {np.mean(performance):.3f}+-{np.std(performance):.3f}\")"
   ]
  },
  {
   "cell_type": "code",
   "execution_count": 10,
   "id": "6ef764a5-2a95-47a2-8c65-9a20f3a89b93",
   "metadata": {
    "execution": {
     "iopub.execute_input": "2021-11-25T10:07:55.142347Z",
     "iopub.status.busy": "2021-11-25T10:07:55.142221Z",
     "iopub.status.idle": "2021-11-25T10:07:55.231127Z",
     "shell.execute_reply": "2021-11-25T10:07:55.230411Z",
     "shell.execute_reply.started": "2021-11-25T10:07:55.142331Z"
    },
    "tags": []
   },
   "outputs": [
    {
     "name": "stdout",
     "output_type": "stream",
     "text": [
      "AUC_y: 0.672+-0.0097\n"
     ]
    }
   ],
   "source": [
    "skf = sklearn.model_selection.StratifiedKFold(shuffle=True, random_state=42)\n",
    "performance = [sklearn.metrics.roc_auc_score(s.iloc[test] > 0, y_score.iloc[test]) for _, test in skf.split(y_true, ys)]\n",
    "print(f\"AUC_y: {np.mean(performance):.3f}+-{np.std(performance):.4f}\")"
   ]
  },
  {
   "cell_type": "markdown",
   "id": "28c4eaca-41ee-48bb-8bfe-ab76f90d3737",
   "metadata": {},
   "source": [
    "# Confusion matrix"
   ]
  },
  {
   "cell_type": "code",
   "execution_count": 11,
   "id": "c26b1c5b-bf89-4d3e-81b7-177ebd0b3f46",
   "metadata": {
    "execution": {
     "iopub.execute_input": "2021-11-25T10:07:55.231847Z",
     "iopub.status.busy": "2021-11-25T10:07:55.231718Z",
     "iopub.status.idle": "2021-11-25T10:07:55.313847Z",
     "shell.execute_reply": "2021-11-25T10:07:55.313498Z",
     "shell.execute_reply.started": "2021-11-25T10:07:55.231831Z"
    },
    "tags": []
   },
   "outputs": [
    {
     "data": {
      "text/html": [
       "<div>\n",
       "<style scoped>\n",
       "    .dataframe tbody tr th:only-of-type {\n",
       "        vertical-align: middle;\n",
       "    }\n",
       "\n",
       "    .dataframe tbody tr th {\n",
       "        vertical-align: top;\n",
       "    }\n",
       "\n",
       "    .dataframe thead tr th {\n",
       "        text-align: left;\n",
       "    }\n",
       "\n",
       "    .dataframe thead tr:last-of-type th {\n",
       "        text-align: right;\n",
       "    }\n",
       "</style>\n",
       "<table border=\"1\" class=\"dataframe\">\n",
       "  <thead>\n",
       "    <tr>\n",
       "      <th></th>\n",
       "      <th colspan=\"3\" halign=\"left\">sensitive</th>\n",
       "      <th colspan=\"3\" halign=\"left\">non sensitive</th>\n",
       "    </tr>\n",
       "    <tr>\n",
       "      <th>Expert label</th>\n",
       "      <th>low</th>\n",
       "      <th>medium</th>\n",
       "      <th>high</th>\n",
       "      <th>low</th>\n",
       "      <th>medium</th>\n",
       "      <th>high</th>\n",
       "    </tr>\n",
       "    <tr>\n",
       "      <th>inspection result</th>\n",
       "      <th></th>\n",
       "      <th></th>\n",
       "      <th></th>\n",
       "      <th></th>\n",
       "      <th></th>\n",
       "      <th></th>\n",
       "    </tr>\n",
       "  </thead>\n",
       "  <tbody>\n",
       "    <tr>\n",
       "      <th>compliant</th>\n",
       "      <td>1</td>\n",
       "      <td>261</td>\n",
       "      <td>17</td>\n",
       "      <td>319</td>\n",
       "      <td>4774</td>\n",
       "      <td>49</td>\n",
       "    </tr>\n",
       "    <tr>\n",
       "      <th>minor deficiencies</th>\n",
       "      <td>0</td>\n",
       "      <td>620</td>\n",
       "      <td>297</td>\n",
       "      <td>682</td>\n",
       "      <td>16370</td>\n",
       "      <td>732</td>\n",
       "    </tr>\n",
       "    <tr>\n",
       "      <th>detention</th>\n",
       "      <td>0</td>\n",
       "      <td>150</td>\n",
       "      <td>267</td>\n",
       "      <td>1</td>\n",
       "      <td>788</td>\n",
       "      <td>246</td>\n",
       "    </tr>\n",
       "  </tbody>\n",
       "</table>\n",
       "</div>"
      ],
      "text/plain": [
       "                   sensitive             non sensitive            \n",
       "Expert label             low medium high           low medium high\n",
       "inspection result                                                 \n",
       "compliant                  1    261   17           319   4774   49\n",
       "minor deficiencies         0    620  297           682  16370  732\n",
       "detention                  0    150  267             1    788  246"
      ]
     },
     "execution_count": 11,
     "metadata": {},
     "output_type": "execute_result"
    }
   ],
   "source": [
    "assert all(y_score.index == y_score.index)\n",
    "confusion_matrix_sensitive = pd.DataFrame(\n",
    "    data=sklearn.metrics.confusion_matrix(y_true[s], y_score[s]),\n",
    "    index=pd.Index(['compliant', 'minor deficiencies', 'detention'], name='inspection result'),\n",
    "    columns=pd.Index(['low', 'medium', 'high'], name='Expert label')\n",
    ")\n",
    "confusion_matrix_non_sensitive = pd.DataFrame(\n",
    "    data=sklearn.metrics.confusion_matrix(y_true[~s], y_score[~s]),\n",
    "    index=pd.Index(['compliant', 'minor deficiencies', 'detention'], name='inspection result'),\n",
    "    columns=pd.Index(['low', 'medium', 'high'], name='Expert label')\n",
    ")\n",
    "pd.concat({'sensitive': confusion_matrix_sensitive, 'non sensitive': confusion_matrix_non_sensitive}, axis=1)"
   ]
  },
  {
   "cell_type": "markdown",
   "id": "76ba2db4-9d93-48cc-82b3-e008debe36cf",
   "metadata": {},
   "source": [
    "# Fairness measures"
   ]
  },
  {
   "cell_type": "markdown",
   "id": "3334bf80-57bd-4cbb-bda7-d79cc3ab127e",
   "metadata": {},
   "source": [
    "NOTE SWAPPING! From `y=0` (compliant), `y=1` (deficiency), `y=2` (detention) to `y=False` (non-compliant) and `y=True` (compliant)"
   ]
  },
  {
   "cell_type": "code",
   "execution_count": 12,
   "id": "c7e8e0f3-55f3-4169-96b2-0490239e7532",
   "metadata": {
    "execution": {
     "iopub.execute_input": "2021-11-25T10:07:55.315354Z",
     "iopub.status.busy": "2021-11-25T10:07:55.315116Z",
     "iopub.status.idle": "2021-11-25T10:07:55.397767Z",
     "shell.execute_reply": "2021-11-25T10:07:55.397342Z",
     "shell.execute_reply.started": "2021-11-25T10:07:55.315339Z"
    },
    "tags": []
   },
   "outputs": [
    {
     "data": {
      "text/html": [
       "<div>\n",
       "<style scoped>\n",
       "    .dataframe tbody tr th:only-of-type {\n",
       "        vertical-align: middle;\n",
       "    }\n",
       "\n",
       "    .dataframe tbody tr th {\n",
       "        vertical-align: top;\n",
       "    }\n",
       "\n",
       "    .dataframe thead th {\n",
       "        text-align: right;\n",
       "    }\n",
       "</style>\n",
       "<table border=\"1\" class=\"dataframe\">\n",
       "  <thead>\n",
       "    <tr style=\"text-align: right;\">\n",
       "      <th>group</th>\n",
       "      <th>sensitive</th>\n",
       "      <th>non sensitive</th>\n",
       "    </tr>\n",
       "    <tr>\n",
       "      <th>measure</th>\n",
       "      <th></th>\n",
       "      <th></th>\n",
       "    </tr>\n",
       "  </thead>\n",
       "  <tbody>\n",
       "    <tr>\n",
       "      <th>PPR</th>\n",
       "      <td>0.640</td>\n",
       "      <td>0.957</td>\n",
       "    </tr>\n",
       "    <tr>\n",
       "      <th>TPR</th>\n",
       "      <td>0.676</td>\n",
       "      <td>0.959</td>\n",
       "    </tr>\n",
       "    <tr>\n",
       "      <th>FPR</th>\n",
       "      <td>0.592</td>\n",
       "      <td>0.952</td>\n",
       "    </tr>\n",
       "  </tbody>\n",
       "</table>\n",
       "</div>"
      ],
      "text/plain": [
       "group    sensitive  non sensitive\n",
       "measure                          \n",
       "PPR          0.640          0.957\n",
       "TPR          0.676          0.959\n",
       "FPR          0.592          0.952"
      ]
     },
     "execution_count": 12,
     "metadata": {},
     "output_type": "execute_result"
    }
   ],
   "source": [
    "data = [\n",
    "    {'measure': 'PPR', 'group': 'sensitive',     'value': (y_score <= 1)[s ].mean()},\n",
    "    {'measure': 'PPR', 'group': 'non sensitive', 'value': (y_score <= 1)[~s].mean()},\n",
    "    {'measure': 'FPR', 'group': 'sensitive',     'value': (y_score <= 1)[s  & ~y_true].mean()},\n",
    "    {'measure': 'FPR', 'group': 'non sensitive', 'value': (y_score <= 1)[~s & ~y_true].mean()},\n",
    "    {'measure': 'TPR', 'group': 'sensitive',     'value': (y_score <= 1)[s  &  y_true].mean()},\n",
    "    {'measure': 'TPR', 'group': 'non sensitive', 'value': (y_score <= 1)[~s &  y_true].mean()},\n",
    "]\n",
    "data = pd.DataFrame(data).pivot('measure', 'group', 'value')\n",
    "data.round(3).reindex(['PPR', 'TPR', 'FPR'], axis=0).reindex(['sensitive', 'non sensitive'], axis=1)"
   ]
  },
  {
   "cell_type": "code",
   "execution_count": 13,
   "id": "6e67eb70-c37a-4ad6-a12b-af8491119ee2",
   "metadata": {
    "execution": {
     "iopub.execute_input": "2021-11-25T10:07:55.398520Z",
     "iopub.status.busy": "2021-11-25T10:07:55.398386Z",
     "iopub.status.idle": "2021-11-25T10:07:55.434341Z",
     "shell.execute_reply": "2021-11-25T10:07:55.434039Z",
     "shell.execute_reply.started": "2021-11-25T10:07:55.398503Z"
    },
    "tags": []
   },
   "outputs": [
    {
     "data": {
      "text/plain": [
       "{'ε_impact': -0.49599292325481104, 'ε_odds': 0.36028816577626677}"
      ]
     },
     "execution_count": 13,
     "metadata": {},
     "output_type": "execute_result"
    }
   ],
   "source": [
    "ε_impact = 1-(data.at['PPR', 'non sensitive'] / data.at['PPR', 'sensitive'])\n",
    "ε_odds = max(\n",
    "    [\n",
    "        abs(data.at['TPR', 'non sensitive'] - data.at['TPR', 'sensitive']),\n",
    "        abs(data.at['FPR', 'non sensitive'] - data.at['FPR', 'sensitive'])\n",
    "    ]\n",
    ")   \n",
    "{'ε_impact': ε_impact, 'ε_odds': ε_odds}"
   ]
  },
  {
   "cell_type": "code",
   "execution_count": null,
   "id": "5f1d690a-648c-4773-9de6-fa24c1337af3",
   "metadata": {},
   "outputs": [],
   "source": []
  }
 ],
 "metadata": {
  "kernelspec": {
   "display_name": "Python 3 (ipykernel)",
   "language": "python",
   "name": "python3"
  },
  "language_info": {
   "codemirror_mode": {
    "name": "ipython",
    "version": 3
   },
   "file_extension": ".py",
   "mimetype": "text/x-python",
   "name": "python",
   "nbconvert_exporter": "python",
   "pygments_lexer": "ipython3",
   "version": "3.9.7"
  },
  "toc-autonumbering": true
 },
 "nbformat": 4,
 "nbformat_minor": 5
}
