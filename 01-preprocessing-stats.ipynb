{
 "cells": [
  {
   "cell_type": "code",
   "execution_count": 1,
   "id": "13c6e761-fab0-4f6b-a5fe-cfda3d03957d",
   "metadata": {
    "execution": {
     "iopub.execute_input": "2022-02-24T10:09:09.261484Z",
     "iopub.status.busy": "2022-02-24T10:09:09.261164Z",
     "iopub.status.idle": "2022-02-24T10:09:12.603586Z",
     "shell.execute_reply": "2022-02-24T10:09:12.602518Z",
     "shell.execute_reply.started": "2022-02-24T10:09:09.261397Z"
    },
    "tags": []
   },
   "outputs": [],
   "source": [
    "import geopandas as gpd\n",
    "from IPython.display import display\n",
    "import matplotlib.pyplot as plt\n",
    "import numpy as np\n",
    "import pandas as pd\n",
    "import seaborn as sns\n",
    "from tqdm.auto import tqdm\n",
    "\n",
    "import src\n",
    "from run import filepath_inspections_cleaned, filepath_portcalls_cleaned, filepath_inspections_processed, filepath_portcalls_processed\n",
    "\n",
    "inspections_cleaned = pd.read_pickle(filepath_inspections_cleaned)\n",
    "portcalls_cleaned = pd.read_pickle(filepath_portcalls_cleaned)\n",
    "\n",
    "inspections_processed = pd.read_pickle(filepath_inspections_processed)\n",
    "portcalls_processed = pd.read_pickle(filepath_portcalls_processed)"
   ]
  },
  {
   "cell_type": "markdown",
   "id": "ee0c3bdf-9a6e-407c-87fd-dc560889fe77",
   "metadata": {},
   "source": [
    "# Preprocessing"
   ]
  },
  {
   "cell_type": "markdown",
   "id": "07864e00-6a74-437e-9889-e0228e732c5a",
   "metadata": {},
   "source": [
    "## Missing risk\n",
    "Some port calls miss an entry for the risk. \n",
    "Virtually all portcalls with a missing risk, have priority PI.\n",
    "This priority is commonly associated with risk 1 and hence we categorize all these portcalls with risk 1."
   ]
  },
  {
   "cell_type": "code",
   "execution_count": 2,
   "id": "71ee0b6a-0286-4840-a17d-cdd76161c1cc",
   "metadata": {
    "execution": {
     "iopub.execute_input": "2022-02-24T10:09:12.605188Z",
     "iopub.status.busy": "2022-02-24T10:09:12.605060Z",
     "iopub.status.idle": "2022-02-24T10:09:12.633654Z",
     "shell.execute_reply": "2022-02-24T10:09:12.633113Z",
     "shell.execute_reply.started": "2022-02-24T10:09:12.605171Z"
    }
   },
   "outputs": [
    {
     "data": {
      "text/plain": [
       "False    4922948\n",
       "True      469750\n",
       "Name: risk, dtype: int64"
      ]
     },
     "execution_count": 2,
     "metadata": {},
     "output_type": "execute_result"
    }
   ],
   "source": [
    "portcalls_cleaned['risk'].isna().value_counts()"
   ]
  },
  {
   "cell_type": "code",
   "execution_count": 3,
   "id": "efca8023-498f-473f-b01c-16f0fada6dfd",
   "metadata": {
    "execution": {
     "iopub.execute_input": "2022-02-24T10:09:12.635175Z",
     "iopub.status.busy": "2022-02-24T10:09:12.635031Z",
     "iopub.status.idle": "2022-02-24T10:09:13.719272Z",
     "shell.execute_reply": "2022-02-24T10:09:13.718410Z",
     "shell.execute_reply.started": "2022-02-24T10:09:12.635159Z"
    },
    "tags": []
   },
   "outputs": [
    {
     "data": {
      "text/plain": [
       "priority     risk\n",
       "No priority  0       0.236094\n",
       "             1       0.737607\n",
       "             2       0.026299\n",
       "PI           0       0.004840\n",
       "             1       0.948633\n",
       "             2       0.046527\n",
       "PII          0       0.146761\n",
       "             1       0.796463\n",
       "             2       0.056777\n",
       "Name: risk, dtype: float64"
      ]
     },
     "execution_count": 3,
     "metadata": {},
     "output_type": "execute_result"
    }
   ],
   "source": [
    "portcalls_cleaned.groupby(['priority'])['risk'].value_counts(normalize=True).sort_index()"
   ]
  },
  {
   "cell_type": "code",
   "execution_count": 4,
   "id": "fdce0905-e088-4182-affc-906f06b5aba5",
   "metadata": {
    "execution": {
     "iopub.execute_input": "2022-02-24T10:09:13.720105Z",
     "iopub.status.busy": "2022-02-24T10:09:13.719990Z",
     "iopub.status.idle": "2022-02-24T10:09:13.830167Z",
     "shell.execute_reply": "2022-02-24T10:09:13.829105Z",
     "shell.execute_reply.started": "2022-02-24T10:09:13.720091Z"
    },
    "tags": []
   },
   "outputs": [
    {
     "data": {
      "text/plain": [
       "PI             378194\n",
       "No priority        64\n",
       "PII                 1\n",
       "Name: priority, dtype: int64"
      ]
     },
     "execution_count": 4,
     "metadata": {},
     "output_type": "execute_result"
    }
   ],
   "source": [
    "portcalls_cleaned.loc[lambda x: x['risk'].isna()]['priority'].value_counts()"
   ]
  },
  {
   "cell_type": "code",
   "execution_count": 5,
   "id": "efe1170d-9f3e-4a5a-ba9f-15869aeeff05",
   "metadata": {
    "execution": {
     "iopub.execute_input": "2022-02-24T10:09:13.831266Z",
     "iopub.status.busy": "2022-02-24T10:09:13.831152Z",
     "iopub.status.idle": "2022-02-24T10:09:13.860903Z",
     "shell.execute_reply": "2022-02-24T10:09:13.859779Z",
     "shell.execute_reply.started": "2022-02-24T10:09:13.831252Z"
    }
   },
   "outputs": [],
   "source": [
    "portcalls_cleaned.fillna({'risk': 1}, inplace=True)"
   ]
  },
  {
   "cell_type": "markdown",
   "id": "8cfda5fc-bcbb-4a74-a358-1061988f18dc",
   "metadata": {},
   "source": [
    "## Filter on dates"
   ]
  },
  {
   "cell_type": "code",
   "execution_count": 6,
   "id": "3a8f4d82-d8cf-4166-a2ff-1f55974239ff",
   "metadata": {
    "execution": {
     "iopub.execute_input": "2022-02-24T10:09:13.862110Z",
     "iopub.status.busy": "2022-02-24T10:09:13.861999Z",
     "iopub.status.idle": "2022-02-24T10:09:15.475627Z",
     "shell.execute_reply": "2022-02-24T10:09:15.475092Z",
     "shell.execute_reply.started": "2022-02-24T10:09:13.862096Z"
    },
    "tags": []
   },
   "outputs": [
    {
     "data": {
      "text/plain": [
       "<matplotlib.legend.Legend at 0x7f0cd064f160>"
      ]
     },
     "execution_count": 6,
     "metadata": {},
     "output_type": "execute_result"
    },
    {
     "data": {
      "image/png": "[encoded data removed]",
      "text/plain": [
       "<Figure size 347.04x231.12 with 1 Axes>"
      ]
     },
     "metadata": {
      "needs_background": "light"
     },
     "output_type": "display_data"
    }
   ],
   "source": [
    "fig, ax = plt.subplots(figsize=(4.82,3.21), constrained_layout=True)\n",
    "portcalls_cleaned['arrival'].value_counts().resample('M').size().plot(label='portcalls', ax=ax)\n",
    "inspections_cleaned['DateOfFirstVisit'].value_counts().resample('M').size().plot(label='inspections', ax=ax)\n",
    "\n",
    "ax.axvline(src.START_DATE, 0, 10_000, color='C2')\n",
    "ax.axvline(src.END_DATE, 0, 10_000, color='C2')\n",
    "ax.xaxis.set_ticks_position('both')\n",
    "ax.yaxis.set_ticks_position('both')\n",
    "\n",
    "ax.set_ylabel('Counts per month')\n",
    "ax.set_yscale('log')\n",
    "ax.legend(loc='lower right')"
   ]
  },
  {
   "cell_type": "markdown",
   "id": "65303ee1-2aea-452a-9060-f171978a874d",
   "metadata": {},
   "source": [
    "## Age of ship"
   ]
  },
  {
   "cell_type": "code",
   "execution_count": 7,
   "id": "549c3f3d-7845-4e99-bec8-e903385a86d6",
   "metadata": {
    "execution": {
     "iopub.execute_input": "2022-02-24T10:09:15.476510Z",
     "iopub.status.busy": "2022-02-24T10:09:15.476381Z",
     "iopub.status.idle": "2022-02-24T10:09:26.238569Z",
     "shell.execute_reply": "2022-02-24T10:09:26.237727Z",
     "shell.execute_reply.started": "2022-02-24T10:09:15.476495Z"
    },
    "tags": []
   },
   "outputs": [
    {
     "data": {
      "text/plain": [
       "<matplotlib.lines.Line2D at 0x7f08375d6530>"
      ]
     },
     "execution_count": 7,
     "metadata": {},
     "output_type": "execute_result"
    },
    {
     "data": {
      "image/png": "[encoded data removed]",
      "text/plain": [
       "<Figure size 432x288 with 1 Axes>"
      ]
     },
     "metadata": {
      "needs_background": "light"
     },
     "output_type": "display_data"
    }
   ],
   "source": [
    "fig, ax = plt.subplots()\n",
    "\n",
    "sns.ecdfplot(data=portcalls_cleaned.astype({'risk': 'int'}), x='keel_laying', hue='risk', ax=ax)\n",
    "ax.axvline(portcalls_cleaned['keel_laying'].max() - pd.DateOffset(years=12), c='black', ls=':')"
   ]
  },
  {
   "cell_type": "markdown",
   "id": "1869c77e-6789-4418-9d71-3b8f91384b1c",
   "metadata": {},
   "source": [
    "## Type of ship"
   ]
  },
  {
   "cell_type": "code",
   "execution_count": 8,
   "id": "feb9050a-3686-4415-8e4c-a10b252cfcce",
   "metadata": {
    "execution": {
     "iopub.execute_input": "2022-02-24T10:09:26.239795Z",
     "iopub.status.busy": "2022-02-24T10:09:26.239664Z",
     "iopub.status.idle": "2022-02-24T10:09:26.696162Z",
     "shell.execute_reply": "2022-02-24T10:09:26.694968Z",
     "shell.execute_reply.started": "2022-02-24T10:09:26.239778Z"
    },
    "tags": []
   },
   "outputs": [
    {
     "name": "stdout",
     "output_type": "stream",
     "text": [
      "High risk types: ['Ro-Ro passenger ship' 'Oil tanker' 'Chemical tanker'\n",
      " 'High speed passenger craft' 'Bulk carrier' 'Passenger ship' 'NLS tanker'\n",
      " 'Gas carrier' 'Oil tanker/Chemical tanker ' 'Combination carrier'\n",
      " 'Oil tanker/NLS tanker ' 'Gas Carrier/NLS tanker']\n",
      "Low risk types: ['Ro-Ro cargo' 'Container' 'General cargo/multipurpose' 'Tug'\n",
      " 'Other special activities' 'Dredger' nan 'Offshore supply'\n",
      " 'Refrigerated cargo' 'Heavy load' 'Warship and naval auxiliary'\n",
      " 'MODU & FPSO' 'Fishing vessel' 'Pleasure yacht not engaged in trade'\n",
      " 'Commercial yacht' 'Fish factory' 'Special purpose ship'\n",
      " 'Government ship used for non-commercial purpose' 'High speed cargo'\n",
      " 'Livestock carrier' 'Wooden ship of a primitive build']\n"
     ]
    }
   ],
   "source": [
    "df = portcalls_cleaned[['type', 'type_high_risk']].drop_duplicates()\n",
    "high_risk = df.loc[lambda x: x['type_high_risk'], \"type\"].values\n",
    "low_risk = df.loc[lambda x: ~x['type_high_risk'], \"type\"].values\n",
    "print(f\"High risk types: {high_risk}\")\n",
    "print(f\"Low risk types: {low_risk}\")"
   ]
  },
  {
   "cell_type": "markdown",
   "id": "e22b18ab-ad89-4195-93c7-7b73e016d788",
   "metadata": {},
   "source": [
    "## Flag"
   ]
  },
  {
   "cell_type": "code",
   "execution_count": 9,
   "id": "2870061f-b3ac-4bbd-9450-0b3b2ee2f34a",
   "metadata": {
    "execution": {
     "iopub.execute_input": "2022-02-24T10:09:26.697322Z",
     "iopub.status.busy": "2022-02-24T10:09:26.697116Z",
     "iopub.status.idle": "2022-02-24T10:09:27.157830Z",
     "shell.execute_reply": "2022-02-24T10:09:27.156499Z",
     "shell.execute_reply.started": "2022-02-24T10:09:26.697305Z"
    },
    "tags": []
   },
   "outputs": [
    {
     "name": "stdout",
     "output_type": "stream",
     "text": [
      "Flag in pmou: ['BE' 'BG' 'CA' 'CY' 'DE' 'DK' 'EE' 'ES' 'FI' 'FR' 'GB' 'GR' 'HR' 'IE'\n",
      " 'IS' 'IT' 'LT' 'LV' 'MT' 'NL' 'NO' 'PL' 'PT' 'RO' 'RU' 'SE' 'SI']\n",
      "Flag in pmou: ['AE' 'AF' 'AG' 'AL' 'AO' 'AR' 'AT' 'AU' 'AZ' 'BB' 'BD' 'BH' 'BM' 'BO'\n",
      " 'BR' 'BS' 'BZ' 'CD' 'CG' 'CH' 'CK' 'CL' 'CM' 'CN' 'CO' 'CU' 'CV' 'CW'\n",
      " 'DJ' 'DM' 'DZ' 'EC' 'EG' 'ET' 'FK' 'FM' 'FO' 'GA' 'GE' 'GG' 'GH' 'GI'\n",
      " 'GN' 'GQ' 'GT' 'GW' 'GY' 'HK' 'HN' 'ID' 'IL' 'IM' 'IN' 'IQ' 'IR' 'JE'\n",
      " 'JM' 'JO' 'JP' 'KE' 'KH' 'KI' 'KM' 'KN' 'KR' 'KW' 'KY' 'KZ' 'LB' 'LK'\n",
      " 'LR' 'LU' 'LY' 'MA' 'MC' 'MD' 'ME' 'MH' 'MN' 'MO' 'MR' 'MU' 'MX' 'MY'\n",
      " 'MZ' 'NG' 'NOT_MENTIONED' 'NU' 'NZ' 'OM' 'PA' 'PE' 'PH' 'PK' 'PW' 'QA'\n",
      " 'REGISTER_WITHDRAWN' 'SA' 'SC' 'SG' 'SL' 'SN' 'SR' 'ST' 'SV' 'SY' 'TG'\n",
      " 'TH' 'TN' 'TR' 'TT' 'TV' 'TW' 'TZ' 'UA' 'US' 'UY' 'VC' 'VE' 'VG' 'VI'\n",
      " 'VN' 'VU' 'WS' 'ZA' nan]\n"
     ]
    }
   ],
   "source": [
    "cols = ['flag_in_pmou', 'flag_code']\n",
    "df = portcalls_cleaned[cols].drop_duplicates().sort_values(cols)\n",
    "flags_in_pmou = df.loc[lambda x: x['flag_in_pmou'], 'flag_code'].values\n",
    "flags_not_in_pmou = df.loc[lambda x: ~x['flag_in_pmou'], 'flag_code'].values\n",
    "print(f\"Flag in pmou: {flags_in_pmou}\")\n",
    "print(f\"Flag not in pmou: {flags_not_in_pmou}\")"
   ]
  },
  {
   "cell_type": "code",
   "execution_count": 10,
   "id": "901bff35-dc2e-4f9f-8af3-451d501a957e",
   "metadata": {
    "execution": {
     "iopub.execute_input": "2022-02-24T10:09:27.159118Z",
     "iopub.status.busy": "2022-02-24T10:09:27.158995Z",
     "iopub.status.idle": "2022-02-24T10:09:27.184997Z",
     "shell.execute_reply": "2022-02-24T10:09:27.184050Z",
     "shell.execute_reply.started": "2022-02-24T10:09:27.159100Z"
    },
    "tags": []
   },
   "outputs": [
    {
     "data": {
      "text/plain": [
       "True     0.709766\n",
       "False    0.290234\n",
       "Name: flag_in_pmou, dtype: float64"
      ]
     },
     "execution_count": 10,
     "metadata": {},
     "output_type": "execute_result"
    }
   ],
   "source": [
    "portcalls_cleaned['flag_in_pmou'].value_counts(normalize=True)"
   ]
  },
  {
   "cell_type": "code",
   "execution_count": 11,
   "id": "24b4874a-40b3-422f-b25c-0aa4d18512db",
   "metadata": {
    "execution": {
     "iopub.execute_input": "2022-02-24T10:09:27.185851Z",
     "iopub.status.busy": "2022-02-24T10:09:27.185730Z",
     "iopub.status.idle": "2022-02-24T10:09:27.298524Z",
     "shell.execute_reply": "2022-02-24T10:09:27.297540Z",
     "shell.execute_reply.started": "2022-02-24T10:09:27.185837Z"
    },
    "tags": []
   },
   "outputs": [
    {
     "data": {
      "text/plain": [
       "0    0.968616\n",
       "1    0.017837\n",
       "2    0.013547\n",
       "Name: flag, dtype: Float64"
      ]
     },
     "execution_count": 11,
     "metadata": {},
     "output_type": "execute_result"
    }
   ],
   "source": [
    "portcalls_cleaned['flag'].value_counts(normalize=True)"
   ]
  },
  {
   "cell_type": "code",
   "execution_count": 12,
   "id": "6ba1990f-79b8-4503-adcc-4d9811059f30",
   "metadata": {
    "execution": {
     "iopub.execute_input": "2022-02-24T10:09:27.300501Z",
     "iopub.status.busy": "2022-02-24T10:09:27.300273Z",
     "iopub.status.idle": "2022-02-24T10:09:27.384861Z",
     "shell.execute_reply": "2022-02-24T10:09:27.384294Z",
     "shell.execute_reply.started": "2022-02-24T10:09:27.300483Z"
    },
    "tags": []
   },
   "outputs": [
    {
     "data": {
      "text/plain": [
       "0     946712\n",
       "1    4288785\n",
       "2     157201\n",
       "Name: risk, dtype: Int64"
      ]
     },
     "execution_count": 12,
     "metadata": {},
     "output_type": "execute_result"
    }
   ],
   "source": [
    "portcalls_cleaned['risk'].value_counts().sort_index()"
   ]
  },
  {
   "cell_type": "code",
   "execution_count": 13,
   "id": "690f85ab-9cdd-4f48-b785-da31c76d9739",
   "metadata": {
    "execution": {
     "iopub.execute_input": "2022-02-24T10:09:27.385714Z",
     "iopub.status.busy": "2022-02-24T10:09:27.385604Z",
     "iopub.status.idle": "2022-02-24T10:09:27.897565Z",
     "shell.execute_reply": "2022-02-24T10:09:27.896801Z",
     "shell.execute_reply.started": "2022-02-24T10:09:27.385700Z"
    },
    "tags": []
   },
   "outputs": [
    {
     "data": {
      "text/html": [
       "<div>\n",
       "<style scoped>\n",
       "    .dataframe tbody tr th:only-of-type {\n",
       "        vertical-align: middle;\n",
       "    }\n",
       "\n",
       "    .dataframe tbody tr th {\n",
       "        vertical-align: top;\n",
       "    }\n",
       "\n",
       "    .dataframe thead th {\n",
       "        text-align: right;\n",
       "    }\n",
       "</style>\n",
       "<table border=\"1\" class=\"dataframe\">\n",
       "  <thead>\n",
       "    <tr style=\"text-align: right;\">\n",
       "      <th>risk</th>\n",
       "      <th>0</th>\n",
       "      <th>1</th>\n",
       "      <th>2</th>\n",
       "    </tr>\n",
       "    <tr>\n",
       "      <th>flag_in_pmou</th>\n",
       "      <th></th>\n",
       "      <th></th>\n",
       "      <th></th>\n",
       "    </tr>\n",
       "  </thead>\n",
       "  <tbody>\n",
       "    <tr>\n",
       "      <th>False</th>\n",
       "      <td>0.146483</td>\n",
       "      <td>0.812605</td>\n",
       "      <td>0.040911</td>\n",
       "    </tr>\n",
       "    <tr>\n",
       "      <th>True</th>\n",
       "      <td>0.187442</td>\n",
       "      <td>0.788216</td>\n",
       "      <td>0.024342</td>\n",
       "    </tr>\n",
       "  </tbody>\n",
       "</table>\n",
       "</div>"
      ],
      "text/plain": [
       "risk                 0         1         2\n",
       "flag_in_pmou                              \n",
       "False         0.146483  0.812605  0.040911\n",
       "True          0.187442  0.788216  0.024342"
      ]
     },
     "metadata": {},
     "output_type": "display_data"
    },
    {
     "data": {
      "text/html": [
       "<div>\n",
       "<style scoped>\n",
       "    .dataframe tbody tr th:only-of-type {\n",
       "        vertical-align: middle;\n",
       "    }\n",
       "\n",
       "    .dataframe tbody tr th {\n",
       "        vertical-align: top;\n",
       "    }\n",
       "\n",
       "    .dataframe thead th {\n",
       "        text-align: right;\n",
       "    }\n",
       "</style>\n",
       "<table border=\"1\" class=\"dataframe\">\n",
       "  <thead>\n",
       "    <tr style=\"text-align: right;\">\n",
       "      <th>risk</th>\n",
       "      <th>0</th>\n",
       "      <th>1</th>\n",
       "      <th>2</th>\n",
       "    </tr>\n",
       "    <tr>\n",
       "      <th>flag_in_pmou</th>\n",
       "      <th></th>\n",
       "      <th></th>\n",
       "      <th></th>\n",
       "    </tr>\n",
       "  </thead>\n",
       "  <tbody>\n",
       "    <tr>\n",
       "      <th>False</th>\n",
       "      <td>229268</td>\n",
       "      <td>1271847</td>\n",
       "      <td>64032</td>\n",
       "    </tr>\n",
       "    <tr>\n",
       "      <th>True</th>\n",
       "      <td>717444</td>\n",
       "      <td>3016938</td>\n",
       "      <td>93169</td>\n",
       "    </tr>\n",
       "  </tbody>\n",
       "</table>\n",
       "</div>"
      ],
      "text/plain": [
       "risk               0        1      2\n",
       "flag_in_pmou                        \n",
       "False         229268  1271847  64032\n",
       "True          717444  3016938  93169"
      ]
     },
     "metadata": {},
     "output_type": "display_data"
    }
   ],
   "source": [
    "display(\n",
    "    portcalls_cleaned[['flag_in_pmou', 'risk']]\n",
    "    .value_counts()\n",
    "    .sort_index()\n",
    "    .reset_index()\n",
    "    .pivot(['flag_in_pmou'], ['risk'], 0)\n",
    "    .apply(lambda x: x/ x.sum(), axis='columns')\n",
    ")\n",
    "\n",
    "display(\n",
    "    portcalls_cleaned[['flag_in_pmou', 'risk']]\n",
    "    .value_counts()\n",
    "    .sort_index()\n",
    "    .reset_index()\n",
    "    .pivot(['flag_in_pmou'], ['risk'], 0)\n",
    ")"
   ]
  },
  {
   "cell_type": "markdown",
   "id": "99063575-961b-4149-911b-23e9e362827b",
   "metadata": {},
   "source": [
    "## Country of port"
   ]
  },
  {
   "cell_type": "code",
   "execution_count": 14,
   "id": "9377bda2-57e9-47b2-b5fa-204f0e86f7c9",
   "metadata": {
    "execution": {
     "iopub.execute_input": "2022-02-24T10:09:27.898515Z",
     "iopub.status.busy": "2022-02-24T10:09:27.898384Z",
     "iopub.status.idle": "2022-02-24T10:09:31.110721Z",
     "shell.execute_reply": "2022-02-24T10:09:31.109710Z",
     "shell.execute_reply.started": "2022-02-24T10:09:27.898499Z"
    },
    "tags": []
   },
   "outputs": [
    {
     "data": {
      "text/plain": [
       "<AxesSubplot:>"
      ]
     },
     "execution_count": 14,
     "metadata": {},
     "output_type": "execute_result"
    },
    {
     "data": {
      "image/png": "[encoded data removed]",
      "text/plain": [
       "<Figure size 1080x720 with 1 Axes>"
      ]
     },
     "metadata": {
      "needs_background": "light"
     },
     "output_type": "display_data"
    }
   ],
   "source": [
    "iso3166alpha2 = portcalls_processed['port'].str[:2].unique()\n",
    "world = gpd.read_file(gpd.datasets.get_path('naturalearth_lowres'))\n",
    "url = \"https://gist.github.com/tadast/8827699/raw/f5cac3d42d16b78348610fc4ec301e9234f82821/countries_codes_and_coordinates.csv\"\n",
    "iso3166 = pd.read_csv(url).apply(lambda x: x.str.replace('\"', \"\").str.strip())\n",
    "\n",
    "mask = iso3166.set_index('Alpha-2 code')['Alpha-3 code'].to_dict()\n",
    "iso3166alpha3 = [mask[country] for country in portcalls_cleaned['port'].str[:2].unique()]\n",
    "fig, ax = plt.subplots(figsize=(15,10))\n",
    "world.plot(ax=ax, color='red')\n",
    "world.loc[lambda x: x.iso_a3.isin(iso3166alpha3)].plot(color='green', ax=ax)"
   ]
  },
  {
   "cell_type": "markdown",
   "id": "eb0f79a0-5769-4423-861b-108445ca1e94",
   "metadata": {},
   "source": [
    "## Sent At"
   ]
  },
  {
   "cell_type": "code",
   "execution_count": 15,
   "id": "7748660b-47fa-4a95-9e68-89619453837c",
   "metadata": {
    "execution": {
     "iopub.execute_input": "2022-02-24T10:09:31.113005Z",
     "iopub.status.busy": "2022-02-24T10:09:31.112872Z",
     "iopub.status.idle": "2022-02-24T10:09:31.784608Z",
     "shell.execute_reply": "2022-02-24T10:09:31.783839Z",
     "shell.execute_reply.started": "2022-02-24T10:09:31.112988Z"
    },
    "tags": []
   },
   "outputs": [
    {
     "data": {
      "text/plain": [
       "min    2011-10-05 13:37:58\n",
       "max    2021-04-27 12:46:39\n",
       "Name: Sent.At, dtype: object"
      ]
     },
     "execution_count": 15,
     "metadata": {},
     "output_type": "execute_result"
    }
   ],
   "source": [
    "portcalls_cleaned['Sent.At'].agg(['min', 'max'])"
   ]
  },
  {
   "cell_type": "markdown",
   "id": "8f573de2-b382-4bb2-8b3f-d566b1de5815",
   "metadata": {},
   "source": [
    "# Stats"
   ]
  },
  {
   "cell_type": "code",
   "execution_count": 16,
   "id": "49b01ed0-7739-4d6e-a0e0-22d95286454e",
   "metadata": {
    "execution": {
     "iopub.execute_input": "2022-02-24T10:09:31.785697Z",
     "iopub.status.busy": "2022-02-24T10:09:31.785563Z",
     "iopub.status.idle": "2022-02-24T10:09:38.573001Z",
     "shell.execute_reply": "2022-02-24T10:09:38.571940Z",
     "shell.execute_reply.started": "2022-02-24T10:09:31.785680Z"
    },
    "tags": []
   },
   "outputs": [
    {
     "data": {
      "application/vnd.jupyter.widget-view+json": {
       "model_id": "f2e71c63e6bb4504a7ebbde55649d2c6",
       "version_major": 2,
       "version_minor": 0
      },
      "text/plain": [
       "  0%|          | 0/28416 [00:00<?, ?it/s]"
      ]
     },
     "metadata": {},
     "output_type": "display_data"
    },
    {
     "data": {
      "text/plain": [
       "{'number of portcalls': 3097752,\n",
       " 'number of ships': 28416,\n",
       " 'number of ships without any portcalls': 1751,\n",
       " 'number of ships not inspected': 5976,\n",
       " 'fraction of ships not inspected': 0.21030405405405406}"
      ]
     },
     "execution_count": 16,
     "metadata": {},
     "output_type": "execute_result"
    }
   ],
   "source": [
    "first_inspection = inspections_processed.groupby('IMO')['DateOfFirstVisit'].first().to_dict()\n",
    "\n",
    "result = dict()\n",
    "ship_not_inspected = list()\n",
    "\n",
    "for ship, group in tqdm(portcalls_processed.groupby('ship')):\n",
    "    if ship in first_inspection:\n",
    "        result[ship] = (group['arrival'] < first_inspection[ship]).sum()\n",
    "    else:\n",
    "        ship_not_inspected.append(ship)\n",
    "result = pd.Series(result)\n",
    "\n",
    "{\n",
    "    'number of portcalls': len(portcalls_processed),\n",
    "    'number of ships': portcalls_processed.ship.nunique(),\n",
    "    'number of ships without any portcalls': len(set(inspections_processed['IMO'].unique()) - set(portcalls_processed['ship'].unique())),\n",
    "    'number of ships not inspected': len(ship_not_inspected),\n",
    "    'fraction of ships not inspected': len(ship_not_inspected) / portcalls_processed.ship.nunique(),\n",
    "}"
   ]
  },
  {
   "cell_type": "markdown",
   "id": "9abd9f56-c8b9-467c-93b2-e4056f6c3ef2",
   "metadata": {},
   "source": [
    "## Number of portcalls before inspection"
   ]
  },
  {
   "cell_type": "code",
   "execution_count": 17,
   "id": "741a2efa-ded7-4a9e-9722-ba49dbd375a3",
   "metadata": {
    "execution": {
     "iopub.execute_input": "2022-02-24T10:09:38.574232Z",
     "iopub.status.busy": "2022-02-24T10:09:38.574097Z",
     "iopub.status.idle": "2022-02-24T10:09:38.754271Z",
     "shell.execute_reply": "2022-02-24T10:09:38.753305Z",
     "shell.execute_reply.started": "2022-02-24T10:09:38.574215Z"
    },
    "tags": []
   },
   "outputs": [
    {
     "data": {
      "text/plain": [
       "Text(0.5, 0, 'Number of portcalls before inspection')"
      ]
     },
     "execution_count": 17,
     "metadata": {},
     "output_type": "execute_result"
    },
    {
     "data": {
      "image/png": "[encoded data removed]",
      "text/plain": [
       "<Figure size 347.04x231.12 with 1 Axes>"
      ]
     },
     "metadata": {
      "needs_background": "light"
     },
     "output_type": "display_data"
    }
   ],
   "source": [
    "fig, ax = plt.subplots(figsize=(4.82,3.21), constrained_layout=True)\n",
    "sns.ecdfplot(list(result.values), stat='proportion', ax=ax)\n",
    "ax.set_xlim(0, 20)\n",
    "ax.set_xticks(range(20))\n",
    "ax.set_yticks(np.linspace(0, 1, 11))\n",
    "ax.grid()\n",
    "ax.set_xlabel('Number of portcalls before inspection')"
   ]
  },
  {
   "cell_type": "markdown",
   "id": "0c390475-62f3-48e3-97ec-633192908abb",
   "metadata": {},
   "source": [
    "## Some ships with many portcalls"
   ]
  },
  {
   "cell_type": "code",
   "execution_count": 18,
   "id": "b9d986de-723b-4189-b843-4b5071b52063",
   "metadata": {
    "execution": {
     "iopub.execute_input": "2022-02-24T10:09:38.755518Z",
     "iopub.status.busy": "2022-02-24T10:09:38.755386Z",
     "iopub.status.idle": "2022-02-24T10:09:38.764623Z",
     "shell.execute_reply": "2022-02-24T10:09:38.764054Z",
     "shell.execute_reply.started": "2022-02-24T10:09:38.755501Z"
    },
    "tags": []
   },
   "outputs": [
    {
     "data": {
      "text/plain": [
       "9587855     1414\n",
       "9007128     1429\n",
       "9135262     1494\n",
       "7351082     1527\n",
       "8518546     1822\n",
       "9151539     2071\n",
       "8916126     2202\n",
       "9170183     4679\n",
       "9237644     6425\n",
       "9151541    13474\n",
       "dtype: int64"
      ]
     },
     "execution_count": 18,
     "metadata": {},
     "output_type": "execute_result"
    }
   ],
   "source": [
    "pd.Series(result).sort_values().tail(10)"
   ]
  },
  {
   "cell_type": "markdown",
   "id": "30c18573-c1da-4ff3-b943-ba995e425812",
   "metadata": {},
   "source": [
    "## Ship flag history"
   ]
  },
  {
   "cell_type": "code",
   "execution_count": 19,
   "id": "b0ce2b38-b02e-4d01-8aee-9297fa2010f6",
   "metadata": {
    "execution": {
     "iopub.execute_input": "2022-02-24T10:09:38.765418Z",
     "iopub.status.busy": "2022-02-24T10:09:38.765301Z",
     "iopub.status.idle": "2022-02-24T10:09:43.478240Z",
     "shell.execute_reply": "2022-02-24T10:09:43.477416Z",
     "shell.execute_reply.started": "2022-02-24T10:09:38.765403Z"
    },
    "tags": []
   },
   "outputs": [
    {
     "name": "stdout",
     "output_type": "stream",
     "text": [
      "Total number of ships: 28416\n",
      "\n",
      "Total number of ships not changing flag: 27647 (97.3%)\n",
      "Total number of ships changing flag: 769 (2.7%)\n",
      "\n",
      "Total changes of flag: [27647   722    44     2     1]\n",
      "Total changes of flag (relative): [97.29377815  2.54082207  0.15484234  0.00703829  0.00351914]\n",
      "\n",
      "From the ships that don't change flag, number of white/grey/black ships: [26300   672   675]\n",
      "\n",
      "Type of changes:\n",
      "Counter({(0, 2): 271, (1, 0): 195, (0, 1): 132, (2, 0): 85, (1, 2): 29, (2, 1): 10})\n",
      "\n",
      "Fraction of ships moving to better/worse flag: [0.56176853 0.37711313]\n"
     ]
    }
   ],
   "source": [
    "portcalls = (\n",
    "    portcalls_cleaned\n",
    "    .loc[lambda x: src.START_DATE <= x['arrival']]\n",
    "    .loc[lambda x: x['arrival'] <= src.END_DATE]\n",
    "    .loc[lambda x: x['ship'].duplicated(keep=False)]\n",
    "    .dropna(subset=['flag'])\n",
    "    .astype({'flag': 'int'})\n",
    ")\n",
    "\n",
    "result = list()\n",
    "result2 = list()\n",
    "number_of_changes_list = list()\n",
    "for ship, group in portcalls.groupby('ship')['flag']:\n",
    "    number_of_changes = (group.values != group.shift(1).values).sum() - 1\n",
    "    number_of_changes_list.append(number_of_changes)\n",
    "    if number_of_changes == 0:\n",
    "        result.append(group.iloc[0])\n",
    "    elif number_of_changes == 1:\n",
    "        result2.append((group.iloc[0], group.iloc[-1]))\n",
    "result = pd.Series(result)\n",
    "\n",
    "total = len(number_of_changes_list)\n",
    "print(f\"Total number of ships: {total}\")\n",
    "print()\n",
    "not_changing = (np.array(number_of_changes_list) == 0).sum()\n",
    "changing = (np.array(number_of_changes_list) > 0).sum()\n",
    "print(f\"Total number of ships not changing flag: {not_changing} ({not_changing/total:.1%})\")\n",
    "print(f\"Total number of ships changing flag: {changing} ({changing/total:.1%})\")\n",
    "print()\n",
    "print(f\"Total changes of flag: {np.bincount(number_of_changes_list)}\")\n",
    "np.set_printoptions(suppress=True)\n",
    "message = 100*np.bincount(number_of_changes_list) / len(number_of_changes_list)\n",
    "print(f\"Total changes of flag (relative): {message}\")\n",
    "print()\n",
    "message = \"From the ships that don't change flag, number of white/grey/black ships\"\n",
    "print(f\"{message}: {np.bincount(result)}\")\n",
    "print()\n",
    "print(\"Type of changes:\")\n",
    "from collections import Counter\n",
    "print(Counter(result2))\n",
    "print()\n",
    "more_worse_flag = np.bincount([a>b for a, b in result2]) / changing\n",
    "print(f\"Fraction of ships moving to better/worse flag: {more_worse_flag}\")"
   ]
  },
  {
   "cell_type": "code",
   "execution_count": null,
   "id": "9faf2718-0b35-4b54-81e2-d1559bd6a55a",
   "metadata": {},
   "outputs": [],
   "source": []
  }
 ],
 "metadata": {
  "kernelspec": {
   "display_name": "Python 3 (ipykernel)",
   "language": "python",
   "name": "python3"
  },
  "language_info": {
   "codemirror_mode": {
    "name": "ipython",
    "version": 3
   },
   "file_extension": ".py",
   "mimetype": "text/x-python",
   "name": "python",
   "nbconvert_exporter": "python",
   "pygments_lexer": "ipython3",
   "version": "3.10.2"
  }
 },
 "nbformat": 4,
 "nbformat_minor": 5
}
