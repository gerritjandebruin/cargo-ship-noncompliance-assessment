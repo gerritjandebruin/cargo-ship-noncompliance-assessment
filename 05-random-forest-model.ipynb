{
 "cells": [
  {
   "cell_type": "code",
   "execution_count": 1,
   "id": "f0c797bd-592b-46c2-9b14-b3716b755912",
   "metadata": {
    "execution": {
     "iopub.execute_input": "2022-02-07T13:18:07.324634Z",
     "iopub.status.busy": "2022-02-07T13:18:07.324473Z",
     "iopub.status.idle": "2022-02-07T13:18:08.895633Z",
     "shell.execute_reply": "2022-02-07T13:18:08.894841Z",
     "shell.execute_reply.started": "2022-02-07T13:18:07.324588Z"
    },
    "tags": []
   },
   "outputs": [],
   "source": [
    "import json\n",
    "import os\n",
    "from pathlib import Path\n",
    "import sys\n",
    "import time\n",
    "\n",
    "from IPython.display import display\n",
    "import joblib\n",
    "from matplotlib.ticker import MultipleLocator\n",
    "import matplotlib.pyplot as plt\n",
    "import numpy as np\n",
    "import pandas as pd\n",
    "import seaborn as sns\n",
    "import sklearn.ensemble\n",
    "import sklearn.feature_selection\n",
    "import sklearn.metrics\n",
    "import sklearn.model_selection\n",
    "from tqdm.auto import tqdm\n",
    "\n",
    "from run import filepath_x, filepath_y, filepath_s, filepath_performance_folds, filepath_outer_folds\n",
    "\n",
    "X = pd.read_pickle(filepath_x)\n",
    "y = pd.read_pickle(filepath_y)\n",
    "s = pd.read_pickle(filepath_s)\n",
    "outer_folds = joblib.load(filepath_outer_folds)"
   ]
  },
  {
   "cell_type": "markdown",
   "id": "9fe7adaa-2100-4477-8051-a1b64827d973",
   "metadata": {},
   "source": [
    "# Determine best parameters \n",
    "Determine for every value of orthogonality and for every outer fold"
   ]
  },
  {
   "cell_type": "code",
   "execution_count": 10,
   "id": "01f7b218-c1b7-47b2-9900-80a2c3fa075b",
   "metadata": {
    "execution": {
     "iopub.execute_input": "2022-02-07T13:18:11.023825Z",
     "iopub.status.busy": "2022-02-07T13:18:11.023700Z",
     "iopub.status.idle": "2022-02-07T13:18:11.036687Z",
     "shell.execute_reply": "2022-02-07T13:18:11.036169Z",
     "shell.execute_reply.started": "2022-02-07T13:18:11.023808Z"
    },
    "tags": []
   },
   "outputs": [],
   "source": [
    "best_params = (\n",
    "    pd.read_pickle(filepath_performance_folds)\n",
    "    .groupby(['orthogonality', 'outer_fold', 'max_depth', 'n_bins'], as_index=False)\n",
    "    .agg({'auc_y': 'mean', 'auc_s': 'mean'})\n",
    "    .sort_values('auc_y', ascending=False)\n",
    "    .drop_duplicates(subset=['orthogonality', 'outer_fold'])\n",
    "    .sort_values(['orthogonality', 'outer_fold'])\n",
    "    [['orthogonality', 'outer_fold', 'max_depth', 'n_bins']]\n",
    ")"
   ]
  },
  {
   "cell_type": "code",
   "execution_count": 11,
   "id": "5bc92c0a-d34d-4394-8f9d-bac1ad962385",
   "metadata": {
    "execution": {
     "iopub.execute_input": "2022-02-07T13:18:11.037414Z",
     "iopub.status.busy": "2022-02-07T13:18:11.037300Z",
     "iopub.status.idle": "2022-02-07T13:18:11.127516Z",
     "shell.execute_reply": "2022-02-07T13:18:11.126515Z",
     "shell.execute_reply.started": "2022-02-07T13:18:11.037399Z"
    }
   },
   "outputs": [
    {
     "data": {
      "text/html": [
       "<div>\n",
       "<style scoped>\n",
       "    .dataframe tbody tr th:only-of-type {\n",
       "        vertical-align: middle;\n",
       "    }\n",
       "\n",
       "    .dataframe tbody tr th {\n",
       "        vertical-align: top;\n",
       "    }\n",
       "\n",
       "    .dataframe thead th {\n",
       "        text-align: right;\n",
       "    }\n",
       "</style>\n",
       "<table border=\"1\" class=\"dataframe\">\n",
       "  <thead>\n",
       "    <tr style=\"text-align: right;\">\n",
       "      <th></th>\n",
       "      <th>orthogonality</th>\n",
       "      <th>outer_fold</th>\n",
       "      <th>max_depth</th>\n",
       "      <th>n_bins</th>\n",
       "    </tr>\n",
       "  </thead>\n",
       "  <tbody>\n",
       "    <tr>\n",
       "      <th>5</th>\n",
       "      <td>0.0</td>\n",
       "      <td>0</td>\n",
       "      <td>6</td>\n",
       "      <td>2</td>\n",
       "    </tr>\n",
       "    <tr>\n",
       "      <th>15</th>\n",
       "      <td>0.0</td>\n",
       "      <td>1</td>\n",
       "      <td>6</td>\n",
       "      <td>2</td>\n",
       "    </tr>\n",
       "    <tr>\n",
       "      <th>25</th>\n",
       "      <td>0.0</td>\n",
       "      <td>2</td>\n",
       "      <td>6</td>\n",
       "      <td>2</td>\n",
       "    </tr>\n",
       "    <tr>\n",
       "      <th>35</th>\n",
       "      <td>0.0</td>\n",
       "      <td>3</td>\n",
       "      <td>6</td>\n",
       "      <td>2</td>\n",
       "    </tr>\n",
       "    <tr>\n",
       "      <th>45</th>\n",
       "      <td>0.0</td>\n",
       "      <td>4</td>\n",
       "      <td>6</td>\n",
       "      <td>2</td>\n",
       "    </tr>\n",
       "  </tbody>\n",
       "</table>\n",
       "</div>"
      ],
      "text/plain": [
       "    orthogonality  outer_fold  max_depth  n_bins\n",
       "5             0.0           0          6       2\n",
       "15            0.0           1          6       2\n",
       "25            0.0           2          6       2\n",
       "35            0.0           3          6       2\n",
       "45            0.0           4          6       2"
      ]
     },
     "execution_count": 11,
     "metadata": {},
     "output_type": "execute_result"
    }
   ],
   "source": [
    "best_params"
   ]
  },
  {
   "cell_type": "markdown",
   "id": "966a97d9-ca7d-4489-8889-41de525a6213",
   "metadata": {},
   "source": [
    "# Measure total performance"
   ]
  },
  {
   "cell_type": "code",
   "execution_count": 12,
   "id": "4f11c77a-ddaa-4756-b3fa-11bf87848af4",
   "metadata": {
    "execution": {
     "iopub.execute_input": "2022-02-07T13:18:11.132031Z",
     "iopub.status.busy": "2022-02-07T13:18:11.131196Z",
     "iopub.status.idle": "2022-02-07T13:18:11.333591Z",
     "shell.execute_reply": "2022-02-07T13:18:11.332812Z",
     "shell.execute_reply.started": "2022-02-07T13:18:11.131992Z"
    },
    "tags": []
   },
   "outputs": [
    {
     "data": {
      "application/vnd.jupyter.widget-view+json": {
       "model_id": "9b1fa4d5bb2a4bffab241b8e31cd8992",
       "version_major": 2,
       "version_minor": 0
      },
      "text/plain": [
       "  0%|          | 0/5 [00:00<?, ?it/s]"
      ]
     },
     "metadata": {},
     "output_type": "display_data"
    }
   ],
   "source": [
    "total_performance_before_aggregation = list()\n",
    "for p in tqdm(list(best_params.itertuples())):\n",
    "    y_score = np.load(f'models/outer_folds/{p.max_depth}-{p.orthogonality:.2f}-{p.n_bins}-{p.outer_fold}.npy')\n",
    "    \n",
    "    _, (_, test_idx) = outer_folds[p.outer_fold]\n",
    "    y_test = y[test_idx]\n",
    "    s_test = s[test_idx]\n",
    "    auc_y = sklearn.metrics.roc_auc_score(y_test, y_score)\n",
    "    auc_s = sklearn.metrics.roc_auc_score(s_test, y_score)\n",
    "    auc_s = max(auc_s, 1-auc_s)    \n",
    "    \n",
    "    total_performance_before_aggregation.append(\n",
    "        dict(orthogonality=p.orthogonality, auc_y=auc_y, auc_s=auc_s, \n",
    "             fold=p.outer_fold)\n",
    "    )\n",
    "total_performance_before_aggregation = pd.DataFrame(total_performance_before_aggregation)\n",
    "total_performance = (\n",
    "    total_performance_before_aggregation\n",
    "    .groupby(['orthogonality'])\n",
    "    .agg(auc_y=('auc_y', 'mean'), auc_y_std=('auc_y', 'std'),\n",
    "         auc_s=('auc_s', 'mean'), auc_s_std=('auc_s', 'std'))\n",
    ")"
   ]
  },
  {
   "cell_type": "code",
   "execution_count": 13,
   "id": "8ee0da37-435b-47eb-b003-e5d5799db4b9",
   "metadata": {
    "execution": {
     "iopub.execute_input": "2022-02-07T13:18:11.335116Z",
     "iopub.status.busy": "2022-02-07T13:18:11.334813Z",
     "iopub.status.idle": "2022-02-07T13:18:11.418903Z",
     "shell.execute_reply": "2022-02-07T13:18:11.417507Z",
     "shell.execute_reply.started": "2022-02-07T13:18:11.335086Z"
    },
    "tags": []
   },
   "outputs": [
    {
     "data": {
      "text/html": [
       "<div>\n",
       "<style scoped>\n",
       "    .dataframe tbody tr th:only-of-type {\n",
       "        vertical-align: middle;\n",
       "    }\n",
       "\n",
       "    .dataframe tbody tr th {\n",
       "        vertical-align: top;\n",
       "    }\n",
       "\n",
       "    .dataframe thead th {\n",
       "        text-align: right;\n",
       "    }\n",
       "</style>\n",
       "<table border=\"1\" class=\"dataframe\">\n",
       "  <thead>\n",
       "    <tr style=\"text-align: right;\">\n",
       "      <th></th>\n",
       "      <th>auc_y</th>\n",
       "      <th>auc_y_std</th>\n",
       "      <th>auc_s</th>\n",
       "      <th>auc_s_std</th>\n",
       "    </tr>\n",
       "    <tr>\n",
       "      <th>orthogonality</th>\n",
       "      <th></th>\n",
       "      <th></th>\n",
       "      <th></th>\n",
       "      <th></th>\n",
       "    </tr>\n",
       "  </thead>\n",
       "  <tbody>\n",
       "    <tr>\n",
       "      <th>0.0</th>\n",
       "      <td>0.814402</td>\n",
       "      <td>0.00385</td>\n",
       "      <td>0.626898</td>\n",
       "      <td>0.013815</td>\n",
       "    </tr>\n",
       "  </tbody>\n",
       "</table>\n",
       "</div>"
      ],
      "text/plain": [
       "                  auc_y  auc_y_std     auc_s  auc_s_std\n",
       "orthogonality                                          \n",
       "0.0            0.814402    0.00385  0.626898   0.013815"
      ]
     },
     "execution_count": 13,
     "metadata": {},
     "output_type": "execute_result"
    }
   ],
   "source": [
    "total_performance"
   ]
  },
  {
   "cell_type": "markdown",
   "id": "a45167e6-e196-4fa2-af4d-18e9b32d1589",
   "metadata": {},
   "source": [
    "# Determine $\\hat y$ and threshold"
   ]
  },
  {
   "cell_type": "code",
   "execution_count": 14,
   "id": "ba8c52bf-ddae-44ef-b48e-0d418c6b0857",
   "metadata": {
    "execution": {
     "iopub.execute_input": "2022-02-07T13:18:11.420510Z",
     "iopub.status.busy": "2022-02-07T13:18:11.420287Z",
     "iopub.status.idle": "2022-02-07T13:18:11.529393Z",
     "shell.execute_reply": "2022-02-07T13:18:11.528809Z",
     "shell.execute_reply.started": "2022-02-07T13:18:11.420481Z"
    },
    "tags": []
   },
   "outputs": [
    {
     "data": {
      "application/vnd.jupyter.widget-view+json": {
       "model_id": "e717bf48661443949fb756221810d1be",
       "version_major": 2,
       "version_minor": 0
      },
      "text/plain": [
       "  0%|          | 0/5 [00:00<?, ?it/s]"
      ]
     },
     "metadata": {},
     "output_type": "display_data"
    }
   ],
   "source": [
    "iterator = list(best_params.itertuples())\n",
    "\n",
    "y_scores_all = list()\n",
    "y_test_all = list()\n",
    "s_test_all = list()\n",
    "for p in tqdm(iterator): \n",
    "    y_score = np.load(f'models/outer_folds/{p.max_depth}-{p.orthogonality:.2f}-{p.n_bins}-{p.outer_fold}.npy')\n",
    "    \n",
    "    _, (_, test_idx) = outer_folds[p.outer_fold]\n",
    "    \n",
    "    y_test = y[test_idx]\n",
    "    s_test = s[test_idx]\n",
    "    \n",
    "    # FLIPPING!!!\n",
    "    y_scores_all.extend(1-y_score)\n",
    "    y_test_all.extend(~y_test)\n",
    "    \n",
    "    s_test_all.extend(s_test)\n",
    "    \n",
    "y_scores_all = np.array(y_scores_all)\n",
    "y_test_all = np.array(y_test_all)\n",
    "s_test_all = np.array(s_test_all)\n",
    "\n",
    "threshold = np.quantile(y_scores_all, np.mean(~y_test_all))\n",
    "y_pred_all = y_scores_all > threshold\n",
    "\n",
    "np.save('cache/y_score_randomforest.npy', y_scores_all)\n",
    "np.save('cache/y_true_randomforest.npy', y_test_all)\n",
    "np.save('cache/s_randomforest.npy', s_test_all)"
   ]
  },
  {
   "cell_type": "code",
   "execution_count": 15,
   "id": "a97e7516-6950-4db2-b042-cb1ac1de0446",
   "metadata": {
    "execution": {
     "iopub.execute_input": "2022-02-07T13:18:11.530378Z",
     "iopub.status.busy": "2022-02-07T13:18:11.530243Z",
     "iopub.status.idle": "2022-02-07T13:18:13.044236Z",
     "shell.execute_reply": "2022-02-07T13:18:13.043245Z",
     "shell.execute_reply.started": "2022-02-07T13:18:11.530360Z"
    },
    "tags": []
   },
   "outputs": [
    {
     "data": {
      "text/plain": [
       "Text(0, 0.5, '$P(x > Z)$')"
      ]
     },
     "execution_count": 15,
     "metadata": {},
     "output_type": "execute_result"
    },
    {
     "data": {
      "image/png": "[encoded data removed]",
      "text/plain": [
       "<Figure size 347.04x231.36 with 1 Axes>"
      ]
     },
     "metadata": {
      "needs_background": "light"
     },
     "output_type": "display_data"
    }
   ],
   "source": [
    "fig, ax = plt.subplots(figsize=(4.82,4.82*(2/3)), constrained_layout=True)\n",
    "y_scores_sorted = np.sort(y_scores_all)\n",
    "y1 = 1. * np.arange(len(y_scores_sorted)) / (len(y_scores_sorted) - 1)\n",
    "y_scores_sorted_b = np.sort(y_scores_all[s_test_all])\n",
    "y2 = 1. * np.arange(len(y_scores_sorted_b)) / (len(y_scores_sorted_b) - 1)\n",
    "y_scores_sorted_w = np.sort(y_scores_all[~s_test_all])\n",
    "y3 = 1. * np.arange(len(y_scores_sorted_w)) / (len(y_scores_sorted_w) - 1)\n",
    "\n",
    "threshold_idx = np.argmax(np.sort(y_scores_all) > threshold)\n",
    "ax.text(threshold+.005, .1, rf\"$t={threshold:.02}$\")\n",
    "ax.fill_between(y_scores_sorted[:threshold_idx], y1[:threshold_idx], color='red', label=r'$\\^y = 0$')\n",
    "ax.fill_between(y_scores_sorted[threshold_idx:], y1[threshold_idx:], color='green', label=r'$\\^y = 1$')\n",
    "ax.plot(y_scores_sorted_b, y2, color='black', label=r'$\\^y_\\mathrm{black}$')\n",
    "ax.plot(y_scores_sorted_w, y3, color='blue', label=r'$\\^y_\\mathrm{white}$')\n",
    "\n",
    "ax.vlines(threshold, 0, y1[threshold_idx], color='black', ls=':')\n",
    "ax.hlines(y1[threshold_idx], 0, threshold, color='black', ls=':')\n",
    "ax.legend(loc='lower right')\n",
    "ax.xaxis.set_ticks_position('both')\n",
    "ax.yaxis.set_ticks_position('both')\n",
    "ax.xaxis.set_minor_locator(MultipleLocator(.01))\n",
    "ax.yaxis.set_minor_locator(MultipleLocator(.1))\n",
    "ax.set_xlim(y_scores_sorted[0], y_scores_sorted[-1])\n",
    "ax.set_ylim(0, 1)\n",
    "ax.set_xlabel(r'$x$')\n",
    "ax.set_ylabel(r'$P(x > Z)$')\n",
    "# fig.savefig('fig/score-cdf.pdf')"
   ]
  },
  {
   "cell_type": "code",
   "execution_count": 16,
   "id": "7e224076-6658-4f28-a38a-1e074dea8d98",
   "metadata": {
    "execution": {
     "iopub.execute_input": "2022-02-07T13:18:13.045371Z",
     "iopub.status.busy": "2022-02-07T13:18:13.045250Z",
     "iopub.status.idle": "2022-02-07T13:18:13.880190Z",
     "shell.execute_reply": "2022-02-07T13:18:13.879092Z",
     "shell.execute_reply.started": "2022-02-07T13:18:13.045355Z"
    },
    "tags": []
   },
   "outputs": [
    {
     "data": {
      "image/png": "[encoded data removed]",
      "text/plain": [
       "<Figure size 1112.24x347.04 with 2 Axes>"
      ]
     },
     "metadata": {
      "needs_background": "light"
     },
     "output_type": "display_data"
    }
   ],
   "source": [
    "data_ = pd.DataFrame({'x': y_scores_all, 'ground truth': y_test_all, 'flag': np.where(s_test_all, 'black', 'white')})\n",
    "g = sns.displot(\n",
    "    data=data_, x='x', hue='ground truth', col='flag', kind='kde', hue_order=[True, False], palette=['green', 'red'], common_norm=False, fill=True, height=4.82, aspect=3/2, \n",
    "    facet_kws={'despine': False, 'xlim': (0, .6)}\n",
    ")\n",
    "# sns.despine(top=False, right=False)\n",
    "g.refline(x=threshold)\n",
    "g.set_axis_labels(r'$z$', r'$P(z)$')\n",
    "g.set_yticklabels([])\n",
    "g.set(yticks=[])\n",
    "g.axes[0][0].xaxis.set_minor_locator(MultipleLocator(.01))\n",
    "g.axes[0][0].xaxis.set_ticks_position('both')\n",
    "g.axes[0][1].xaxis.set_ticks_position('both')\n",
    "# plt.savefig('fig/score-pdf.pdf')"
   ]
  },
  {
   "cell_type": "code",
   "execution_count": 17,
   "id": "ccb84bee-66b3-4a63-ac7b-7742ba643b14",
   "metadata": {
    "execution": {
     "iopub.execute_input": "2022-02-07T13:18:13.881492Z",
     "iopub.status.busy": "2022-02-07T13:18:13.881349Z",
     "iopub.status.idle": "2022-02-07T13:18:14.308504Z",
     "shell.execute_reply": "2022-02-07T13:18:14.307494Z",
     "shell.execute_reply.started": "2022-02-07T13:18:13.881473Z"
    },
    "tags": []
   },
   "outputs": [
    {
     "data": {
      "text/html": [
       "<div>\n",
       "<style scoped>\n",
       "    .dataframe tbody tr th:only-of-type {\n",
       "        vertical-align: middle;\n",
       "    }\n",
       "\n",
       "    .dataframe tbody tr th {\n",
       "        vertical-align: top;\n",
       "    }\n",
       "\n",
       "    .dataframe thead th {\n",
       "        text-align: right;\n",
       "    }\n",
       "</style>\n",
       "<table border=\"1\" class=\"dataframe\">\n",
       "  <thead>\n",
       "    <tr style=\"text-align: right;\">\n",
       "      <th></th>\n",
       "      <th>Flag</th>\n",
       "      <th>True</th>\n",
       "      <th>Predicted</th>\n",
       "      <th>Number</th>\n",
       "      <th>Model</th>\n",
       "    </tr>\n",
       "  </thead>\n",
       "  <tbody>\n",
       "    <tr>\n",
       "      <th>0</th>\n",
       "      <td>Non-white</td>\n",
       "      <td>Non-compliant</td>\n",
       "      <td>Non-compliant</td>\n",
       "      <td>1007</td>\n",
       "      <td>Random Forest</td>\n",
       "    </tr>\n",
       "    <tr>\n",
       "      <th>1</th>\n",
       "      <td>Non-white</td>\n",
       "      <td>Compliant</td>\n",
       "      <td>Non-compliant</td>\n",
       "      <td>115</td>\n",
       "      <td>Random Forest</td>\n",
       "    </tr>\n",
       "    <tr>\n",
       "      <th>2</th>\n",
       "      <td>White</td>\n",
       "      <td>Non-compliant</td>\n",
       "      <td>Non-compliant</td>\n",
       "      <td>16683</td>\n",
       "      <td>Random Forest</td>\n",
       "    </tr>\n",
       "    <tr>\n",
       "      <th>3</th>\n",
       "      <td>White</td>\n",
       "      <td>Compliant</td>\n",
       "      <td>Non-compliant</td>\n",
       "      <td>2348</td>\n",
       "      <td>Random Forest</td>\n",
       "    </tr>\n",
       "    <tr>\n",
       "      <th>4</th>\n",
       "      <td>Non-white</td>\n",
       "      <td>Non-compliant</td>\n",
       "      <td>Compliant</td>\n",
       "      <td>327</td>\n",
       "      <td>Random Forest</td>\n",
       "    </tr>\n",
       "    <tr>\n",
       "      <th>5</th>\n",
       "      <td>Non-white</td>\n",
       "      <td>Compliant</td>\n",
       "      <td>Compliant</td>\n",
       "      <td>164</td>\n",
       "      <td>Random Forest</td>\n",
       "    </tr>\n",
       "    <tr>\n",
       "      <th>6</th>\n",
       "      <td>White</td>\n",
       "      <td>Non-compliant</td>\n",
       "      <td>Compliant</td>\n",
       "      <td>2136</td>\n",
       "      <td>Random Forest</td>\n",
       "    </tr>\n",
       "    <tr>\n",
       "      <th>7</th>\n",
       "      <td>White</td>\n",
       "      <td>Compliant</td>\n",
       "      <td>Compliant</td>\n",
       "      <td>2794</td>\n",
       "      <td>Random Forest</td>\n",
       "    </tr>\n",
       "  </tbody>\n",
       "</table>\n",
       "</div>"
      ],
      "text/plain": [
       "        Flag           True      Predicted  Number          Model\n",
       "0  Non-white  Non-compliant  Non-compliant    1007  Random Forest\n",
       "1  Non-white      Compliant  Non-compliant     115  Random Forest\n",
       "2      White  Non-compliant  Non-compliant   16683  Random Forest\n",
       "3      White      Compliant  Non-compliant    2348  Random Forest\n",
       "4  Non-white  Non-compliant      Compliant     327  Random Forest\n",
       "5  Non-white      Compliant      Compliant     164  Random Forest\n",
       "6      White  Non-compliant      Compliant    2136  Random Forest\n",
       "7      White      Compliant      Compliant    2794  Random Forest"
      ]
     },
     "metadata": {},
     "output_type": "display_data"
    }
   ],
   "source": [
    "y = y_test_all\n",
    "s = s_test_all\n",
    "y_score = y_pred_all\n",
    "\n",
    "data = np.concatenate(\n",
    "    (\n",
    "        sklearn.metrics.confusion_matrix(y[s], y_score[s], normalize=None)[:2, :], \n",
    "        sklearn.metrics.confusion_matrix(y[~s], y_score[~s], normalize=None)[:2, :]\n",
    "    ),\n",
    ")\n",
    "\n",
    "df = pd.DataFrame(\n",
    "    data, \n",
    "    index=pd.MultiIndex.from_product([['Non-white', 'White'], ['Non-compliant', 'Compliant']], names=['Flag', 'True']),\n",
    "    columns=['Non-compliant', 'Compliant']\n",
    ")\n",
    "df = (\n",
    "    df\n",
    "    .reset_index()\n",
    "    .melt(id_vars=['Flag', 'True'], var_name='Predicted', value_name='Number')\n",
    ")\n",
    "df['Model'] = 'Random Forest'\n",
    "display(df)\n",
    "df.to_pickle('cache/confusion-matrix-random-forest.pkl')"
   ]
  },
  {
   "cell_type": "code",
   "execution_count": 18,
   "id": "c74fc158-56a4-4227-9328-04a407e05229",
   "metadata": {
    "execution": {
     "iopub.execute_input": "2022-02-07T13:18:14.309995Z",
     "iopub.status.busy": "2022-02-07T13:18:14.309790Z",
     "iopub.status.idle": "2022-02-07T13:18:14.316559Z",
     "shell.execute_reply": "2022-02-07T13:18:14.315853Z",
     "shell.execute_reply.started": "2022-02-07T13:18:14.309969Z"
    },
    "tags": []
   },
   "outputs": [
    {
     "data": {
      "text/plain": [
       "array([20153,  5421])"
      ]
     },
     "execution_count": 18,
     "metadata": {},
     "output_type": "execute_result"
    }
   ],
   "source": [
    "np.bincount(y)"
   ]
  },
  {
   "cell_type": "code",
   "execution_count": 19,
   "id": "02666a99-fa90-4ccc-9747-63938a2e636c",
   "metadata": {
    "execution": {
     "iopub.execute_input": "2022-02-07T13:18:14.318186Z",
     "iopub.status.busy": "2022-02-07T13:18:14.317998Z",
     "iopub.status.idle": "2022-02-07T13:18:14.438970Z",
     "shell.execute_reply": "2022-02-07T13:18:14.437965Z",
     "shell.execute_reply.started": "2022-02-07T13:18:14.318163Z"
    },
    "tags": []
   },
   "outputs": [
    {
     "data": {
      "text/html": [
       "<div>\n",
       "<style scoped>\n",
       "    .dataframe tbody tr th:only-of-type {\n",
       "        vertical-align: middle;\n",
       "    }\n",
       "\n",
       "    .dataframe tbody tr th {\n",
       "        vertical-align: top;\n",
       "    }\n",
       "\n",
       "    .dataframe thead tr th {\n",
       "        text-align: left;\n",
       "    }\n",
       "\n",
       "    .dataframe thead tr:last-of-type th {\n",
       "        text-align: right;\n",
       "    }\n",
       "</style>\n",
       "<table border=\"1\" class=\"dataframe\">\n",
       "  <thead>\n",
       "    <tr>\n",
       "      <th>flag</th>\n",
       "      <th colspan=\"2\" halign=\"left\">black</th>\n",
       "      <th colspan=\"2\" halign=\"left\">white</th>\n",
       "    </tr>\n",
       "    <tr>\n",
       "      <th>Predicted</th>\n",
       "      <th>Compliant</th>\n",
       "      <th>Non-compliant</th>\n",
       "      <th>Compliant</th>\n",
       "      <th>Non-compliant</th>\n",
       "    </tr>\n",
       "    <tr>\n",
       "      <th>Inspection outcome</th>\n",
       "      <th></th>\n",
       "      <th></th>\n",
       "      <th></th>\n",
       "      <th></th>\n",
       "    </tr>\n",
       "  </thead>\n",
       "  <tbody>\n",
       "    <tr>\n",
       "      <th>Compliant</th>\n",
       "      <td>164</td>\n",
       "      <td>115</td>\n",
       "      <td>2794</td>\n",
       "      <td>2348</td>\n",
       "    </tr>\n",
       "    <tr>\n",
       "      <th>Non-compliant</th>\n",
       "      <td>327</td>\n",
       "      <td>1007</td>\n",
       "      <td>2136</td>\n",
       "      <td>16683</td>\n",
       "    </tr>\n",
       "  </tbody>\n",
       "</table>\n",
       "</div>"
      ],
      "text/plain": [
       "flag                   black                   white              \n",
       "Predicted          Compliant Non-compliant Compliant Non-compliant\n",
       "Inspection outcome                                                \n",
       "Compliant                164           115      2794          2348\n",
       "Non-compliant            327          1007      2136         16683"
      ]
     },
     "execution_count": 19,
     "metadata": {},
     "output_type": "execute_result"
    }
   ],
   "source": [
    "objs = [\n",
    "    pd.crosstab(\n",
    "        pd.Series(y_test_all[s_test_all ], name='Inspection outcome').replace({True: 'Compliant', False: 'Non-compliant'}), \n",
    "        pd.Series(y_pred_all[s_test_all ], name='Predicted'         ).replace({True: 'Compliant', False: 'Non-compliant'})\n",
    "    ),\n",
    "    pd.crosstab(\n",
    "        pd.Series(y_test_all[~s_test_all], name='Inspection outcome').replace({True: 'Compliant', False: 'Non-compliant'}), \n",
    "        pd.Series(y_pred_all[~s_test_all], name='Predicted'         ).replace({True: 'Compliant', False: 'Non-compliant'})\n",
    "    )\n",
    "]\n",
    "pd.concat(objs, axis=1, keys=['black', 'white'], names=['flag'])"
   ]
  },
  {
   "cell_type": "markdown",
   "id": "53bc4d42-a4d0-4170-b061-123a2589f878",
   "metadata": {},
   "source": [
    "# Determine fairness measures with prior threshold"
   ]
  },
  {
   "cell_type": "code",
   "execution_count": 20,
   "id": "4fea6887-7c88-4e4c-9ef8-fb02885dcb57",
   "metadata": {
    "execution": {
     "iopub.execute_input": "2022-02-07T13:18:14.440042Z",
     "iopub.status.busy": "2022-02-07T13:18:14.439910Z",
     "iopub.status.idle": "2022-02-07T13:18:14.601108Z",
     "shell.execute_reply": "2022-02-07T13:18:14.600403Z",
     "shell.execute_reply.started": "2022-02-07T13:18:14.440025Z"
    },
    "tags": []
   },
   "outputs": [
    {
     "data": {
      "application/vnd.jupyter.widget-view+json": {
       "model_id": "bcfbb60bef754e63b6d20fe11162d4f7",
       "version_major": 2,
       "version_minor": 0
      },
      "text/plain": [
       "  0%|          | 0/5 [00:00<?, ?it/s]"
      ]
     },
     "metadata": {},
     "output_type": "display_data"
    }
   ],
   "source": [
    "values = (0,)\n",
    "iterator = [(ortho, fold) for ortho in values for fold in range(5)]\n",
    "\n",
    "y_scores_all = {np.around(orthogonality, 1): [] for orthogonality in values}\n",
    "y_test_all = {np.around(orthogonality, 1): [] for orthogonality in values}\n",
    "s_test_all = {np.around(orthogonality, 1): [] for orthogonality in values}\n",
    "y_pred_all = {np.around(orthogonality, 1): [] for orthogonality in values}\n",
    "fairness_measures = list()\n",
    "\n",
    "for ortho, fold in tqdm(iterator):  \n",
    "    best_params_ = best_params.loc[lambda x: (x.orthogonality.round(1) == ortho) & (x.outer_fold == fold)].iloc[0]\n",
    "    max_depth = int(best_params_['max_depth'])\n",
    "    n_bins = int(best_params_['n_bins'])\n",
    "    filepath = f'models/outer_folds/{max_depth}-{ortho:.2f}-{n_bins}-{fold}.npy'\n",
    "    y_score = np.load(filepath)\n",
    "    \n",
    "    _, (_, test_idx) = outer_folds[fold]\n",
    "    assert len(y_score) == len(test_idx)\n",
    "    \n",
    "    y_test = y[test_idx]\n",
    "    s_test = s[test_idx]\n",
    "    \n",
    "    # FLIPPING!!!\n",
    "    y_scores_all[ortho].extend(1-y_score)\n",
    "    y_test_all[ortho].extend(~y_test)\n",
    "    s_test_all[ortho].extend(s_test)\n",
    "\n",
    "for ortho in values:\n",
    "    y_score = np.array(y_scores_all[ortho])\n",
    "    y_test = np.array(y_test_all[ortho])\n",
    "    s_test = np.array(s_test_all[ortho])\n",
    "    threshold = np.quantile(y_scores_all[ortho], np.mean(~y_test))\n",
    "\n",
    "    y_pred = y_score > threshold\n",
    "    ppr_w = y_pred[~s_test].mean()\n",
    "    ppr_b = y_pred[s_test].mean()\n",
    "\n",
    "    fpr_w = (y_score > threshold)[~y_test & ~s_test].mean()\n",
    "    fpr_b = (y_score > threshold)[~y_test & s_test].mean()\n",
    "    tpr_w = (y_score > threshold)[y_test & ~s_test].mean()\n",
    "    tpr_b = (y_score > threshold)[y_test & s_test].mean()\n",
    "\n",
    "    fairness_measures.append(\n",
    "        {\n",
    "            'orthogonality': ortho,\n",
    "            'positive prediction rate (white)': ppr_w,\n",
    "            'positive prediction rate (black)': ppr_b,\n",
    "            'false positive rate (white)': fpr_w,\n",
    "            'false positive rate (black)': fpr_b,\n",
    "            'true positive rate (white)': tpr_w,\n",
    "            'true positive rate (black)': tpr_b,\n",
    "            'disparate impact': abs(ppr_w - ppr_b),\n",
    "            'equalised odds': max(abs(fpr_w - fpr_b), abs(tpr_w - tpr_b))\n",
    "        }\n",
    "    )\n",
    "fairness_measures = pd.DataFrame(fairness_measures)"
   ]
  },
  {
   "cell_type": "code",
   "execution_count": 21,
   "id": "d6d02914-db4d-4025-8619-bd3912896c83",
   "metadata": {
    "execution": {
     "iopub.execute_input": "2022-02-07T13:18:14.602032Z",
     "iopub.status.busy": "2022-02-07T13:18:14.601905Z",
     "iopub.status.idle": "2022-02-07T13:18:14.753262Z",
     "shell.execute_reply": "2022-02-07T13:18:14.752412Z",
     "shell.execute_reply.started": "2022-02-07T13:18:14.602016Z"
    },
    "tags": []
   },
   "outputs": [
    {
     "data": {
      "text/html": [
       "<div>\n",
       "<style scoped>\n",
       "    .dataframe tbody tr th:only-of-type {\n",
       "        vertical-align: middle;\n",
       "    }\n",
       "\n",
       "    .dataframe tbody tr th {\n",
       "        vertical-align: top;\n",
       "    }\n",
       "\n",
       "    .dataframe thead th {\n",
       "        text-align: right;\n",
       "    }\n",
       "</style>\n",
       "<table border=\"1\" class=\"dataframe\">\n",
       "  <thead>\n",
       "    <tr style=\"text-align: right;\">\n",
       "      <th></th>\n",
       "      <th>0</th>\n",
       "    </tr>\n",
       "  </thead>\n",
       "  <tbody>\n",
       "    <tr>\n",
       "      <th>orthogonality</th>\n",
       "      <td>0.000</td>\n",
       "    </tr>\n",
       "    <tr>\n",
       "      <th>positive prediction rate (white)</th>\n",
       "      <td>0.788</td>\n",
       "    </tr>\n",
       "    <tr>\n",
       "      <th>positive prediction rate (black)</th>\n",
       "      <td>0.790</td>\n",
       "    </tr>\n",
       "    <tr>\n",
       "      <th>false positive rate (white)</th>\n",
       "      <td>0.793</td>\n",
       "    </tr>\n",
       "    <tr>\n",
       "      <th>false positive rate (black)</th>\n",
       "      <td>0.789</td>\n",
       "    </tr>\n",
       "    <tr>\n",
       "      <th>true positive rate (white)</th>\n",
       "      <td>0.786</td>\n",
       "    </tr>\n",
       "    <tr>\n",
       "      <th>true positive rate (black)</th>\n",
       "      <td>0.791</td>\n",
       "    </tr>\n",
       "    <tr>\n",
       "      <th>disparate impact</th>\n",
       "      <td>0.003</td>\n",
       "    </tr>\n",
       "    <tr>\n",
       "      <th>equalised odds</th>\n",
       "      <td>0.005</td>\n",
       "    </tr>\n",
       "  </tbody>\n",
       "</table>\n",
       "</div>"
      ],
      "text/plain": [
       "                                      0\n",
       "orthogonality                     0.000\n",
       "positive prediction rate (white)  0.788\n",
       "positive prediction rate (black)  0.790\n",
       "false positive rate (white)       0.793\n",
       "false positive rate (black)       0.789\n",
       "true positive rate (white)        0.786\n",
       "true positive rate (black)        0.791\n",
       "disparate impact                  0.003\n",
       "equalised odds                    0.005"
      ]
     },
     "execution_count": 21,
     "metadata": {},
     "output_type": "execute_result"
    }
   ],
   "source": [
    "fairness_measures.T.round(3)"
   ]
  },
  {
   "cell_type": "code",
   "execution_count": null,
   "id": "97da3634-71f1-4c67-8028-11fcd1b69255",
   "metadata": {},
   "outputs": [],
   "source": []
  }
 ],
 "metadata": {
  "kernelspec": {
   "display_name": "Python 3 (ipykernel)",
   "language": "python",
   "name": "python3"
  },
  "language_info": {
   "codemirror_mode": {
    "name": "ipython",
    "version": 3
   },
   "file_extension": ".py",
   "mimetype": "text/x-python",
   "name": "python",
   "nbconvert_exporter": "python",
   "pygments_lexer": "ipython3",
   "version": "3.10.2"
  },
  "toc-autonumbering": true,
  "toc-showtags": false
 },
 "nbformat": 4,
 "nbformat_minor": 5
}
