{
 "cells": [
  {
   "cell_type": "code",
   "execution_count": 1,
   "id": "f0c797bd-592b-46c2-9b14-b3716b755912",
   "metadata": {
    "execution": {
     "iopub.execute_input": "2022-02-16T18:12:03.715858Z",
     "iopub.status.busy": "2022-02-16T18:12:03.715582Z",
     "iopub.status.idle": "2022-02-16T18:12:05.718230Z",
     "shell.execute_reply": "2022-02-16T18:12:05.717540Z",
     "shell.execute_reply.started": "2022-02-16T18:12:03.715776Z"
    },
    "tags": []
   },
   "outputs": [],
   "source": [
    "import json\n",
    "import os\n",
    "from pathlib import Path\n",
    "import sys\n",
    "import time\n",
    "\n",
    "from IPython.display import display\n",
    "import joblib\n",
    "import matplotlib\n",
    "from matplotlib.ticker import MultipleLocator\n",
    "import matplotlib.pyplot as plt\n",
    "import numpy as np\n",
    "import pandas as pd\n",
    "import seaborn as sns\n",
    "import sklearn.ensemble\n",
    "import sklearn.feature_selection\n",
    "import sklearn.metrics\n",
    "import sklearn.model_selection\n",
    "from tqdm.auto import tqdm\n",
    "\n",
    "from run import filepath_x, filepath_y, filepath_s, filepath_performance_folds, filepath_outer_folds\n",
    "\n",
    "X = pd.read_pickle(filepath_x)\n",
    "y = pd.read_pickle(filepath_y)\n",
    "s = pd.read_pickle(filepath_s)\n",
    "outer_folds = joblib.load(filepath_outer_folds)\n"
   ]
  },
  {
   "cell_type": "markdown",
   "id": "f7370175-a518-4eda-895a-4d56957f080d",
   "metadata": {},
   "source": [
    "# Feature properties"
   ]
  },
  {
   "cell_type": "code",
   "execution_count": 3,
   "id": "4366ea2e-2faa-487f-803d-f22718f23c85",
   "metadata": {
    "execution": {
     "iopub.execute_input": "2022-02-16T18:12:05.941487Z",
     "iopub.status.busy": "2022-02-16T18:12:05.941293Z",
     "iopub.status.idle": "2022-02-16T18:12:05.947931Z",
     "shell.execute_reply": "2022-02-16T18:12:05.947333Z",
     "shell.execute_reply.started": "2022-02-16T18:12:05.941471Z"
    },
    "tags": []
   },
   "outputs": [
    {
     "name": "stdout",
     "output_type": "stream",
     "text": [
      "Total journeys where one port is missing: 53728 (1.95%)\n",
      "Total journeys where both ports are missing: 63447 (2.31%)\n"
     ]
    }
   ],
   "source": [
    "number_of_journeys = X[('number_of_journeys', 0)] - 1\n",
    "norm = int(number_of_journeys.sum())\n",
    "\n",
    "message = \"Total journeys where one port is missing\"\n",
    "value = int((X[('one_node_missing', 0)]*number_of_journeys).sum())\n",
    "print(f\"{message}: {value} ({value/norm:.2%})\")\n",
    "\n",
    "message = \"Total journeys where both ports are missing\"\n",
    "value = int((X[('both_nodes_missing', 0)]*number_of_journeys).sum())\n",
    "print(f\"{message}: {value} ({value/norm:.2%})\")"
   ]
  },
  {
   "cell_type": "markdown",
   "id": "9fe7adaa-2100-4477-8051-a1b64827d973",
   "metadata": {},
   "source": [
    "# Determine best parameters \n",
    "Determine for every value of orthogonality and for every outer fold"
   ]
  },
  {
   "cell_type": "code",
   "execution_count": 10,
   "id": "a406b6d5-4f47-4612-b96d-f173a3de2f7e",
   "metadata": {
    "execution": {
     "iopub.execute_input": "2022-02-16T18:12:14.264836Z",
     "iopub.status.busy": "2022-02-16T18:12:14.264711Z",
     "iopub.status.idle": "2022-02-16T18:12:14.280712Z",
     "shell.execute_reply": "2022-02-16T18:12:14.280041Z",
     "shell.execute_reply.started": "2022-02-16T18:12:14.264819Z"
    },
    "tags": []
   },
   "outputs": [],
   "source": [
    "best_params = (\n",
    "    pd.read_pickle(filepath_performance_folds)\n",
    "    .groupby(['orthogonality', 'outer_fold', 'max_depth', 'n_bins'], as_index=False)\n",
    "    .agg({'auc_y': 'mean', 'auc_s': 'mean'})\n",
    "    .sort_values('auc_y', ascending=False)\n",
    "    .drop_duplicates(subset=['orthogonality', 'outer_fold'])\n",
    "    .sort_values(['orthogonality', 'outer_fold'])\n",
    "    [['orthogonality', 'outer_fold', 'max_depth', 'n_bins']]\n",
    ")"
   ]
  },
  {
   "cell_type": "markdown",
   "id": "966a97d9-ca7d-4489-8889-41de525a6213",
   "metadata": {},
   "source": [
    "# Measure total performance"
   ]
  },
  {
   "cell_type": "code",
   "execution_count": 11,
   "id": "4f11c77a-ddaa-4756-b3fa-11bf87848af4",
   "metadata": {
    "execution": {
     "iopub.execute_input": "2022-02-16T18:12:14.281487Z",
     "iopub.status.busy": "2022-02-16T18:12:14.281379Z",
     "iopub.status.idle": "2022-02-16T18:12:14.538460Z",
     "shell.execute_reply": "2022-02-16T18:12:14.537821Z",
     "shell.execute_reply.started": "2022-02-16T18:12:14.281473Z"
    },
    "tags": []
   },
   "outputs": [
    {
     "data": {
      "application/vnd.jupyter.widget-view+json": {
       "model_id": "f3a182feec9e48df917d19088857c16c",
       "version_major": 2,
       "version_minor": 0
      },
      "text/plain": [
       "  0%|          | 0/55 [00:00<?, ?it/s]"
      ]
     },
     "metadata": {},
     "output_type": "display_data"
    }
   ],
   "source": [
    "total_performance_before_aggregation = list()\n",
    "for p in tqdm(list(best_params.itertuples())):\n",
    "    y_score = np.load(f'models/outer_folds/{p.max_depth}-{p.orthogonality:.2f}-{p.n_bins}-{p.outer_fold}.npy')\n",
    "    \n",
    "    _, (_, test_idx) = outer_folds[p.outer_fold]\n",
    "    y_test = y[test_idx]\n",
    "    s_test = s[test_idx]\n",
    "    auc_y = sklearn.metrics.roc_auc_score(y_test, y_score)\n",
    "    auc_s = sklearn.metrics.roc_auc_score(s_test, y_score)\n",
    "    auc_s = max(auc_s, 1-auc_s)    \n",
    "    \n",
    "    total_performance_before_aggregation.append(\n",
    "        dict(orthogonality=p.orthogonality, auc_y=auc_y, auc_s=auc_s, \n",
    "             fold=p.outer_fold)\n",
    "    )\n",
    "total_performance_before_aggregation = pd.DataFrame(total_performance_before_aggregation)\n",
    "total_performance = (\n",
    "    total_performance_before_aggregation\n",
    "    .groupby(['orthogonality'])\n",
    "    .agg(auc_y=('auc_y', 'mean'), auc_y_std=('auc_y', 'std'),\n",
    "         auc_s=('auc_s', 'mean'), auc_s_std=('auc_s', 'std'))\n",
    ")"
   ]
  },
  {
   "cell_type": "code",
   "execution_count": 12,
   "id": "8ee0da37-435b-47eb-b003-e5d5799db4b9",
   "metadata": {
    "execution": {
     "iopub.execute_input": "2022-02-16T18:12:14.540187Z",
     "iopub.status.busy": "2022-02-16T18:12:14.540078Z",
     "iopub.status.idle": "2022-02-16T18:12:14.549325Z",
     "shell.execute_reply": "2022-02-16T18:12:14.548852Z",
     "shell.execute_reply.started": "2022-02-16T18:12:14.540174Z"
    },
    "tags": []
   },
   "outputs": [
    {
     "data": {
      "text/html": [
       "<div>\n",
       "<style scoped>\n",
       "    .dataframe tbody tr th:only-of-type {\n",
       "        vertical-align: middle;\n",
       "    }\n",
       "\n",
       "    .dataframe tbody tr th {\n",
       "        vertical-align: top;\n",
       "    }\n",
       "\n",
       "    .dataframe thead th {\n",
       "        text-align: right;\n",
       "    }\n",
       "</style>\n",
       "<table border=\"1\" class=\"dataframe\">\n",
       "  <thead>\n",
       "    <tr style=\"text-align: right;\">\n",
       "      <th></th>\n",
       "      <th>auc_y</th>\n",
       "      <th>auc_y_std</th>\n",
       "      <th>auc_s</th>\n",
       "      <th>auc_s_std</th>\n",
       "    </tr>\n",
       "    <tr>\n",
       "      <th>orthogonality</th>\n",
       "      <th></th>\n",
       "      <th></th>\n",
       "      <th></th>\n",
       "      <th></th>\n",
       "    </tr>\n",
       "  </thead>\n",
       "  <tbody>\n",
       "    <tr>\n",
       "      <th>0.0</th>\n",
       "      <td>0.814402</td>\n",
       "      <td>0.003850</td>\n",
       "      <td>0.626898</td>\n",
       "      <td>0.013815</td>\n",
       "    </tr>\n",
       "    <tr>\n",
       "      <th>0.1</th>\n",
       "      <td>0.813765</td>\n",
       "      <td>0.003883</td>\n",
       "      <td>0.617525</td>\n",
       "      <td>0.012643</td>\n",
       "    </tr>\n",
       "    <tr>\n",
       "      <th>0.2</th>\n",
       "      <td>0.812861</td>\n",
       "      <td>0.005782</td>\n",
       "      <td>0.607162</td>\n",
       "      <td>0.013119</td>\n",
       "    </tr>\n",
       "    <tr>\n",
       "      <th>0.3</th>\n",
       "      <td>0.807987</td>\n",
       "      <td>0.003998</td>\n",
       "      <td>0.597155</td>\n",
       "      <td>0.012933</td>\n",
       "    </tr>\n",
       "    <tr>\n",
       "      <th>0.4</th>\n",
       "      <td>0.803892</td>\n",
       "      <td>0.006532</td>\n",
       "      <td>0.582603</td>\n",
       "      <td>0.013076</td>\n",
       "    </tr>\n",
       "    <tr>\n",
       "      <th>0.5</th>\n",
       "      <td>0.801250</td>\n",
       "      <td>0.004161</td>\n",
       "      <td>0.569496</td>\n",
       "      <td>0.010762</td>\n",
       "    </tr>\n",
       "    <tr>\n",
       "      <th>0.6</th>\n",
       "      <td>0.788647</td>\n",
       "      <td>0.007466</td>\n",
       "      <td>0.552828</td>\n",
       "      <td>0.014602</td>\n",
       "    </tr>\n",
       "    <tr>\n",
       "      <th>0.7</th>\n",
       "      <td>0.776182</td>\n",
       "      <td>0.008163</td>\n",
       "      <td>0.537640</td>\n",
       "      <td>0.010588</td>\n",
       "    </tr>\n",
       "    <tr>\n",
       "      <th>0.8</th>\n",
       "      <td>0.766792</td>\n",
       "      <td>0.008514</td>\n",
       "      <td>0.529537</td>\n",
       "      <td>0.011115</td>\n",
       "    </tr>\n",
       "    <tr>\n",
       "      <th>0.9</th>\n",
       "      <td>0.748119</td>\n",
       "      <td>0.003143</td>\n",
       "      <td>0.524257</td>\n",
       "      <td>0.012370</td>\n",
       "    </tr>\n",
       "    <tr>\n",
       "      <th>1.0</th>\n",
       "      <td>0.500000</td>\n",
       "      <td>0.000000</td>\n",
       "      <td>0.500000</td>\n",
       "      <td>0.000000</td>\n",
       "    </tr>\n",
       "  </tbody>\n",
       "</table>\n",
       "</div>"
      ],
      "text/plain": [
       "                  auc_y  auc_y_std     auc_s  auc_s_std\n",
       "orthogonality                                          \n",
       "0.0            0.814402   0.003850  0.626898   0.013815\n",
       "0.1            0.813765   0.003883  0.617525   0.012643\n",
       "0.2            0.812861   0.005782  0.607162   0.013119\n",
       "0.3            0.807987   0.003998  0.597155   0.012933\n",
       "0.4            0.803892   0.006532  0.582603   0.013076\n",
       "0.5            0.801250   0.004161  0.569496   0.010762\n",
       "0.6            0.788647   0.007466  0.552828   0.014602\n",
       "0.7            0.776182   0.008163  0.537640   0.010588\n",
       "0.8            0.766792   0.008514  0.529537   0.011115\n",
       "0.9            0.748119   0.003143  0.524257   0.012370\n",
       "1.0            0.500000   0.000000  0.500000   0.000000"
      ]
     },
     "execution_count": 12,
     "metadata": {},
     "output_type": "execute_result"
    }
   ],
   "source": [
    "total_performance"
   ]
  },
  {
   "cell_type": "code",
   "execution_count": 13,
   "id": "1e74e935-fc19-45d0-99be-5e430bf08bb0",
   "metadata": {
    "execution": {
     "iopub.execute_input": "2022-02-16T18:12:14.549992Z",
     "iopub.status.busy": "2022-02-16T18:12:14.549894Z",
     "iopub.status.idle": "2022-02-16T18:12:15.267383Z",
     "shell.execute_reply": "2022-02-16T18:12:15.266825Z",
     "shell.execute_reply.started": "2022-02-16T18:12:14.549980Z"
    },
    "tags": []
   },
   "outputs": [
    {
     "data": {
      "image/png": "[encoded data removed]",
      "text/plain": [
       "<Figure size 347.04x231.36 with 1 Axes>"
      ]
     },
     "metadata": {
      "needs_background": "light"
     },
     "output_type": "display_data"
    }
   ],
   "source": [
    "fig, ax = plt.subplots(figsize=(4.82,4.82*(2/3)), constrained_layout=True)\n",
    "ax.errorbar(data=total_performance,x='auc_s', y='auc_y', xerr='auc_s_std', yerr='auc_y_std', ecolor='red', elinewidth=2, capsize=2, marker='o')\n",
    "ax.xaxis.set_minor_locator(MultipleLocator(.01))\n",
    "ax.yaxis.set_minor_locator(MultipleLocator(.01))\n",
    "ax.xaxis.set_ticks_position('both')\n",
    "ax.yaxis.set_ticks_position('both')\n",
    "ax.set_xlim(.5)\n",
    "ax.set_ylim(.5)\n",
    "ax.set_xlabel(r'$\\mathrm{AUC}_S$')\n",
    "ax.set_ylabel(r'$\\mathrm{AUC}_Y$');\n",
    "fig.savefig('fig/auc-plot.pdf')"
   ]
  },
  {
   "cell_type": "markdown",
   "id": "f5008f25-035f-4cd6-b5cc-50186ee96d7d",
   "metadata": {},
   "source": [
    "# Determine $\\Theta^\\ast$"
   ]
  },
  {
   "cell_type": "code",
   "execution_count": 14,
   "id": "06227789-4ffa-41d4-ab1e-c38b462fd4ab",
   "metadata": {
    "execution": {
     "iopub.execute_input": "2022-02-16T18:12:15.268257Z",
     "iopub.status.busy": "2022-02-16T18:12:15.268146Z",
     "iopub.status.idle": "2022-02-16T18:12:15.840534Z",
     "shell.execute_reply": "2022-02-16T18:12:15.839936Z",
     "shell.execute_reply.started": "2022-02-16T18:12:15.268242Z"
    },
    "tags": []
   },
   "outputs": [
    {
     "data": {
      "image/png": "[encoded data removed]",
      "text/plain": [
       "<Figure size 347.04x231.36 with 1 Axes>"
      ]
     },
     "metadata": {
      "needs_background": "light"
     },
     "output_type": "display_data"
    }
   ],
   "source": [
    "fig, ax = plt.subplots(figsize=(4.82,4.82*(2/3)), constrained_layout=True)\n",
    "objective = total_performance.auc_y-total_performance.auc_s\n",
    "ortho_star = (total_performance.auc_y-total_performance.auc_s).idxmax()\n",
    "objective_star = objective.max()\n",
    "objective.plot(marker='o', ax=ax)\n",
    "ax.scatter(ortho_star, objective_star, marker='o', c='C1', s=200)\n",
    "ax.vlines(ortho_star, 0, objective_star, color='black', ls=':')\n",
    "ax.xaxis.set_ticks_position('both')\n",
    "ax.yaxis.set_ticks_position('both')\n",
    "ax.xaxis.set_minor_locator(MultipleLocator(.01))\n",
    "ax.xaxis.set_major_locator(MultipleLocator(.1))\n",
    "ax.yaxis.set_minor_locator(MultipleLocator(.01))\n",
    "ax.set_xlim(0, 1)\n",
    "ax.set_ylim(0)\n",
    "ax.set_xlabel(r'$\\Theta$')\n",
    "ax.set_ylabel(r'$\\mathrm{AUC}_Y - \\mathrm{AUC}_S$')\n",
    "fig.savefig('fig/objective.pdf')"
   ]
  },
  {
   "cell_type": "markdown",
   "id": "a45167e6-e196-4fa2-af4d-18e9b32d1589",
   "metadata": {},
   "source": [
    "# Determine $\\hat y$ and threshold"
   ]
  },
  {
   "cell_type": "code",
   "execution_count": 15,
   "id": "ba8c52bf-ddae-44ef-b48e-0d418c6b0857",
   "metadata": {
    "execution": {
     "iopub.execute_input": "2022-02-16T18:12:15.841518Z",
     "iopub.status.busy": "2022-02-16T18:12:15.841320Z",
     "iopub.status.idle": "2022-02-16T18:12:15.870120Z",
     "shell.execute_reply": "2022-02-16T18:12:15.869638Z",
     "shell.execute_reply.started": "2022-02-16T18:12:15.841501Z"
    },
    "tags": []
   },
   "outputs": [
    {
     "data": {
      "application/vnd.jupyter.widget-view+json": {
       "model_id": "3f44e335576a4658b2dd36577d137723",
       "version_major": 2,
       "version_minor": 0
      },
      "text/plain": [
       "  0%|          | 0/5 [00:00<?, ?it/s]"
      ]
     },
     "metadata": {},
     "output_type": "display_data"
    }
   ],
   "source": [
    "iterator = list(best_params.loc[lambda x: x.orthogonality == ortho_star].itertuples())\n",
    "\n",
    "y_scores_all = list()\n",
    "y_test_all = list()\n",
    "s_test_all = list()\n",
    "for p in tqdm(iterator): \n",
    "    y_score = np.load(f'models/outer_folds/{p.max_depth}-{p.orthogonality:.2f}-{p.n_bins}-{p.outer_fold}.npy')\n",
    "    \n",
    "    _, (_, test_idx) = outer_folds[p.outer_fold]\n",
    "    \n",
    "    y_test = y[test_idx]\n",
    "    s_test = s[test_idx]\n",
    "    \n",
    "    # FLIPPING!!!\n",
    "    y_scores_all.extend(1-y_score)\n",
    "    y_test_all.extend(~y_test)\n",
    "    \n",
    "    s_test_all.extend(s_test)\n",
    "    \n",
    "y_scores_all = np.array(y_scores_all)\n",
    "y_test_all = np.array(y_test_all)\n",
    "s_test_all = np.array(s_test_all)\n",
    "\n",
    "threshold = np.quantile(y_scores_all, np.mean(~y_test_all))\n",
    "y_pred_all = y_scores_all > threshold"
   ]
  },
  {
   "cell_type": "code",
   "execution_count": 16,
   "id": "a97e7516-6950-4db2-b042-cb1ac1de0446",
   "metadata": {
    "execution": {
     "iopub.execute_input": "2022-02-16T18:12:15.870885Z",
     "iopub.status.busy": "2022-02-16T18:12:15.870780Z",
     "iopub.status.idle": "2022-02-16T18:12:16.543730Z",
     "shell.execute_reply": "2022-02-16T18:12:16.543068Z",
     "shell.execute_reply.started": "2022-02-16T18:12:15.870871Z"
    },
    "tags": []
   },
   "outputs": [
    {
     "data": {
      "image/png": "[encoded data removed]",
      "text/plain": [
       "<Figure size 347.04x231.36 with 1 Axes>"
      ]
     },
     "metadata": {
      "needs_background": "light"
     },
     "output_type": "display_data"
    }
   ],
   "source": [
    "fig, ax = plt.subplots(figsize=(4.82,4.82*(2/3)), constrained_layout=True)\n",
    "y_scores_sorted = np.sort(y_scores_all)\n",
    "y1 = 1. * np.arange(len(y_scores_sorted)) / (len(y_scores_sorted) - 1)\n",
    "y_scores_sorted_b = np.sort(y_scores_all[s_test_all])\n",
    "y2 = 1. * np.arange(len(y_scores_sorted_b)) / (len(y_scores_sorted_b) - 1)\n",
    "y_scores_sorted_w = np.sort(y_scores_all[~s_test_all])\n",
    "y3 = 1. * np.arange(len(y_scores_sorted_w)) / (len(y_scores_sorted_w) - 1)\n",
    "\n",
    "threshold_idx = np.argmax(np.sort(y_scores_all) > threshold)\n",
    "ax.text(threshold+.005, .1, rf\"$t={threshold:.02}$\")\n",
    "ax.fill_between(y_scores_sorted[:threshold_idx], y1[:threshold_idx], color='red', label=r'$\\^y = 0$')\n",
    "ax.fill_between(y_scores_sorted[threshold_idx:], y1[threshold_idx:], color='green', label=r'$\\^y = 1$')\n",
    "ax.plot(y_scores_sorted_b, y2, color='black', label=r'$\\^y_\\mathrm{black}$')\n",
    "ax.plot(y_scores_sorted_w, y3, color='blue', label=r'$\\^y_\\mathrm{white}$')\n",
    "\n",
    "ax.vlines(threshold, 0, y1[threshold_idx], color='black', ls=':')\n",
    "ax.hlines(y1[threshold_idx], 0, threshold, color='black', ls=':')\n",
    "ax.legend(loc='lower right')\n",
    "ax.xaxis.set_ticks_position('both')\n",
    "ax.yaxis.set_ticks_position('both')\n",
    "ax.xaxis.set_minor_locator(MultipleLocator(.01))\n",
    "ax.yaxis.set_minor_locator(MultipleLocator(.1))\n",
    "ax.set_xlim(y_scores_sorted[0], y_scores_sorted[-1])\n",
    "ax.set_ylim(0, 1)\n",
    "ax.set_xlabel(r'$x$')\n",
    "ax.set_ylabel(r'$P(x > Z)$')\n",
    "fig.savefig('fig/score-cdf.pdf')"
   ]
  },
  {
   "cell_type": "code",
   "execution_count": 17,
   "id": "7e224076-6658-4f28-a38a-1e074dea8d98",
   "metadata": {
    "execution": {
     "iopub.execute_input": "2022-02-16T18:12:16.544706Z",
     "iopub.status.busy": "2022-02-16T18:12:16.544587Z",
     "iopub.status.idle": "2022-02-16T18:12:17.474678Z",
     "shell.execute_reply": "2022-02-16T18:12:17.473833Z",
     "shell.execute_reply.started": "2022-02-16T18:12:16.544691Z"
    },
    "tags": []
   },
   "outputs": [
    {
     "data": {
      "image/png": "[encoded data removed]",
      "text/plain": [
       "<Figure size 1112.24x347.04 with 2 Axes>"
      ]
     },
     "metadata": {
      "needs_background": "light"
     },
     "output_type": "display_data"
    }
   ],
   "source": [
    "data_ = pd.DataFrame({'x': y_scores_all, 'ground truth': y_test_all, 'flag': np.where(s_test_all, 'black', 'white')})\n",
    "g = sns.displot(\n",
    "    data=data_, x='x', hue='ground truth', col='flag', kind='kde', hue_order=[True, False], palette=['green', 'red'], common_norm=False, fill=True, height=4.82, aspect=3/2, \n",
    "    facet_kws={'despine': False, 'xlim': (0, .6)}\n",
    ")\n",
    "# sns.despine(top=False, right=False)\n",
    "g.refline(x=threshold)\n",
    "g.set_axis_labels(r'$z$', r'$P(z)$')\n",
    "g.set_yticklabels([])\n",
    "g.set(yticks=[])\n",
    "g.axes[0][0].xaxis.set_minor_locator(MultipleLocator(.01))\n",
    "g.axes[0][0].xaxis.set_ticks_position('both')\n",
    "g.axes[0][1].xaxis.set_ticks_position('both')\n",
    "plt.savefig('fig/score-pdf.pdf')"
   ]
  },
  {
   "cell_type": "code",
   "execution_count": 18,
   "id": "02666a99-fa90-4ccc-9747-63938a2e636c",
   "metadata": {
    "execution": {
     "iopub.execute_input": "2022-02-16T18:12:17.475624Z",
     "iopub.status.busy": "2022-02-16T18:12:17.475495Z",
     "iopub.status.idle": "2022-02-16T18:12:17.501006Z",
     "shell.execute_reply": "2022-02-16T18:12:17.500377Z",
     "shell.execute_reply.started": "2022-02-16T18:12:17.475609Z"
    },
    "tags": []
   },
   "outputs": [
    {
     "data": {
      "text/html": [
       "<div>\n",
       "<style scoped>\n",
       "    .dataframe tbody tr th:only-of-type {\n",
       "        vertical-align: middle;\n",
       "    }\n",
       "\n",
       "    .dataframe tbody tr th {\n",
       "        vertical-align: top;\n",
       "    }\n",
       "\n",
       "    .dataframe thead tr th {\n",
       "        text-align: left;\n",
       "    }\n",
       "\n",
       "    .dataframe thead tr:last-of-type th {\n",
       "        text-align: right;\n",
       "    }\n",
       "</style>\n",
       "<table border=\"1\" class=\"dataframe\">\n",
       "  <thead>\n",
       "    <tr>\n",
       "      <th>flag</th>\n",
       "      <th colspan=\"2\" halign=\"left\">black</th>\n",
       "      <th colspan=\"2\" halign=\"left\">white</th>\n",
       "    </tr>\n",
       "    <tr>\n",
       "      <th>Predicted</th>\n",
       "      <th>Compliant</th>\n",
       "      <th>Non-compliant</th>\n",
       "      <th>Compliant</th>\n",
       "      <th>Non-compliant</th>\n",
       "    </tr>\n",
       "    <tr>\n",
       "      <th>Inspection outcome</th>\n",
       "      <th></th>\n",
       "      <th></th>\n",
       "      <th></th>\n",
       "      <th></th>\n",
       "    </tr>\n",
       "  </thead>\n",
       "  <tbody>\n",
       "    <tr>\n",
       "      <th>Compliant</th>\n",
       "      <td>143</td>\n",
       "      <td>136</td>\n",
       "      <td>2519</td>\n",
       "      <td>2623</td>\n",
       "    </tr>\n",
       "    <tr>\n",
       "      <th>Non-compliant</th>\n",
       "      <td>233</td>\n",
       "      <td>1101</td>\n",
       "      <td>2526</td>\n",
       "      <td>16293</td>\n",
       "    </tr>\n",
       "  </tbody>\n",
       "</table>\n",
       "</div>"
      ],
      "text/plain": [
       "flag                   black                   white              \n",
       "Predicted          Compliant Non-compliant Compliant Non-compliant\n",
       "Inspection outcome                                                \n",
       "Compliant                143           136      2519          2623\n",
       "Non-compliant            233          1101      2526         16293"
      ]
     },
     "execution_count": 18,
     "metadata": {},
     "output_type": "execute_result"
    }
   ],
   "source": [
    "objs = [\n",
    "    pd.crosstab(\n",
    "        pd.Series(y_test_all[s_test_all ], name='Inspection outcome').replace({True: 'Compliant', False: 'Non-compliant'}), \n",
    "        pd.Series(y_pred_all[s_test_all ], name='Predicted'         ).replace({True: 'Compliant', False: 'Non-compliant'})\n",
    "    ),\n",
    "    pd.crosstab(\n",
    "        pd.Series(y_test_all[~s_test_all], name='Inspection outcome').replace({True: 'Compliant', False: 'Non-compliant'}), \n",
    "        pd.Series(y_pred_all[~s_test_all], name='Predicted'         ).replace({True: 'Compliant', False: 'Non-compliant'})\n",
    "    )\n",
    "]\n",
    "pd.concat(objs, axis=1, keys=['black', 'white'], names=['flag'])"
   ]
  },
  {
   "cell_type": "markdown",
   "id": "53bc4d42-a4d0-4170-b061-123a2589f878",
   "metadata": {},
   "source": [
    "# Determine fairness measures with prior threshold"
   ]
  },
  {
   "cell_type": "code",
   "execution_count": 19,
   "id": "4fea6887-7c88-4e4c-9ef8-fb02885dcb57",
   "metadata": {
    "execution": {
     "iopub.execute_input": "2022-02-16T18:12:17.501830Z",
     "iopub.status.busy": "2022-02-16T18:12:17.501722Z",
     "iopub.status.idle": "2022-02-16T18:12:18.028462Z",
     "shell.execute_reply": "2022-02-16T18:12:18.027897Z",
     "shell.execute_reply.started": "2022-02-16T18:12:17.501817Z"
    },
    "tags": []
   },
   "outputs": [
    {
     "data": {
      "application/vnd.jupyter.widget-view+json": {
       "model_id": "ee99956b969149009bfeb7a4d2679dce",
       "version_major": 2,
       "version_minor": 0
      },
      "text/plain": [
       "  0%|          | 0/55 [00:00<?, ?it/s]"
      ]
     },
     "metadata": {},
     "output_type": "display_data"
    },
    {
     "data": {
      "text/html": [
       "<div>\n",
       "<style scoped>\n",
       "    .dataframe tbody tr th:only-of-type {\n",
       "        vertical-align: middle;\n",
       "    }\n",
       "\n",
       "    .dataframe tbody tr th {\n",
       "        vertical-align: top;\n",
       "    }\n",
       "\n",
       "    .dataframe thead th {\n",
       "        text-align: right;\n",
       "    }\n",
       "</style>\n",
       "<table border=\"1\" class=\"dataframe\">\n",
       "  <thead>\n",
       "    <tr style=\"text-align: right;\">\n",
       "      <th></th>\n",
       "      <th>precision (white)</th>\n",
       "      <th>precision (non-white)</th>\n",
       "      <th>recall (white)</th>\n",
       "      <th>recall (non-white)</th>\n",
       "      <th>orthogonality</th>\n",
       "      <th>positive prediction rate (white)</th>\n",
       "      <th>positive prediction rate (non-white)</th>\n",
       "      <th>false positive rate (white)</th>\n",
       "      <th>false positive rate (non-white)</th>\n",
       "      <th>true positive rate (white)</th>\n",
       "      <th>true positive rate (non-white)</th>\n",
       "      <th>demographic parity</th>\n",
       "      <th>equalised odds</th>\n",
       "    </tr>\n",
       "  </thead>\n",
       "  <tbody>\n",
       "    <tr>\n",
       "      <th>0</th>\n",
       "      <td>0.566734</td>\n",
       "      <td>0.334012</td>\n",
       "      <td>0.543368</td>\n",
       "      <td>0.587814</td>\n",
       "      <td>0.0</td>\n",
       "      <td>0.205751</td>\n",
       "      <td>0.304402</td>\n",
       "      <td>0.113502</td>\n",
       "      <td>0.245127</td>\n",
       "      <td>0.543368</td>\n",
       "      <td>0.587814</td>\n",
       "      <td>0.098651</td>\n",
       "      <td>0.131625</td>\n",
       "    </tr>\n",
       "    <tr>\n",
       "      <th>1</th>\n",
       "      <td>0.563081</td>\n",
       "      <td>0.332632</td>\n",
       "      <td>0.541618</td>\n",
       "      <td>0.566308</td>\n",
       "      <td>0.1</td>\n",
       "      <td>0.206419</td>\n",
       "      <td>0.294482</td>\n",
       "      <td>0.114831</td>\n",
       "      <td>0.237631</td>\n",
       "      <td>0.541618</td>\n",
       "      <td>0.566308</td>\n",
       "      <td>0.088064</td>\n",
       "      <td>0.122800</td>\n",
       "    </tr>\n",
       "    <tr>\n",
       "      <th>2</th>\n",
       "      <td>0.555936</td>\n",
       "      <td>0.363636</td>\n",
       "      <td>0.537340</td>\n",
       "      <td>0.587814</td>\n",
       "      <td>0.2</td>\n",
       "      <td>0.207420</td>\n",
       "      <td>0.279603</td>\n",
       "      <td>0.117275</td>\n",
       "      <td>0.215142</td>\n",
       "      <td>0.537340</td>\n",
       "      <td>0.587814</td>\n",
       "      <td>0.072183</td>\n",
       "      <td>0.097867</td>\n",
       "    </tr>\n",
       "    <tr>\n",
       "      <th>3</th>\n",
       "      <td>0.539867</td>\n",
       "      <td>0.355204</td>\n",
       "      <td>0.522754</td>\n",
       "      <td>0.562724</td>\n",
       "      <td>0.3</td>\n",
       "      <td>0.207796</td>\n",
       "      <td>0.274024</td>\n",
       "      <td>0.121739</td>\n",
       "      <td>0.213643</td>\n",
       "      <td>0.522754</td>\n",
       "      <td>0.562724</td>\n",
       "      <td>0.066228</td>\n",
       "      <td>0.091905</td>\n",
       "    </tr>\n",
       "    <tr>\n",
       "      <th>4</th>\n",
       "      <td>0.531575</td>\n",
       "      <td>0.366906</td>\n",
       "      <td>0.517308</td>\n",
       "      <td>0.548387</td>\n",
       "      <td>0.4</td>\n",
       "      <td>0.208839</td>\n",
       "      <td>0.258524</td>\n",
       "      <td>0.124555</td>\n",
       "      <td>0.197901</td>\n",
       "      <td>0.517308</td>\n",
       "      <td>0.548387</td>\n",
       "      <td>0.049685</td>\n",
       "      <td>0.073346</td>\n",
       "    </tr>\n",
       "    <tr>\n",
       "      <th>5</th>\n",
       "      <td>0.528791</td>\n",
       "      <td>0.380597</td>\n",
       "      <td>0.516142</td>\n",
       "      <td>0.548387</td>\n",
       "      <td>0.5</td>\n",
       "      <td>0.209465</td>\n",
       "      <td>0.249225</td>\n",
       "      <td>0.125671</td>\n",
       "      <td>0.186657</td>\n",
       "      <td>0.516142</td>\n",
       "      <td>0.548387</td>\n",
       "      <td>0.039760</td>\n",
       "      <td>0.060986</td>\n",
       "    </tr>\n",
       "    <tr>\n",
       "      <th>6</th>\n",
       "      <td>0.512841</td>\n",
       "      <td>0.376884</td>\n",
       "      <td>0.500972</td>\n",
       "      <td>0.537634</td>\n",
       "      <td>0.6</td>\n",
       "      <td>0.209632</td>\n",
       "      <td>0.246745</td>\n",
       "      <td>0.130028</td>\n",
       "      <td>0.185907</td>\n",
       "      <td>0.500972</td>\n",
       "      <td>0.537634</td>\n",
       "      <td>0.037113</td>\n",
       "      <td>0.055879</td>\n",
       "    </tr>\n",
       "    <tr>\n",
       "      <th>7</th>\n",
       "      <td>0.499306</td>\n",
       "      <td>0.380319</td>\n",
       "      <td>0.489887</td>\n",
       "      <td>0.512545</td>\n",
       "      <td>0.7</td>\n",
       "      <td>0.210550</td>\n",
       "      <td>0.233106</td>\n",
       "      <td>0.134226</td>\n",
       "      <td>0.174663</td>\n",
       "      <td>0.489887</td>\n",
       "      <td>0.512545</td>\n",
       "      <td>0.022556</td>\n",
       "      <td>0.040437</td>\n",
       "    </tr>\n",
       "    <tr>\n",
       "      <th>8</th>\n",
       "      <td>0.486572</td>\n",
       "      <td>0.375350</td>\n",
       "      <td>0.479191</td>\n",
       "      <td>0.480287</td>\n",
       "      <td>0.8</td>\n",
       "      <td>0.211343</td>\n",
       "      <td>0.221327</td>\n",
       "      <td>0.138158</td>\n",
       "      <td>0.167166</td>\n",
       "      <td>0.479191</td>\n",
       "      <td>0.480287</td>\n",
       "      <td>0.009983</td>\n",
       "      <td>0.029008</td>\n",
       "    </tr>\n",
       "    <tr>\n",
       "      <th>9</th>\n",
       "      <td>0.483406</td>\n",
       "      <td>0.362117</td>\n",
       "      <td>0.475885</td>\n",
       "      <td>0.465950</td>\n",
       "      <td>0.9</td>\n",
       "      <td>0.211260</td>\n",
       "      <td>0.222567</td>\n",
       "      <td>0.138955</td>\n",
       "      <td>0.171664</td>\n",
       "      <td>0.475885</td>\n",
       "      <td>0.465950</td>\n",
       "      <td>0.011307</td>\n",
       "      <td>0.032709</td>\n",
       "    </tr>\n",
       "    <tr>\n",
       "      <th>10</th>\n",
       "      <td>0.214524</td>\n",
       "      <td>0.173375</td>\n",
       "      <td>0.199922</td>\n",
       "      <td>0.200717</td>\n",
       "      <td>1.0</td>\n",
       "      <td>0.199992</td>\n",
       "      <td>0.200248</td>\n",
       "      <td>0.200011</td>\n",
       "      <td>0.200150</td>\n",
       "      <td>0.199922</td>\n",
       "      <td>0.200717</td>\n",
       "      <td>0.000256</td>\n",
       "      <td>0.000795</td>\n",
       "    </tr>\n",
       "  </tbody>\n",
       "</table>\n",
       "</div>"
      ],
      "text/plain": [
       "    precision (white)  precision (non-white)  recall (white)  \\\n",
       "0            0.566734               0.334012        0.543368   \n",
       "1            0.563081               0.332632        0.541618   \n",
       "2            0.555936               0.363636        0.537340   \n",
       "3            0.539867               0.355204        0.522754   \n",
       "4            0.531575               0.366906        0.517308   \n",
       "5            0.528791               0.380597        0.516142   \n",
       "6            0.512841               0.376884        0.500972   \n",
       "7            0.499306               0.380319        0.489887   \n",
       "8            0.486572               0.375350        0.479191   \n",
       "9            0.483406               0.362117        0.475885   \n",
       "10           0.214524               0.173375        0.199922   \n",
       "\n",
       "    recall (non-white)  orthogonality  positive prediction rate (white)  \\\n",
       "0             0.587814            0.0                          0.205751   \n",
       "1             0.566308            0.1                          0.206419   \n",
       "2             0.587814            0.2                          0.207420   \n",
       "3             0.562724            0.3                          0.207796   \n",
       "4             0.548387            0.4                          0.208839   \n",
       "5             0.548387            0.5                          0.209465   \n",
       "6             0.537634            0.6                          0.209632   \n",
       "7             0.512545            0.7                          0.210550   \n",
       "8             0.480287            0.8                          0.211343   \n",
       "9             0.465950            0.9                          0.211260   \n",
       "10            0.200717            1.0                          0.199992   \n",
       "\n",
       "    positive prediction rate (non-white)  false positive rate (white)  \\\n",
       "0                               0.304402                     0.113502   \n",
       "1                               0.294482                     0.114831   \n",
       "2                               0.279603                     0.117275   \n",
       "3                               0.274024                     0.121739   \n",
       "4                               0.258524                     0.124555   \n",
       "5                               0.249225                     0.125671   \n",
       "6                               0.246745                     0.130028   \n",
       "7                               0.233106                     0.134226   \n",
       "8                               0.221327                     0.138158   \n",
       "9                               0.222567                     0.138955   \n",
       "10                              0.200248                     0.200011   \n",
       "\n",
       "    false positive rate (non-white)  true positive rate (white)  \\\n",
       "0                          0.245127                    0.543368   \n",
       "1                          0.237631                    0.541618   \n",
       "2                          0.215142                    0.537340   \n",
       "3                          0.213643                    0.522754   \n",
       "4                          0.197901                    0.517308   \n",
       "5                          0.186657                    0.516142   \n",
       "6                          0.185907                    0.500972   \n",
       "7                          0.174663                    0.489887   \n",
       "8                          0.167166                    0.479191   \n",
       "9                          0.171664                    0.475885   \n",
       "10                         0.200150                    0.199922   \n",
       "\n",
       "    true positive rate (non-white)  demographic parity  equalised odds  \n",
       "0                         0.587814            0.098651        0.131625  \n",
       "1                         0.566308            0.088064        0.122800  \n",
       "2                         0.587814            0.072183        0.097867  \n",
       "3                         0.562724            0.066228        0.091905  \n",
       "4                         0.548387            0.049685        0.073346  \n",
       "5                         0.548387            0.039760        0.060986  \n",
       "6                         0.537634            0.037113        0.055879  \n",
       "7                         0.512545            0.022556        0.040437  \n",
       "8                         0.480287            0.009983        0.029008  \n",
       "9                         0.465950            0.011307        0.032709  \n",
       "10                        0.200717            0.000256        0.000795  "
      ]
     },
     "execution_count": 19,
     "metadata": {},
     "output_type": "execute_result"
    }
   ],
   "source": [
    "values = [np.around(ortho, 1) for ortho in np.linspace(0, 1, 11)]\n",
    "iterator = [(ortho, fold) for ortho in values for fold in range(5)]\n",
    "\n",
    "y_scores_all = {np.around(orthogonality, 1): [] for orthogonality in values}\n",
    "y_test_all = {np.around(orthogonality, 1): [] for orthogonality in values}\n",
    "s_test_all = {np.around(orthogonality, 1): [] for orthogonality in values}\n",
    "y_pred_all = {np.around(orthogonality, 1): [] for orthogonality in values}\n",
    "fairness_measures = list()\n",
    "\n",
    "for ortho, fold in tqdm(iterator):  \n",
    "    best_params_ = best_params.loc[lambda x: (x.orthogonality.round(1) == ortho) & (x.outer_fold == fold)].iloc[0]\n",
    "    max_depth = int(best_params_['max_depth'])\n",
    "    n_bins = int(best_params_['n_bins'])\n",
    "    filepath = f'models/outer_folds/{max_depth}-{ortho:.2f}-{n_bins}-{fold}.npy'\n",
    "    y_score = np.load(filepath)\n",
    "    \n",
    "    _, (_, test_idx) = outer_folds[fold]\n",
    "    assert len(y_score) == len(test_idx)\n",
    "    \n",
    "    y_test = y[test_idx]\n",
    "    s_test = s[test_idx]\n",
    "    \n",
    "    # FLIPPING!!!\n",
    "    y_scores_all[ortho].extend(1-y_score)\n",
    "    y_test_all[ortho].extend(~y_test)\n",
    "    s_test_all[ortho].extend(s_test)\n",
    "\n",
    "for ortho in values:\n",
    "    y_score = np.array(y_scores_all[ortho])\n",
    "    y_test = np.array(y_test_all[ortho])\n",
    "    s_test = np.array(s_test_all[ortho])\n",
    "    threshold = np.quantile(y_scores_all[ortho], np.mean(~y_test))\n",
    "\n",
    "    y_pred = y_score > threshold\n",
    "    ppr_w = y_pred[~s_test].mean()\n",
    "    ppr_b = y_pred[s_test].mean()\n",
    "\n",
    "    fpr_w = (y_score > threshold)[~y_test & ~s_test].mean()\n",
    "    fpr_b = (y_score > threshold)[~y_test & s_test].mean()\n",
    "    tpr_w = (y_score > threshold)[y_test & ~s_test].mean()\n",
    "    tpr_b = (y_score > threshold)[y_test & s_test].mean()\n",
    "\n",
    "    fairness_measures.append(\n",
    "        {\n",
    "            'precision (white)': sklearn.metrics.precision_score(y_test[~s_test], y_pred[~s_test]),\n",
    "            'precision (non-white)': sklearn.metrics.precision_score(y_test[s_test], y_pred[s_test]),\n",
    "            'recall (white)': sklearn.metrics.recall_score(y_test[~s_test], y_pred[~s_test]),\n",
    "            'recall (non-white)': sklearn.metrics.recall_score(y_test[s_test], y_pred[s_test]),\n",
    "            'orthogonality': ortho,\n",
    "            'positive prediction rate (white)': ppr_w,\n",
    "            'positive prediction rate (non-white)': ppr_b,\n",
    "            'false positive rate (white)': fpr_w,\n",
    "            'false positive rate (non-white)': fpr_b,\n",
    "            'true positive rate (white)': tpr_w,\n",
    "            'true positive rate (non-white)': tpr_b,\n",
    "            'demographic parity': abs(ppr_w - ppr_b),\n",
    "            'equalised odds': max(abs(fpr_w - fpr_b), abs(tpr_w - tpr_b))\n",
    "        }\n",
    "    )\n",
    "fairness_measures = pd.DataFrame(fairness_measures)\n",
    "fairness_measures"
   ]
  },
  {
   "cell_type": "code",
   "execution_count": 20,
   "id": "ce8e56a7-6a31-4790-ae2d-f9e738a4666e",
   "metadata": {
    "execution": {
     "iopub.execute_input": "2022-02-16T18:12:18.029467Z",
     "iopub.status.busy": "2022-02-16T18:12:18.029349Z",
     "iopub.status.idle": "2022-02-16T18:12:19.521107Z",
     "shell.execute_reply": "2022-02-16T18:12:19.520504Z",
     "shell.execute_reply.started": "2022-02-16T18:12:18.029453Z"
    },
    "tags": []
   },
   "outputs": [
    {
     "data": {
      "image/png": "[encoded data removed]",
      "text/plain": [
       "<Figure size 331.2x288 with 5 Axes>"
      ]
     },
     "metadata": {
      "needs_background": "light"
     },
     "output_type": "display_data"
    }
   ],
   "source": [
    "size = 12\n",
    "with plt.rc_context({'font.size': 8, 'legend.fontsize': 8, 'legend.title_fontsize': 8}):\n",
    "    fig, ((ax1, ax2), (ax3, ax4)) = plt.subplots(2, 2, figsize=(4.6,4), constrained_layout=True)\n",
    "    \n",
    "    cmap = plt.cm.jet\n",
    "    cmaplist = [cmap(i) for i in range(cmap.N)]\n",
    "    cmap = matplotlib.colors.LinearSegmentedColormap.from_list('Custom cmap', cmaplist, cmap.N)\n",
    "    bounds = [-.05, .05, .15, .25, .35, .45, .55, .65, .75, .85, .95, 1.05]\n",
    "    norm = matplotlib.colors.BoundaryNorm(bounds, cmap.N)\n",
    "    \n",
    "    ax1.errorbar(data=total_performance, x='auc_s', y='auc_y', xerr='auc_s_std', yerr='auc_y_std', ecolor='red', elinewidth=2, capsize=2, color='black', lw=1)\n",
    "    sc = ax1.scatter(data=total_performance, x='auc_s', y='auc_y', c=total_performance.index, s=15, cmap=cmap, norm=norm, zorder=10)\n",
    "    clb = plt.colorbar(sc, ax=ax1, fraction=.046)\n",
    "    clb.ax.set_title(r'$\\Theta$')\n",
    "    clb.set_ticks(ticks=np.linspace(0, 1, 11), labels=['0.0 (RF)', .1, .2, .3, .4, .5, .6, r'0.7 ($\\Theta*$)', .8, .9, 1])\n",
    "    ax1.vlines(total_performance.at[ortho_star, 'auc_s'], 0, total_performance.at[ortho_star, 'auc_y'], ls=':', color='black')\n",
    "    ax1.hlines(total_performance.at[ortho_star, 'auc_y'], 0, total_performance.at[ortho_star, 'auc_s'], ls=':', color='black')\n",
    "    ax1.set_xlim(.5)\n",
    "    ax1.set_ylim(.5)\n",
    "    ax1.set_xlabel(r'$\\mathrm{AUC}_\\mathrm{S}$')\n",
    "    ax1.set_ylabel(r'$\\mathrm{AUC}_\\mathrm{Y}$')\n",
    "    ax1.xaxis.set_ticks_position('both')\n",
    "    ax1.yaxis.set_ticks_position('both')\n",
    "    ax1.xaxis.set_major_locator(MultipleLocator(.1))\n",
    "    ax1.yaxis.set_major_locator(MultipleLocator(.1))\n",
    "    ax1.xaxis.set_minor_locator(MultipleLocator(.01))\n",
    "    ax1.yaxis.set_minor_locator(MultipleLocator(.01))\n",
    "    ax1.set_box_aspect(1)\n",
    "    ax1.text(-.11, 1.05, 'A', transform=ax1.transAxes, size=size, weight='bold')\n",
    "    ax1.set_anchor('C')\n",
    "\n",
    "    ax2.plot('orthogonality', 'demographic parity', data=fairness_measures, label=r'$\\epsilon_\\mathrm{parity}$', color=cmap(.2))\n",
    "    ax2.plot('orthogonality', 'equalised odds', data=fairness_measures, label=r'$\\epsilon_\\mathrm{odds}$', color=cmap(.8))\n",
    "    ax2.set_xlim(0, 1)\n",
    "    ax2.set_ylim(0, .15)\n",
    "    ax2.set_xlabel(r'$\\Theta$')\n",
    "    ax2.xaxis.set_ticks_position('both')\n",
    "    ax2.yaxis.set_ticks_position('both')\n",
    "    ax2.xaxis.set_major_locator(MultipleLocator(.5))\n",
    "    ax2.yaxis.set_major_locator(MultipleLocator(.05))\n",
    "    ax2.xaxis.set_minor_locator(MultipleLocator(.1))\n",
    "    ax2.yaxis.set_minor_locator(MultipleLocator(.01))\n",
    "    ax2.legend(loc='upper right')\n",
    "    ax2.set_box_aspect(1)\n",
    "    ax2.text(-.11, 1.05, 'B', transform=ax2.transAxes, size=size, weight='bold')\n",
    "    ax2.axvline(.7, 0, 1, ls=':', color='black')\n",
    "    ax2.set_anchor('C')\n",
    "\n",
    "    ax3.plot('orthogonality', 'precision (white)', data=fairness_measures, marker='o', color='grey', label='White')\n",
    "    ax3.plot('orthogonality', 'precision (non-white)', data=fairness_measures, marker='x', color='black', label='Non-white')\n",
    "    ax3.set_xlim(0, 1)\n",
    "    ax3.set_ylim(.1, .6)\n",
    "    ax3.set_xlabel(r'$\\Theta$')\n",
    "    ax3.set_ylabel('Precision')\n",
    "    ax3.xaxis.set_ticks_position('both')\n",
    "    ax3.yaxis.set_ticks_position('both')\n",
    "    ax3.yaxis.set_major_formatter(matplotlib.ticker.PercentFormatter(1.))\n",
    "    ax3.xaxis.set_major_locator(MultipleLocator(.5))\n",
    "    ax3.yaxis.set_major_locator(MultipleLocator(.1))\n",
    "    ax3.xaxis.set_minor_locator(MultipleLocator(.1))\n",
    "    ax3.yaxis.set_minor_locator(MultipleLocator(.01))\n",
    "    ax3.legend(title='Flag', loc='lower center')\n",
    "    ax3.set_box_aspect(1)\n",
    "    ax3.text(-.11, 1.05, 'C', transform=ax3.transAxes, size=size, weight='bold')\n",
    "    ax3.axvline(.7, 0, 1, ls=':', color='black')\n",
    "\n",
    "    ax4.plot('orthogonality', 'recall (white)', data=fairness_measures, marker='o', color='grey', label='White')\n",
    "    ax4.plot('orthogonality', 'recall (non-white)', data=fairness_measures, marker='x', color='black', label='Non-white')\n",
    "    ax4.set_xlim(0, 1)\n",
    "    ax4.set_ylim(.1, .6)\n",
    "    ax4.set_xlabel(r'$\\Theta$')\n",
    "    ax4.set_ylabel('Recall')\n",
    "    ax4.xaxis.set_ticks_position('both')\n",
    "    ax4.yaxis.set_ticks_position('both')\n",
    "    ax4.yaxis.set_major_formatter(matplotlib.ticker.PercentFormatter(1.))\n",
    "    ax4.xaxis.set_major_locator(MultipleLocator(.5))\n",
    "    ax4.yaxis.set_major_locator(MultipleLocator(.1))\n",
    "    ax4.xaxis.set_minor_locator(MultipleLocator(.1))\n",
    "    ax4.yaxis.set_minor_locator(MultipleLocator(.01))\n",
    "    ax4.legend(title='Flag', loc='lower left')\n",
    "    ax4.set_box_aspect(1)\n",
    "    ax4.text(-.11, 1.05, 'D', transform=ax4.transAxes, size=size, weight='bold')\n",
    "    ax4.axvline(.7, 0, 1, ls=':', color='black')\n",
    "    fig.savefig('fig/fairness.pdf', bbox_inches='tight')"
   ]
  },
  {
   "cell_type": "code",
   "execution_count": 21,
   "id": "094263cb-8982-42d1-9d7b-7220ec8a58ae",
   "metadata": {
    "execution": {
     "iopub.execute_input": "2022-02-16T18:12:19.522016Z",
     "iopub.status.busy": "2022-02-16T18:12:19.521882Z",
     "iopub.status.idle": "2022-02-16T18:12:19.530019Z",
     "shell.execute_reply": "2022-02-16T18:12:19.529527Z",
     "shell.execute_reply.started": "2022-02-16T18:12:19.522001Z"
    }
   },
   "outputs": [
    {
     "data": {
      "text/html": [
       "<div>\n",
       "<style scoped>\n",
       "    .dataframe tbody tr th:only-of-type {\n",
       "        vertical-align: middle;\n",
       "    }\n",
       "\n",
       "    .dataframe tbody tr th {\n",
       "        vertical-align: top;\n",
       "    }\n",
       "\n",
       "    .dataframe thead th {\n",
       "        text-align: right;\n",
       "    }\n",
       "</style>\n",
       "<table border=\"1\" class=\"dataframe\">\n",
       "  <thead>\n",
       "    <tr style=\"text-align: right;\">\n",
       "      <th></th>\n",
       "      <th>auc_y</th>\n",
       "      <th>auc_y_std</th>\n",
       "      <th>auc_s</th>\n",
       "      <th>auc_s_std</th>\n",
       "    </tr>\n",
       "    <tr>\n",
       "      <th>orthogonality</th>\n",
       "      <th></th>\n",
       "      <th></th>\n",
       "      <th></th>\n",
       "      <th></th>\n",
       "    </tr>\n",
       "  </thead>\n",
       "  <tbody>\n",
       "    <tr>\n",
       "      <th>0.0</th>\n",
       "      <td>0.814402</td>\n",
       "      <td>0.003850</td>\n",
       "      <td>0.626898</td>\n",
       "      <td>0.013815</td>\n",
       "    </tr>\n",
       "    <tr>\n",
       "      <th>0.1</th>\n",
       "      <td>0.813765</td>\n",
       "      <td>0.003883</td>\n",
       "      <td>0.617525</td>\n",
       "      <td>0.012643</td>\n",
       "    </tr>\n",
       "    <tr>\n",
       "      <th>0.2</th>\n",
       "      <td>0.812861</td>\n",
       "      <td>0.005782</td>\n",
       "      <td>0.607162</td>\n",
       "      <td>0.013119</td>\n",
       "    </tr>\n",
       "    <tr>\n",
       "      <th>0.3</th>\n",
       "      <td>0.807987</td>\n",
       "      <td>0.003998</td>\n",
       "      <td>0.597155</td>\n",
       "      <td>0.012933</td>\n",
       "    </tr>\n",
       "    <tr>\n",
       "      <th>0.4</th>\n",
       "      <td>0.803892</td>\n",
       "      <td>0.006532</td>\n",
       "      <td>0.582603</td>\n",
       "      <td>0.013076</td>\n",
       "    </tr>\n",
       "    <tr>\n",
       "      <th>0.5</th>\n",
       "      <td>0.801250</td>\n",
       "      <td>0.004161</td>\n",
       "      <td>0.569496</td>\n",
       "      <td>0.010762</td>\n",
       "    </tr>\n",
       "    <tr>\n",
       "      <th>0.6</th>\n",
       "      <td>0.788647</td>\n",
       "      <td>0.007466</td>\n",
       "      <td>0.552828</td>\n",
       "      <td>0.014602</td>\n",
       "    </tr>\n",
       "    <tr>\n",
       "      <th>0.7</th>\n",
       "      <td>0.776182</td>\n",
       "      <td>0.008163</td>\n",
       "      <td>0.537640</td>\n",
       "      <td>0.010588</td>\n",
       "    </tr>\n",
       "    <tr>\n",
       "      <th>0.8</th>\n",
       "      <td>0.766792</td>\n",
       "      <td>0.008514</td>\n",
       "      <td>0.529537</td>\n",
       "      <td>0.011115</td>\n",
       "    </tr>\n",
       "    <tr>\n",
       "      <th>0.9</th>\n",
       "      <td>0.748119</td>\n",
       "      <td>0.003143</td>\n",
       "      <td>0.524257</td>\n",
       "      <td>0.012370</td>\n",
       "    </tr>\n",
       "    <tr>\n",
       "      <th>1.0</th>\n",
       "      <td>0.500000</td>\n",
       "      <td>0.000000</td>\n",
       "      <td>0.500000</td>\n",
       "      <td>0.000000</td>\n",
       "    </tr>\n",
       "  </tbody>\n",
       "</table>\n",
       "</div>"
      ],
      "text/plain": [
       "                  auc_y  auc_y_std     auc_s  auc_s_std\n",
       "orthogonality                                          \n",
       "0.0            0.814402   0.003850  0.626898   0.013815\n",
       "0.1            0.813765   0.003883  0.617525   0.012643\n",
       "0.2            0.812861   0.005782  0.607162   0.013119\n",
       "0.3            0.807987   0.003998  0.597155   0.012933\n",
       "0.4            0.803892   0.006532  0.582603   0.013076\n",
       "0.5            0.801250   0.004161  0.569496   0.010762\n",
       "0.6            0.788647   0.007466  0.552828   0.014602\n",
       "0.7            0.776182   0.008163  0.537640   0.010588\n",
       "0.8            0.766792   0.008514  0.529537   0.011115\n",
       "0.9            0.748119   0.003143  0.524257   0.012370\n",
       "1.0            0.500000   0.000000  0.500000   0.000000"
      ]
     },
     "execution_count": 21,
     "metadata": {},
     "output_type": "execute_result"
    }
   ],
   "source": [
    "total_performance"
   ]
  },
  {
   "cell_type": "markdown",
   "id": "8eaa7d66-66d9-4dd8-ba56-6aea569227c9",
   "metadata": {},
   "source": [
    "# Fairness measures for different $\\Theta$ and thresholds"
   ]
  },
  {
   "cell_type": "code",
   "execution_count": 22,
   "id": "8cf9866b-d852-4067-ab10-724d7ae7577f",
   "metadata": {
    "execution": {
     "iopub.execute_input": "2022-02-16T18:12:19.530680Z",
     "iopub.status.busy": "2022-02-16T18:12:19.530578Z",
     "iopub.status.idle": "2022-02-16T18:12:19.634386Z",
     "shell.execute_reply": "2022-02-16T18:12:19.633914Z",
     "shell.execute_reply.started": "2022-02-16T18:12:19.530667Z"
    },
    "tags": []
   },
   "outputs": [
    {
     "data": {
      "text/plain": [
       "orthogonality    0.0\n",
       "outer_fold       0.0\n",
       "max_depth        6.0\n",
       "n_bins           2.0\n",
       "Name: 5, dtype: float64"
      ]
     },
     "execution_count": 22,
     "metadata": {},
     "output_type": "execute_result"
    }
   ],
   "source": [
    "best_params.loc[lambda x: (x.orthogonality == 0) & (x.outer_fold == 0)].iloc[0]"
   ]
  },
  {
   "cell_type": "code",
   "execution_count": 23,
   "id": "9cf56758-e622-4a5e-a961-3bf088a25997",
   "metadata": {
    "execution": {
     "iopub.execute_input": "2022-02-16T18:12:19.635079Z",
     "iopub.status.busy": "2022-02-16T18:12:19.634979Z",
     "iopub.status.idle": "2022-02-16T18:12:20.110122Z",
     "shell.execute_reply": "2022-02-16T18:12:20.109281Z",
     "shell.execute_reply.started": "2022-02-16T18:12:19.635066Z"
    },
    "tags": []
   },
   "outputs": [
    {
     "data": {
      "application/vnd.jupyter.widget-view+json": {
       "model_id": "5cfdfdfb14d046f685955cdb3efd4a4a",
       "version_major": 2,
       "version_minor": 0
      },
      "text/plain": [
       "  0%|          | 0/125 [00:00<?, ?it/s]"
      ]
     },
     "metadata": {},
     "output_type": "display_data"
    }
   ],
   "source": [
    "values = [.1, .3, .5, .7, .9]\n",
    "iterator = [\n",
    "    (orthogonality, threshold_quantile, fold) \n",
    "    for orthogonality in values \n",
    "    for threshold_quantile in values \n",
    "    for fold in range(5)\n",
    "]\n",
    "\n",
    "y_scores_all = dict()\n",
    "y_test_all = dict()\n",
    "s_test_all = dict()\n",
    "thresholds = dict()\n",
    "y_pred_all = dict()\n",
    "fairness_measures = list()\n",
    "\n",
    "for orthogonality in values:\n",
    "    for threshold_quantile in values:      \n",
    "        y_scores_all[(orthogonality, threshold_quantile)] = list()\n",
    "        y_test_all[(orthogonality, threshold_quantile)] = list()\n",
    "        s_test_all[(orthogonality, threshold_quantile)] = list()\n",
    "\n",
    "for ortho, threshold_quantile, fold in tqdm(iterator):    \n",
    "    best_params_ = best_params.loc[lambda x: (x.orthogonality.round(1) == ortho) & (x.outer_fold == fold)].iloc[0]\n",
    "    max_depth = int(best_params_['max_depth'])\n",
    "    n_bins = int(best_params_['n_bins'])\n",
    "    filepath = f'models/outer_folds/{max_depth}-{ortho:.2f}-{n_bins}-{fold}.npy'\n",
    "    y_score = np.load(filepath)\n",
    "    \n",
    "    _, (_, test_idx) = outer_folds[fold]\n",
    "    assert len(y_score) == len(test_idx)\n",
    "    \n",
    "    y_test = y[test_idx]\n",
    "    s_test = s[test_idx]\n",
    "    assert len(y_score) == len(y_test)\n",
    "    assert len(s_test) == len(y_score)\n",
    "    \n",
    "    # FLIPPING!!!\n",
    "    y_scores_all[(ortho, threshold_quantile)].extend(1-y_score)\n",
    "    y_test_all[(ortho, threshold_quantile)].extend(~y_test)\n",
    "    \n",
    "    s_test_all[(ortho, threshold_quantile)].extend(s_test)\n",
    "\n",
    "for orthogonality in values:\n",
    "    for threshold_quantile in values: \n",
    "        i = (orthogonality, threshold_quantile)\n",
    "        y_score = np.array(y_scores_all[i])\n",
    "        y_test = np.array(y_test_all[i])\n",
    "        s_test = np.array(s_test_all[i])\n",
    "        threshold = np.quantile(y_scores_all[i], threshold_quantile)\n",
    "        \n",
    "        y_pred = y_score > threshold\n",
    "        ppr_w = y_pred[~s_test].mean()\n",
    "        ppr_b = y_pred[s_test].mean()\n",
    "        \n",
    "        fpr_w = (y_score > threshold)[~y_test & ~s_test].mean()\n",
    "        fpr_b = (y_score > threshold)[~y_test & s_test].mean()\n",
    "        tpr_w = (y_score > threshold)[y_test & ~s_test].mean()\n",
    "        tpr_b = (y_score > threshold)[y_test & s_test].mean()\n",
    "        \n",
    "        fairness_measures.append(\n",
    "            {\n",
    "                'orthogonality': orthogonality,\n",
    "                'threshold quantile': threshold_quantile,\n",
    "                'demographic parity': abs(ppr_w - ppr_b),\n",
    "                'equalized odds': max(abs(fpr_w - fpr_b), abs(tpr_w - tpr_b))\n",
    "            }\n",
    "        )\n",
    "fairness_measures = pd.DataFrame(fairness_measures)"
   ]
  },
  {
   "cell_type": "code",
   "execution_count": 24,
   "id": "a4dce34d-0b44-4c63-a3eb-3cd437a6a7b6",
   "metadata": {
    "execution": {
     "iopub.execute_input": "2022-02-16T18:12:20.111116Z",
     "iopub.status.busy": "2022-02-16T18:12:20.110995Z",
     "iopub.status.idle": "2022-02-16T18:12:20.674142Z",
     "shell.execute_reply": "2022-02-16T18:12:20.673466Z",
     "shell.execute_reply.started": "2022-02-16T18:12:20.111101Z"
    },
    "tags": []
   },
   "outputs": [
    {
     "data": {
      "image/png": "[encoded data removed]",
      "text/plain": [
       "<Figure size 331.2x220.8 with 2 Axes>"
      ]
     },
     "metadata": {
      "needs_background": "light"
     },
     "output_type": "display_data"
    }
   ],
   "source": [
    "disparate_impact = fairness_measures.pivot('orthogonality', 'threshold quantile', 'demographic parity').sort_index(ascending=False)\n",
    "equalized_odds = fairness_measures.pivot('orthogonality', 'threshold quantile', 'equalized odds').sort_index(ascending=False)\n",
    "\n",
    "with plt.rc_context({'font.size': 8, 'legend.fontsize': 8, 'legend.title_fontsize': 8}):\n",
    "    fig, (ax1, ax2) = plt.subplots(1, 2, figsize=(4.6, 4.6*(2/3)), constrained_layout=True)\n",
    "    sns.heatmap(disparate_impact, vmin=0, square=True, annot=True, annot_kws={'size': 8}, fmt='.2f', linewidths=.1, cmap='summer', cbar=False, ax=ax1)\n",
    "    ax1.set_title(r\"Demographic parity ($\\epsilon_\\mathrm{parity}$)\")\n",
    "    ax1.set_xlabel(r'$Q_t$')\n",
    "    ax1.set_ylabel(r'$\\Theta$')\n",
    "\n",
    "    sns.heatmap(equalized_odds, vmin=0, square=True, annot=True, fmt='.2f', linewidths=.1, cmap='summer', cbar = False, ax=ax2)\n",
    "    ax2.set_title(r\"Equalized odds ($\\epsilon_\\mathrm{odds}$)\")\n",
    "    ax2.set_xlabel(r'$Q_t$')\n",
    "    ax2.set_ylabel(r'$\\Theta$')\n",
    "    fig.savefig('fig/fairness-measures.pdf',bbox_inches='tight')"
   ]
  },
  {
   "cell_type": "code",
   "execution_count": null,
   "id": "97da3634-71f1-4c67-8028-11fcd1b69255",
   "metadata": {},
   "outputs": [],
   "source": []
  }
 ],
 "metadata": {
  "kernelspec": {
   "display_name": "Python 3 (ipykernel)",
   "language": "python",
   "name": "python3"
  },
  "language_info": {
   "codemirror_mode": {
    "name": "ipython",
    "version": 3
   },
   "file_extension": ".py",
   "mimetype": "text/x-python",
   "name": "python",
   "nbconvert_exporter": "python",
   "pygments_lexer": "ipython3",
   "version": "3.10.2"
  },
  "toc-autonumbering": true,
  "toc-showtags": false
 },
 "nbformat": 4,
 "nbformat_minor": 5
}
