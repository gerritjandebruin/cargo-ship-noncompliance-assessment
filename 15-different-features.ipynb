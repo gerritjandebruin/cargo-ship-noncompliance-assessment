{
 "cells": [
  {
   "cell_type": "code",
   "execution_count": 1,
   "id": "8381d634-c142-4bb3-b92c-18a69c2e7f42",
   "metadata": {
    "execution": {
     "iopub.execute_input": "2021-11-25T10:07:48.286632Z",
     "iopub.status.busy": "2021-11-25T10:07:48.286387Z",
     "iopub.status.idle": "2021-11-25T10:07:49.663817Z",
     "shell.execute_reply": "2021-11-25T10:07:49.661158Z",
     "shell.execute_reply.started": "2021-11-25T10:07:48.286536Z"
    }
   },
   "outputs": [],
   "source": [
    "%load_ext autoreload\n",
    "%autoreload 2\n",
    "\n",
    "from copy import deepcopy as copy\n",
    "import datetime\n",
    "import json\n",
    "from math import ceil\n",
    "import multiprocessing\n",
    "import logging\n",
    "import operator\n",
    "import os\n",
    "import random\n",
    "import time\n",
    "import typing\n",
    "import warnings\n",
    "\n",
    "import joblib\n",
    "from joblib import delayed, Parallel\n",
    "import matplotlib.pyplot as plt\n",
    "import networkx as nx\n",
    "import numpy as np\n",
    "from numpy.core.numeric import outer\n",
    "import pandas as pd\n",
    "from scipy.stats import mode, entropy\n",
    "import seaborn as sns\n",
    "import sklearn.ensemble\n",
    "import sklearn.feature_selection\n",
    "import sklearn.metrics\n",
    "from sklearn.metrics import roc_auc_score\n",
    "import sklearn.model_selection\n",
    "import typer\n",
    "from tqdm.auto import tqdm\n",
    "\n",
    "import src"
   ]
  },
  {
   "cell_type": "code",
   "execution_count": 2,
   "id": "06c9ff10-76e5-4eb6-ac46-7ee12a236257",
   "metadata": {
    "execution": {
     "iopub.execute_input": "2021-11-25T10:07:49.666572Z",
     "iopub.status.busy": "2021-11-25T10:07:49.666392Z",
     "iopub.status.idle": "2021-11-25T10:07:49.693135Z",
     "shell.execute_reply": "2021-11-25T10:07:49.692578Z",
     "shell.execute_reply.started": "2021-11-25T10:07:49.666535Z"
    }
   },
   "outputs": [],
   "source": [
    "iterator = [(max_depth, fold) for max_depth in np.arange(1, 11) for fold in range(5)]"
   ]
  },
  {
   "cell_type": "code",
   "execution_count": 3,
   "id": "530b2205-3b29-4f66-971b-c8bef1885eaf",
   "metadata": {
    "execution": {
     "iopub.execute_input": "2021-11-25T10:07:49.694855Z",
     "iopub.status.busy": "2021-11-25T10:07:49.694720Z",
     "iopub.status.idle": "2021-11-25T10:07:49.855574Z",
     "shell.execute_reply": "2021-11-25T10:07:49.854616Z",
     "shell.execute_reply.started": "2021-11-25T10:07:49.694840Z"
    }
   },
   "outputs": [],
   "source": [
    "def run_model(X: pd.DataFrame, y: pd.Series, s: pd.Series) -> pd.Series:\n",
    "    ys = y.astype(str) + s.astype(int).astype(str)\n",
    "    \n",
    "    skf = sklearn.model_selection.StratifiedKFold(shuffle=True, random_state=42)\n",
    "    probs = {}\n",
    "    \n",
    "    for train_index, test_index in tqdm(skf.split(X=X, y=ys), total=5):\n",
    "        ships_train = X.iloc[train_index].index\n",
    "        ships_test = X.iloc[test_index].index\n",
    "\n",
    "        X_train, X_test = X.loc[ships_train], X.loc[ships_test]\n",
    "        y_train, y_test = y.loc[ships_train], y.loc[ships_test]\n",
    "        s_train, s_test = s.loc[ships_train], s.loc[ships_test]\n",
    "\n",
    "        X_train = np.ascontiguousarray(X_train.values)\n",
    "        y_train = np.ascontiguousarray(y_train.values.ravel())\n",
    "        s_train = np.ascontiguousarray(s_train.values.ravel())\n",
    "        X_test = np.ascontiguousarray(X_test.values)\n",
    "        y_test = np.ascontiguousarray(y_test.values.ravel())\n",
    "        s_test = np.ascontiguousarray(s_test.values.ravel())\n",
    "\n",
    "        vt = sklearn.feature_selection.VarianceThreshold()\n",
    "        vt.fit(X_train)\n",
    "        X_train = vt.transform(X_train)\n",
    "        X_test = vt.transform(X_test) \n",
    "\n",
    "        clf = sklearn.ensemble.RandomForestClassifier(max_depth=5)    \n",
    "        clf.fit(X_train, y_train, s_train)\n",
    "        probs_this_fold = clf.predict_proba(X_test)\n",
    "        for ship, prob in zip(ships_test, probs_this_fold):\n",
    "            probs[ship] = prob[1]\n",
    "    \n",
    "    y_score = pd.Series(probs).loc[X.index]\n",
    "    return y_score\n"
   ]
  },
  {
   "cell_type": "markdown",
   "id": "875c2b22-7f13-4b85-9040-9a7858fad528",
   "metadata": {},
   "source": [
    "# ML model"
   ]
  },
  {
   "cell_type": "code",
   "execution_count": 4,
   "id": "4cd454d4-e7e6-4a9b-bc06-90241d6970a4",
   "metadata": {
    "execution": {
     "iopub.execute_input": "2021-11-25T10:07:49.856789Z",
     "iopub.status.busy": "2021-11-25T10:07:49.856635Z",
     "iopub.status.idle": "2021-11-25T10:07:50.022008Z",
     "shell.execute_reply": "2021-11-25T10:07:50.020849Z",
     "shell.execute_reply.started": "2021-11-25T10:07:49.856769Z"
    }
   },
   "outputs": [],
   "source": [
    "results = {}"
   ]
  },
  {
   "cell_type": "markdown",
   "id": "2519e77e-2741-45e2-98a4-8e4ddf90f248",
   "metadata": {},
   "source": [
    "## Strategy A"
   ]
  },
  {
   "cell_type": "markdown",
   "id": "d376a29b-df04-4744-8c8f-ac3e3d2e1b3c",
   "metadata": {},
   "source": [
    "### With portstay"
   ]
  },
  {
   "cell_type": "code",
   "execution_count": 5,
   "id": "abe5fa1b-2b68-4379-a643-15bf01fa2915",
   "metadata": {
    "execution": {
     "iopub.execute_input": "2021-11-25T10:07:50.023355Z",
     "iopub.status.busy": "2021-11-25T10:07:50.023193Z",
     "iopub.status.idle": "2021-11-25T10:07:50.942608Z",
     "shell.execute_reply": "2021-11-25T10:07:50.941822Z",
     "shell.execute_reply.started": "2021-11-25T10:07:50.023334Z"
    }
   },
   "outputs": [
    {
     "ename": "UFuncTypeError",
     "evalue": "ufunc 'add' did not contain a loop with signature matching types (dtype('<U5'), dtype('<U21')) -> None",
     "output_type": "error",
     "traceback": [
      "\u001b[0;31m---------------------------------------------------------------------------\u001b[0m",
      "\u001b[0;31mUFuncTypeError\u001b[0m                            Traceback (most recent call last)",
      "\u001b[0;32m/tmp/ipykernel_112221/1716598888.py\u001b[0m in \u001b[0;36m<module>\u001b[0;34m\u001b[0m\n\u001b[1;32m      3\u001b[0m \u001b[0;34m\u001b[0m\u001b[0m\n\u001b[1;32m      4\u001b[0m \u001b[0;31m# RUN\u001b[0m\u001b[0;34m\u001b[0m\u001b[0;34m\u001b[0m\u001b[0m\n\u001b[0;32m----> 5\u001b[0;31m \u001b[0my_score\u001b[0m \u001b[0;34m=\u001b[0m \u001b[0mrun_model\u001b[0m\u001b[0;34m(\u001b[0m\u001b[0mX\u001b[0m\u001b[0;34m,\u001b[0m \u001b[0my_true\u001b[0m\u001b[0;34m,\u001b[0m \u001b[0ms\u001b[0m\u001b[0;34m)\u001b[0m\u001b[0;34m\u001b[0m\u001b[0;34m\u001b[0m\u001b[0m\n\u001b[0m\u001b[1;32m      6\u001b[0m \u001b[0mresults\u001b[0m\u001b[0;34m[\u001b[0m\u001b[0;34m(\u001b[0m\u001b[0;34m'A'\u001b[0m\u001b[0;34m,\u001b[0m \u001b[0;32mTrue\u001b[0m\u001b[0;34m)\u001b[0m\u001b[0;34m]\u001b[0m \u001b[0;34m=\u001b[0m \u001b[0msrc\u001b[0m\u001b[0;34m.\u001b[0m\u001b[0mget_results\u001b[0m\u001b[0;34m(\u001b[0m\u001b[0my_true\u001b[0m\u001b[0;34m,\u001b[0m \u001b[0my_score\u001b[0m\u001b[0;34m)\u001b[0m\u001b[0;34m\u001b[0m\u001b[0;34m\u001b[0m\u001b[0m\n",
      "\u001b[0;32m/tmp/ipykernel_112221/4119703542.py\u001b[0m in \u001b[0;36mrun_model\u001b[0;34m(X, y, s)\u001b[0m\n\u001b[1;32m      1\u001b[0m \u001b[0;32mdef\u001b[0m \u001b[0mrun_model\u001b[0m\u001b[0;34m(\u001b[0m\u001b[0mX\u001b[0m\u001b[0;34m:\u001b[0m \u001b[0mpd\u001b[0m\u001b[0;34m.\u001b[0m\u001b[0mDataFrame\u001b[0m\u001b[0;34m,\u001b[0m \u001b[0my\u001b[0m\u001b[0;34m:\u001b[0m \u001b[0mpd\u001b[0m\u001b[0;34m.\u001b[0m\u001b[0mSeries\u001b[0m\u001b[0;34m,\u001b[0m \u001b[0ms\u001b[0m\u001b[0;34m:\u001b[0m \u001b[0mpd\u001b[0m\u001b[0;34m.\u001b[0m\u001b[0mSeries\u001b[0m\u001b[0;34m)\u001b[0m \u001b[0;34m->\u001b[0m \u001b[0mpd\u001b[0m\u001b[0;34m.\u001b[0m\u001b[0mSeries\u001b[0m\u001b[0;34m:\u001b[0m\u001b[0;34m\u001b[0m\u001b[0;34m\u001b[0m\u001b[0m\n\u001b[0;32m----> 2\u001b[0;31m     \u001b[0mys\u001b[0m \u001b[0;34m=\u001b[0m \u001b[0my\u001b[0m\u001b[0;34m.\u001b[0m\u001b[0mastype\u001b[0m\u001b[0;34m(\u001b[0m\u001b[0mstr\u001b[0m\u001b[0;34m)\u001b[0m \u001b[0;34m+\u001b[0m \u001b[0ms\u001b[0m\u001b[0;34m.\u001b[0m\u001b[0mastype\u001b[0m\u001b[0;34m(\u001b[0m\u001b[0mint\u001b[0m\u001b[0;34m)\u001b[0m\u001b[0;34m.\u001b[0m\u001b[0mastype\u001b[0m\u001b[0;34m(\u001b[0m\u001b[0mstr\u001b[0m\u001b[0;34m)\u001b[0m\u001b[0;34m\u001b[0m\u001b[0;34m\u001b[0m\u001b[0m\n\u001b[0m\u001b[1;32m      3\u001b[0m \u001b[0;34m\u001b[0m\u001b[0m\n\u001b[1;32m      4\u001b[0m     \u001b[0mskf\u001b[0m \u001b[0;34m=\u001b[0m \u001b[0msklearn\u001b[0m\u001b[0;34m.\u001b[0m\u001b[0mmodel_selection\u001b[0m\u001b[0;34m.\u001b[0m\u001b[0mStratifiedKFold\u001b[0m\u001b[0;34m(\u001b[0m\u001b[0mshuffle\u001b[0m\u001b[0;34m=\u001b[0m\u001b[0;32mTrue\u001b[0m\u001b[0;34m,\u001b[0m \u001b[0mrandom_state\u001b[0m\u001b[0;34m=\u001b[0m\u001b[0;36m42\u001b[0m\u001b[0;34m)\u001b[0m\u001b[0;34m\u001b[0m\u001b[0;34m\u001b[0m\u001b[0m\n\u001b[1;32m      5\u001b[0m     \u001b[0mprobs\u001b[0m \u001b[0;34m=\u001b[0m \u001b[0;34m{\u001b[0m\u001b[0;34m}\u001b[0m\u001b[0;34m\u001b[0m\u001b[0;34m\u001b[0m\u001b[0m\n",
      "\u001b[0;31mUFuncTypeError\u001b[0m: ufunc 'add' did not contain a loop with signature matching types (dtype('<U5'), dtype('<U21')) -> None"
     ]
    }
   ],
   "source": [
    "X, y, s = src.get_Xys()\n",
    "y_true = y > 1\n",
    "\n",
    "# RUN\n",
    "y_score = run_model(X, y_true, s)\n",
    "results[('A', True)] = src.get_results(y_true, y_score)"
   ]
  },
  {
   "cell_type": "markdown",
   "id": "ebaa0feb-0c2e-4c26-999b-74902625bc09",
   "metadata": {},
   "source": [
    "### Without portstay"
   ]
  },
  {
   "cell_type": "code",
   "execution_count": null,
   "id": "02515048-1bdf-43df-9f53-cd0050a75128",
   "metadata": {
    "execution": {
     "iopub.status.busy": "2021-11-25T10:07:50.943338Z",
     "iopub.status.idle": "2021-11-25T10:07:50.943568Z",
     "shell.execute_reply": "2021-11-25T10:07:50.943446Z",
     "shell.execute_reply.started": "2021-11-25T10:07:50.943434Z"
    }
   },
   "outputs": [],
   "source": [
    "X, y, s = src.get_Xys()\n",
    "X.drop(columns='port_stay', inplace=True)\n",
    "assert X.shape[1] == 493\n",
    "y_true = y > 1\n",
    "\n",
    "# RUN\n",
    "y_score = run_model(X, y_true, s)\n",
    "results[('A', False)] = src.get_results(y_true, y_score)"
   ]
  },
  {
   "cell_type": "markdown",
   "id": "6a54b1b5-8f5f-4032-9dd8-8eb2825b1f87",
   "metadata": {},
   "source": [
    "## Strategy B"
   ]
  },
  {
   "cell_type": "markdown",
   "id": "21788d9b-b8fb-4193-ad84-6db537b9258b",
   "metadata": {},
   "source": [
    "### With portstay"
   ]
  },
  {
   "cell_type": "code",
   "execution_count": null,
   "id": "94a51462-417d-4a6e-9fb2-7814ea6c11f2",
   "metadata": {
    "execution": {
     "iopub.status.busy": "2021-11-25T10:07:50.944159Z",
     "iopub.status.idle": "2021-11-25T10:07:50.944362Z",
     "shell.execute_reply": "2021-11-25T10:07:50.944260Z",
     "shell.execute_reply.started": "2021-11-25T10:07:50.944250Z"
    }
   },
   "outputs": [],
   "source": [
    "X, y, s = src.get_Xys()\n",
    "y_true = y>0\n",
    "\n",
    "# RUN\n",
    "y_score = run_model(X, y_true, s)\n",
    "results[('B', True)] = src.get_results(y_true, y_score)"
   ]
  },
  {
   "cell_type": "markdown",
   "id": "ac2aaa61-16ed-44f2-9e16-ae146fb1afad",
   "metadata": {},
   "source": [
    "### Without portstay"
   ]
  },
  {
   "cell_type": "code",
   "execution_count": null,
   "id": "5190429f-4d36-4aa6-b54b-b8faac6e320f",
   "metadata": {
    "execution": {
     "iopub.status.busy": "2021-11-25T10:07:50.944969Z",
     "iopub.status.idle": "2021-11-25T10:07:50.945160Z",
     "shell.execute_reply": "2021-11-25T10:07:50.945066Z",
     "shell.execute_reply.started": "2021-11-25T10:07:50.945055Z"
    }
   },
   "outputs": [],
   "source": [
    "X, y, s = src.get_Xys()\n",
    "X.drop(columns='port_stay', inplace=True)\n",
    "assert X.shape[1] == 493\n",
    "y_true = y>0\n",
    "\n",
    "# RUN\n",
    "y_score = run_model(X, y_true, s)\n",
    "results[('B', False)] = src.get_results(y_true, y_score)"
   ]
  },
  {
   "cell_type": "code",
   "execution_count": null,
   "id": "78dd7664-9d09-4be0-856c-b829361b9a03",
   "metadata": {
    "execution": {
     "iopub.status.busy": "2021-11-25T10:07:50.946167Z",
     "iopub.status.idle": "2021-11-25T10:07:50.946396Z",
     "shell.execute_reply": "2021-11-25T10:07:50.946272Z",
     "shell.execute_reply.started": "2021-11-25T10:07:50.946261Z"
    }
   },
   "outputs": [],
   "source": [
    "plt.title('ROC AUC Curve')\n",
    "plt.xlim(0, 1)\n",
    "plt.ylim(0, 1)\n",
    "plt.xlabel('False Positives')\n",
    "plt.ylabel('True Positives')\n",
    "for idx, (key, value) in enumerate(results.items()):\n",
    "    ax = plt.subplot(1, 1, 1)\n",
    "    auc = value['roc_auc_score']\n",
    "    fpr = value['fpr']\n",
    "    tpr = value['tpr']\n",
    "    label = f'strategy={key[0]} | {\"with port stay\" if key[1] else \"without port stay\"} | AUC = {auc:.2f}'\n",
    "    ax.plot(fpr, tpr, label=label)\n",
    "    ax.plot((0,1), (0, 1), color='black', ls=':')\n",
    "    ax.legend()"
   ]
  },
  {
   "cell_type": "code",
   "execution_count": null,
   "id": "402b71ee-f2aa-46ad-8d06-d8d6e38566f9",
   "metadata": {
    "execution": {
     "iopub.status.busy": "2021-11-25T10:07:50.947637Z",
     "iopub.status.idle": "2021-11-25T10:07:50.947896Z",
     "shell.execute_reply": "2021-11-25T10:07:50.947756Z",
     "shell.execute_reply.started": "2021-11-25T10:07:50.947746Z"
    }
   },
   "outputs": [],
   "source": [
    "plt.title('Precision Recall Curve')\n",
    "plt.xlim(0, 1)\n",
    "plt.ylim(0, 1)\n",
    "plt.xlabel('Precision')\n",
    "plt.ylabel('Recall')\n",
    "for idx, (key, value) in enumerate(results.items()):\n",
    "    ap = value['average_precision_score']\n",
    "    precision = value['precision']\n",
    "    recall = value['recall']\n",
    "    label = f'strategy={key[0]} | {\"with port stay\" if key[1] else \"without port stay\"} | AP = {ap:.2f}'\n",
    "    plt.plot(recall, precision, label=label)\n",
    "plt.legend()"
   ]
  },
  {
   "cell_type": "code",
   "execution_count": null,
   "id": "d5d6bf14-e66c-4ced-a142-c7e67f97fde0",
   "metadata": {},
   "outputs": [],
   "source": []
  }
 ],
 "metadata": {
  "kernelspec": {
   "display_name": "Python 3 (ipykernel)",
   "language": "python",
   "name": "python3"
  },
  "language_info": {
   "codemirror_mode": {
    "name": "ipython",
    "version": 3
   },
   "file_extension": ".py",
   "mimetype": "text/x-python",
   "name": "python",
   "nbconvert_exporter": "python",
   "pygments_lexer": "ipython3",
   "version": "3.9.7"
  }
 },
 "nbformat": 4,
 "nbformat_minor": 5
}
